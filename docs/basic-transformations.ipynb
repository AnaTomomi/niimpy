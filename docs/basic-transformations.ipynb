{
 "cells": [
  {
   "cell_type": "markdown",
   "metadata": {},
   "source": [
    "# Basic transformations\n",
    "\n",
    "This page shows some basic transformations you can do once you have read data.  Really, it is simply a pandas crash course, since pandas provides all the operations you may need and there is no need for us to re-invent things.  Pandas provides a solid but flexible base for us to build advanced operations on top of.\n",
    "\n",
    "You can read more at the [Pandas documentation](https://pandas.pydata.org/pandas-docs/stable/index.html)."
   ]
  },
  {
   "cell_type": "markdown",
   "metadata": {},
   "source": [
    "## Extracting single rows and columns"
   ]
  },
  {
   "cell_type": "code",
   "execution_count": 3,
   "metadata": {},
   "outputs": [],
   "source": [
    "import niimpy\n",
    "df = niimpy.read_csv(niimpy.sampledata.MULTIUSER_AWAREBATTERY_CSV)"
   ]
  },
  {
   "cell_type": "code",
   "execution_count": 4,
   "metadata": {},
   "outputs": [
    {
     "data": {
      "text/plain": [
       "2020-01-09 02:20:02.924999952+02:00    jd9INuQ5BBlW\n",
       "2020-01-09 02:21:30.406000137+02:00    jd9INuQ5BBlW\n",
       "2020-01-09 02:24:12.805999994+02:00    jd9INuQ5BBlW\n",
       "2020-01-09 02:35:38.561000109+02:00    jd9INuQ5BBlW\n",
       "2020-01-09 02:35:38.952999830+02:00    jd9INuQ5BBlW\n",
       "                                           ...     \n",
       "2020-01-09 23:02:13.938999891+02:00    jd9INuQ5BBlW\n",
       "2020-01-09 23:10:37.262000084+02:00    jd9INuQ5BBlW\n",
       "2020-01-09 23:22:13.966000080+02:00    jd9INuQ5BBlW\n",
       "2020-01-09 23:32:13.958999872+02:00    jd9INuQ5BBlW\n",
       "2020-01-09 23:39:06.799999952+02:00    jd9INuQ5BBlW\n",
       "Name: user, Length: 373, dtype: object"
      ]
     },
     "execution_count": 4,
     "metadata": {},
     "output_type": "execute_result"
    }
   ],
   "source": [
    "# Get a single column, in this case all users\n",
    "df['user']"
   ]
  },
  {
   "cell_type": "code",
   "execution_count": 7,
   "metadata": {},
   "outputs": [
    {
     "data": {
      "text/plain": [
       "user                                      jd9INuQ5BBlW\n",
       "device                                    3p83yASkOb_B\n",
       "time                                       1.57853e+09\n",
       "battery_level                                       76\n",
       "battery_status                                       2\n",
       "battery_health                                       2\n",
       "battery_adaptor                                      2\n",
       "datetime           2020-01-09 02:43:12.424000025+02:00\n",
       "Name: 2020-01-09 02:43:12.424000025+02:00, dtype: object"
      ]
     },
     "execution_count": 7,
     "metadata": {},
     "output_type": "execute_result"
    }
   ],
   "source": [
    "# Get a single row, in this case the 10th (note the first row is zero):\n",
    "df.iloc[10]"
   ]
  },
  {
   "cell_type": "markdown",
   "metadata": {},
   "source": [
    "## Listing unique values"
   ]
  },
  {
   "cell_type": "code",
   "execution_count": 9,
   "metadata": {},
   "outputs": [
    {
     "data": {
      "text/plain": [
       "array(['jd9INuQ5BBlW'], dtype=object)"
      ]
     },
     "execution_count": 9,
     "metadata": {},
     "output_type": "execute_result"
    }
   ],
   "source": [
    "df['user'].unique()"
   ]
  },
  {
   "cell_type": "code",
   "execution_count": 10,
   "metadata": {},
   "outputs": [
    {
     "data": {
      "text/plain": [
       "array([3, 2, 5])"
      ]
     },
     "execution_count": 10,
     "metadata": {},
     "output_type": "execute_result"
    }
   ],
   "source": [
    "df['battery_status'].unique()"
   ]
  }
 ],
 "metadata": {
  "kernelspec": {
   "display_name": "Niimpy development",
   "language": "python",
   "name": "niimpy-dev"
  },
  "language_info": {
   "codemirror_mode": {
    "name": "ipython",
    "version": 3
   },
   "file_extension": ".py",
   "mimetype": "text/x-python",
   "name": "python",
   "nbconvert_exporter": "python",
   "pygments_lexer": "ipython3",
   "version": "3.6.8"
  }
 },
 "nbformat": 4,
 "nbformat_minor": 4
}
