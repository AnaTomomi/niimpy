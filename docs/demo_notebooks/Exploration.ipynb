{
 "cells": [
  {
   "cell_type": "markdown",
   "metadata": {},
   "source": [
    "# Demo notebook for Niimpy Exploration layer modules"
   ]
  },
  {
   "cell_type": "markdown",
   "metadata": {},
   "source": [
    "## Introduction <a class=\"anchor\" id=\"section_0\"></a>\n",
    "\n",
    "To study and quantify human behavior using longitudinal multimodal digital data, it is essential to get to know the data well first. Theese data from various sources or sensors, such as smartphones and watches and activity trackers, yields data with different types and properties. The data may be a mixture of categorical, ordinal and numerical data, typically consisting of time series measured for multiple subjetcs from different groups. While the data is typically dense, it is also heterogenous and contain lots of missing values. Therefore, the analysis has to be conducted on many different levels.  \n",
    "\n",
    "This notebook introduces the Niimpy toolbox exploration module, which seeks to address the aforementioned issues. The module has functionalities for exploratory data analysis (EDA) of digital behavioral data. The module aims to produce a summary of the data characteristics, inspecting the structures underlying the data, to detecting patterns and changes in the patterns, and to assess the data quality (e.g., missing data, outliers). This information is highly essential for assessing data validity, data filtering and selection, and for data preprocessing. The module includes functions for [plotting catogorical data](#section_1), [data counts](#section_2), [timeseries lineplots](#section_3), [punchcards](#section_4) and [visualizing missing data.](#section_5)\n",
    "\n",
    "Exploration module functions are supposed to run after [data preprocessing](https://niimpy.readthedocs.io/en/latest/preprocessing/), but those can be run also on the raw observations.\n",
    "All the functions are implemented by using [Plotly Python Open sourde Library](https://plotly.com/python/). Plotly enables interactive visualizations which in turn makers it easier to explore different aspects of the data (e.g.,specific timerange and summary statistics).\n",
    "\n",
    "This notebook uses several sample dataframes for module demonstration. The sample data is already preprocessed, or will be preprocessed in notebook sections before visualizations. When the sample data is loaded, some of the key characteristics of the data are displayed. \n",
    "\n",
    "All eploration module functions require the data to follow [data schema.](https://niimpy.readthedocs.io/en/latest/schema/) defined in the Niimpy toolbox [documentation](https://niimpy.readthedocs.io/en/latest/). The user must ensure that the input data follows the specified schema.\n",
    "\n",
    "***\n"
   ]
  },
  {
   "cell_type": "markdown",
   "metadata": {},
   "source": [
    "***\n",
    "### Sub-module overview\n",
    "\n",
    "The following table shows accepted data types, visualization functions and the purpose of each exploration sub-module.\n",
    "\n",
    "| Sub-module | Data type | Functions | For what |\n",
    "| :----------- | :----------- | :------------ | :------------ | \n",
    "| Categorical plot | Categorical |  Barplot | Observations counts and distributions |\n",
    "| Count plot | Categorical* / Numerical | Barplot/Boxplot | Observation counts and distibutions |\n",
    "| Lineplot | Numerical| Lineplot | Trend, cyclicity, patterns | \n",
    "| Punchcard | Categorical* / Numerical | Heatmap | Temporal patterns of counts or values  |\n",
    "| Missingness | Categorical / Numerical | Barplot / Heatmap | Missing data patterns |"
   ]
  },
  {
   "cell_type": "markdown",
   "metadata": {},
   "source": [
    "Data types denoted with \\* are not compatible with every function within the module.\n",
    "***\n",
    "### *NOTES*\n",
    "\n",
    "This notebook uses following definitions referring to data:\n",
    "* *Feature* refers to dataframe column that stores observations (e.g., numerical sensor values, questionnaire answers)\n",
    "* *User* refers to unique identifier for each subject in the data. Dataframe should also have a column named as `user`.\n",
    "* *Group* refers to unique group idenfier. If subjects are grouped, dataframe shoudl have a column named as `group`.\n",
    "\n",
    "***"
   ]
  },
  {
   "cell_type": "markdown",
   "metadata": {},
   "source": [
    "### Imports\n",
    "Here we import modules needed for running this notebook."
   ]
  },
  {
   "cell_type": "code",
   "execution_count": 1,
   "metadata": {},
   "outputs": [
    {
     "ename": "ModuleNotFoundError",
     "evalue": "No module named 'niimpy'",
     "output_type": "error",
     "traceback": [
      "\u001b[1;31m---------------------------------------------------------------------------\u001b[0m",
      "\u001b[1;31mModuleNotFoundError\u001b[0m                       Traceback (most recent call last)",
      "\u001b[1;32m~\\AppData\\Local\\Temp\\ipykernel_33604\\1872889409.py\u001b[0m in \u001b[0;36m<module>\u001b[1;34m\u001b[0m\n\u001b[0;32m      6\u001b[0m \u001b[1;32mimport\u001b[0m \u001b[0mnumpy\u001b[0m \u001b[1;32mas\u001b[0m \u001b[0mnp\u001b[0m\u001b[1;33m\u001b[0m\u001b[1;33m\u001b[0m\u001b[0m\n\u001b[0;32m      7\u001b[0m \u001b[1;32mimport\u001b[0m \u001b[0mpandas\u001b[0m \u001b[1;32mas\u001b[0m \u001b[0mpd\u001b[0m\u001b[1;33m\u001b[0m\u001b[1;33m\u001b[0m\u001b[0m\n\u001b[1;32m----> 8\u001b[1;33m \u001b[1;32mimport\u001b[0m \u001b[0mniimpy\u001b[0m\u001b[1;33m\u001b[0m\u001b[1;33m\u001b[0m\u001b[0m\n\u001b[0m\u001b[0;32m      9\u001b[0m \u001b[1;32mimport\u001b[0m \u001b[0mplotly\u001b[0m\u001b[1;33m\u001b[0m\u001b[1;33m\u001b[0m\u001b[0m\n\u001b[0;32m     10\u001b[0m \u001b[1;32mimport\u001b[0m \u001b[0mplotly\u001b[0m\u001b[1;33m.\u001b[0m\u001b[0mgraph_objects\u001b[0m \u001b[1;32mas\u001b[0m \u001b[0mgo\u001b[0m\u001b[1;33m\u001b[0m\u001b[1;33m\u001b[0m\u001b[0m\n",
      "\u001b[1;31mModuleNotFoundError\u001b[0m: No module named 'niimpy'"
     ]
    }
   ],
   "source": [
    "import os\n",
    "import sys\n",
    "sys.path.append('../')\n",
    "\n",
    "from pathlib import Path\n",
    "import numpy as np\n",
    "import pandas as pd\n",
    "import niimpy\n",
    "import plotly\n",
    "import plotly.graph_objects as go\n",
    "import plotly.express as px\n",
    "import plotly.io as pio\n",
    "import warnings\n",
    "from niimpy.preprocessing.survey import *\n",
    "from niimpy.exploration import EDA_categorical, EDA_countplot, EDA_lineplot, EDA_missingness, EDA_punchcard, setup_dataframe"
   ]
  },
  {
   "cell_type": "markdown",
   "metadata": {},
   "source": [
    "### Plotly settings\n",
    "Next code block defines default settings for [plotly](https://plotly.com/python/) visualizations. Feel free to adjust the settings according to your needs."
   ]
  },
  {
   "cell_type": "code",
   "execution_count": null,
   "metadata": {},
   "outputs": [],
   "source": [
    "pio.templates.default = \"seaborn\"\n",
    "px.defaults.template = \"ggplot2\"\n",
    "px.defaults.color_continuous_scale = px.colors.sequential.RdBu\n",
    "px.defaults.width = 1200\n",
    "px.defaults.height = 482\n",
    "warnings.filterwarnings(\"ignore\")"
   ]
  },
  {
   "cell_type": "markdown",
   "metadata": {},
   "source": [
    "### Table of Contents\n",
    "\n",
    "* [Introduction](#section_0)\n",
    "* [Section 1: Categorical plot](#section_1)\n",
    "   * [Section 1.1 : Questionnaire summary](#section_1_1)\n",
    "   * [Section 1.2 : Questionnaire grouped summary](#section_1_2)\n",
    "   * [Section 1.3 : Questionnaire grouped summary score distribution](#section_1_3)\n",
    "* [Section 2: Countplot](#section_2)\n",
    "    * [Section 2.1 : User level observation count](#section_2_1)\n",
    "    * [Section 2.2 : Group level observation count](#section_2_2)\n",
    "    * [Section 2.3 : Group level value distribution](#section_2_3)\n",
    "* [Section 3: Lineplot](#section_3)\n",
    "    * [Section 3.1 : Lineplot](#section_3_1)\n",
    "        * [Section 3.1.1 : Single user single feature](#section_3_1_1)\n",
    "        * [Section 3.1.2 : Single user single feature reset index](#section_3_1_2)\n",
    "        * [Section 3.1.3 : Single user single feature aggregated by day](#section_3_1_3)\n",
    "    * [Section 3.2 : Multiple users single feature](#section_3_2)\n",
    "    * [Section 3.3 : Group level hourly averages](#section_3_3)\n",
    "    * [Section 3.4 : Group level weekday averages](#section_3_4)\n",
    "* [Section 4: Punchcard](#section_4)\n",
    "    * [Section 4.1 : Single user punchard](#section_4_1)\n",
    "    * [Section 4.2 : Multiple user puchcard](#section_4_2)\n",
    "    * [Section 4.3 : Single user punchcard showing two features](#section_4_3)    \n",
    "* [Section 5: Missingness](#section_5)\n",
    "    * [Section 5.1 : Data frequency by feature](#section_5_1)\n",
    "    * [Section 5.2 : Average frequency by user](#section_5_2)\n",
    "    * [Section 5.3 : Missingness matrix](#section_5_3)\n",
    "    * [Section 5.4 : Missing data correlation](#section_5_4)\n"
   ]
  },
  {
   "cell_type": "markdown",
   "metadata": {},
   "source": [
    "## 1) Categorical plot <a class=\"anchor\" id=\"section_1\"></a>"
   ]
  },
  {
   "cell_type": "markdown",
   "metadata": {},
   "source": [
    "This section introduces categorical plot module visualizes **categorical data**, such as questionnaire data responses.<br>\n",
    "We will demonstrate functions by using a mock survey dataframe, containing answers for:\n",
    "* *Patient Health Questionnaire-2 (PHQ-2)*\n",
    "* *Perceived Stress Scale (PSS10)*\n",
    "* *Generalized Anxiety Disorder-2 (GAD-2)*\n",
    "\n",
    "The data will be preprocessed, and then it's basic characteristics will be summarized before visualizations."
   ]
  },
  {
   "cell_type": "code",
   "execution_count": null,
   "metadata": {},
   "outputs": [],
   "source": [
    "import niimpy.preprocessing.sampledata\n",
    "data_path = os.path.join(niimpy.preprocessing.sampledata.SAMPLEDATA_DIR, 'mock-survey.csv')"
   ]
  },
  {
   "cell_type": "code",
   "execution_count": null,
   "metadata": {},
   "outputs": [],
   "source": [
    "# Load a mock dataframe\n",
    "df = niimpy.read_csv(data_path,tz='Europe/Helsinki')\n",
    "df.head()"
   ]
  },
  {
   "cell_type": "code",
   "execution_count": null,
   "metadata": {},
   "outputs": [],
   "source": [
    "df.describe()"
   ]
  },
  {
   "cell_type": "markdown",
   "metadata": {},
   "source": [
    "The dataframe's columns are raw questions from a survey. Some questions belong to a specific category, so we will annotate them with ids. <br> The id is constructed from a prefix (the questionnaire category: GAD, PHQ, PSQI etc.), followed by the question number (1,2,3). Similarly, we will also the answers to meaningful numerical values.\n",
    "\n",
    "**Note:** It's important that the dataframe follows the below schema before passing into niimpy."
   ]
  },
  {
   "cell_type": "code",
   "execution_count": null,
   "metadata": {},
   "outputs": [],
   "source": [
    "# Convert column name to id, based on provided mappers from niimpy\n",
    "col_id = {**PHQ2_MAP, **PSQI_MAP, **PSS10_MAP, **PANAS_MAP, **GAD2_MAP}\n",
    "selected_cols = [col for col in df.columns if col in col_id.keys()]\n",
    "\n",
    "# Convert data frame to long format\n",
    "m_df = pd.melt(df, id_vars=['user', 'age', 'gender'], value_vars=selected_cols, var_name='question', value_name='answer')\n",
    "\n",
    "# Assign questions to codes \n",
    "m_df['id'] = m_df['question'].replace(col_id)\n",
    "m_df.head()"
   ]
  },
  {
   "cell_type": "markdown",
   "metadata": {},
   "source": [
    "We can use a helper method to convert the answers into numerical value. The pre-defined mapper inside survey.py would be useful for this step."
   ]
  },
  {
   "cell_type": "code",
   "execution_count": null,
   "metadata": {},
   "outputs": [],
   "source": [
    "# Transform raw answers to numerical values\n",
    "m_df['answer'] = niimpy.preprocessing.survey.convert_to_numerical_answer(m_df, \n",
    "                                                                         answer_col='answer',\n",
    "                                                                         question_id='id',\n",
    "                                                                         id_map=ID_MAP_PREFIX,\n",
    "                                                                         use_prefix=True)\n",
    "m_df.head()"
   ]
  },
  {
   "cell_type": "markdown",
   "metadata": {},
   "source": [
    "We can also produce a summary of the questionaire's score. This function can describe aggregated score over the whole population, or specific subgroups.\n",
    "\n",
    "First we'll show statistics for the whole population:"
   ]
  },
  {
   "cell_type": "code",
   "execution_count": null,
   "metadata": {},
   "outputs": [],
   "source": [
    "d1 = niimpy.preprocessing.survey.print_statistic(m_df)\n",
    "pd.DataFrame(d1)"
   ]
  },
  {
   "cell_type": "markdown",
   "metadata": {},
   "source": [
    "Statistics by the group gender:"
   ]
  },
  {
   "cell_type": "code",
   "execution_count": null,
   "metadata": {},
   "outputs": [],
   "source": [
    "d2 = niimpy.preprocessing.survey.print_statistic(m_df, group='gender')\n",
    "pd.DataFrame(d2)"
   ]
  },
  {
   "cell_type": "markdown",
   "metadata": {},
   "source": [
    "And finally statistics for PHQ questionnaires by group:"
   ]
  },
  {
   "cell_type": "code",
   "execution_count": null,
   "metadata": {},
   "outputs": [],
   "source": [
    "d3 = niimpy.preprocessing.survey.print_statistic(m_df, group='gender', prefix='PHQ')\n",
    "pd.DataFrame(d3)"
   ]
  },
  {
   "cell_type": "markdown",
   "metadata": {},
   "source": [
    "## 1.1. Questionnaire summary <a class=\"anchor\" id=\"section_1_1\"></a>\n",
    "\n",
    "We can now make some plots for the preprocessed data frame. First, we can display the summary for the specific question (*PHQ-2* first question)."
   ]
  },
  {
   "cell_type": "code",
   "execution_count": null,
   "metadata": {},
   "outputs": [],
   "source": [
    "fig = EDA_categorical.questionnaire_summary(m_df, \n",
    "                                            question = 'PHQ2_1', \n",
    "                                            column = 'answer', \n",
    "                                            title='PHQ2 question: Little interest or pleasure in doing things', \n",
    "                                            xlabel='value', \n",
    "                                            ylabel='count', \n",
    "                                            width=600, \n",
    "                                            height=400)\n",
    "fig.show()"
   ]
  },
  {
   "cell_type": "markdown",
   "metadata": {},
   "source": [
    "The figure shows that the answer values (from 0 to 3) almost uniform in distribution."
   ]
  },
  {
   "cell_type": "markdown",
   "metadata": {},
   "source": [
    "## 1.2. Questionnaire grouped summary <a class=\"anchor\" id=\"section_1_2\"></a>"
   ]
  },
  {
   "cell_type": "markdown",
   "metadata": {},
   "source": [
    "We can also display the summary for each subgroup (*gender*)."
   ]
  },
  {
   "cell_type": "code",
   "execution_count": null,
   "metadata": {},
   "outputs": [],
   "source": [
    "fig = EDA_categorical.questionnaire_grouped_summary(m_df, \n",
    "                                                    question='PSS10_9', \n",
    "                                                    group='gender', \n",
    "                                                    title='PSS10_9',\n",
    "                                                    xlabel='score',\n",
    "                                                    ylabel='count',\n",
    "                                                    width=800,\n",
    "                                                    height=400)\n",
    "fig.show()"
   ]
  },
  {
   "cell_type": "markdown",
   "metadata": {},
   "source": [
    "The figure shows that the differences between subgroups are not substantially high."
   ]
  },
  {
   "cell_type": "markdown",
   "metadata": {},
   "source": [
    "## 1.3. Questionnaire grouped summary score distribution <a class=\"anchor\" id=\"section_1_3\"></a>"
   ]
  },
  {
   "cell_type": "markdown",
   "metadata": {},
   "source": [
    "With some quick preprocessing, we can display the score distribution of each questionaire.\n",
    "\n",
    "We'll extract *PSS-10* questionnaire answers from the dataframe."
   ]
  },
  {
   "cell_type": "code",
   "execution_count": null,
   "metadata": {},
   "outputs": [],
   "source": [
    "pss_sum_df = m_df[m_df['id'].str.startswith('PSS')] \\\n",
    "                            .groupby(['user', 'gender']) \\\n",
    "                            .agg({'answer':sum}) \\\n",
    "                            .reset_index()\n",
    "pss_sum_df['id'] = 'PSS'"
   ]
  },
  {
   "cell_type": "markdown",
   "metadata": {},
   "source": [
    "We'll quickly inspect the preprocessed dataframe. "
   ]
  },
  {
   "cell_type": "code",
   "execution_count": null,
   "metadata": {},
   "outputs": [],
   "source": [
    "pss_sum_df"
   ]
  },
  {
   "cell_type": "markdown",
   "metadata": {},
   "source": [
    "And then visualize grouped summary score distribution."
   ]
  },
  {
   "cell_type": "code",
   "execution_count": null,
   "metadata": {},
   "outputs": [],
   "source": [
    "fig = EDA_categorical.questionnaire_grouped_summary(pss_sum_df, \n",
    "                                                    question='PSS', \n",
    "                                                    group='gender', \n",
    "                                                    title='PSS10',\n",
    "                                                    xlabel='score', \n",
    "                                                    ylabel='count',\n",
    "                                                    width=800, \n",
    "                                                    height=400)\n",
    "fig.show()"
   ]
  },
  {
   "cell_type": "markdown",
   "metadata": {},
   "source": [
    "The figure shows that the grouped summary score distrubutions are close to each other."
   ]
  },
  {
   "cell_type": "markdown",
   "metadata": {},
   "source": [
    "## 2) Countplot <a class=\"anchor\" id=\"section_2\"></a>\n",
    "This section introduces Countplot module. The module contain functions for user and group level observation count (number of datapoints per user or group) visualization and observation value distributions.<br>\n",
    "Observation counts use barplots for user level and a boxplots for group level visualizations. Boxplots are used for group level value distributions.<br>\n",
    "The module assumes that the visualized **data is numerical**."
   ]
  },
  {
   "cell_type": "markdown",
   "metadata": {},
   "source": [
    "### Data\n",
    "We will use sample from <a href=\"https://studentlife.cs.dartmouth.edu/dataset.html\">StudentLife dataset</a> to demonstrate the module functions. The sample contains hourly aggregated activity data (values from 0 to 5) and group information based on pre- and post-study PHQ-9 test scores. Study subjects have been grouped by the depression symptom severity into groups: *none*, *mild*, *moderate*, *moderately severe*, and *severe*. Preprocessed data sample is included in the Niimpy toolbox *sampledata* folder."
   ]
  },
  {
   "cell_type": "code",
   "execution_count": null,
   "metadata": {},
   "outputs": [],
   "source": [
    "# Define path for data\n",
    "data_path = os.path.join(niimpy.preprocessing.sampledata.SAMPLEDATA_DIR, 'sl_activity.csv')\n",
    "# Load data\n",
    "sl = niimpy.read_csv(data_path,read_csv_options={'index_col':'timestamp'},tz='US/Eastern')\n",
    "sl.index = pd.to_datetime(sl.index)\n",
    "sl_loc = sl.tz_localize(None)"
   ]
  },
  {
   "cell_type": "markdown",
   "metadata": {},
   "source": [
    "Before visualizations, we'll inspect the data."
   ]
  },
  {
   "cell_type": "code",
   "execution_count": null,
   "metadata": {},
   "outputs": [],
   "source": [
    "sl_loc"
   ]
  },
  {
   "cell_type": "code",
   "execution_count": null,
   "metadata": {},
   "outputs": [],
   "source": [
    "sl_loc.describe()"
   ]
  },
  {
   "cell_type": "code",
   "execution_count": null,
   "metadata": {},
   "outputs": [],
   "source": [
    "sl_loc.group.unique()"
   ]
  },
  {
   "cell_type": "markdown",
   "metadata": {},
   "source": [
    "## 2.1. User level observation count <a class=\"anchor\" id=\"section_2_1\"></a>\n",
    "At first we visualize the number of observations for each subject."
   ]
  },
  {
   "cell_type": "code",
   "execution_count": null,
   "metadata": {},
   "outputs": [],
   "source": [
    "fig = EDA_countplot.EDA_countplot(sl, \n",
    "                                  fig_title='Activity event counts by user', \n",
    "                                  plot_type='count', \n",
    "                                  points='all',\n",
    "                                  aggregation='user', \n",
    "                                  user=None, \n",
    "                                  column=None,\n",
    "                                  binning=False)\n",
    "\n",
    "fig.show()"
   ]
  },
  {
   "cell_type": "markdown",
   "metadata": {},
   "source": [
    "The barplot shows that there are differences in user total activity counts. The user *u24* has the lowest event count of 710 and users *u02* and *u59* have the highest count of 1584."
   ]
  },
  {
   "cell_type": "markdown",
   "metadata": {},
   "source": [
    "## 2.2. Group level observation count <a class=\"anchor\" id=\"section_2_2\"></a>\n",
    "Next we'll inspect group level activity event counts aggregated by day. For the improved clarity, we select a timerange of one week from the data."
   ]
  },
  {
   "cell_type": "code",
   "execution_count": null,
   "metadata": {},
   "outputs": [],
   "source": [
    "sl_one_week = sl_loc.loc['2013-03-28':'2013-4-3']\n",
    "\n",
    "fig = EDA_countplot.EDA_countplot(sl_one_week, \n",
    "                                  fig_title='Group level activity event count boxplots by day', \n",
    "                                  plot_type='value', \n",
    "                                  points='all',\n",
    "                                  aggregation='group', \n",
    "                                  user=None, \n",
    "                                  column='activity',\n",
    "                                  binning='D')\n",
    "\n",
    "fig.show()"
   ]
  },
  {
   "cell_type": "markdown",
   "metadata": {},
   "source": [
    "The boxplot shows some variability in group level event count distributions across the days spanning from Mar 28 to Apr 3 2013."
   ]
  },
  {
   "cell_type": "markdown",
   "metadata": {},
   "source": [
    "## 2.3. Group level value distributions <a class=\"anchor\" id=\"section_2_3\"></a>\n",
    "Finally we visualize group level activity value distributions."
   ]
  },
  {
   "cell_type": "code",
   "execution_count": null,
   "metadata": {},
   "outputs": [],
   "source": [
    "fig = EDA_countplot.EDA_countplot(sl,\n",
    "                                  fig_title='Group level activity score distributions', \n",
    "                                  plot_type='value', \n",
    "                                  points='outliers',\n",
    "                                  aggregation='group', \n",
    "                                  user=None,\n",
    "                                  column='activity',\n",
    "                                  binning=False)\n",
    "\n",
    "fig.show()"
   ]
  },
  {
   "cell_type": "markdown",
   "metadata": {},
   "source": [
    "The boxplot shows that activity score distribution for groups *mild* and *moderately severe* differ from the rest."
   ]
  },
  {
   "cell_type": "markdown",
   "metadata": {},
   "source": [
    "## 3. Lineplot <a class=\"anchor\" id=\"section_3\"></a>\n"
   ]
  },
  {
   "cell_type": "markdown",
   "metadata": {},
   "source": [
    "This section introduces Lineplot module functions. We use the same <a href=\"https://studentlife.cs.dartmouth.edu/dataset.html\">StudentLife dataset</a> derived activity data as in previous section."
   ]
  },
  {
   "cell_type": "markdown",
   "metadata": {},
   "source": [
    "## 3.1. Lineplot <a class=\"anchor\" id=\"section_3_1\"></a>"
   ]
  },
  {
   "cell_type": "markdown",
   "metadata": {},
   "source": [
    "Lineplot functions display **numerical feature values** on time axis. The user can optionally resample (downsample) and smoothen the data for better visual clarity."
   ]
  },
  {
   "cell_type": "markdown",
   "metadata": {},
   "source": [
    "## 3.1.1. Single user single feature <a class=\"anchor\" id=\"section_3_1_1\"></a>\n",
    "At first, we'll visualize single user single feature data, without resampling or smoothing. "
   ]
  },
  {
   "cell_type": "code",
   "execution_count": null,
   "metadata": {},
   "outputs": [],
   "source": [
    "fig = EDA_lineplot.timeplot(sl_loc,\n",
    "                            users=['u01'],\n",
    "                            columns=['activity'],\n",
    "                            title='User {} activity'.format('u01'),\n",
    "                            xlabel='Date',\n",
    "                            ylabel='Value',\n",
    "                            resample=False,\n",
    "                            interpolate=False,\n",
    "                            window=1,\n",
    "                            reset_index=False)\n",
    "\n",
    "fig.show()"
   ]
  },
  {
   "cell_type": "markdown",
   "metadata": {},
   "source": [
    "The figure showing all the activity datapoints is difficult to interpet. By zooming in the time range, the daily patters come apparent. There is no or low activity during the night."
   ]
  },
  {
   "cell_type": "markdown",
   "metadata": {},
   "source": [
    "## 3.1.2. Single user single feature index resetted <a class=\"anchor\" id=\"section_3_1_2\"></a>\n",
    "Next, we'll plot visualize the same data using resampling by hour, and 24 hour rolling window smoothing for improved visualization clarity. We also reset the index, showing now hours from the first activity feature observation."
   ]
  },
  {
   "cell_type": "code",
   "execution_count": null,
   "metadata": {},
   "outputs": [],
   "source": [
    "fig = EDA_lineplot.timeplot(sl_loc,\n",
    "                            users=['u00'],\n",
    "                            columns=['activity'],\n",
    "                            title='User activity',\n",
    "                            xlabel='Date',\n",
    "                            ylabel='Value',\n",
    "                            resample='H',\n",
    "                            interpolate=True,\n",
    "                            window=24,\n",
    "                            reset_index=True)\n",
    "\n",
    "fig.show()"
   ]
  },
  {
   "cell_type": "markdown",
   "metadata": {},
   "source": [
    "By zoomin in the smoothed lineplot, daily activity patterns are easier to detect."
   ]
  },
  {
   "cell_type": "markdown",
   "metadata": {},
   "source": [
    "## 3.1.3. Single user single feature, aggregated by day <a class=\"anchor\" id=\"section_3_1_3\"></a>\n",
    "Next visualization shows resamplig by day and 7 day rolling window smoothing, making the activity time series trend visible.   "
   ]
  },
  {
   "cell_type": "code",
   "execution_count": null,
   "metadata": {},
   "outputs": [],
   "source": [
    "fig = EDA_lineplot.timeplot(sl_loc,\n",
    "                            users=['u00'],\n",
    "                            columns=['activity'],\n",
    "                            title='User Activity' ,\n",
    "                            xlabel='Date',\n",
    "                            ylabel='Value',\n",
    "                            resample='D',\n",
    "                            interpolate=True,\n",
    "                            window=7)\n",
    "\n",
    "fig.show()"
   ]
  },
  {
   "cell_type": "markdown",
   "metadata": {},
   "source": [
    "Daily aggregated and smoothed data makes the user activity trend visible. There is a peak at May 9 and the crest at May 23."
   ]
  },
  {
   "cell_type": "markdown",
   "metadata": {},
   "source": [
    "## 3.2. Multiple subjects single feature <a class=\"anchor\" id=\"section_3_2\"></a>\n",
    "The following visualization superimposes three subject's activity on same figure. "
   ]
  },
  {
   "cell_type": "code",
   "execution_count": null,
   "metadata": {},
   "outputs": [],
   "source": [
    "fig = EDA_lineplot.timeplot(sl_loc,\n",
    "                            users=['u00','u01'],\n",
    "                            columns=['activity'],\n",
    "                            title='User activity',\n",
    "                            xlabel='Date',\n",
    "                            ylabel='Value',\n",
    "                            resample='D',\n",
    "                            interpolate=True,\n",
    "                            window=7)\n",
    "\n",
    "fig.show()"
   ]
  },
  {
   "cell_type": "markdown",
   "metadata": {},
   "source": [
    "The figure shows that the user daily averaged activity is quite similar in the beginning of inspected time range. In first two weeks of May, the activity shows opposing trends (user *u00* activity increases and user *u01* decreases). "
   ]
  },
  {
   "cell_type": "markdown",
   "metadata": {},
   "source": [
    "## 3.3. Group level hourly averages <a class=\"anchor\" id=\"section_3_3\"></a>\n",
    "Next we'll compare group level hourly average activity."
   ]
  },
  {
   "cell_type": "code",
   "execution_count": null,
   "metadata": {},
   "outputs": [],
   "source": [
    "fig = EDA_lineplot.timeplot(sl_loc,\n",
    "                            users='Group',\n",
    "                            columns=['activity'],\n",
    "                            title='User Activity',\n",
    "                            xlabel='Date',\n",
    "                            ylabel='Value',\n",
    "                            resample='D',\n",
    "                            interpolate=True,\n",
    "                            window=7,\n",
    "                            reset_index=False,\n",
    "                            by='hour')\n",
    "\n",
    "fig.show()"
   ]
  },
  {
   "cell_type": "markdown",
   "metadata": {},
   "source": [
    "The time plot reveals that the hourly averaged group level activity follows circadian rhytmn (less activity during the night). Moderately severe group seems to be least active group during the latter half of the day. "
   ]
  },
  {
   "cell_type": "markdown",
   "metadata": {},
   "source": [
    "## 3.4. Group level weekday averages <a class=\"anchor\" id=\"section_3_4\"></a>\n",
    "And finally, "
   ]
  },
  {
   "cell_type": "code",
   "execution_count": null,
   "metadata": {},
   "outputs": [],
   "source": [
    "fig = EDA_lineplot.timeplot(sl_loc,\n",
    "                            users='Group',\n",
    "                            columns=['activity'],\n",
    "                            title='User Activity',\n",
    "                            xlabel='Date',\n",
    "                            ylabel='Value',\n",
    "                            resample='D',\n",
    "                            interpolate=True,\n",
    "                            window=7,\n",
    "                            reset_index=False,\n",
    "                            by='weekday')\n",
    "\n",
    "fig.show()"
   ]
  },
  {
   "cell_type": "markdown",
   "metadata": {},
   "source": [
    "The timeplot shows that there is some differences between the average group level activity, e.g., group *mild* being more active than *moderately severe*. Additionally, activity during Sundays is at lower level in comparison with weekdays."
   ]
  },
  {
   "cell_type": "markdown",
   "metadata": {},
   "source": [
    "## 4. Punchcard <a class=\"anchor\" id=\"section_4\"></a>\n",
    "This section introduces Punchcard module functions. The functions aggregate the data and show the averaged value for each timepoint. <br> We use the same StudentLife dataset derived activity data as in two previous sections."
   ]
  },
  {
   "cell_type": "markdown",
   "metadata": {},
   "source": [
    "## 4.1. Single user punchcard <a class=\"anchor\" id=\"section_4_1\"></a>\n",
    "At first we visualize one daily aggregated mean activity for single subject. We'll change the plot color to grayscale for improved clarity.\n"
   ]
  },
  {
   "cell_type": "code",
   "execution_count": null,
   "metadata": {},
   "outputs": [],
   "source": [
    "px.defaults.color_continuous_scale = px.colors.sequential.gray"
   ]
  },
  {
   "cell_type": "code",
   "execution_count": null,
   "metadata": {},
   "outputs": [],
   "source": [
    "EDA_punchcard.punchcard_plot(sl, \n",
    "                             user_list=['u00'],\n",
    "                             columns=['activity'],\n",
    "                             title=\"User {} activity punchcard\".format('u00'),\n",
    "                             resample='D',\n",
    "                             normalize=False,\n",
    "                             agg_func=np.mean,\n",
    "                             timerange=False)"
   ]
  },
  {
   "cell_type": "markdown",
   "metadata": {},
   "source": [
    "The punchcard reveals that May 5th has the highest average activity and May 18th, 20th, and 21th have the lowest activity.  "
   ]
  },
  {
   "cell_type": "markdown",
   "metadata": {},
   "source": [
    "## 4.2. Multiple user punchcard <a class=\"anchor\" id=\"section_4_2\"></a>\n",
    "Next, we'll visualize mean activity for multiple subjects."
   ]
  },
  {
   "cell_type": "code",
   "execution_count": null,
   "metadata": {},
   "outputs": [],
   "source": [
    "EDA_punchcard.punchcard_plot(sl, \n",
    "                             user_list=['u00','u01','u02'],\n",
    "                             columns=['activity'],\n",
    "                             title=\"Users {}, {}, and {} activity punchcard\".format('u00','u01','u02'),\n",
    "                             resample='D',\n",
    "                             normalize=False,\n",
    "                             agg_func=np.mean,\n",
    "                             timerange=False)"
   ]
  },
  {
   "cell_type": "markdown",
   "metadata": {},
   "source": [
    "The punchard allows comparison of daily average activity for multiple subjects. It seems that there is not evident common pattern in the activity."
   ]
  },
  {
   "cell_type": "markdown",
   "metadata": {},
   "source": [
    "## 4.3. Single user punchcard showing two features <a class=\"anchor\" id=\"section_4_3\"></a>\n",
    "Lastly, we'll visualize daily aggregated single user activity side by side with activity of previous week. <br>\n",
    "We start by shifting the activity by one week and by adding it to the original dataframe. "
   ]
  },
  {
   "cell_type": "code",
   "execution_count": null,
   "metadata": {},
   "outputs": [],
   "source": [
    "sl_loc['previous_week_activity'] = sl_loc['activity'].shift(periods=7, fill_value=0)"
   ]
  },
  {
   "cell_type": "code",
   "execution_count": null,
   "metadata": {},
   "outputs": [],
   "source": [
    "EDA_punchcard.punchcard_plot(sl_loc, \n",
    "                             user_list=['u00'],\n",
    "                             columns=['activity','previous_week_activity'],\n",
    "                             title=\"User {} activity and previous week activity punchcard\".format('u00'),\n",
    "                             resample='D',\n",
    "                             normalize=False,\n",
    "                             agg_func=np.mean,\n",
    "                             timerange=False)"
   ]
  },
  {
   "cell_type": "markdown",
   "metadata": {},
   "source": [
    "The punchcard show weekly repeating patterns in subjects activity."
   ]
  },
  {
   "cell_type": "markdown",
   "metadata": {},
   "source": [
    "## 5) Missingness <a class=\"anchor\" id=\"section_5\"></a>\n",
    "This sections introduces Missingness module for missing data inspection. The module features data missingness visualizations by frequency and by timepoint.<br>\n",
    "Additionally, it offers an option for missing data correlation visualization.   "
   ]
  },
  {
   "cell_type": "markdown",
   "metadata": {},
   "source": [
    "### Data "
   ]
  },
  {
   "cell_type": "markdown",
   "metadata": {},
   "source": [
    "For data missingness visualizations, we'll create a mock dataframe with missing values using `niimpy.util.create_missing_dataframe` function."
   ]
  },
  {
   "cell_type": "code",
   "execution_count": null,
   "metadata": {},
   "outputs": [],
   "source": [
    "df_m = setup_dataframe.create_missing_dataframe(nrows=2*24*14, ncols=5, density=0.7, index_type='dt', freq='10T')\n",
    "df_m.columns = ['User_1','User_2','User_3','User_4','User_5',]"
   ]
  },
  {
   "cell_type": "markdown",
   "metadata": {},
   "source": [
    "We will quickly inspect the dataframe before the visualizations."
   ]
  },
  {
   "cell_type": "code",
   "execution_count": null,
   "metadata": {},
   "outputs": [],
   "source": [
    "df_m"
   ]
  },
  {
   "cell_type": "code",
   "execution_count": null,
   "metadata": {},
   "outputs": [],
   "source": [
    "df_m.describe()"
   ]
  },
  {
   "cell_type": "markdown",
   "metadata": {},
   "source": [
    "## 5.1. Data frequency by feature <a class=\"anchor\" id=\"section_5_1\"></a>\n",
    "\n",
    "First, we create a histogram to visualize data frequency per column."
   ]
  },
  {
   "cell_type": "code",
   "execution_count": null,
   "metadata": {},
   "outputs": [],
   "source": [
    "fig = EDA_missingness.bar(df_m,\n",
    "                          xaxis_title='User',\n",
    "                          yaxis_title='Frequency')\n",
    "fig.show()"
   ]
  },
  {
   "cell_type": "markdown",
   "metadata": {},
   "source": [
    "The data frequency is nearly similar for each user, *User_5* having the highest frequency."
   ]
  },
  {
   "cell_type": "markdown",
   "metadata": {},
   "source": [
    "## 5.2. Average frequency by user <a class=\"anchor\" id=\"section_5_2\"></a>\n",
    "Next, we will show average data frequency for all users."
   ]
  },
  {
   "cell_type": "code",
   "execution_count": null,
   "metadata": {},
   "outputs": [],
   "source": [
    "fig = EDA_missingness.bar(df_m, \n",
    "                          sampling_freq='30T',\n",
    "                          xaxis_title='Time',\n",
    "                          yaxis_title='Frequency')\n",
    "fig.show()"
   ]
  },
  {
   "cell_type": "markdown",
   "metadata": {},
   "source": [
    "The overall data frequency suggests no clear pattern for data missingness."
   ]
  },
  {
   "cell_type": "markdown",
   "metadata": {},
   "source": [
    "## 5.3. Missingness matrix <a class=\"anchor\" id=\"section_5_3\"></a>\n",
    "We can also create a missingness matrix visualization for the dataframe. The nullity matrix show data missingess by a timepoint."
   ]
  },
  {
   "cell_type": "code",
   "execution_count": null,
   "metadata": {},
   "outputs": [],
   "source": [
    "fig = EDA_missingness.matrix(df_m,\n",
    "                             sampling_freq='30T',\n",
    "                             xaxis_title=\"User ID\",\n",
    "                             yaxis_title=\"Time\")\n",
    "fig.show()"
   ]
  },
  {
   "cell_type": "markdown",
   "metadata": {},
   "source": [
    "## 5.4. Missing data correlations <a class=\"anchor\" id=\"section_5_4\"></a>\n",
    "\n",
    "Finally, we plot a heatmap to display the correlations between missing data.\n",
    "\n",
    "Correlation ranges from -1 to 1: \n",
    "* -1 means that if one variable appears then the other will be missing. \n",
    "* 0 means that there is no correlation between the missingness of two variables. \n",
    "* 1 means that the two variables will always appear together."
   ]
  },
  {
   "cell_type": "markdown",
   "metadata": {},
   "source": [
    "### Data\n",
    "For the correlations, we use *NYC collision factors* [sample data](https://github.com/ResidentMario/missingno). "
   ]
  },
  {
   "cell_type": "code",
   "execution_count": null,
   "metadata": {},
   "outputs": [],
   "source": [
    "collisions = pd.read_csv(\"https://raw.githubusercontent.com/ResidentMario/missingno-data/master/nyc_collision_factors.csv\")"
   ]
  },
  {
   "cell_type": "markdown",
   "metadata": {},
   "source": [
    "First, we'll inspect the data frame."
   ]
  },
  {
   "cell_type": "code",
   "execution_count": null,
   "metadata": {},
   "outputs": [],
   "source": [
    "collisions.head()"
   ]
  },
  {
   "cell_type": "code",
   "execution_count": null,
   "metadata": {},
   "outputs": [],
   "source": [
    "collisions.dtypes"
   ]
  },
  {
   "cell_type": "markdown",
   "metadata": {},
   "source": [
    "We will then inspect the basic statistics."
   ]
  },
  {
   "cell_type": "code",
   "execution_count": null,
   "metadata": {},
   "outputs": [],
   "source": [
    "collisions.describe()"
   ]
  },
  {
   "cell_type": "markdown",
   "metadata": {},
   "source": [
    "Finally, we will visualize the nullity (how strongly the presence or absence of one variable affects the presence of another) correlations by a heatmap and a dendrogram."
   ]
  },
  {
   "cell_type": "code",
   "execution_count": null,
   "metadata": {},
   "outputs": [],
   "source": [
    "fig = EDA_missingness.heatmap(collisions)\n",
    "fig.show()"
   ]
  },
  {
   "cell_type": "markdown",
   "metadata": {},
   "source": [
    "The nullity heatmap and dendrogram reveals a data correlation structure, e.g., *vehicle type codes* and *contributing factor vehicle* are highly correlated. Features having complete data are not shown on the figure."
   ]
  }
 ],
 "metadata": {
  "kernelspec": {
   "display_name": "Python 3 (ipykernel)",
   "language": "python",
   "name": "python3"
  },
  "language_info": {
   "codemirror_mode": {
    "name": "ipython",
    "version": 3
   },
   "file_extension": ".py",
   "mimetype": "text/x-python",
   "name": "python",
   "nbconvert_exporter": "python",
   "pygments_lexer": "ipython3",
   "version": "3.7.13"
  }
 },
 "nbformat": 4,
 "nbformat_minor": 4
}
