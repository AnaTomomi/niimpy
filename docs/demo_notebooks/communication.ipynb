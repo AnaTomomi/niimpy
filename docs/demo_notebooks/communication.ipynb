{
 "cells": [
  {
   "cell_type": "markdown",
   "id": "b8702c8c",
   "metadata": {},
   "source": [
    "# Demo notebook for analyzing calls and SMS data"
   ]
  },
  {
   "cell_type": "markdown",
   "id": "d46f5f80",
   "metadata": {},
   "source": [
    "## Introduction\n",
    "\n",
    "Communication data includes calls and SMS information. These data can reveal important information about people's circadian rhythm, social patterns, and activity. Therefore, it is important to organize this information for further processing. To address this, `niimpy` includes the function `extract_features_comms` to clean, downsample, and extract features from communication data. This function employs other functions to extract the following features:\n",
    "\n",
    "- `call_duration_total`: duration of incoming and outgoing calls\n",
    "- `call_duration_mean`: mean duration of incoming and outgoing calls\n",
    "- `call_duration_median`: median duration of incoming and outgoing calls\n",
    "- `call_duration_std`: standard deviation of incoming and outgoing calls\n",
    "- `call_count`: number of calls within a time window\n",
    "- `call_outgoing_incoming_ratio`: number of outgoing calls divided by the number of incoming calls\n",
    "- `sms_count`: count of \n",
    "\n",
    "In the following, we will analyze call logs provided by `niimpy` as an example to illustrate the use of niimpy's communication preprocessing functions."
   ]
  },
  {
   "cell_type": "markdown",
   "id": "105cd8eb",
   "metadata": {},
   "source": [
    "## Read data"
   ]
  },
  {
   "cell_type": "code",
   "execution_count": 1,
   "id": "df6aa4b4",
   "metadata": {},
   "outputs": [
    {
     "ename": "ModuleNotFoundError",
     "evalue": "No module named 'config'",
     "output_type": "error",
     "traceback": [
      "\u001b[1;31m---------------------------------------------------------------------------\u001b[0m",
      "\u001b[1;31mModuleNotFoundError\u001b[0m                       Traceback (most recent call last)",
      "Input \u001b[1;32mIn [1]\u001b[0m, in \u001b[0;36m<cell line: 2>\u001b[1;34m()\u001b[0m\n\u001b[0;32m      1\u001b[0m \u001b[38;5;28;01mimport\u001b[39;00m \u001b[38;5;21;01mniimpy\u001b[39;00m\n\u001b[1;32m----> 2\u001b[0m \u001b[38;5;28;01mimport\u001b[39;00m \u001b[38;5;21;01mconfig\u001b[39;00m \u001b[38;5;28;01mas\u001b[39;00m \u001b[38;5;21;01mconfig\u001b[39;00m\n\u001b[0;32m      3\u001b[0m \u001b[38;5;28;01mimport\u001b[39;00m \u001b[38;5;21;01mniimpy\u001b[39;00m\u001b[38;5;21;01m.\u001b[39;00m\u001b[38;5;21;01mpreprocessing\u001b[39;00m\u001b[38;5;21;01m.\u001b[39;00m\u001b[38;5;21;01mcommunication\u001b[39;00m \u001b[38;5;28;01mas\u001b[39;00m \u001b[38;5;21;01mcom\u001b[39;00m\n",
      "\u001b[1;31mModuleNotFoundError\u001b[0m: No module named 'config'"
     ]
    }
   ],
   "source": [
    "import niimpy\n",
    "import config as config\n",
    "import niimpy.preprocessing.communication as com"
   ]
  },
  {
   "cell_type": "code",
   "execution_count": null,
   "id": "1df0b7ed",
   "metadata": {},
   "outputs": [],
   "source": [
    "data = niimpy.read_csv(config.MULTIUSER_AWARE_CALLS_PATH, tz='Europe/Helsinki')\n",
    "data.shape"
   ]
  },
  {
   "cell_type": "markdown",
   "id": "b7a8a9a3",
   "metadata": {},
   "source": [
    "There are 38 datapoints with 6 columns in the dataset. Let us have a quick look at the data:"
   ]
  },
  {
   "cell_type": "code",
   "execution_count": null,
   "id": "f3c83570",
   "metadata": {},
   "outputs": [],
   "source": [
    "data.head()"
   ]
  },
  {
   "cell_type": "code",
   "execution_count": null,
   "id": "b132d845",
   "metadata": {},
   "outputs": [],
   "source": [
    "data.tail()"
   ]
  },
  {
   "cell_type": "markdown",
   "id": "3ecf6427",
   "metadata": {},
   "source": [
    "The dataframe seems to be complete. Its index is timestamps, and it has two main columns: call_type and call_duration. In addition, the dataframe contains information from multiple users. \n",
    "Here it is important to notice that the calls should be labeled as *incoming*, *outgoing* or *missed*. "
   ]
  },
  {
   "cell_type": "markdown",
   "id": "fc1bdeb3",
   "metadata": {},
   "source": [
    "## Extracting features"
   ]
  },
  {
   "cell_type": "markdown",
   "id": "5ee0a6be",
   "metadata": {},
   "source": [
    "To extract audio features, we need to employ the function `extract_features_comms`. This function needs two inputs, a dataframe with the data and a dictionary. The dataframe should contain the call observations, and the dictionary is used to input customizable arguments to the function. The function has some parameters by default. Let's have a look at those first. "
   ]
  },
  {
   "cell_type": "markdown",
   "id": "7f00d404",
   "metadata": {},
   "source": [
    "### Default option"
   ]
  },
  {
   "cell_type": "markdown",
   "id": "65e61181",
   "metadata": {},
   "source": [
    "The default option will compute all features in 30-minute aggregation windows. To use the `extract_features_comms` function with its default options, simply call the function. "
   ]
  },
  {
   "cell_type": "code",
   "execution_count": null,
   "id": "18c79b18",
   "metadata": {},
   "outputs": [],
   "source": [
    "default = com.extract_features_comms(data, features=None)"
   ]
  },
  {
   "cell_type": "markdown",
   "id": "c21ddd4a",
   "metadata": {},
   "source": [
    "The function prints the computed features so you can track its process. Now let's have a look at the outputs"
   ]
  },
  {
   "cell_type": "code",
   "execution_count": null,
   "id": "88541ac2",
   "metadata": {},
   "outputs": [],
   "source": [
    "default.head()"
   ]
  },
  {
   "cell_type": "code",
   "execution_count": null,
   "id": "d0ab2425",
   "metadata": {},
   "outputs": [],
   "source": [
    "default.tail()"
   ]
  },
  {
   "cell_type": "markdown",
   "id": "b7e68bd8",
   "metadata": {},
   "source": [
    "The function output is also a dataframe where each column stands for a feature. The indexes are subjects and timestamps. "
   ]
  },
  {
   "cell_type": "markdown",
   "id": "26ba60b6",
   "metadata": {},
   "source": [
    "### Customized features"
   ]
  },
  {
   "cell_type": "markdown",
   "id": "ba1cc996",
   "metadata": {},
   "source": [
    "The `extract_features_comms` function can also be customized. We can:\n",
    "- extract some of the features (not all)\n",
    "- modify the aggregation periods\n",
    "\n",
    "All of these modifications need to be inside the dictionary input. \n",
    "\n",
    "Let's see how to use this to only call some functions. To do so, we need to create a dictionary where the keys are the name of the features we want to compute, and the values are empty dictionaries."
   ]
  },
  {
   "cell_type": "code",
   "execution_count": null,
   "id": "c6c49d58",
   "metadata": {},
   "outputs": [],
   "source": [
    "custom = {}\n",
    "custom[com.call_duration_mean] = {}\n",
    "custom[com.call_duration_median] = {}"
   ]
  },
  {
   "cell_type": "code",
   "execution_count": null,
   "id": "b2f34602",
   "metadata": {},
   "outputs": [],
   "source": [
    "custom_output = com.extract_features_comms(data, features=custom)\n",
    "custom_output.head()"
   ]
  },
  {
   "cell_type": "markdown",
   "id": "657f4a5d",
   "metadata": {},
   "source": [
    "As we see, this time only two features were computed in a 30-min aggregated period. Now, let's compute another set of features with different aggregation windows. For that, we rely on the arguments from the `pandas.DataFrame.resample` function. \n",
    "\n",
    "For this example, we will aggregate the features `call_count` and `call_duration_total`. The call duration total will be computed in a daily basis and the number of calls will be computed in 5-hour periods with a 5-min offset."
   ]
  },
  {
   "cell_type": "code",
   "execution_count": null,
   "id": "53402b72",
   "metadata": {},
   "outputs": [],
   "source": [
    "features = {com.call_duration_total:{\"communication_column_name\":\"call_duration\",\"resample_args\":{\"rule\":\"1D\"}},\n",
    "            com.call_count:{\"communication_column_name\":\"call_duration\",\"resample_args\":{\"rule\":\"5H\",\"offset\":\"5min\"}}}"
   ]
  },
  {
   "cell_type": "markdown",
   "id": "c8e87b59",
   "metadata": {},
   "source": [
    "As we see, we have an input dictionary in which the main keys are the names of the features to compute. For each feature, we also have a dictionary. This new dictionary has some other arguments, mainly the name of the column that we would like to use for the computation and another dictionary named `resample_args`. The name of the column helps us in case our dataframe has some other naming conventions. The `resample_args` dictionary contains the arguments to pass for the resampling (see `pandas.DataFrame.resample`)."
   ]
  },
  {
   "cell_type": "code",
   "execution_count": null,
   "id": "3c4f6a1b",
   "metadata": {},
   "outputs": [],
   "source": [
    "custom_output = com.extract_features_comms(data, features=features)\n",
    "custom_output.head(10)"
   ]
  },
  {
   "cell_type": "markdown",
   "id": "a902800a",
   "metadata": {},
   "source": [
    "The output is once again a dataframe. In this case, two aggregations are shown. The first one is the daily aggregation computed for the `call_duration` feature. The second one is the 5-hour aggregation period with 5-min offset for the `call_count`. Therefore, the repeated user IDs. We must note that because the `call_count`feature is not required to be aggregated daily, the daily aggregation timestamps have a NaN value. Similarly, because the `call_duration`is not required to be aggregated in 5-hour windows, its values are NaN for all subjects. "
   ]
  },
  {
   "cell_type": "markdown",
   "id": "ee454183",
   "metadata": {},
   "source": [
    "### SMS computations"
   ]
  },
  {
   "cell_type": "markdown",
   "id": "33f750b8",
   "metadata": {},
   "source": [
    "`niimpy` includes one function to count the outgoing and incoming SMS. This function is not automatically called by `extract_features_comms`, but it can be used as a standalone. Let's see a quick example where we will upload the SMS data and preprocess it. "
   ]
  },
  {
   "cell_type": "code",
   "execution_count": null,
   "id": "d6e6b107",
   "metadata": {},
   "outputs": [],
   "source": [
    "data = niimpy.read_csv(config.MULTIUSER_AWARE_MESSAGES_PATH, tz='Europe/Helsinki')\n",
    "data.head()"
   ]
  },
  {
   "cell_type": "code",
   "execution_count": null,
   "id": "a02e02d7",
   "metadata": {},
   "outputs": [],
   "source": [
    "sms = com.sms_count(data, feature_functions={})\n",
    "sms.head()"
   ]
  },
  {
   "cell_type": "markdown",
   "id": "9bbed774",
   "metadata": {},
   "source": [
    "We see that the function also differentiates between the incoming and outgoing messages. This is crucial for understanding the communication patterns of a subject. \n",
    "\n",
    "Similar to the use of `extract_features_comms`, we can modify the aggregation period of the SMS count by including the correct arguments in the feature_functions dictionary. Let's see one example with a daily aggregation. "
   ]
  },
  {
   "cell_type": "code",
   "execution_count": null,
   "id": "70d35c21",
   "metadata": {},
   "outputs": [],
   "source": [
    "sms = com.sms_count(data, feature_functions={\"resample_args\":{\"rule\":\"1D\"}})\n",
    "sms.head()"
   ]
  },
  {
   "cell_type": "markdown",
   "id": "07ff7251",
   "metadata": {},
   "source": [
    "## Implementing own features"
   ]
  },
  {
   "cell_type": "markdown",
   "id": "93b7fc03",
   "metadata": {},
   "source": [
    "We can implement our own customized features easily. To do so, we need to define a function that accepts a dataframe and returns a dataframe. The returned object should be indexed by user and timestamps. \n",
    "To make the feature readily available in the default options, we need add the *call* prefix to the new function (e.g. `call_my-new-feature`). "
   ]
  },
  {
   "cell_type": "code",
   "execution_count": null,
   "id": "bee2e802",
   "metadata": {},
   "outputs": [],
   "source": [
    "def call_count_all(df,feature_functions=None):\n",
    "    if not \"communication_column_name\" in feature_functions:\n",
    "        col_name = \"call_duration\"\n",
    "    else:\n",
    "        col_name = feature_functions[\"communication_column_name\"]\n",
    "    if not \"resample_args\" in feature_functions.keys():\n",
    "        feature_functions[\"resample_args\"] = {\"rule\":\"30T\"}\n",
    "    \n",
    "    if len(df)>0:\n",
    "        result = df.groupby(\"user\")[col_name].resample(**feature_functions[\"resample_args\"]).count()    \n",
    "        result.rename(\"call_count_all\", inplace=True)\n",
    "        result.to_frame()\n",
    "    return result"
   ]
  },
  {
   "cell_type": "markdown",
   "id": "31787222",
   "metadata": {},
   "source": [
    "Then, we can call our new function using the `extract_features_comms` function."
   ]
  },
  {
   "cell_type": "code",
   "execution_count": null,
   "id": "6394eb8b",
   "metadata": {},
   "outputs": [],
   "source": [
    "data = niimpy.read_csv(config.MULTIUSER_AWARE_CALLS_PATH, tz='Europe/Helsinki')\n",
    "customized_features = com.extract_features_comms(data, features={call_count_all: {}})"
   ]
  },
  {
   "cell_type": "code",
   "execution_count": null,
   "id": "3f273548",
   "metadata": {},
   "outputs": [],
   "source": [
    "customized_features.head()"
   ]
  },
  {
   "cell_type": "code",
   "execution_count": null,
   "id": "2cdd0b4b",
   "metadata": {},
   "outputs": [],
   "source": []
  }
 ],
 "metadata": {
  "kernelspec": {
   "display_name": "Python 3 (ipykernel)",
   "language": "python",
   "name": "python3"
  },
  "language_info": {
   "codemirror_mode": {
    "name": "ipython",
    "version": 3
   },
   "file_extension": ".py",
   "mimetype": "text/x-python",
   "name": "python",
   "nbconvert_exporter": "python",
   "pygments_lexer": "ipython3",
   "version": "3.8.13"
  }
 },
 "nbformat": 4,
 "nbformat_minor": 5
}
