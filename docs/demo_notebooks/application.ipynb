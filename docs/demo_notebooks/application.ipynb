{
 "cells": [
  {
   "cell_type": "markdown",
   "id": "ce30cb76",
   "metadata": {},
   "source": [
    "# Demo notebook for analyzing application data"
   ]
  },
  {
   "cell_type": "markdown",
   "id": "07a2caef",
   "metadata": {},
   "source": [
    "## Introduction\n",
    "\n",
    "Application data refers to the information about which apps are open at a certain time. These data can reveal important information about people's circadian rhythm, social patterns, and activity. Application data is an event data; this means it cannot be sampled at a regular frequency, intead, we just have information about the events that occured. There are two main issues with application data (1) missing data detection, and (2) privacy concerns. \n",
    "\n",
    "Regarding missing data detection, we may never know if all events were detected and reported. Unfortunately there is little we can do. Nevertheless, we can take into account some factors that may interfere with the correct detection of all events (e.g. when the phone's battery is depleated). Therefore, to correctly process application data, we need to consider other information like the battery status of the phone. \n",
    "Regarding the privacy concerns, application names can reveal too much about a subject, for example, an uncommon app use may help identify a subject. Consequently, we try anonimizing the data by grouping the apps. \n",
    "\n",
    "To address both of these issues, `niimpy` includes the function `extract_features_app` to clean, downsample, and extract features from application data while taking into account factors like the battery level and naming groups. In addition, `niimpy` provides a map with some of the common apps for pseudo-anonymization. This function employs other functions to extract the following features:\n",
    "\n",
    "- `app_count`: number of times an app group has been used \n",
    "- `app_duration`: how long an app group has been used\n",
    "\n",
    "The app module has one internal function that help classify the apps into groups. \n",
    "\n",
    "In the following, we will analyze screen data provided by `niimpy` as an example to illustrate the use of application data."
   ]
  },
  {
   "cell_type": "markdown",
   "id": "6303daf2",
   "metadata": {},
   "source": [
    "## Read data"
   ]
  },
  {
   "cell_type": "code",
   "execution_count": 1,
   "id": "0c38efde",
   "metadata": {},
   "outputs": [],
   "source": [
    "import niimpy\n",
    "import config as config\n",
    "import niimpy.preprocessing.application as app\n",
    "import warnings\n",
    "import pandas as pd\n",
    "warnings.filterwarnings(\"ignore\")"
   ]
  },
  {
   "cell_type": "code",
   "execution_count": 2,
   "id": "ba29b45e",
   "metadata": {},
   "outputs": [
    {
     "data": {
      "text/plain": [
       "(132, 6)"
      ]
     },
     "execution_count": 2,
     "metadata": {},
     "output_type": "execute_result"
    }
   ],
   "source": [
    "data = niimpy.read_csv(config.SINGLEUSER_AWARE_APP_PATH, tz='Europe/Helsinki')\n",
    "data.shape"
   ]
  },
  {
   "cell_type": "markdown",
   "id": "81b63291",
   "metadata": {},
   "source": [
    "There are 132 datapoints with 6 columns in the dataset. Let us have a quick look at the data:"
   ]
  },
  {
   "cell_type": "code",
   "execution_count": 3,
   "id": "46631a99",
   "metadata": {},
   "outputs": [
    {
     "data": {
      "text/html": [
       "<div>\n",
       "<style scoped>\n",
       "    .dataframe tbody tr th:only-of-type {\n",
       "        vertical-align: middle;\n",
       "    }\n",
       "\n",
       "    .dataframe tbody tr th {\n",
       "        vertical-align: top;\n",
       "    }\n",
       "\n",
       "    .dataframe thead th {\n",
       "        text-align: right;\n",
       "    }\n",
       "</style>\n",
       "<table border=\"1\" class=\"dataframe\">\n",
       "  <thead>\n",
       "    <tr style=\"text-align: right;\">\n",
       "      <th></th>\n",
       "      <th>user</th>\n",
       "      <th>device</th>\n",
       "      <th>time</th>\n",
       "      <th>application_name</th>\n",
       "      <th>package_name</th>\n",
       "      <th>datetime</th>\n",
       "    </tr>\n",
       "  </thead>\n",
       "  <tbody>\n",
       "    <tr>\n",
       "      <th>2019-08-05 14:02:51.009999872+03:00</th>\n",
       "      <td>iGyXetHE3S8u</td>\n",
       "      <td>Cq9vueHh3zVs</td>\n",
       "      <td>1.565003e+09</td>\n",
       "      <td>Android System</td>\n",
       "      <td>android</td>\n",
       "      <td>2019-08-05 14:02:51.009999872+03:00</td>\n",
       "    </tr>\n",
       "    <tr>\n",
       "      <th>2019-08-05 14:02:58.009999872+03:00</th>\n",
       "      <td>iGyXetHE3S8u</td>\n",
       "      <td>Cq9vueHh3zVs</td>\n",
       "      <td>1.565003e+09</td>\n",
       "      <td>Android System</td>\n",
       "      <td>android</td>\n",
       "      <td>2019-08-05 14:02:58.009999872+03:00</td>\n",
       "    </tr>\n",
       "    <tr>\n",
       "      <th>2019-08-05 14:03:17.009999872+03:00</th>\n",
       "      <td>iGyXetHE3S8u</td>\n",
       "      <td>Cq9vueHh3zVs</td>\n",
       "      <td>1.565003e+09</td>\n",
       "      <td>Google Play Music</td>\n",
       "      <td>com.google.android.music</td>\n",
       "      <td>2019-08-05 14:03:17.009999872+03:00</td>\n",
       "    </tr>\n",
       "    <tr>\n",
       "      <th>2019-08-05 14:02:55.009999872+03:00</th>\n",
       "      <td>iGyXetHE3S8u</td>\n",
       "      <td>Cq9vueHh3zVs</td>\n",
       "      <td>1.565003e+09</td>\n",
       "      <td>Google Play Music</td>\n",
       "      <td>com.google.android.music</td>\n",
       "      <td>2019-08-05 14:02:55.009999872+03:00</td>\n",
       "    </tr>\n",
       "    <tr>\n",
       "      <th>2019-08-05 14:03:31.009999872+03:00</th>\n",
       "      <td>iGyXetHE3S8u</td>\n",
       "      <td>Cq9vueHh3zVs</td>\n",
       "      <td>1.565003e+09</td>\n",
       "      <td>Gmail</td>\n",
       "      <td>com.google.android.gm</td>\n",
       "      <td>2019-08-05 14:03:31.009999872+03:00</td>\n",
       "    </tr>\n",
       "  </tbody>\n",
       "</table>\n",
       "</div>"
      ],
      "text/plain": [
       "                                             user        device          time  \\\n",
       "2019-08-05 14:02:51.009999872+03:00  iGyXetHE3S8u  Cq9vueHh3zVs  1.565003e+09   \n",
       "2019-08-05 14:02:58.009999872+03:00  iGyXetHE3S8u  Cq9vueHh3zVs  1.565003e+09   \n",
       "2019-08-05 14:03:17.009999872+03:00  iGyXetHE3S8u  Cq9vueHh3zVs  1.565003e+09   \n",
       "2019-08-05 14:02:55.009999872+03:00  iGyXetHE3S8u  Cq9vueHh3zVs  1.565003e+09   \n",
       "2019-08-05 14:03:31.009999872+03:00  iGyXetHE3S8u  Cq9vueHh3zVs  1.565003e+09   \n",
       "\n",
       "                                      application_name  \\\n",
       "2019-08-05 14:02:51.009999872+03:00     Android System   \n",
       "2019-08-05 14:02:58.009999872+03:00     Android System   \n",
       "2019-08-05 14:03:17.009999872+03:00  Google Play Music   \n",
       "2019-08-05 14:02:55.009999872+03:00  Google Play Music   \n",
       "2019-08-05 14:03:31.009999872+03:00              Gmail   \n",
       "\n",
       "                                                 package_name  \\\n",
       "2019-08-05 14:02:51.009999872+03:00                   android   \n",
       "2019-08-05 14:02:58.009999872+03:00                   android   \n",
       "2019-08-05 14:03:17.009999872+03:00  com.google.android.music   \n",
       "2019-08-05 14:02:55.009999872+03:00  com.google.android.music   \n",
       "2019-08-05 14:03:31.009999872+03:00     com.google.android.gm   \n",
       "\n",
       "                                                               datetime  \n",
       "2019-08-05 14:02:51.009999872+03:00 2019-08-05 14:02:51.009999872+03:00  \n",
       "2019-08-05 14:02:58.009999872+03:00 2019-08-05 14:02:58.009999872+03:00  \n",
       "2019-08-05 14:03:17.009999872+03:00 2019-08-05 14:03:17.009999872+03:00  \n",
       "2019-08-05 14:02:55.009999872+03:00 2019-08-05 14:02:55.009999872+03:00  \n",
       "2019-08-05 14:03:31.009999872+03:00 2019-08-05 14:03:31.009999872+03:00  "
      ]
     },
     "execution_count": 3,
     "metadata": {},
     "output_type": "execute_result"
    }
   ],
   "source": [
    "data.head()"
   ]
  },
  {
   "cell_type": "markdown",
   "id": "29ae62d9",
   "metadata": {},
   "source": [
    "The dataframe seems to be complete. Its index is timestamps, and it has a column tracking the name of the application that was prompted (*application_name*). \n",
    "\n",
    "#### A few words on missing data\n",
    "Missing data for application is difficult to detect. Firstly, this sensor is triggered by events (i.e. not sampled at a fixed frequency). Secondly, different phones, OS, and settings change the ease to detect apps. Thirdly, events not related to the application sensor may affect its behavior, e.g. battery running out. Unfortunately, we can only correct missing data for events such as the screen turning off by using data from the screen sensor and the battery level. These can be taken into account in `niimpy` if we provide the screen and battery data. \n",
    "\n",
    "#### A few words on grouping the apps\n",
    "As previously mentioned, the application name may reveal too much about a subject and privacy problems may arise. A possible solution to this problem is to classify the apps into more generic groups. For example, commonly used apps like WhatsApp, Signal, Telegram, etc. are commonly used for texting, so we can group them under the label *texting*. `niimpy` provides a default map, but this should be adapted to the characteristics of the sample, since apps are available depending on countries and populations. "
   ]
  },
  {
   "cell_type": "markdown",
   "id": "40f308fe",
   "metadata": {},
   "source": [
    "#### A few words on the role of the battery and screen\n",
    "As mentioned before, sometimes the screen may be OFF and these events will not be caught by the application data sensor. For example, we can open an app and let it open until the phone screen turns off automatically. Another example is when the battery is depleated and the phone is shut down automatically. Having this information is crucial for correctly computing how long a subject used each app group. `niimpy`'s screen module is adapted to take into account both, the screen and battery data. \n",
    "For this example, we have both, so let's load the screen and battery data."
   ]
  },
  {
   "cell_type": "code",
   "execution_count": 4,
   "id": "74f937cb",
   "metadata": {},
   "outputs": [],
   "source": [
    "bat_data = niimpy.read_csv(niimpy.MULTIUSER_AWARE_BATTERY_PATH, tz='Europe/Helsinki')\n",
    "screen_data = niimpy.read_csv(niimpy.MULTIUSER_AWARE_SCREEN_PATH, tz='Europe/Helsinki')"
   ]
  },
  {
   "cell_type": "code",
   "execution_count": 5,
   "id": "ddcc2101",
   "metadata": {},
   "outputs": [
    {
     "data": {
      "text/html": [
       "<div>\n",
       "<style scoped>\n",
       "    .dataframe tbody tr th:only-of-type {\n",
       "        vertical-align: middle;\n",
       "    }\n",
       "\n",
       "    .dataframe tbody tr th {\n",
       "        vertical-align: top;\n",
       "    }\n",
       "\n",
       "    .dataframe thead th {\n",
       "        text-align: right;\n",
       "    }\n",
       "</style>\n",
       "<table border=\"1\" class=\"dataframe\">\n",
       "  <thead>\n",
       "    <tr style=\"text-align: right;\">\n",
       "      <th></th>\n",
       "      <th>user</th>\n",
       "      <th>device</th>\n",
       "      <th>time</th>\n",
       "      <th>battery_level</th>\n",
       "      <th>battery_status</th>\n",
       "      <th>battery_health</th>\n",
       "      <th>battery_adaptor</th>\n",
       "      <th>datetime</th>\n",
       "    </tr>\n",
       "  </thead>\n",
       "  <tbody>\n",
       "    <tr>\n",
       "      <th>2020-01-09 02:20:02.924999936+02:00</th>\n",
       "      <td>jd9INuQ5BBlW</td>\n",
       "      <td>3p83yASkOb_B</td>\n",
       "      <td>1.578529e+09</td>\n",
       "      <td>74</td>\n",
       "      <td>3</td>\n",
       "      <td>2</td>\n",
       "      <td>0</td>\n",
       "      <td>2020-01-09 02:20:02.924999936+02:00</td>\n",
       "    </tr>\n",
       "    <tr>\n",
       "      <th>2020-01-09 02:21:30.405999872+02:00</th>\n",
       "      <td>jd9INuQ5BBlW</td>\n",
       "      <td>3p83yASkOb_B</td>\n",
       "      <td>1.578529e+09</td>\n",
       "      <td>73</td>\n",
       "      <td>3</td>\n",
       "      <td>2</td>\n",
       "      <td>0</td>\n",
       "      <td>2020-01-09 02:21:30.405999872+02:00</td>\n",
       "    </tr>\n",
       "    <tr>\n",
       "      <th>2020-01-09 02:24:12.805999872+02:00</th>\n",
       "      <td>jd9INuQ5BBlW</td>\n",
       "      <td>3p83yASkOb_B</td>\n",
       "      <td>1.578529e+09</td>\n",
       "      <td>72</td>\n",
       "      <td>3</td>\n",
       "      <td>2</td>\n",
       "      <td>0</td>\n",
       "      <td>2020-01-09 02:24:12.805999872+02:00</td>\n",
       "    </tr>\n",
       "    <tr>\n",
       "      <th>2020-01-09 02:35:38.561000192+02:00</th>\n",
       "      <td>jd9INuQ5BBlW</td>\n",
       "      <td>3p83yASkOb_B</td>\n",
       "      <td>1.578530e+09</td>\n",
       "      <td>72</td>\n",
       "      <td>2</td>\n",
       "      <td>2</td>\n",
       "      <td>0</td>\n",
       "      <td>2020-01-09 02:35:38.561000192+02:00</td>\n",
       "    </tr>\n",
       "    <tr>\n",
       "      <th>2020-01-09 02:35:38.953000192+02:00</th>\n",
       "      <td>jd9INuQ5BBlW</td>\n",
       "      <td>3p83yASkOb_B</td>\n",
       "      <td>1.578530e+09</td>\n",
       "      <td>72</td>\n",
       "      <td>2</td>\n",
       "      <td>2</td>\n",
       "      <td>2</td>\n",
       "      <td>2020-01-09 02:35:38.953000192+02:00</td>\n",
       "    </tr>\n",
       "  </tbody>\n",
       "</table>\n",
       "</div>"
      ],
      "text/plain": [
       "                                             user        device          time  \\\n",
       "2020-01-09 02:20:02.924999936+02:00  jd9INuQ5BBlW  3p83yASkOb_B  1.578529e+09   \n",
       "2020-01-09 02:21:30.405999872+02:00  jd9INuQ5BBlW  3p83yASkOb_B  1.578529e+09   \n",
       "2020-01-09 02:24:12.805999872+02:00  jd9INuQ5BBlW  3p83yASkOb_B  1.578529e+09   \n",
       "2020-01-09 02:35:38.561000192+02:00  jd9INuQ5BBlW  3p83yASkOb_B  1.578530e+09   \n",
       "2020-01-09 02:35:38.953000192+02:00  jd9INuQ5BBlW  3p83yASkOb_B  1.578530e+09   \n",
       "\n",
       "                                     battery_level  battery_status  \\\n",
       "2020-01-09 02:20:02.924999936+02:00             74               3   \n",
       "2020-01-09 02:21:30.405999872+02:00             73               3   \n",
       "2020-01-09 02:24:12.805999872+02:00             72               3   \n",
       "2020-01-09 02:35:38.561000192+02:00             72               2   \n",
       "2020-01-09 02:35:38.953000192+02:00             72               2   \n",
       "\n",
       "                                     battery_health  battery_adaptor  \\\n",
       "2020-01-09 02:20:02.924999936+02:00               2                0   \n",
       "2020-01-09 02:21:30.405999872+02:00               2                0   \n",
       "2020-01-09 02:24:12.805999872+02:00               2                0   \n",
       "2020-01-09 02:35:38.561000192+02:00               2                0   \n",
       "2020-01-09 02:35:38.953000192+02:00               2                2   \n",
       "\n",
       "                                                               datetime  \n",
       "2020-01-09 02:20:02.924999936+02:00 2020-01-09 02:20:02.924999936+02:00  \n",
       "2020-01-09 02:21:30.405999872+02:00 2020-01-09 02:21:30.405999872+02:00  \n",
       "2020-01-09 02:24:12.805999872+02:00 2020-01-09 02:24:12.805999872+02:00  \n",
       "2020-01-09 02:35:38.561000192+02:00 2020-01-09 02:35:38.561000192+02:00  \n",
       "2020-01-09 02:35:38.953000192+02:00 2020-01-09 02:35:38.953000192+02:00  "
      ]
     },
     "execution_count": 5,
     "metadata": {},
     "output_type": "execute_result"
    }
   ],
   "source": [
    "bat_data.head()"
   ]
  },
  {
   "cell_type": "markdown",
   "id": "eee697f4",
   "metadata": {},
   "source": [
    "The dataframe looks fine. In this case, we are interested in the battery_status information. This is standard information provided by Android. However, if the dataframe stores this information in a column with a different name, we can use the argument `battery_column_name` and input our custom battery column name (see Extracting features, customized features). "
   ]
  },
  {
   "cell_type": "code",
   "execution_count": 6,
   "id": "20606519",
   "metadata": {},
   "outputs": [
    {
     "data": {
      "text/html": [
       "<div>\n",
       "<style scoped>\n",
       "    .dataframe tbody tr th:only-of-type {\n",
       "        vertical-align: middle;\n",
       "    }\n",
       "\n",
       "    .dataframe tbody tr th {\n",
       "        vertical-align: top;\n",
       "    }\n",
       "\n",
       "    .dataframe thead th {\n",
       "        text-align: right;\n",
       "    }\n",
       "</style>\n",
       "<table border=\"1\" class=\"dataframe\">\n",
       "  <thead>\n",
       "    <tr style=\"text-align: right;\">\n",
       "      <th></th>\n",
       "      <th>user</th>\n",
       "      <th>device</th>\n",
       "      <th>time</th>\n",
       "      <th>screen_status</th>\n",
       "      <th>datetime</th>\n",
       "    </tr>\n",
       "  </thead>\n",
       "  <tbody>\n",
       "    <tr>\n",
       "      <th>2020-01-09 02:06:41.573999872+02:00</th>\n",
       "      <td>jd9INuQ5BBlW</td>\n",
       "      <td>OWd1Uau8POix</td>\n",
       "      <td>1.578528e+09</td>\n",
       "      <td>0</td>\n",
       "      <td>2020-01-09 02:06:41.573999872+02:00</td>\n",
       "    </tr>\n",
       "    <tr>\n",
       "      <th>2020-01-09 02:09:29.152000+02:00</th>\n",
       "      <td>jd9INuQ5BBlW</td>\n",
       "      <td>OWd1Uau8POix</td>\n",
       "      <td>1.578529e+09</td>\n",
       "      <td>1</td>\n",
       "      <td>2020-01-09 02:09:29.152000+02:00</td>\n",
       "    </tr>\n",
       "    <tr>\n",
       "      <th>2020-01-09 02:09:32.790999808+02:00</th>\n",
       "      <td>jd9INuQ5BBlW</td>\n",
       "      <td>OWd1Uau8POix</td>\n",
       "      <td>1.578529e+09</td>\n",
       "      <td>3</td>\n",
       "      <td>2020-01-09 02:09:32.790999808+02:00</td>\n",
       "    </tr>\n",
       "    <tr>\n",
       "      <th>2020-01-09 02:11:41.996000+02:00</th>\n",
       "      <td>jd9INuQ5BBlW</td>\n",
       "      <td>OWd1Uau8POix</td>\n",
       "      <td>1.578529e+09</td>\n",
       "      <td>0</td>\n",
       "      <td>2020-01-09 02:11:41.996000+02:00</td>\n",
       "    </tr>\n",
       "    <tr>\n",
       "      <th>2020-01-09 02:16:19.010999808+02:00</th>\n",
       "      <td>jd9INuQ5BBlW</td>\n",
       "      <td>OWd1Uau8POix</td>\n",
       "      <td>1.578529e+09</td>\n",
       "      <td>1</td>\n",
       "      <td>2020-01-09 02:16:19.010999808+02:00</td>\n",
       "    </tr>\n",
       "  </tbody>\n",
       "</table>\n",
       "</div>"
      ],
      "text/plain": [
       "                                             user        device          time  \\\n",
       "2020-01-09 02:06:41.573999872+02:00  jd9INuQ5BBlW  OWd1Uau8POix  1.578528e+09   \n",
       "2020-01-09 02:09:29.152000+02:00     jd9INuQ5BBlW  OWd1Uau8POix  1.578529e+09   \n",
       "2020-01-09 02:09:32.790999808+02:00  jd9INuQ5BBlW  OWd1Uau8POix  1.578529e+09   \n",
       "2020-01-09 02:11:41.996000+02:00     jd9INuQ5BBlW  OWd1Uau8POix  1.578529e+09   \n",
       "2020-01-09 02:16:19.010999808+02:00  jd9INuQ5BBlW  OWd1Uau8POix  1.578529e+09   \n",
       "\n",
       "                                     screen_status  \\\n",
       "2020-01-09 02:06:41.573999872+02:00              0   \n",
       "2020-01-09 02:09:29.152000+02:00                 1   \n",
       "2020-01-09 02:09:32.790999808+02:00              3   \n",
       "2020-01-09 02:11:41.996000+02:00                 0   \n",
       "2020-01-09 02:16:19.010999808+02:00              1   \n",
       "\n",
       "                                                               datetime  \n",
       "2020-01-09 02:06:41.573999872+02:00 2020-01-09 02:06:41.573999872+02:00  \n",
       "2020-01-09 02:09:29.152000+02:00       2020-01-09 02:09:29.152000+02:00  \n",
       "2020-01-09 02:09:32.790999808+02:00 2020-01-09 02:09:32.790999808+02:00  \n",
       "2020-01-09 02:11:41.996000+02:00       2020-01-09 02:11:41.996000+02:00  \n",
       "2020-01-09 02:16:19.010999808+02:00 2020-01-09 02:16:19.010999808+02:00  "
      ]
     },
     "execution_count": 6,
     "metadata": {},
     "output_type": "execute_result"
    }
   ],
   "source": [
    "screen_data.head()"
   ]
  },
  {
   "cell_type": "markdown",
   "id": "cad01e84",
   "metadata": {},
   "source": [
    "This dataframe looks fine too. In this case, we are interested in the screen_status information. However, if the dataframe has this information in a column with a different name, we can use the argument `screen_column_name` and input our custom screen column name (see Extracting features, customized features). "
   ]
  },
  {
   "cell_type": "markdown",
   "id": "4f890703",
   "metadata": {},
   "source": [
    "## Extracting features"
   ]
  },
  {
   "cell_type": "markdown",
   "id": "01cf0f02",
   "metadata": {},
   "source": [
    "To extract app features, we need to employ the function `extract_features_app`. This function needs four inputs, a dataframe with the data, two dataframes with the information from screen and battery sensors, and a dictionary. The dataframe should contain the app observations, and the dictionary is used to input customizable arguments to the function. The battery and screen dataframes can be empty in case we do not have such information. The function has some parameters by default. Let's have a look at those first. "
   ]
  },
  {
   "cell_type": "markdown",
   "id": "cd9d55af",
   "metadata": {},
   "source": [
    "### Default option"
   ]
  },
  {
   "cell_type": "markdown",
   "id": "ba7b04fd",
   "metadata": {},
   "source": [
    "The default option will compute all features in 30-minute aggregation windows. To use the `extract_features_app` function with its default options, simply call the function. Remember to include battery and screen data when available. "
   ]
  },
  {
   "cell_type": "code",
   "execution_count": 7,
   "id": "49d68c7a",
   "metadata": {},
   "outputs": [
    {
     "name": "stdout",
     "output_type": "stream",
     "text": [
      "computing <function app_count at 0x2b0e6ef81040>...\n",
      "computing <function app_duration at 0x2b0e6ef810d0>...\n"
     ]
    }
   ],
   "source": [
    "default = app.extract_features_app(data, bat_data, screen_data, features=None)"
   ]
  },
  {
   "cell_type": "markdown",
   "id": "2e943600",
   "metadata": {},
   "source": [
    "The function prints the computed features so you can track its process. Now, let's have a look at the outputs"
   ]
  },
  {
   "cell_type": "code",
   "execution_count": 8,
   "id": "c71de60f",
   "metadata": {},
   "outputs": [
    {
     "data": {
      "text/html": [
       "<div>\n",
       "<style scoped>\n",
       "    .dataframe tbody tr th:only-of-type {\n",
       "        vertical-align: middle;\n",
       "    }\n",
       "\n",
       "    .dataframe tbody tr th {\n",
       "        vertical-align: top;\n",
       "    }\n",
       "\n",
       "    .dataframe thead th {\n",
       "        text-align: right;\n",
       "    }\n",
       "</style>\n",
       "<table border=\"1\" class=\"dataframe\">\n",
       "  <thead>\n",
       "    <tr style=\"text-align: right;\">\n",
       "      <th></th>\n",
       "      <th></th>\n",
       "      <th></th>\n",
       "      <th>count</th>\n",
       "      <th>duration</th>\n",
       "    </tr>\n",
       "    <tr>\n",
       "      <th>user</th>\n",
       "      <th>app_group</th>\n",
       "      <th>datetime</th>\n",
       "      <th></th>\n",
       "      <th></th>\n",
       "    </tr>\n",
       "  </thead>\n",
       "  <tbody>\n",
       "    <tr>\n",
       "      <th rowspan=\"4\" valign=\"top\">iGyXetHE3S8u</th>\n",
       "      <th>comm</th>\n",
       "      <th>2019-08-05 14:00:00+03:00</th>\n",
       "      <td>86</td>\n",
       "      <td>37.0</td>\n",
       "    </tr>\n",
       "    <tr>\n",
       "      <th>leisure</th>\n",
       "      <th>2019-08-05 14:00:00+03:00</th>\n",
       "      <td>20</td>\n",
       "      <td>7.0</td>\n",
       "    </tr>\n",
       "    <tr>\n",
       "      <th>na</th>\n",
       "      <th>2019-08-05 14:00:00+03:00</th>\n",
       "      <td>19</td>\n",
       "      <td>9.0</td>\n",
       "    </tr>\n",
       "    <tr>\n",
       "      <th>work</th>\n",
       "      <th>2019-08-05 14:00:00+03:00</th>\n",
       "      <td>7</td>\n",
       "      <td>6.0</td>\n",
       "    </tr>\n",
       "  </tbody>\n",
       "</table>\n",
       "</div>"
      ],
      "text/plain": [
       "                                                  count  duration\n",
       "user         app_group datetime                                  \n",
       "iGyXetHE3S8u comm      2019-08-05 14:00:00+03:00     86      37.0\n",
       "             leisure   2019-08-05 14:00:00+03:00     20       7.0\n",
       "             na        2019-08-05 14:00:00+03:00     19       9.0\n",
       "             work      2019-08-05 14:00:00+03:00      7       6.0"
      ]
     },
     "execution_count": 8,
     "metadata": {},
     "output_type": "execute_result"
    }
   ],
   "source": [
    "default.head()"
   ]
  },
  {
   "cell_type": "markdown",
   "id": "3b7d0ae6",
   "metadata": {},
   "source": [
    "The function output is also a dataframe where each column stands for a feature. The indexes are subjects, app groups, and timestamps. \n",
    "\n",
    "The default option can also be run in absence of battery or screen data. In this case, simply input an empty dataframe in the second or third position of the `extract_features_app` function."
   ]
  },
  {
   "cell_type": "code",
   "execution_count": 9,
   "id": "9128ead4",
   "metadata": {},
   "outputs": [
    {
     "name": "stdout",
     "output_type": "stream",
     "text": [
      "computing <function app_count at 0x2b0e6ef81040>...\n",
      "computing <function app_duration at 0x2b0e6ef810d0>...\n",
      "computing <function app_count at 0x2b0e6ef81040>...\n",
      "computing <function app_duration at 0x2b0e6ef810d0>...\n",
      "computing <function app_count at 0x2b0e6ef81040>...\n",
      "computing <function app_duration at 0x2b0e6ef810d0>...\n"
     ]
    }
   ],
   "source": [
    "empty_bat = pd.DataFrame()\n",
    "empty_screen = pd.DataFrame()\n",
    "no_bat = app.extract_features_app(data, empty_bat, screen_data, features=None) #no battery information\n",
    "no_screen = app.extract_features_app(data, bat_data, empty_screen, features=None) #no screen information\n",
    "no_bat_no_screen = app.extract_features_app(data, empty_bat, empty_screen, features=None) #no battery and no screen information"
   ]
  },
  {
   "cell_type": "markdown",
   "id": "b56512df",
   "metadata": {},
   "source": [
    "### Customized features"
   ]
  },
  {
   "cell_type": "markdown",
   "id": "1bc455a9",
   "metadata": {},
   "source": [
    "The `extract_features_apps` function can also be customized. We can:\n",
    "- extract some of the features (not all)\n",
    "- modify the aggregation periods\n",
    "\n",
    "All of these modifications need to be inside the dictionary input. \n",
    "\n",
    "Let's see how to use this to only call some functions. To do so, we need to create a dictionary where the keys are the name of the features we want to compute, and the values are empty dictionaries."
   ]
  },
  {
   "cell_type": "code",
   "execution_count": 11,
   "id": "01e47293",
   "metadata": {},
   "outputs": [],
   "source": [
    "custom = {}\n",
    "custom[app.app_count] = {}"
   ]
  },
  {
   "cell_type": "code",
   "execution_count": 12,
   "id": "6eabd865",
   "metadata": {},
   "outputs": [
    {
     "name": "stdout",
     "output_type": "stream",
     "text": [
      "computing <function app_count at 0x2b0e6ef81040>...\n"
     ]
    },
    {
     "data": {
      "text/html": [
       "<div>\n",
       "<style scoped>\n",
       "    .dataframe tbody tr th:only-of-type {\n",
       "        vertical-align: middle;\n",
       "    }\n",
       "\n",
       "    .dataframe tbody tr th {\n",
       "        vertical-align: top;\n",
       "    }\n",
       "\n",
       "    .dataframe thead th {\n",
       "        text-align: right;\n",
       "    }\n",
       "</style>\n",
       "<table border=\"1\" class=\"dataframe\">\n",
       "  <thead>\n",
       "    <tr style=\"text-align: right;\">\n",
       "      <th></th>\n",
       "      <th></th>\n",
       "      <th></th>\n",
       "      <th>count</th>\n",
       "    </tr>\n",
       "    <tr>\n",
       "      <th>user</th>\n",
       "      <th>app_group</th>\n",
       "      <th>datetime</th>\n",
       "      <th></th>\n",
       "    </tr>\n",
       "  </thead>\n",
       "  <tbody>\n",
       "    <tr>\n",
       "      <th rowspan=\"4\" valign=\"top\">iGyXetHE3S8u</th>\n",
       "      <th>comm</th>\n",
       "      <th>2019-08-05 14:00:00+03:00</th>\n",
       "      <td>86</td>\n",
       "    </tr>\n",
       "    <tr>\n",
       "      <th>leisure</th>\n",
       "      <th>2019-08-05 14:00:00+03:00</th>\n",
       "      <td>20</td>\n",
       "    </tr>\n",
       "    <tr>\n",
       "      <th>na</th>\n",
       "      <th>2019-08-05 14:00:00+03:00</th>\n",
       "      <td>19</td>\n",
       "    </tr>\n",
       "    <tr>\n",
       "      <th>work</th>\n",
       "      <th>2019-08-05 14:00:00+03:00</th>\n",
       "      <td>7</td>\n",
       "    </tr>\n",
       "  </tbody>\n",
       "</table>\n",
       "</div>"
      ],
      "text/plain": [
       "                                                  count\n",
       "user         app_group datetime                        \n",
       "iGyXetHE3S8u comm      2019-08-05 14:00:00+03:00     86\n",
       "             leisure   2019-08-05 14:00:00+03:00     20\n",
       "             na        2019-08-05 14:00:00+03:00     19\n",
       "             work      2019-08-05 14:00:00+03:00      7"
      ]
     },
     "execution_count": 12,
     "metadata": {},
     "output_type": "execute_result"
    }
   ],
   "source": [
    "custom_output = app.extract_features_app(data, bat_data, screen_data, features=custom)\n",
    "custom_output.head()"
   ]
  },
  {
   "cell_type": "markdown",
   "id": "8073951b",
   "metadata": {},
   "source": [
    "Now, let's compute another set of features with different aggregation windows. For that, we rely on the arguments from the `pandas.DataFrame.resample` function. \n",
    "\n",
    "For this example, we will aggregate the features `app_count` and `app_duration`. The app count will be computed in a daily basis and the app duration will be computed in 5-minute periods."
   ]
  },
  {
   "cell_type": "code",
   "execution_count": 13,
   "id": "4547e822",
   "metadata": {},
   "outputs": [],
   "source": [
    "features = {app.app_count:{\"app_column_name\": \"application_name\",\"screen_column_name\":\"screen_status\",\"resample_args\":{\"rule\":\"1D\"}},\n",
    "            app.app_duration:{\"app_column_name\": \"application_name\",\"screen_column_name\":\"screen_status\",\"resample_args\":{\"rule\":\"5T\"}}}"
   ]
  },
  {
   "cell_type": "markdown",
   "id": "ffae6b76",
   "metadata": {},
   "source": [
    "As we see, we have an input dictionary in which the main keys are the names of the features to compute. For each feature, we also have a dictionary. This new dictionary has some other arguments, mainly the name of the column that we would like to use for the computation and another dictionary named `resample_args`. The `app_column_name` is the column name where the application names are stored; the `screen_column_name` is the column name where the screen status is stored; the `battery_column_name` is the column name where the battery status is stored. This helps in case our dataframe has some other naming conventions. The `resample_args` dictionary contains the arguments to pass for the resampling (see `pandas.DataFrame.resample`)."
   ]
  },
  {
   "cell_type": "code",
   "execution_count": 14,
   "id": "abccd711",
   "metadata": {},
   "outputs": [
    {
     "name": "stdout",
     "output_type": "stream",
     "text": [
      "computing <function app_count at 0x2b0e6ef81040>...\n",
      "computing <function app_duration at 0x2b0e6ef810d0>...\n"
     ]
    },
    {
     "data": {
      "text/html": [
       "<div>\n",
       "<style scoped>\n",
       "    .dataframe tbody tr th:only-of-type {\n",
       "        vertical-align: middle;\n",
       "    }\n",
       "\n",
       "    .dataframe tbody tr th {\n",
       "        vertical-align: top;\n",
       "    }\n",
       "\n",
       "    .dataframe thead th {\n",
       "        text-align: right;\n",
       "    }\n",
       "</style>\n",
       "<table border=\"1\" class=\"dataframe\">\n",
       "  <thead>\n",
       "    <tr style=\"text-align: right;\">\n",
       "      <th></th>\n",
       "      <th></th>\n",
       "      <th></th>\n",
       "      <th>count</th>\n",
       "      <th>duration</th>\n",
       "    </tr>\n",
       "    <tr>\n",
       "      <th>user</th>\n",
       "      <th>app_group</th>\n",
       "      <th>datetime</th>\n",
       "      <th></th>\n",
       "      <th></th>\n",
       "    </tr>\n",
       "  </thead>\n",
       "  <tbody>\n",
       "    <tr>\n",
       "      <th rowspan=\"8\" valign=\"top\">iGyXetHE3S8u</th>\n",
       "      <th>comm</th>\n",
       "      <th>2019-08-05 00:00:00+03:00</th>\n",
       "      <td>86.0</td>\n",
       "      <td>NaN</td>\n",
       "    </tr>\n",
       "    <tr>\n",
       "      <th>leisure</th>\n",
       "      <th>2019-08-05 00:00:00+03:00</th>\n",
       "      <td>20.0</td>\n",
       "      <td>NaN</td>\n",
       "    </tr>\n",
       "    <tr>\n",
       "      <th>na</th>\n",
       "      <th>2019-08-05 00:00:00+03:00</th>\n",
       "      <td>19.0</td>\n",
       "      <td>NaN</td>\n",
       "    </tr>\n",
       "    <tr>\n",
       "      <th>work</th>\n",
       "      <th>2019-08-05 00:00:00+03:00</th>\n",
       "      <td>7.0</td>\n",
       "      <td>NaN</td>\n",
       "    </tr>\n",
       "    <tr>\n",
       "      <th>comm</th>\n",
       "      <th>2019-08-05 14:00:00+03:00</th>\n",
       "      <td>NaN</td>\n",
       "      <td>37.0</td>\n",
       "    </tr>\n",
       "    <tr>\n",
       "      <th>leisure</th>\n",
       "      <th>2019-08-05 14:00:00+03:00</th>\n",
       "      <td>NaN</td>\n",
       "      <td>7.0</td>\n",
       "    </tr>\n",
       "    <tr>\n",
       "      <th>na</th>\n",
       "      <th>2019-08-05 14:00:00+03:00</th>\n",
       "      <td>NaN</td>\n",
       "      <td>9.0</td>\n",
       "    </tr>\n",
       "    <tr>\n",
       "      <th>work</th>\n",
       "      <th>2019-08-05 14:00:00+03:00</th>\n",
       "      <td>NaN</td>\n",
       "      <td>6.0</td>\n",
       "    </tr>\n",
       "  </tbody>\n",
       "</table>\n",
       "</div>"
      ],
      "text/plain": [
       "                                                  count  duration\n",
       "user         app_group datetime                                  \n",
       "iGyXetHE3S8u comm      2019-08-05 00:00:00+03:00   86.0       NaN\n",
       "             leisure   2019-08-05 00:00:00+03:00   20.0       NaN\n",
       "             na        2019-08-05 00:00:00+03:00   19.0       NaN\n",
       "             work      2019-08-05 00:00:00+03:00    7.0       NaN\n",
       "             comm      2019-08-05 14:00:00+03:00    NaN      37.0\n",
       "             leisure   2019-08-05 14:00:00+03:00    NaN       7.0\n",
       "             na        2019-08-05 14:00:00+03:00    NaN       9.0\n",
       "             work      2019-08-05 14:00:00+03:00    NaN       6.0"
      ]
     },
     "execution_count": 14,
     "metadata": {},
     "output_type": "execute_result"
    }
   ],
   "source": [
    "custom_output = app.extract_features_app(data, bat_data, screen_data, features=features)\n",
    "custom_output"
   ]
  },
  {
   "cell_type": "markdown",
   "id": "32010dc6",
   "metadata": {},
   "source": [
    "The output is once again a dataframe. In this case, two aggregations are shown. The first one is the daily aggregation computed for the `app_count` feature. The second one is the 5-min aggregation period `app_duration`. We must note that because the `app_duration`feature is not required to be aggregated daily, the daily aggregation timestamps have a NaN value. Similarly, because the `app_count`is not required to be aggregated in 5-minute windows, its values are NaN for all subjects. "
   ]
  },
  {
   "cell_type": "markdown",
   "id": "e62d444c",
   "metadata": {},
   "source": [
    "## Implementing own features"
   ]
  },
  {
   "cell_type": "markdown",
   "id": "acd576c7",
   "metadata": {},
   "source": [
    "We can implement our own customized features easily. To do so, we need to define a function that accepts a dataframe and returns a dataframe. The returned object should be indexed by user and timestamps. \n",
    "To make the feature readily available in the default options, we need add the *call* prefix to the new function (e.g. `app_my-new-feature`). "
   ]
  },
  {
   "cell_type": "code",
   "execution_count": 33,
   "id": "7929014b",
   "metadata": {},
   "outputs": [],
   "source": [
    "import numpy as np\n",
    "def app_max_duration(df, bat, screen, feature_functions=None):\n",
    "    if not \"group_map\" in feature_functions.keys():\n",
    "        feature_functions['group_map'] = app.MAP_APP\n",
    "    if not \"resample_args\" in feature_functions.keys():\n",
    "        feature_functions[\"resample_args\"] = {\"rule\":\"30T\"}\n",
    "        \n",
    "    df2 = app.classify_app(df, feature_functions)\n",
    "    df2['duration']=np.nan\n",
    "    df2['duration']=df2['datetime'].diff()\n",
    "    df2['duration'] = df2['duration'].shift(-1)\n",
    "    thr = pd.Timedelta('10 hours')\n",
    "    df2 = df2[~(df2.duration>thr)]\n",
    "    df2 = df2[~(df2.duration>thr)]\n",
    "    df2[\"duration\"] = df2[\"duration\"].dt.total_seconds()\n",
    "    \n",
    "    df2.dropna(inplace=True)\n",
    "    \n",
    "    if len(df2)>0:\n",
    "        df2['datetime'] = pd.to_datetime(df2['datetime'])\n",
    "        df2.set_index('datetime', inplace=True)\n",
    "        result = df2.groupby([\"user\",\"app_group\"])[\"duration\"].resample(**feature_functions[\"resample_args\"]).max()\n",
    "        \n",
    "    return result"
   ]
  },
  {
   "cell_type": "markdown",
   "id": "3bd34839",
   "metadata": {},
   "source": [
    "Then, we can call our new function using the `extract_features_app` function."
   ]
  },
  {
   "cell_type": "code",
   "execution_count": 34,
   "id": "a7ea70e4",
   "metadata": {},
   "outputs": [
    {
     "name": "stdout",
     "output_type": "stream",
     "text": [
      "computing <function app_max_duration at 0x2b0e6fe1f790>...\n"
     ]
    }
   ],
   "source": [
    "customized_features = app.extract_features_app(data, bat_data, screen_data, features={app_max_duration: {}})"
   ]
  },
  {
   "cell_type": "code",
   "execution_count": 35,
   "id": "bf063921",
   "metadata": {},
   "outputs": [
    {
     "data": {
      "text/html": [
       "<div>\n",
       "<style scoped>\n",
       "    .dataframe tbody tr th:only-of-type {\n",
       "        vertical-align: middle;\n",
       "    }\n",
       "\n",
       "    .dataframe tbody tr th {\n",
       "        vertical-align: top;\n",
       "    }\n",
       "\n",
       "    .dataframe thead th {\n",
       "        text-align: right;\n",
       "    }\n",
       "</style>\n",
       "<table border=\"1\" class=\"dataframe\">\n",
       "  <thead>\n",
       "    <tr style=\"text-align: right;\">\n",
       "      <th></th>\n",
       "      <th></th>\n",
       "      <th></th>\n",
       "      <th>duration</th>\n",
       "    </tr>\n",
       "    <tr>\n",
       "      <th>user</th>\n",
       "      <th>app_group</th>\n",
       "      <th>datetime</th>\n",
       "      <th></th>\n",
       "    </tr>\n",
       "  </thead>\n",
       "  <tbody>\n",
       "    <tr>\n",
       "      <th rowspan=\"4\" valign=\"top\">iGyXetHE3S8u</th>\n",
       "      <th>comm</th>\n",
       "      <th>2019-08-05 14:00:00+03:00</th>\n",
       "      <td>59.0</td>\n",
       "    </tr>\n",
       "    <tr>\n",
       "      <th>leisure</th>\n",
       "      <th>2019-08-05 14:00:00+03:00</th>\n",
       "      <td>36.0</td>\n",
       "    </tr>\n",
       "    <tr>\n",
       "      <th>na</th>\n",
       "      <th>2019-08-05 14:00:00+03:00</th>\n",
       "      <td>53.0</td>\n",
       "    </tr>\n",
       "    <tr>\n",
       "      <th>work</th>\n",
       "      <th>2019-08-05 14:00:00+03:00</th>\n",
       "      <td>19.0</td>\n",
       "    </tr>\n",
       "  </tbody>\n",
       "</table>\n",
       "</div>"
      ],
      "text/plain": [
       "                                                  duration\n",
       "user         app_group datetime                           \n",
       "iGyXetHE3S8u comm      2019-08-05 14:00:00+03:00      59.0\n",
       "             leisure   2019-08-05 14:00:00+03:00      36.0\n",
       "             na        2019-08-05 14:00:00+03:00      53.0\n",
       "             work      2019-08-05 14:00:00+03:00      19.0"
      ]
     },
     "execution_count": 35,
     "metadata": {},
     "output_type": "execute_result"
    }
   ],
   "source": [
    "customized_features.head()"
   ]
  },
  {
   "cell_type": "code",
   "execution_count": null,
   "id": "e3a654ec",
   "metadata": {},
   "outputs": [],
   "source": []
  }
 ],
 "metadata": {
  "kernelspec": {
   "display_name": "Python 3 (ipykernel)",
   "language": "python",
   "name": "python3"
  },
  "language_info": {
   "codemirror_mode": {
    "name": "ipython",
    "version": 3
   },
   "file_extension": ".py",
   "mimetype": "text/x-python",
   "name": "python",
   "nbconvert_exporter": "python",
   "pygments_lexer": "ipython3",
   "version": "3.8.13"
  }
 },
 "nbformat": 4,
 "nbformat_minor": 5
}
