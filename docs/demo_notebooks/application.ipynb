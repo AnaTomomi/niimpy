{
 "cells": [
  {
   "cell_type": "markdown",
   "metadata": {},
   "source": [
    "# Demo notebook for analyzing application data"
   ]
  },
  {
   "cell_type": "markdown",
   "metadata": {},
   "source": [
    "## Introduction\n",
    "\n",
    "Application data refers to the information about which apps are open at a certain time. These data can reveal important information about people's circadian rhythm, social patterns, and activity. Application data is an event data; this means it cannot be sampled at a regular frequency, intead, we just have information about the events that occured. There are two main issues with application data (1) missing data detection, and (2) privacy concerns. \n",
    "\n",
    "Regarding missing data detection, we may never know if all events were detected and reported. Unfortunately there is little we can do. Nevertheless, we can take into account some factors that may interfere with the correct detection of all events (e.g. when the phone's battery is depleated). Therefore, to correctly process application data, we need to consider other information like the battery status of the phone. \n",
    "Regarding the privacy concerns, application names can reveal too much about a subject, for example, an uncommon app use may help identify a subject. Consequently, we try anonimizing the data by grouping the apps. \n",
    "\n",
    "To address both of these issues, `niimpy` includes the function `extract_features_app` to clean, downsample, and extract features from application data while taking into account factors like the battery level and naming groups. In addition, `niimpy` provides a map with some of the common apps for pseudo-anonymization. This function employs other functions to extract the following features:\n",
    "\n",
    "- `app_count`: number of times an app group has been used \n",
    "- `app_duration`: how long an app group has been used\n",
    "\n",
    "The app module has one internal function that help classify the apps into groups. \n",
    "\n",
    "In the following, we will analyze screen data provided by `niimpy` as an example to illustrate the use of application data."
   ]
  },
  {
   "cell_type": "markdown",
   "metadata": {},
   "source": [
    "## Read data"
   ]
  },
  {
   "cell_type": "code",
   "execution_count": 1,
   "metadata": {},
   "outputs": [],
   "source": [
    "import niimpy\n",
    "import niimpy.preprocessing.application as app\n",
    "import warnings\n",
    "import pandas as pd\n",
    "warnings.filterwarnings(\"ignore\")"
   ]
  },
  {
   "cell_type": "code",
   "execution_count": 2,
   "metadata": {},
   "outputs": [
    {
     "data": {
      "text/plain": [
       "(132, 6)"
      ]
     },
     "execution_count": 2,
     "metadata": {},
     "output_type": "execute_result"
    }
   ],
   "source": [
    "data = niimpy.read_csv('/m/cs/scratch/networks/trianaa1/Paper3/niimpy/niimpy/sampledata/singleuser_AwareApplicationNotifications.csv', tz='Europe/Helsinki')\n",
    "data.shape"
   ]
  },
  {
   "cell_type": "markdown",
   "metadata": {},
   "source": [
    "There are 132 datapoints with 6 columns in the dataset. Let us have a quick look at the data:"
   ]
  },
  {
   "cell_type": "code",
   "execution_count": 3,
   "metadata": {},
   "outputs": [
    {
     "data": {
      "text/html": [
       "<div>\n",
       "<style scoped>\n",
       "    .dataframe tbody tr th:only-of-type {\n",
       "        vertical-align: middle;\n",
       "    }\n",
       "\n",
       "    .dataframe tbody tr th {\n",
       "        vertical-align: top;\n",
       "    }\n",
       "\n",
       "    .dataframe thead th {\n",
       "        text-align: right;\n",
       "    }\n",
       "</style>\n",
       "<table border=\"1\" class=\"dataframe\">\n",
       "  <thead>\n",
       "    <tr style=\"text-align: right;\">\n",
       "      <th></th>\n",
       "      <th>user</th>\n",
       "      <th>device</th>\n",
       "      <th>time</th>\n",
       "      <th>application_name</th>\n",
       "      <th>package_name</th>\n",
       "      <th>datetime</th>\n",
       "    </tr>\n",
       "  </thead>\n",
       "  <tbody>\n",
       "    <tr>\n",
       "      <th>2019-08-05 14:02:51.009999872+03:00</th>\n",
       "      <td>iGyXetHE3S8u</td>\n",
       "      <td>Cq9vueHh3zVs</td>\n",
       "      <td>1.565003e+09</td>\n",
       "      <td>Android System</td>\n",
       "      <td>android</td>\n",
       "      <td>2019-08-05 14:02:51.009999872+03:00</td>\n",
       "    </tr>\n",
       "    <tr>\n",
       "      <th>2019-08-05 14:02:58.009999872+03:00</th>\n",
       "      <td>iGyXetHE3S8u</td>\n",
       "      <td>Cq9vueHh3zVs</td>\n",
       "      <td>1.565003e+09</td>\n",
       "      <td>Android System</td>\n",
       "      <td>android</td>\n",
       "      <td>2019-08-05 14:02:58.009999872+03:00</td>\n",
       "    </tr>\n",
       "    <tr>\n",
       "      <th>2019-08-05 14:03:17.009999872+03:00</th>\n",
       "      <td>iGyXetHE3S8u</td>\n",
       "      <td>Cq9vueHh3zVs</td>\n",
       "      <td>1.565003e+09</td>\n",
       "      <td>Google Play Music</td>\n",
       "      <td>com.google.android.music</td>\n",
       "      <td>2019-08-05 14:03:17.009999872+03:00</td>\n",
       "    </tr>\n",
       "    <tr>\n",
       "      <th>2019-08-05 14:02:55.009999872+03:00</th>\n",
       "      <td>iGyXetHE3S8u</td>\n",
       "      <td>Cq9vueHh3zVs</td>\n",
       "      <td>1.565003e+09</td>\n",
       "      <td>Google Play Music</td>\n",
       "      <td>com.google.android.music</td>\n",
       "      <td>2019-08-05 14:02:55.009999872+03:00</td>\n",
       "    </tr>\n",
       "    <tr>\n",
       "      <th>2019-08-05 14:03:31.009999872+03:00</th>\n",
       "      <td>iGyXetHE3S8u</td>\n",
       "      <td>Cq9vueHh3zVs</td>\n",
       "      <td>1.565003e+09</td>\n",
       "      <td>Gmail</td>\n",
       "      <td>com.google.android.gm</td>\n",
       "      <td>2019-08-05 14:03:31.009999872+03:00</td>\n",
       "    </tr>\n",
       "  </tbody>\n",
       "</table>\n",
       "</div>"
      ],
      "text/plain": [
       "                                             user        device          time  \\\n",
       "2019-08-05 14:02:51.009999872+03:00  iGyXetHE3S8u  Cq9vueHh3zVs  1.565003e+09   \n",
       "2019-08-05 14:02:58.009999872+03:00  iGyXetHE3S8u  Cq9vueHh3zVs  1.565003e+09   \n",
       "2019-08-05 14:03:17.009999872+03:00  iGyXetHE3S8u  Cq9vueHh3zVs  1.565003e+09   \n",
       "2019-08-05 14:02:55.009999872+03:00  iGyXetHE3S8u  Cq9vueHh3zVs  1.565003e+09   \n",
       "2019-08-05 14:03:31.009999872+03:00  iGyXetHE3S8u  Cq9vueHh3zVs  1.565003e+09   \n",
       "\n",
       "                                      application_name  \\\n",
       "2019-08-05 14:02:51.009999872+03:00     Android System   \n",
       "2019-08-05 14:02:58.009999872+03:00     Android System   \n",
       "2019-08-05 14:03:17.009999872+03:00  Google Play Music   \n",
       "2019-08-05 14:02:55.009999872+03:00  Google Play Music   \n",
       "2019-08-05 14:03:31.009999872+03:00              Gmail   \n",
       "\n",
       "                                                 package_name  \\\n",
       "2019-08-05 14:02:51.009999872+03:00                   android   \n",
       "2019-08-05 14:02:58.009999872+03:00                   android   \n",
       "2019-08-05 14:03:17.009999872+03:00  com.google.android.music   \n",
       "2019-08-05 14:02:55.009999872+03:00  com.google.android.music   \n",
       "2019-08-05 14:03:31.009999872+03:00     com.google.android.gm   \n",
       "\n",
       "                                                               datetime  \n",
       "2019-08-05 14:02:51.009999872+03:00 2019-08-05 14:02:51.009999872+03:00  \n",
       "2019-08-05 14:02:58.009999872+03:00 2019-08-05 14:02:58.009999872+03:00  \n",
       "2019-08-05 14:03:17.009999872+03:00 2019-08-05 14:03:17.009999872+03:00  \n",
       "2019-08-05 14:02:55.009999872+03:00 2019-08-05 14:02:55.009999872+03:00  \n",
       "2019-08-05 14:03:31.009999872+03:00 2019-08-05 14:03:31.009999872+03:00  "
      ]
     },
     "execution_count": 3,
     "metadata": {},
     "output_type": "execute_result"
    }
   ],
   "source": [
    "data.head()"
   ]
  },
  {
   "cell_type": "markdown",
   "metadata": {},
   "source": [
    "The dataframe seems to be complete. Its index is timestamps, and it has a column tracking the name of the application that was prompted (*application_name*). \n",
    "\n",
    "#### A few words on missing data\n",
    "Missing data for application is difficult to detect. Firstly, this sensor is triggered by events (i.e. not sampled at a fixed frequency). Secondly, different phones, OS, and settings change the ease to detect apps. Thirdly, events not related to the application sensor may affect its behavior, e.g. battery running out. Unfortunately, we can only correct missing data for events such as the screen turning off by using data from the screen sensor and the battery level. These can be taken into account in `niimpy` if we provide the screen and battery data. \n",
    "\n",
    "#### A few words on grouping the apps\n",
    "As previously mentioned, the application name may reveal too much about a subject and privacy problems may arise. A possible solution to this problem is to classify the apps into more generic groups. For example, commonly used apps like WhatsApp, Signal, Telegram, etc. are commonly used for texting, so we can group them under the label *texting*. `niimpy` provides a default map, but this should be adapted to the characteristics of the sample, since apps are available depending on countries and populations. "
   ]
  },
  {
   "cell_type": "markdown",
   "metadata": {},
   "source": [
    "#### A few words on the role of the battery and screen\n",
    "As mentioned before, sometimes the screen may be OFF and these events will not be caught by the application data sensor. For example, we can open an app and let it open until the phone screen turns off automatically. Another example is when the battery is depleated and the phone is shut down automatically. Having this information is crucial for correctly computing how long a subject used each app group. `niimpy`'s screen module is adapted to take into account both, the screen and battery data. \n",
    "For this example, we have both, so let's load the screen and battery data."
   ]
  },
  {
   "cell_type": "code",
   "execution_count": 4,
   "metadata": {},
   "outputs": [],
   "source": [
    "bat_data = niimpy.read_csv('/m/cs/scratch/networks/trianaa1/Paper3/niimpy/niimpy/sampledata/multiuser_AwareBattery.csv', tz='Europe/Helsinki')\n",
    "screen_data = niimpy.read_csv('/m/cs/scratch/networks/trianaa1/Paper3/niimpy/niimpy/sampledata/multiuser_AwareScreen.csv', tz='Europe/Helsinki')"
   ]
  },
  {
   "cell_type": "code",
   "execution_count": 5,
   "metadata": {},
   "outputs": [
    {
     "data": {
      "text/html": [
       "<div>\n",
       "<style scoped>\n",
       "    .dataframe tbody tr th:only-of-type {\n",
       "        vertical-align: middle;\n",
       "    }\n",
       "\n",
       "    .dataframe tbody tr th {\n",
       "        vertical-align: top;\n",
       "    }\n",
       "\n",
       "    .dataframe thead th {\n",
       "        text-align: right;\n",
       "    }\n",
       "</style>\n",
       "<table border=\"1\" class=\"dataframe\">\n",
       "  <thead>\n",
       "    <tr style=\"text-align: right;\">\n",
       "      <th></th>\n",
       "      <th>user</th>\n",
       "      <th>device</th>\n",
       "      <th>time</th>\n",
       "      <th>battery_level</th>\n",
       "      <th>battery_status</th>\n",
       "      <th>battery_health</th>\n",
       "      <th>battery_adaptor</th>\n",
       "      <th>datetime</th>\n",
       "    </tr>\n",
       "  </thead>\n",
       "  <tbody>\n",
       "    <tr>\n",
       "      <th>2020-01-09 02:20:02.924999936+02:00</th>\n",
       "      <td>jd9INuQ5BBlW</td>\n",
       "      <td>3p83yASkOb_B</td>\n",
       "      <td>1.578529e+09</td>\n",
       "      <td>74</td>\n",
       "      <td>3</td>\n",
       "      <td>2</td>\n",
       "      <td>0</td>\n",
       "      <td>2020-01-09 02:20:02.924999936+02:00</td>\n",
       "    </tr>\n",
       "    <tr>\n",
       "      <th>2020-01-09 02:21:30.405999872+02:00</th>\n",
       "      <td>jd9INuQ5BBlW</td>\n",
       "      <td>3p83yASkOb_B</td>\n",
       "      <td>1.578529e+09</td>\n",
       "      <td>73</td>\n",
       "      <td>3</td>\n",
       "      <td>2</td>\n",
       "      <td>0</td>\n",
       "      <td>2020-01-09 02:21:30.405999872+02:00</td>\n",
       "    </tr>\n",
       "    <tr>\n",
       "      <th>2020-01-09 02:24:12.805999872+02:00</th>\n",
       "      <td>jd9INuQ5BBlW</td>\n",
       "      <td>3p83yASkOb_B</td>\n",
       "      <td>1.578529e+09</td>\n",
       "      <td>72</td>\n",
       "      <td>3</td>\n",
       "      <td>2</td>\n",
       "      <td>0</td>\n",
       "      <td>2020-01-09 02:24:12.805999872+02:00</td>\n",
       "    </tr>\n",
       "    <tr>\n",
       "      <th>2020-01-09 02:35:38.561000192+02:00</th>\n",
       "      <td>jd9INuQ5BBlW</td>\n",
       "      <td>3p83yASkOb_B</td>\n",
       "      <td>1.578530e+09</td>\n",
       "      <td>72</td>\n",
       "      <td>2</td>\n",
       "      <td>2</td>\n",
       "      <td>0</td>\n",
       "      <td>2020-01-09 02:35:38.561000192+02:00</td>\n",
       "    </tr>\n",
       "    <tr>\n",
       "      <th>2020-01-09 02:35:38.953000192+02:00</th>\n",
       "      <td>jd9INuQ5BBlW</td>\n",
       "      <td>3p83yASkOb_B</td>\n",
       "      <td>1.578530e+09</td>\n",
       "      <td>72</td>\n",
       "      <td>2</td>\n",
       "      <td>2</td>\n",
       "      <td>2</td>\n",
       "      <td>2020-01-09 02:35:38.953000192+02:00</td>\n",
       "    </tr>\n",
       "  </tbody>\n",
       "</table>\n",
       "</div>"
      ],
      "text/plain": [
       "                                             user        device          time  \\\n",
       "2020-01-09 02:20:02.924999936+02:00  jd9INuQ5BBlW  3p83yASkOb_B  1.578529e+09   \n",
       "2020-01-09 02:21:30.405999872+02:00  jd9INuQ5BBlW  3p83yASkOb_B  1.578529e+09   \n",
       "2020-01-09 02:24:12.805999872+02:00  jd9INuQ5BBlW  3p83yASkOb_B  1.578529e+09   \n",
       "2020-01-09 02:35:38.561000192+02:00  jd9INuQ5BBlW  3p83yASkOb_B  1.578530e+09   \n",
       "2020-01-09 02:35:38.953000192+02:00  jd9INuQ5BBlW  3p83yASkOb_B  1.578530e+09   \n",
       "\n",
       "                                     battery_level  battery_status  \\\n",
       "2020-01-09 02:20:02.924999936+02:00             74               3   \n",
       "2020-01-09 02:21:30.405999872+02:00             73               3   \n",
       "2020-01-09 02:24:12.805999872+02:00             72               3   \n",
       "2020-01-09 02:35:38.561000192+02:00             72               2   \n",
       "2020-01-09 02:35:38.953000192+02:00             72               2   \n",
       "\n",
       "                                     battery_health  battery_adaptor  \\\n",
       "2020-01-09 02:20:02.924999936+02:00               2                0   \n",
       "2020-01-09 02:21:30.405999872+02:00               2                0   \n",
       "2020-01-09 02:24:12.805999872+02:00               2                0   \n",
       "2020-01-09 02:35:38.561000192+02:00               2                0   \n",
       "2020-01-09 02:35:38.953000192+02:00               2                2   \n",
       "\n",
       "                                                               datetime  \n",
       "2020-01-09 02:20:02.924999936+02:00 2020-01-09 02:20:02.924999936+02:00  \n",
       "2020-01-09 02:21:30.405999872+02:00 2020-01-09 02:21:30.405999872+02:00  \n",
       "2020-01-09 02:24:12.805999872+02:00 2020-01-09 02:24:12.805999872+02:00  \n",
       "2020-01-09 02:35:38.561000192+02:00 2020-01-09 02:35:38.561000192+02:00  \n",
       "2020-01-09 02:35:38.953000192+02:00 2020-01-09 02:35:38.953000192+02:00  "
      ]
     },
     "execution_count": 5,
     "metadata": {},
     "output_type": "execute_result"
    }
   ],
   "source": [
    "bat_data.head()"
   ]
  },
  {
   "cell_type": "markdown",
   "metadata": {},
   "source": [
    "The dataframe looks fine. In this case, we are interested in the battery_status information. This is standard information provided by Android. However, if the dataframe stores this information in a column with a different name, we can use the argument `battery_column_name` and input our custom battery column name (see Extracting features, customized features). "
   ]
  },
  {
   "cell_type": "code",
   "execution_count": 6,
   "metadata": {},
   "outputs": [
    {
     "data": {
      "text/html": [
       "<div>\n",
       "<style scoped>\n",
       "    .dataframe tbody tr th:only-of-type {\n",
       "        vertical-align: middle;\n",
       "    }\n",
       "\n",
       "    .dataframe tbody tr th {\n",
       "        vertical-align: top;\n",
       "    }\n",
       "\n",
       "    .dataframe thead th {\n",
       "        text-align: right;\n",
       "    }\n",
       "</style>\n",
       "<table border=\"1\" class=\"dataframe\">\n",
       "  <thead>\n",
       "    <tr style=\"text-align: right;\">\n",
       "      <th></th>\n",
       "      <th>user</th>\n",
       "      <th>device</th>\n",
       "      <th>time</th>\n",
       "      <th>screen_status</th>\n",
       "      <th>datetime</th>\n",
       "    </tr>\n",
       "  </thead>\n",
       "  <tbody>\n",
       "    <tr>\n",
       "      <th>2020-01-09 02:06:41.573999872+02:00</th>\n",
       "      <td>jd9INuQ5BBlW</td>\n",
       "      <td>OWd1Uau8POix</td>\n",
       "      <td>1.578528e+09</td>\n",
       "      <td>0</td>\n",
       "      <td>2020-01-09 02:06:41.573999872+02:00</td>\n",
       "    </tr>\n",
       "    <tr>\n",
       "      <th>2020-01-09 02:09:29.152000+02:00</th>\n",
       "      <td>jd9INuQ5BBlW</td>\n",
       "      <td>OWd1Uau8POix</td>\n",
       "      <td>1.578529e+09</td>\n",
       "      <td>1</td>\n",
       "      <td>2020-01-09 02:09:29.152000+02:00</td>\n",
       "    </tr>\n",
       "    <tr>\n",
       "      <th>2020-01-09 02:09:32.790999808+02:00</th>\n",
       "      <td>jd9INuQ5BBlW</td>\n",
       "      <td>OWd1Uau8POix</td>\n",
       "      <td>1.578529e+09</td>\n",
       "      <td>3</td>\n",
       "      <td>2020-01-09 02:09:32.790999808+02:00</td>\n",
       "    </tr>\n",
       "    <tr>\n",
       "      <th>2020-01-09 02:11:41.996000+02:00</th>\n",
       "      <td>jd9INuQ5BBlW</td>\n",
       "      <td>OWd1Uau8POix</td>\n",
       "      <td>1.578529e+09</td>\n",
       "      <td>0</td>\n",
       "      <td>2020-01-09 02:11:41.996000+02:00</td>\n",
       "    </tr>\n",
       "    <tr>\n",
       "      <th>2020-01-09 02:16:19.010999808+02:00</th>\n",
       "      <td>jd9INuQ5BBlW</td>\n",
       "      <td>OWd1Uau8POix</td>\n",
       "      <td>1.578529e+09</td>\n",
       "      <td>1</td>\n",
       "      <td>2020-01-09 02:16:19.010999808+02:00</td>\n",
       "    </tr>\n",
       "  </tbody>\n",
       "</table>\n",
       "</div>"
      ],
      "text/plain": [
       "                                             user        device          time  \\\n",
       "2020-01-09 02:06:41.573999872+02:00  jd9INuQ5BBlW  OWd1Uau8POix  1.578528e+09   \n",
       "2020-01-09 02:09:29.152000+02:00     jd9INuQ5BBlW  OWd1Uau8POix  1.578529e+09   \n",
       "2020-01-09 02:09:32.790999808+02:00  jd9INuQ5BBlW  OWd1Uau8POix  1.578529e+09   \n",
       "2020-01-09 02:11:41.996000+02:00     jd9INuQ5BBlW  OWd1Uau8POix  1.578529e+09   \n",
       "2020-01-09 02:16:19.010999808+02:00  jd9INuQ5BBlW  OWd1Uau8POix  1.578529e+09   \n",
       "\n",
       "                                     screen_status  \\\n",
       "2020-01-09 02:06:41.573999872+02:00              0   \n",
       "2020-01-09 02:09:29.152000+02:00                 1   \n",
       "2020-01-09 02:09:32.790999808+02:00              3   \n",
       "2020-01-09 02:11:41.996000+02:00                 0   \n",
       "2020-01-09 02:16:19.010999808+02:00              1   \n",
       "\n",
       "                                                               datetime  \n",
       "2020-01-09 02:06:41.573999872+02:00 2020-01-09 02:06:41.573999872+02:00  \n",
       "2020-01-09 02:09:29.152000+02:00       2020-01-09 02:09:29.152000+02:00  \n",
       "2020-01-09 02:09:32.790999808+02:00 2020-01-09 02:09:32.790999808+02:00  \n",
       "2020-01-09 02:11:41.996000+02:00       2020-01-09 02:11:41.996000+02:00  \n",
       "2020-01-09 02:16:19.010999808+02:00 2020-01-09 02:16:19.010999808+02:00  "
      ]
     },
     "execution_count": 6,
     "metadata": {},
     "output_type": "execute_result"
    }
   ],
   "source": [
    "screen_data.head()"
   ]
  },
  {
   "cell_type": "markdown",
   "metadata": {},
   "source": [
    "This dataframe looks fine too. In this case, we are interested in the screen_status information. However, if the dataframe has this information in a column with a different name, we can use the argument `screen_column_name` and input our custom screen column name (see Extracting features, customized features). "
   ]
  },
  {
   "cell_type": "markdown",
   "metadata": {},
   "source": [
    "## Extracting features"
   ]
  },
  {
   "cell_type": "markdown",
   "metadata": {},
   "source": [
    "To extract app features, we need to employ the function `extract_features_app`. This function needs four inputs, a dataframe with the data, two dataframes with the information from screen and battery sensors, and a dictionary. The dataframe should contain the app observations, and the dictionary is used to input customizable arguments to the function. The battery and screen dataframes can be empty in case we do not have such information. The function has some parameters by default. Let's have a look at those first. "
   ]
  },
  {
   "cell_type": "markdown",
   "metadata": {},
   "source": [
    "### Default option"
   ]
  },
  {
   "cell_type": "markdown",
   "metadata": {},
   "source": [
    "The default option will compute all features in 30-minute aggregation windows. To use the `extract_features_app` function with its default options, simply call the function. Remember to include battery and screen data when available. "
   ]
  },
  {
   "cell_type": "code",
   "execution_count": 7,
   "metadata": {},
   "outputs": [
    {
     "name": "stdout",
     "output_type": "stream",
     "text": [
      "computing app_count...\n",
      "computing app_duration...\n"
     ]
    }
   ],
   "source": [
    "default = app.extract_features_app(data, bat_data, screen_data, features=None)"
   ]
  },
  {
   "cell_type": "markdown",
   "metadata": {},
   "source": [
    "The function prints the computed features so you can track its process. Now, let's have a look at the outputs"
   ]
  },
  {
   "cell_type": "code",
   "execution_count": 10,
   "metadata": {},
   "outputs": [
    {
     "data": {
      "text/html": [
       "<div>\n",
       "<style scoped>\n",
       "    .dataframe tbody tr th:only-of-type {\n",
       "        vertical-align: middle;\n",
       "    }\n",
       "\n",
       "    .dataframe tbody tr th {\n",
       "        vertical-align: top;\n",
       "    }\n",
       "\n",
       "    .dataframe thead th {\n",
       "        text-align: right;\n",
       "    }\n",
       "</style>\n",
       "<table border=\"1\" class=\"dataframe\">\n",
       "  <thead>\n",
       "    <tr style=\"text-align: right;\">\n",
       "      <th></th>\n",
       "      <th></th>\n",
       "      <th></th>\n",
       "      <th>count</th>\n",
       "      <th>duration</th>\n",
       "    </tr>\n",
       "    <tr>\n",
       "      <th>user</th>\n",
       "      <th>app_group</th>\n",
       "      <th>datetime</th>\n",
       "      <th></th>\n",
       "      <th></th>\n",
       "    </tr>\n",
       "  </thead>\n",
       "  <tbody>\n",
       "    <tr>\n",
       "      <th rowspan=\"4\" valign=\"top\">iGyXetHE3S8u</th>\n",
       "      <th>comm</th>\n",
       "      <th>2019-08-05 14:00:00+03:00</th>\n",
       "      <td>86</td>\n",
       "      <td>37.0</td>\n",
       "    </tr>\n",
       "    <tr>\n",
       "      <th>leisure</th>\n",
       "      <th>2019-08-05 14:00:00+03:00</th>\n",
       "      <td>20</td>\n",
       "      <td>7.0</td>\n",
       "    </tr>\n",
       "    <tr>\n",
       "      <th>na</th>\n",
       "      <th>2019-08-05 14:00:00+03:00</th>\n",
       "      <td>19</td>\n",
       "      <td>9.0</td>\n",
       "    </tr>\n",
       "    <tr>\n",
       "      <th>work</th>\n",
       "      <th>2019-08-05 14:00:00+03:00</th>\n",
       "      <td>7</td>\n",
       "      <td>6.0</td>\n",
       "    </tr>\n",
       "  </tbody>\n",
       "</table>\n",
       "</div>"
      ],
      "text/plain": [
       "                                                  count  duration\n",
       "user         app_group datetime                                  \n",
       "iGyXetHE3S8u comm      2019-08-05 14:00:00+03:00     86      37.0\n",
       "             leisure   2019-08-05 14:00:00+03:00     20       7.0\n",
       "             na        2019-08-05 14:00:00+03:00     19       9.0\n",
       "             work      2019-08-05 14:00:00+03:00      7       6.0"
      ]
     },
     "execution_count": 10,
     "metadata": {},
     "output_type": "execute_result"
    }
   ],
   "source": [
    "default.head()"
   ]
  },
  {
   "cell_type": "markdown",
   "metadata": {},
   "source": [
    "The function output is also a dataframe where each column stands for a feature. The indexes are subjects, app groups, and timestamps. \n",
    "\n",
    "The default option can also be run in absence of battery or screen data. In this case, simply input an empty dataframe in the second or third position of the `extract_features_app` function."
   ]
  },
  {
   "cell_type": "code",
   "execution_count": 11,
   "metadata": {},
   "outputs": [
    {
     "name": "stdout",
     "output_type": "stream",
     "text": [
      "computing app_count...\n",
      "computing app_duration...\n",
      "computing app_count...\n"
     ]
    },
    {
     "ename": "TypeError",
     "evalue": "shutdown_info() missing 1 required positional argument: 'feature_functions'",
     "output_type": "error",
     "traceback": [
      "\u001b[0;31m---------------------------------------------------------------------------\u001b[0m",
      "\u001b[0;31mTypeError\u001b[0m                                 Traceback (most recent call last)",
      "Input \u001b[0;32mIn [11]\u001b[0m, in \u001b[0;36m<cell line: 4>\u001b[0;34m()\u001b[0m\n\u001b[1;32m      2\u001b[0m empty_screen \u001b[38;5;241m=\u001b[39m pd\u001b[38;5;241m.\u001b[39mDataFrame()\n\u001b[1;32m      3\u001b[0m no_bat \u001b[38;5;241m=\u001b[39m app\u001b[38;5;241m.\u001b[39mextract_features_app(data, empty_bat, screen_data, features\u001b[38;5;241m=\u001b[39m\u001b[38;5;28;01mNone\u001b[39;00m) \u001b[38;5;66;03m#no battery information\u001b[39;00m\n\u001b[0;32m----> 4\u001b[0m no_screen \u001b[38;5;241m=\u001b[39m \u001b[43mapp\u001b[49m\u001b[38;5;241;43m.\u001b[39;49m\u001b[43mextract_features_app\u001b[49m\u001b[43m(\u001b[49m\u001b[43mdata\u001b[49m\u001b[43m,\u001b[49m\u001b[43m \u001b[49m\u001b[43mbat_data\u001b[49m\u001b[43m,\u001b[49m\u001b[43m \u001b[49m\u001b[43mempty_screen\u001b[49m\u001b[43m,\u001b[49m\u001b[43m \u001b[49m\u001b[43mfeatures\u001b[49m\u001b[38;5;241;43m=\u001b[39;49m\u001b[38;5;28;43;01mNone\u001b[39;49;00m\u001b[43m)\u001b[49m \u001b[38;5;66;03m#no screen information\u001b[39;00m\n\u001b[1;32m      5\u001b[0m no_bat_no_screen \u001b[38;5;241m=\u001b[39m app\u001b[38;5;241m.\u001b[39mextract_features_app(data, empty_bat, empty_screen, features\u001b[38;5;241m=\u001b[39m\u001b[38;5;28;01mNone\u001b[39;00m)\n",
      "File \u001b[0;32m/m/cs/scratch/networks/trianaa1/Paper3/niimpy-env/lib/python3.8/site-packages/niimpy/preprocessing/application.py:289\u001b[0m, in \u001b[0;36mextract_features_app\u001b[0;34m(df, bat, screen, features)\u001b[0m\n\u001b[1;32m    287\u001b[0m     \u001b[38;5;28mprint\u001b[39m(\u001b[38;5;124mf\u001b[39m\u001b[38;5;124m'\u001b[39m\u001b[38;5;124mcomputing \u001b[39m\u001b[38;5;132;01m{\u001b[39;00mfeature\u001b[38;5;132;01m}\u001b[39;00m\u001b[38;5;124m...\u001b[39m\u001b[38;5;124m'\u001b[39m)\n\u001b[1;32m    288\u001b[0m     command \u001b[38;5;241m=\u001b[39m \u001b[38;5;124mf\u001b[39m\u001b[38;5;124m'\u001b[39m\u001b[38;5;132;01m{\u001b[39;00mfeature\u001b[38;5;132;01m}\u001b[39;00m\u001b[38;5;124m(df, bat, screen, feature_functions=feature_arg)\u001b[39m\u001b[38;5;124m'\u001b[39m\n\u001b[0;32m--> 289\u001b[0m     computed_feature \u001b[38;5;241m=\u001b[39m \u001b[38;5;28;43meval\u001b[39;49m\u001b[43m(\u001b[49m\u001b[43mcommand\u001b[49m\u001b[43m)\u001b[49m\n\u001b[1;32m    290\u001b[0m     computed_features\u001b[38;5;241m.\u001b[39mappend(computed_feature)\n\u001b[1;32m    292\u001b[0m computed_features \u001b[38;5;241m=\u001b[39m pd\u001b[38;5;241m.\u001b[39mconcat(computed_features, axis\u001b[38;5;241m=\u001b[39m\u001b[38;5;241m1\u001b[39m)\n",
      "File \u001b[0;32m<string>:1\u001b[0m, in \u001b[0;36m<module>\u001b[0;34m\u001b[0m\n",
      "File \u001b[0;32m/m/cs/scratch/networks/trianaa1/Paper3/niimpy-env/lib/python3.8/site-packages/niimpy/preprocessing/application.py:356\u001b[0m, in \u001b[0;36mapp_count\u001b[0;34m(df, bat, screen, feature_functions)\u001b[0m\n\u001b[1;32m    353\u001b[0m     df2 \u001b[38;5;241m=\u001b[39m df2[[\u001b[38;5;124m'\u001b[39m\u001b[38;5;124muser\u001b[39m\u001b[38;5;124m'\u001b[39m, \u001b[38;5;124m'\u001b[39m\u001b[38;5;124mdevice\u001b[39m\u001b[38;5;124m'\u001b[39m, \u001b[38;5;124m'\u001b[39m\u001b[38;5;124mtime\u001b[39m\u001b[38;5;124m'\u001b[39m,\u001b[38;5;124m'\u001b[39m\u001b[38;5;124mdatetime\u001b[39m\u001b[38;5;124m'\u001b[39m, \u001b[38;5;124m'\u001b[39m\u001b[38;5;124mapp_group\u001b[39m\u001b[38;5;124m'\u001b[39m]]\n\u001b[1;32m    355\u001b[0m \u001b[38;5;28;01mif\u001b[39;00m (screen\u001b[38;5;241m.\u001b[39mempty \u001b[38;5;129;01mand\u001b[39;00m \u001b[38;5;129;01mnot\u001b[39;00m bat\u001b[38;5;241m.\u001b[39mempty):\n\u001b[0;32m--> 356\u001b[0m     shutdown \u001b[38;5;241m=\u001b[39m \u001b[43mb\u001b[49m\u001b[38;5;241;43m.\u001b[39;49m\u001b[43mshutdown_info\u001b[49m\u001b[43m(\u001b[49m\u001b[43mbat\u001b[49m\u001b[43m)\u001b[49m\n\u001b[1;32m    357\u001b[0m     shutdown \u001b[38;5;241m=\u001b[39m shutdown\u001b[38;5;241m.\u001b[39mreplace([\u001b[38;5;241m-\u001b[39m\u001b[38;5;241m1\u001b[39m,\u001b[38;5;241m-\u001b[39m\u001b[38;5;241m2\u001b[39m],\u001b[38;5;124m'\u001b[39m\u001b[38;5;124moff\u001b[39m\u001b[38;5;124m'\u001b[39m)\n\u001b[1;32m    358\u001b[0m     \u001b[38;5;28;01mif\u001b[39;00m \u001b[38;5;28mtype\u001b[39m(shutdown\u001b[38;5;241m.\u001b[39mindex)\u001b[38;5;241m==\u001b[39mpd\u001b[38;5;241m.\u001b[39mMultiIndex:\n",
      "\u001b[0;31mTypeError\u001b[0m: shutdown_info() missing 1 required positional argument: 'feature_functions'"
     ]
    }
   ],
   "source": [
    "empty_bat = pd.DataFrame()\n",
    "empty_screen = pd.DataFrame()\n",
    "no_bat = app.extract_features_app(data, empty_bat, screen_data, features=None) #no battery information\n",
    "no_screen = app.extract_features_app(data, bat_data, empty_screen, features=None) #no screen information\n",
    "no_bat_no_screen = app.extract_features_app(data, empty_bat, empty_screen, features=None) #no battery and no screen information"
   ]
  },
  {
   "cell_type": "markdown",
   "metadata": {},
   "source": [
    "### Customized features"
   ]
  },
  {
   "cell_type": "markdown",
   "metadata": {},
   "source": [
    "The `extract_features_apps` function can also be customized. We can:\n",
    "- extract some of the features (not all)\n",
    "- modify the aggregation periods\n",
    "\n",
    "All of these modifications need to be inside the dictionary input. \n",
    "\n",
    "Let's see how to use this to only call some functions. To do so, we need to create a dictionary where the keys are the name of the features we want to compute, and the values are empty dictionaries."
   ]
  },
  {
   "cell_type": "code",
   "execution_count": 12,
   "metadata": {},
   "outputs": [],
   "source": [
    "custom = {}\n",
    "custom['app_count'] = {}"
   ]
  },
  {
   "cell_type": "code",
   "execution_count": 20,
   "metadata": {},
   "outputs": [
    {
     "name": "stdout",
     "output_type": "stream",
     "text": [
      "computing app_count...\n"
     ]
    },
    {
     "data": {
      "text/html": [
       "<div>\n",
       "<style scoped>\n",
       "    .dataframe tbody tr th:only-of-type {\n",
       "        vertical-align: middle;\n",
       "    }\n",
       "\n",
       "    .dataframe tbody tr th {\n",
       "        vertical-align: top;\n",
       "    }\n",
       "\n",
       "    .dataframe thead th {\n",
       "        text-align: right;\n",
       "    }\n",
       "</style>\n",
       "<table border=\"1\" class=\"dataframe\">\n",
       "  <thead>\n",
       "    <tr style=\"text-align: right;\">\n",
       "      <th></th>\n",
       "      <th></th>\n",
       "      <th></th>\n",
       "      <th>count</th>\n",
       "    </tr>\n",
       "    <tr>\n",
       "      <th>user</th>\n",
       "      <th>app_group</th>\n",
       "      <th>datetime</th>\n",
       "      <th></th>\n",
       "    </tr>\n",
       "  </thead>\n",
       "  <tbody>\n",
       "    <tr>\n",
       "      <th rowspan=\"4\" valign=\"top\">iGyXetHE3S8u</th>\n",
       "      <th>comm</th>\n",
       "      <th>2019-08-05 14:00:00+03:00</th>\n",
       "      <td>86</td>\n",
       "    </tr>\n",
       "    <tr>\n",
       "      <th>leisure</th>\n",
       "      <th>2019-08-05 14:00:00+03:00</th>\n",
       "      <td>20</td>\n",
       "    </tr>\n",
       "    <tr>\n",
       "      <th>na</th>\n",
       "      <th>2019-08-05 14:00:00+03:00</th>\n",
       "      <td>19</td>\n",
       "    </tr>\n",
       "    <tr>\n",
       "      <th>work</th>\n",
       "      <th>2019-08-05 14:00:00+03:00</th>\n",
       "      <td>7</td>\n",
       "    </tr>\n",
       "  </tbody>\n",
       "</table>\n",
       "</div>"
      ],
      "text/plain": [
       "                                                  count\n",
       "user         app_group datetime                        \n",
       "iGyXetHE3S8u comm      2019-08-05 14:00:00+03:00     86\n",
       "             leisure   2019-08-05 14:00:00+03:00     20\n",
       "             na        2019-08-05 14:00:00+03:00     19\n",
       "             work      2019-08-05 14:00:00+03:00      7"
      ]
     },
     "execution_count": 20,
     "metadata": {},
     "output_type": "execute_result"
    }
   ],
   "source": [
    "custom_output = app.extract_features_app(data, bat_data, screen_data, features=custom)\n",
    "custom_output.head()"
   ]
  },
  {
   "cell_type": "markdown",
   "metadata": {},
   "source": [
    "Now, let's compute another set of features with different aggregation windows. For that, we rely on the arguments from the `pandas.DataFrame.resample` function. \n",
    "\n",
    "For this example, we will aggregate the features `app_count` and `app_duration`. The app count will be computed in a daily basis and the app duration will be computed in 5-minute periods."
   ]
  },
  {
   "cell_type": "code",
   "execution_count": 21,
   "metadata": {},
   "outputs": [],
   "source": [
    "features = {\"app_count\":{\"app_column_name\": \"application_name\",\"screen_column_name\":\"screen_status\",\"resample_args\":{\"rule\":\"1D\"}},\n",
    "            \"app_duration\":{\"app_column_name\": \"application_name\",\"screen_column_name\":\"screen_status\",\"resample_args\":{\"rule\":\"5T\"}}}"
   ]
  },
  {
   "cell_type": "markdown",
   "metadata": {},
   "source": [
    "As we see, we have an input dictionary in which the main keys are the names of the features to compute. For each feature, we also have a dictionary. This new dictionary has some other arguments, mainly the name of the column that we would like to use for the computation and another dictionary named `resample_args`. The `app_column_name` is the column name where the application names are stored; the `screen_column_name` is the column name where the screen status is stored; the `battery_column_name` is the column name where the battery status is stored. This helps in case our dataframe has some other naming conventions. The `resample_args` dictionary contains the arguments to pass for the resampling (see `pandas.DataFrame.resample`)."
   ]
  },
  {
   "cell_type": "code",
   "execution_count": 25,
   "metadata": {},
   "outputs": [
    {
     "name": "stdout",
     "output_type": "stream",
     "text": [
      "computing app_count...\n",
      "computing app_duration...\n"
     ]
    },
    {
     "data": {
      "text/html": [
       "<div>\n",
       "<style scoped>\n",
       "    .dataframe tbody tr th:only-of-type {\n",
       "        vertical-align: middle;\n",
       "    }\n",
       "\n",
       "    .dataframe tbody tr th {\n",
       "        vertical-align: top;\n",
       "    }\n",
       "\n",
       "    .dataframe thead th {\n",
       "        text-align: right;\n",
       "    }\n",
       "</style>\n",
       "<table border=\"1\" class=\"dataframe\">\n",
       "  <thead>\n",
       "    <tr style=\"text-align: right;\">\n",
       "      <th></th>\n",
       "      <th></th>\n",
       "      <th></th>\n",
       "      <th>count</th>\n",
       "      <th>duration</th>\n",
       "    </tr>\n",
       "    <tr>\n",
       "      <th>user</th>\n",
       "      <th>app_group</th>\n",
       "      <th>datetime</th>\n",
       "      <th></th>\n",
       "      <th></th>\n",
       "    </tr>\n",
       "  </thead>\n",
       "  <tbody>\n",
       "    <tr>\n",
       "      <th rowspan=\"8\" valign=\"top\">iGyXetHE3S8u</th>\n",
       "      <th>comm</th>\n",
       "      <th>2019-08-05 00:00:00+03:00</th>\n",
       "      <td>86.0</td>\n",
       "      <td>NaN</td>\n",
       "    </tr>\n",
       "    <tr>\n",
       "      <th>leisure</th>\n",
       "      <th>2019-08-05 00:00:00+03:00</th>\n",
       "      <td>20.0</td>\n",
       "      <td>NaN</td>\n",
       "    </tr>\n",
       "    <tr>\n",
       "      <th>na</th>\n",
       "      <th>2019-08-05 00:00:00+03:00</th>\n",
       "      <td>19.0</td>\n",
       "      <td>NaN</td>\n",
       "    </tr>\n",
       "    <tr>\n",
       "      <th>work</th>\n",
       "      <th>2019-08-05 00:00:00+03:00</th>\n",
       "      <td>7.0</td>\n",
       "      <td>NaN</td>\n",
       "    </tr>\n",
       "    <tr>\n",
       "      <th>comm</th>\n",
       "      <th>2019-08-05 14:00:00+03:00</th>\n",
       "      <td>NaN</td>\n",
       "      <td>37.0</td>\n",
       "    </tr>\n",
       "    <tr>\n",
       "      <th>leisure</th>\n",
       "      <th>2019-08-05 14:00:00+03:00</th>\n",
       "      <td>NaN</td>\n",
       "      <td>7.0</td>\n",
       "    </tr>\n",
       "    <tr>\n",
       "      <th>na</th>\n",
       "      <th>2019-08-05 14:00:00+03:00</th>\n",
       "      <td>NaN</td>\n",
       "      <td>9.0</td>\n",
       "    </tr>\n",
       "    <tr>\n",
       "      <th>work</th>\n",
       "      <th>2019-08-05 14:00:00+03:00</th>\n",
       "      <td>NaN</td>\n",
       "      <td>6.0</td>\n",
       "    </tr>\n",
       "  </tbody>\n",
       "</table>\n",
       "</div>"
      ],
      "text/plain": [
       "                                                  count  duration\n",
       "user         app_group datetime                                  \n",
       "iGyXetHE3S8u comm      2019-08-05 00:00:00+03:00   86.0       NaN\n",
       "             leisure   2019-08-05 00:00:00+03:00   20.0       NaN\n",
       "             na        2019-08-05 00:00:00+03:00   19.0       NaN\n",
       "             work      2019-08-05 00:00:00+03:00    7.0       NaN\n",
       "             comm      2019-08-05 14:00:00+03:00    NaN      37.0\n",
       "             leisure   2019-08-05 14:00:00+03:00    NaN       7.0\n",
       "             na        2019-08-05 14:00:00+03:00    NaN       9.0\n",
       "             work      2019-08-05 14:00:00+03:00    NaN       6.0"
      ]
     },
     "execution_count": 25,
     "metadata": {},
     "output_type": "execute_result"
    }
   ],
   "source": [
    "custom_output = app.extract_features_app(data, bat_data, screen_data, features=features)\n",
    "custom_output"
   ]
  },
  {
   "cell_type": "markdown",
   "metadata": {},
   "source": [
    "The output is once again a dataframe. In this case, two aggregations are shown. The first one is the daily aggregation computed for the `app_count` feature. The second one is the 5-min aggregation period `app_duration`. We must note that because the `app_duration`feature is not required to be aggregated daily, the daily aggregation timestamps have a NaN value. Similarly, because the `app_count`is not required to be aggregated in 5-minute windows, its values are NaN for all subjects. "
   ]
  },
  {
   "cell_type": "markdown",
   "metadata": {},
   "source": [
    "## Implementing own features"
   ]
  },
  {
   "cell_type": "markdown",
   "metadata": {},
   "source": [
    "We can implement our own customized features easily. To do so, we need to define a function that accepts a dataframe and returns a dataframe. The returned object should be indexed by user and timestamps. \n",
    "To make the feature readily available in the default options, we need add the *call* prefix to the new function (e.g. `app_my-new-feature`). "
   ]
  },
  {
   "cell_type": "code",
   "execution_count": 26,
   "metadata": {},
   "outputs": [],
   "source": [
    "def app_min_duration(df,feature_functions=None):\n",
    "    df2 = classify_app(df, feature_functions)\n",
    "    df2['duration']=np.nan\n",
    "    df2['duration']=df2['datetime'].diff()\n",
    "    df2['duration'] = df2['duration'].shift(-1)\n",
    "    thr = pd.Timedelta('10 hours')\n",
    "    df2 = df2[~(df2.duration>thr)]\n",
    "    df2 = df2[~(df2.duration>thr)]\n",
    "    df2[\"duration\"] = df2[\"duration\"].dt.total_seconds()\n",
    "    \n",
    "    df2.dropna(inplace=True)\n",
    "    \n",
    "    if len(df2)>0:\n",
    "        df2['datetime'] = pd.to_datetime(df2['datetime'])\n",
    "        df2.set_index('datetime', inplace=True)\n",
    "        result = df2.groupby([\"user\",\"app_group\"])[\"duration\"].resample(**feature_functions[\"resample_args\"]).min()\n",
    "        \n",
    "    return result"
   ]
  },
  {
   "cell_type": "markdown",
   "metadata": {},
   "source": [
    "Then, we can call our new function using the `extract_features_app` function."
   ]
  },
  {
   "cell_type": "code",
   "execution_count": 27,
   "metadata": {},
   "outputs": [
    {
     "name": "stdout",
     "output_type": "stream",
     "text": [
      "computing app_min_duration...\n"
     ]
    },
    {
     "ename": "NameError",
     "evalue": "name 'app_min_duration' is not defined",
     "output_type": "error",
     "traceback": [
      "\u001b[0;31m---------------------------------------------------------------------------\u001b[0m",
      "\u001b[0;31mNameError\u001b[0m                                 Traceback (most recent call last)",
      "Input \u001b[0;32mIn [27]\u001b[0m, in \u001b[0;36m<cell line: 1>\u001b[0;34m()\u001b[0m\n\u001b[0;32m----> 1\u001b[0m customized_features \u001b[38;5;241m=\u001b[39m \u001b[43mapp\u001b[49m\u001b[38;5;241;43m.\u001b[39;49m\u001b[43mextract_features_app\u001b[49m\u001b[43m(\u001b[49m\u001b[43mdata\u001b[49m\u001b[43m,\u001b[49m\u001b[43m \u001b[49m\u001b[43mbat_data\u001b[49m\u001b[43m,\u001b[49m\u001b[43m \u001b[49m\u001b[43mscreen_data\u001b[49m\u001b[43m,\u001b[49m\u001b[43m \u001b[49m\u001b[43mfeatures\u001b[49m\u001b[38;5;241;43m=\u001b[39;49m\u001b[43m{\u001b[49m\u001b[38;5;124;43m\"\u001b[39;49m\u001b[38;5;124;43mapp_min_duration\u001b[39;49m\u001b[38;5;124;43m\"\u001b[39;49m\u001b[43m:\u001b[49m\u001b[43m \u001b[49m\u001b[43m{\u001b[49m\u001b[43m}\u001b[49m\u001b[43m}\u001b[49m\u001b[43m)\u001b[49m\n",
      "File \u001b[0;32m/m/cs/scratch/networks/trianaa1/Paper3/niimpy-env/lib/python3.8/site-packages/niimpy/preprocessing/application.py:289\u001b[0m, in \u001b[0;36mextract_features_app\u001b[0;34m(df, bat, screen, features)\u001b[0m\n\u001b[1;32m    287\u001b[0m     \u001b[38;5;28mprint\u001b[39m(\u001b[38;5;124mf\u001b[39m\u001b[38;5;124m'\u001b[39m\u001b[38;5;124mcomputing \u001b[39m\u001b[38;5;132;01m{\u001b[39;00mfeature\u001b[38;5;132;01m}\u001b[39;00m\u001b[38;5;124m...\u001b[39m\u001b[38;5;124m'\u001b[39m)\n\u001b[1;32m    288\u001b[0m     command \u001b[38;5;241m=\u001b[39m \u001b[38;5;124mf\u001b[39m\u001b[38;5;124m'\u001b[39m\u001b[38;5;132;01m{\u001b[39;00mfeature\u001b[38;5;132;01m}\u001b[39;00m\u001b[38;5;124m(df, bat, screen, feature_functions=feature_arg)\u001b[39m\u001b[38;5;124m'\u001b[39m\n\u001b[0;32m--> 289\u001b[0m     computed_feature \u001b[38;5;241m=\u001b[39m \u001b[38;5;28;43meval\u001b[39;49m\u001b[43m(\u001b[49m\u001b[43mcommand\u001b[49m\u001b[43m)\u001b[49m\n\u001b[1;32m    290\u001b[0m     computed_features\u001b[38;5;241m.\u001b[39mappend(computed_feature)\n\u001b[1;32m    292\u001b[0m computed_features \u001b[38;5;241m=\u001b[39m pd\u001b[38;5;241m.\u001b[39mconcat(computed_features, axis\u001b[38;5;241m=\u001b[39m\u001b[38;5;241m1\u001b[39m)\n",
      "File \u001b[0;32m<string>:1\u001b[0m, in \u001b[0;36m<module>\u001b[0;34m\u001b[0m\n",
      "\u001b[0;31mNameError\u001b[0m: name 'app_min_duration' is not defined"
     ]
    }
   ],
   "source": [
    "customized_features = app.extract_features_app(data, bat_data, screen_data, features={\"app_min_duration\": {}})"
   ]
  },
  {
   "cell_type": "code",
   "execution_count": null,
   "metadata": {},
   "outputs": [],
   "source": []
  }
 ],
 "metadata": {
  "kernelspec": {
   "display_name": "niimpy-env",
   "language": "python",
   "name": "niimpy-env"
  },
  "language_info": {
   "codemirror_mode": {
    "name": "ipython",
    "version": 3
   },
   "file_extension": ".py",
   "mimetype": "text/x-python",
   "name": "python",
   "nbconvert_exporter": "python",
   "pygments_lexer": "ipython3",
   "version": "3.8.7"
  }
 },
 "nbformat": 4,
 "nbformat_minor": 5
}
