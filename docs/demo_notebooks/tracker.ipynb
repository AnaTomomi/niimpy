{
 "cells": [
  {
   "cell_type": "markdown",
   "metadata": {},
   "source": [
    "# Demo notebook: Analysing tracker data"
   ]
  },
  {
   "cell_type": "markdown",
   "metadata": {},
   "source": [
    "## Introduction"
   ]
  },
  {
   "cell_type": "markdown",
   "metadata": {},
   "source": [
    "## Read data"
   ]
  },
  {
   "cell_type": "code",
   "execution_count": 6,
   "metadata": {},
   "outputs": [],
   "source": [
    "import niimpy\n",
    "import pandas as pd\n",
    "import niimpy.preprocessing.tracker as tracker\n",
    "from config import config"
   ]
  },
  {
   "cell_type": "code",
   "execution_count": 17,
   "metadata": {},
   "outputs": [
    {
     "data": {
      "text/plain": [
       "(73, 4)"
      ]
     },
     "execution_count": 17,
     "metadata": {},
     "output_type": "execute_result"
    }
   ],
   "source": [
    "data = pd.read_csv(config.STEP_SUMMARY_PATH, index_col=0)\n",
    "# Converting the index as date\n",
    "data.index = pd.to_datetime(df.index)\n",
    "data.shape"
   ]
  },
  {
   "cell_type": "code",
   "execution_count": 18,
   "metadata": {},
   "outputs": [
    {
     "data": {
      "text/html": [
       "<div>\n",
       "<style scoped>\n",
       "    .dataframe tbody tr th:only-of-type {\n",
       "        vertical-align: middle;\n",
       "    }\n",
       "\n",
       "    .dataframe tbody tr th {\n",
       "        vertical-align: top;\n",
       "    }\n",
       "\n",
       "    .dataframe thead th {\n",
       "        text-align: right;\n",
       "    }\n",
       "</style>\n",
       "<table border=\"1\" class=\"dataframe\">\n",
       "  <thead>\n",
       "    <tr style=\"text-align: right;\">\n",
       "      <th></th>\n",
       "      <th>user</th>\n",
       "      <th>date</th>\n",
       "      <th>time</th>\n",
       "      <th>steps</th>\n",
       "    </tr>\n",
       "  </thead>\n",
       "  <tbody>\n",
       "    <tr>\n",
       "      <th>2021-07-01 00:00:00</th>\n",
       "      <td>wiam9xme</td>\n",
       "      <td>2021-07-01</td>\n",
       "      <td>00:00:00.000</td>\n",
       "      <td>0</td>\n",
       "    </tr>\n",
       "    <tr>\n",
       "      <th>2021-07-01 01:00:00</th>\n",
       "      <td>wiam9xme</td>\n",
       "      <td>2021-07-01</td>\n",
       "      <td>01:00:00.000</td>\n",
       "      <td>0</td>\n",
       "    </tr>\n",
       "    <tr>\n",
       "      <th>2021-07-01 02:00:00</th>\n",
       "      <td>wiam9xme</td>\n",
       "      <td>2021-07-01</td>\n",
       "      <td>02:00:00.000</td>\n",
       "      <td>0</td>\n",
       "    </tr>\n",
       "    <tr>\n",
       "      <th>2021-07-01 03:00:00</th>\n",
       "      <td>wiam9xme</td>\n",
       "      <td>2021-07-01</td>\n",
       "      <td>03:00:00.000</td>\n",
       "      <td>0</td>\n",
       "    </tr>\n",
       "    <tr>\n",
       "      <th>2021-07-01 04:00:00</th>\n",
       "      <td>wiam9xme</td>\n",
       "      <td>2021-07-01</td>\n",
       "      <td>04:00:00.000</td>\n",
       "      <td>0</td>\n",
       "    </tr>\n",
       "  </tbody>\n",
       "</table>\n",
       "</div>"
      ],
      "text/plain": [
       "                         user        date          time  steps\n",
       "2021-07-01 00:00:00  wiam9xme  2021-07-01  00:00:00.000      0\n",
       "2021-07-01 01:00:00  wiam9xme  2021-07-01  01:00:00.000      0\n",
       "2021-07-01 02:00:00  wiam9xme  2021-07-01  02:00:00.000      0\n",
       "2021-07-01 03:00:00  wiam9xme  2021-07-01  03:00:00.000      0\n",
       "2021-07-01 04:00:00  wiam9xme  2021-07-01  04:00:00.000      0"
      ]
     },
     "execution_count": 18,
     "metadata": {},
     "output_type": "execute_result"
    }
   ],
   "source": [
    "data.head()"
   ]
  },
  {
   "cell_type": "markdown",
   "metadata": {},
   "source": [
    "After binning, the number of datapoints (bins) reduces to 9755."
   ]
  },
  {
   "cell_type": "markdown",
   "metadata": {},
   "source": [
    "## Feature extraction"
   ]
  },
  {
   "cell_type": "code",
   "execution_count": 19,
   "metadata": {},
   "outputs": [
    {
     "name": "stdout",
     "output_type": "stream",
     "text": [
      "{<function tracker_daily_step_distribution at 0x2afb7c068550>: {}}\n"
     ]
    },
    {
     "data": {
      "text/html": [
       "<div>\n",
       "<style scoped>\n",
       "    .dataframe tbody tr th:only-of-type {\n",
       "        vertical-align: middle;\n",
       "    }\n",
       "\n",
       "    .dataframe tbody tr th {\n",
       "        vertical-align: top;\n",
       "    }\n",
       "\n",
       "    .dataframe thead th {\n",
       "        text-align: right;\n",
       "    }\n",
       "</style>\n",
       "<table border=\"1\" class=\"dataframe\">\n",
       "  <thead>\n",
       "    <tr style=\"text-align: right;\">\n",
       "      <th></th>\n",
       "      <th>date</th>\n",
       "      <th>time</th>\n",
       "      <th>steps</th>\n",
       "      <th>hour</th>\n",
       "      <th>month</th>\n",
       "      <th>day</th>\n",
       "      <th>daily_sum</th>\n",
       "      <th>daily_distribution</th>\n",
       "    </tr>\n",
       "    <tr>\n",
       "      <th>user</th>\n",
       "      <th></th>\n",
       "      <th></th>\n",
       "      <th></th>\n",
       "      <th></th>\n",
       "      <th></th>\n",
       "      <th></th>\n",
       "      <th></th>\n",
       "      <th></th>\n",
       "    </tr>\n",
       "  </thead>\n",
       "  <tbody>\n",
       "    <tr>\n",
       "      <th>wiam9xme</th>\n",
       "      <td>2021-07-01</td>\n",
       "      <td>2021-07-01 00:00:00</td>\n",
       "      <td>0</td>\n",
       "      <td>0</td>\n",
       "      <td>7</td>\n",
       "      <td>1</td>\n",
       "      <td>5616</td>\n",
       "      <td>0.000000</td>\n",
       "    </tr>\n",
       "    <tr>\n",
       "      <th>wiam9xme</th>\n",
       "      <td>2021-07-01</td>\n",
       "      <td>2021-07-01 01:00:00</td>\n",
       "      <td>0</td>\n",
       "      <td>1</td>\n",
       "      <td>7</td>\n",
       "      <td>1</td>\n",
       "      <td>5616</td>\n",
       "      <td>0.000000</td>\n",
       "    </tr>\n",
       "    <tr>\n",
       "      <th>wiam9xme</th>\n",
       "      <td>2021-07-01</td>\n",
       "      <td>2021-07-01 02:00:00</td>\n",
       "      <td>0</td>\n",
       "      <td>2</td>\n",
       "      <td>7</td>\n",
       "      <td>1</td>\n",
       "      <td>5616</td>\n",
       "      <td>0.000000</td>\n",
       "    </tr>\n",
       "    <tr>\n",
       "      <th>wiam9xme</th>\n",
       "      <td>2021-07-01</td>\n",
       "      <td>2021-07-01 03:00:00</td>\n",
       "      <td>0</td>\n",
       "      <td>3</td>\n",
       "      <td>7</td>\n",
       "      <td>1</td>\n",
       "      <td>5616</td>\n",
       "      <td>0.000000</td>\n",
       "    </tr>\n",
       "    <tr>\n",
       "      <th>wiam9xme</th>\n",
       "      <td>2021-07-01</td>\n",
       "      <td>2021-07-01 04:00:00</td>\n",
       "      <td>0</td>\n",
       "      <td>4</td>\n",
       "      <td>7</td>\n",
       "      <td>1</td>\n",
       "      <td>5616</td>\n",
       "      <td>0.000000</td>\n",
       "    </tr>\n",
       "    <tr>\n",
       "      <th>...</th>\n",
       "      <td>...</td>\n",
       "      <td>...</td>\n",
       "      <td>...</td>\n",
       "      <td>...</td>\n",
       "      <td>...</td>\n",
       "      <td>...</td>\n",
       "      <td>...</td>\n",
       "      <td>...</td>\n",
       "    </tr>\n",
       "    <tr>\n",
       "      <th>wiam9xme</th>\n",
       "      <td>2021-07-03</td>\n",
       "      <td>2021-07-03 19:00:00</td>\n",
       "      <td>302</td>\n",
       "      <td>19</td>\n",
       "      <td>7</td>\n",
       "      <td>3</td>\n",
       "      <td>12002</td>\n",
       "      <td>0.025162</td>\n",
       "    </tr>\n",
       "    <tr>\n",
       "      <th>wiam9xme</th>\n",
       "      <td>2021-07-03</td>\n",
       "      <td>2021-07-03 20:00:00</td>\n",
       "      <td>12</td>\n",
       "      <td>20</td>\n",
       "      <td>7</td>\n",
       "      <td>3</td>\n",
       "      <td>12002</td>\n",
       "      <td>0.001000</td>\n",
       "    </tr>\n",
       "    <tr>\n",
       "      <th>wiam9xme</th>\n",
       "      <td>2021-07-03</td>\n",
       "      <td>2021-07-03 21:00:00</td>\n",
       "      <td>354</td>\n",
       "      <td>21</td>\n",
       "      <td>7</td>\n",
       "      <td>3</td>\n",
       "      <td>12002</td>\n",
       "      <td>0.029495</td>\n",
       "    </tr>\n",
       "    <tr>\n",
       "      <th>wiam9xme</th>\n",
       "      <td>2021-07-03</td>\n",
       "      <td>2021-07-03 22:00:00</td>\n",
       "      <td>0</td>\n",
       "      <td>22</td>\n",
       "      <td>7</td>\n",
       "      <td>3</td>\n",
       "      <td>12002</td>\n",
       "      <td>0.000000</td>\n",
       "    </tr>\n",
       "    <tr>\n",
       "      <th>wiam9xme</th>\n",
       "      <td>2021-07-03</td>\n",
       "      <td>2021-07-03 23:00:00</td>\n",
       "      <td>0</td>\n",
       "      <td>23</td>\n",
       "      <td>7</td>\n",
       "      <td>3</td>\n",
       "      <td>12002</td>\n",
       "      <td>0.000000</td>\n",
       "    </tr>\n",
       "  </tbody>\n",
       "</table>\n",
       "<p>72 rows × 8 columns</p>\n",
       "</div>"
      ],
      "text/plain": [
       "                date                time  steps  hour  month  day  daily_sum  \\\n",
       "user                                                                           \n",
       "wiam9xme  2021-07-01 2021-07-01 00:00:00      0     0      7    1       5616   \n",
       "wiam9xme  2021-07-01 2021-07-01 01:00:00      0     1      7    1       5616   \n",
       "wiam9xme  2021-07-01 2021-07-01 02:00:00      0     2      7    1       5616   \n",
       "wiam9xme  2021-07-01 2021-07-01 03:00:00      0     3      7    1       5616   \n",
       "wiam9xme  2021-07-01 2021-07-01 04:00:00      0     4      7    1       5616   \n",
       "...              ...                 ...    ...   ...    ...  ...        ...   \n",
       "wiam9xme  2021-07-03 2021-07-03 19:00:00    302    19      7    3      12002   \n",
       "wiam9xme  2021-07-03 2021-07-03 20:00:00     12    20      7    3      12002   \n",
       "wiam9xme  2021-07-03 2021-07-03 21:00:00    354    21      7    3      12002   \n",
       "wiam9xme  2021-07-03 2021-07-03 22:00:00      0    22      7    3      12002   \n",
       "wiam9xme  2021-07-03 2021-07-03 23:00:00      0    23      7    3      12002   \n",
       "\n",
       "          daily_distribution  \n",
       "user                          \n",
       "wiam9xme            0.000000  \n",
       "wiam9xme            0.000000  \n",
       "wiam9xme            0.000000  \n",
       "wiam9xme            0.000000  \n",
       "wiam9xme            0.000000  \n",
       "...                      ...  \n",
       "wiam9xme            0.025162  \n",
       "wiam9xme            0.001000  \n",
       "wiam9xme            0.029495  \n",
       "wiam9xme            0.000000  \n",
       "wiam9xme            0.000000  \n",
       "\n",
       "[72 rows x 8 columns]"
      ]
     },
     "execution_count": 19,
     "metadata": {},
     "output_type": "execute_result"
    }
   ],
   "source": [
    "f = tracker.tracker_daily_step_distribution\n",
    "step_distribution = tracker.extract_features_tracker(data, features={f: {}})\n",
    "step_distribution"
   ]
  }
 ],
 "metadata": {
  "kernelspec": {
   "display_name": "Python (module anaconda)",
   "language": "python",
   "name": "python3"
  },
  "language_info": {
   "codemirror_mode": {
    "name": "ipython",
    "version": 3
   },
   "file_extension": ".py",
   "mimetype": "text/x-python",
   "name": "python",
   "nbconvert_exporter": "python",
   "pygments_lexer": "ipython3",
   "version": "3.9.13"
  }
 },
 "nbformat": 4,
 "nbformat_minor": 5
}
