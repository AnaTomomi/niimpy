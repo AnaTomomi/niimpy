{
 "cells": [
  {
   "cell_type": "markdown",
   "id": "fd6821ad",
   "metadata": {},
   "source": [
    "# Demo notebook: Analysing battery data"
   ]
  },
  {
   "cell_type": "markdown",
   "id": "a08806c0",
   "metadata": {},
   "source": [
    "## Introduction\n",
    "\n",
    "In this notebook , we will extract battery data from the Aware platform and infer users' behavioral patterns from their interaction with the phone. The below functions will be described in this notebook:\n",
    "\n",
    "- `niimpy.preprocessing.battery.battery_shutdown_info`: returns the timestamp when the device is shutdown or rebooted\n",
    "- `niimpy.preprocessing.battery.battery_occurrences`: returns the number of battery samples within a time range\n",
    "- `niimpy.preprocessing.battery.battery_gaps`: returns the time gaps between two battery sample\n"
   ]
  },
  {
   "cell_type": "markdown",
   "id": "e2081f66",
   "metadata": {},
   "source": [
    "## Read data"
   ]
  },
  {
   "cell_type": "code",
   "execution_count": 1,
   "id": "35cad0fc",
   "metadata": {},
   "outputs": [],
   "source": [
    "import sys\n",
    "sys.path.append('../../')\n",
    "\n",
    "import pandas as pd\n",
    "import niimpy\n",
    "import niimpy.preprocessing.battery as battery\n",
    "from niimpy.config import config"
   ]
  },
  {
   "cell_type": "code",
   "execution_count": 2,
   "id": "a6082b29",
   "metadata": {},
   "outputs": [
    {
     "data": {
      "text/plain": [
       "(505, 8)"
      ]
     },
     "execution_count": 2,
     "metadata": {},
     "output_type": "execute_result"
    }
   ],
   "source": [
    "data = niimpy.read_csv(config.MULTIUSER_AWARE_BATTERY_PATH, tz='Europe/Helsinki')\n",
    "data.shape"
   ]
  },
  {
   "cell_type": "code",
   "execution_count": 3,
   "id": "48ad2f51",
   "metadata": {},
   "outputs": [
    {
     "data": {
      "text/html": [
       "<div>\n",
       "<style scoped>\n",
       "    .dataframe tbody tr th:only-of-type {\n",
       "        vertical-align: middle;\n",
       "    }\n",
       "\n",
       "    .dataframe tbody tr th {\n",
       "        vertical-align: top;\n",
       "    }\n",
       "\n",
       "    .dataframe thead th {\n",
       "        text-align: right;\n",
       "    }\n",
       "</style>\n",
       "<table border=\"1\" class=\"dataframe\">\n",
       "  <thead>\n",
       "    <tr style=\"text-align: right;\">\n",
       "      <th></th>\n",
       "      <th>user</th>\n",
       "      <th>device</th>\n",
       "      <th>time</th>\n",
       "      <th>battery_level</th>\n",
       "      <th>battery_status</th>\n",
       "      <th>battery_health</th>\n",
       "      <th>battery_adaptor</th>\n",
       "      <th>datetime</th>\n",
       "    </tr>\n",
       "  </thead>\n",
       "  <tbody>\n",
       "    <tr>\n",
       "      <th>2020-01-09 02:20:02.924999936+02:00</th>\n",
       "      <td>jd9INuQ5BBlW</td>\n",
       "      <td>3p83yASkOb_B</td>\n",
       "      <td>1.578529e+09</td>\n",
       "      <td>74</td>\n",
       "      <td>3</td>\n",
       "      <td>2</td>\n",
       "      <td>0</td>\n",
       "      <td>2020-01-09 02:20:02.924999936+02:00</td>\n",
       "    </tr>\n",
       "    <tr>\n",
       "      <th>2020-01-09 02:21:30.405999872+02:00</th>\n",
       "      <td>jd9INuQ5BBlW</td>\n",
       "      <td>3p83yASkOb_B</td>\n",
       "      <td>1.578529e+09</td>\n",
       "      <td>73</td>\n",
       "      <td>3</td>\n",
       "      <td>2</td>\n",
       "      <td>0</td>\n",
       "      <td>2020-01-09 02:21:30.405999872+02:00</td>\n",
       "    </tr>\n",
       "    <tr>\n",
       "      <th>2020-01-09 02:24:12.805999872+02:00</th>\n",
       "      <td>jd9INuQ5BBlW</td>\n",
       "      <td>3p83yASkOb_B</td>\n",
       "      <td>1.578529e+09</td>\n",
       "      <td>72</td>\n",
       "      <td>3</td>\n",
       "      <td>2</td>\n",
       "      <td>0</td>\n",
       "      <td>2020-01-09 02:24:12.805999872+02:00</td>\n",
       "    </tr>\n",
       "    <tr>\n",
       "      <th>2020-01-09 02:35:38.561000192+02:00</th>\n",
       "      <td>jd9INuQ5BBlW</td>\n",
       "      <td>3p83yASkOb_B</td>\n",
       "      <td>1.578530e+09</td>\n",
       "      <td>72</td>\n",
       "      <td>2</td>\n",
       "      <td>2</td>\n",
       "      <td>0</td>\n",
       "      <td>2020-01-09 02:35:38.561000192+02:00</td>\n",
       "    </tr>\n",
       "    <tr>\n",
       "      <th>2020-01-09 02:35:38.953000192+02:00</th>\n",
       "      <td>jd9INuQ5BBlW</td>\n",
       "      <td>3p83yASkOb_B</td>\n",
       "      <td>1.578530e+09</td>\n",
       "      <td>72</td>\n",
       "      <td>2</td>\n",
       "      <td>2</td>\n",
       "      <td>2</td>\n",
       "      <td>2020-01-09 02:35:38.953000192+02:00</td>\n",
       "    </tr>\n",
       "  </tbody>\n",
       "</table>\n",
       "</div>"
      ],
      "text/plain": [
       "                                             user        device          time  \\\n",
       "2020-01-09 02:20:02.924999936+02:00  jd9INuQ5BBlW  3p83yASkOb_B  1.578529e+09   \n",
       "2020-01-09 02:21:30.405999872+02:00  jd9INuQ5BBlW  3p83yASkOb_B  1.578529e+09   \n",
       "2020-01-09 02:24:12.805999872+02:00  jd9INuQ5BBlW  3p83yASkOb_B  1.578529e+09   \n",
       "2020-01-09 02:35:38.561000192+02:00  jd9INuQ5BBlW  3p83yASkOb_B  1.578530e+09   \n",
       "2020-01-09 02:35:38.953000192+02:00  jd9INuQ5BBlW  3p83yASkOb_B  1.578530e+09   \n",
       "\n",
       "                                     battery_level  battery_status  \\\n",
       "2020-01-09 02:20:02.924999936+02:00             74               3   \n",
       "2020-01-09 02:21:30.405999872+02:00             73               3   \n",
       "2020-01-09 02:24:12.805999872+02:00             72               3   \n",
       "2020-01-09 02:35:38.561000192+02:00             72               2   \n",
       "2020-01-09 02:35:38.953000192+02:00             72               2   \n",
       "\n",
       "                                     battery_health  battery_adaptor  \\\n",
       "2020-01-09 02:20:02.924999936+02:00               2                0   \n",
       "2020-01-09 02:21:30.405999872+02:00               2                0   \n",
       "2020-01-09 02:24:12.805999872+02:00               2                0   \n",
       "2020-01-09 02:35:38.561000192+02:00               2                0   \n",
       "2020-01-09 02:35:38.953000192+02:00               2                2   \n",
       "\n",
       "                                                               datetime  \n",
       "2020-01-09 02:20:02.924999936+02:00 2020-01-09 02:20:02.924999936+02:00  \n",
       "2020-01-09 02:21:30.405999872+02:00 2020-01-09 02:21:30.405999872+02:00  \n",
       "2020-01-09 02:24:12.805999872+02:00 2020-01-09 02:24:12.805999872+02:00  \n",
       "2020-01-09 02:35:38.561000192+02:00 2020-01-09 02:35:38.561000192+02:00  \n",
       "2020-01-09 02:35:38.953000192+02:00 2020-01-09 02:35:38.953000192+02:00  "
      ]
     },
     "execution_count": 3,
     "metadata": {},
     "output_type": "execute_result"
    }
   ],
   "source": [
    "data.head()"
   ]
  },
  {
   "cell_type": "markdown",
   "id": "a882ebae",
   "metadata": {},
   "source": [
    "# Feature extraction\n",
    "\n",
    "The dataframe's index first needs to be sorted in ascending order to be compatible with the functions in this module.\n",
    "\n",
    "First, we can count the amount the battery samples every 10 minutes by using the `battery_occurences` function. This function requires the index to be sorted."
   ]
  },
  {
   "cell_type": "code",
   "execution_count": 4,
   "id": "fdf4a04c",
   "metadata": {},
   "outputs": [
    {
     "data": {
      "text/html": [
       "<div>\n",
       "<style scoped>\n",
       "    .dataframe tbody tr th:only-of-type {\n",
       "        vertical-align: middle;\n",
       "    }\n",
       "\n",
       "    .dataframe tbody tr th {\n",
       "        vertical-align: top;\n",
       "    }\n",
       "\n",
       "    .dataframe thead th {\n",
       "        text-align: right;\n",
       "    }\n",
       "</style>\n",
       "<table border=\"1\" class=\"dataframe\">\n",
       "  <thead>\n",
       "    <tr style=\"text-align: right;\">\n",
       "      <th></th>\n",
       "      <th>start</th>\n",
       "      <th>end</th>\n",
       "      <th>occurrences</th>\n",
       "    </tr>\n",
       "  </thead>\n",
       "  <tbody>\n",
       "    <tr>\n",
       "      <th>2019-08-05 14:00:58.600000+03:00</th>\n",
       "      <td>2019-08-05 14:00:58.600000+03:00</td>\n",
       "      <td>2019-08-05 14:10:58.600000+03:00</td>\n",
       "      <td>1.0</td>\n",
       "    </tr>\n",
       "    <tr>\n",
       "      <th>2019-08-05 14:10:58.600000+03:00</th>\n",
       "      <td>2019-08-05 14:10:58.600000+03:00</td>\n",
       "      <td>2019-08-05 14:20:58.600000+03:00</td>\n",
       "      <td>0.0</td>\n",
       "    </tr>\n",
       "    <tr>\n",
       "      <th>2019-08-05 14:20:58.600000+03:00</th>\n",
       "      <td>2019-08-05 14:20:58.600000+03:00</td>\n",
       "      <td>2019-08-05 14:30:58.600000+03:00</td>\n",
       "      <td>1.0</td>\n",
       "    </tr>\n",
       "    <tr>\n",
       "      <th>2019-08-05 14:30:58.600000+03:00</th>\n",
       "      <td>2019-08-05 14:30:58.600000+03:00</td>\n",
       "      <td>2019-08-05 14:40:58.600000+03:00</td>\n",
       "      <td>0.0</td>\n",
       "    </tr>\n",
       "    <tr>\n",
       "      <th>2019-08-05 14:40:58.600000+03:00</th>\n",
       "      <td>2019-08-05 14:40:58.600000+03:00</td>\n",
       "      <td>2019-08-05 14:50:58.600000+03:00</td>\n",
       "      <td>0.0</td>\n",
       "    </tr>\n",
       "  </tbody>\n",
       "</table>\n",
       "</div>"
      ],
      "text/plain": [
       "                                                             start  \\\n",
       "2019-08-05 14:00:58.600000+03:00  2019-08-05 14:00:58.600000+03:00   \n",
       "2019-08-05 14:10:58.600000+03:00  2019-08-05 14:10:58.600000+03:00   \n",
       "2019-08-05 14:20:58.600000+03:00  2019-08-05 14:20:58.600000+03:00   \n",
       "2019-08-05 14:30:58.600000+03:00  2019-08-05 14:30:58.600000+03:00   \n",
       "2019-08-05 14:40:58.600000+03:00  2019-08-05 14:40:58.600000+03:00   \n",
       "\n",
       "                                                               end  \\\n",
       "2019-08-05 14:00:58.600000+03:00  2019-08-05 14:10:58.600000+03:00   \n",
       "2019-08-05 14:10:58.600000+03:00  2019-08-05 14:20:58.600000+03:00   \n",
       "2019-08-05 14:20:58.600000+03:00  2019-08-05 14:30:58.600000+03:00   \n",
       "2019-08-05 14:30:58.600000+03:00  2019-08-05 14:40:58.600000+03:00   \n",
       "2019-08-05 14:40:58.600000+03:00  2019-08-05 14:50:58.600000+03:00   \n",
       "\n",
       "                                  occurrences  \n",
       "2019-08-05 14:00:58.600000+03:00          1.0  \n",
       "2019-08-05 14:10:58.600000+03:00          0.0  \n",
       "2019-08-05 14:20:58.600000+03:00          1.0  \n",
       "2019-08-05 14:30:58.600000+03:00          0.0  \n",
       "2019-08-05 14:40:58.600000+03:00          0.0  "
      ]
     },
     "execution_count": 4,
     "metadata": {},
     "output_type": "execute_result"
    }
   ],
   "source": [
    "data = data.sort_index()\n",
    "occurences = battery.battery_occurrences(battery_data=data, hours=0, minutes=10)\n",
    "occurences.head()"
   ]
  },
  {
   "cell_type": "markdown",
   "id": "eea1e17a",
   "metadata": {},
   "source": [
    "The above dataframe gives the battery information of all users. You can also get the information for an individual by passing a filter dataframe."
   ]
  },
  {
   "cell_type": "code",
   "execution_count": 5,
   "id": "b4268096",
   "metadata": {},
   "outputs": [
    {
     "ename": "NameError",
     "evalue": "name 'f' is not defined",
     "output_type": "error",
     "traceback": [
      "\u001b[1;31m---------------------------------------------------------------------------\u001b[0m",
      "\u001b[1;31mNameError\u001b[0m                                 Traceback (most recent call last)",
      "Input \u001b[1;32mIn [5]\u001b[0m, in \u001b[0;36m<cell line: 1>\u001b[1;34m()\u001b[0m\n\u001b[1;32m----> 1\u001b[0m individual_occurences \u001b[38;5;241m=\u001b[39m battery\u001b[38;5;241m.\u001b[39mextract_features_battery(data\u001b[38;5;241m.\u001b[39mquery(\u001b[38;5;124m'\u001b[39m\u001b[38;5;124muser == \u001b[39m\u001b[38;5;124m\"\u001b[39m\u001b[38;5;124mjd9INuQ5BBlW\u001b[39m\u001b[38;5;124m\"\u001b[39m\u001b[38;5;124m'\u001b[39m), feature_functions\u001b[38;5;241m=\u001b[39m{\u001b[43mf\u001b[49m: {\u001b[38;5;124m'\u001b[39m\u001b[38;5;124mhours\u001b[39m\u001b[38;5;124m'\u001b[39m:\u001b[38;5;241m0\u001b[39m,\u001b[38;5;124m'\u001b[39m\u001b[38;5;124mminutes\u001b[39m\u001b[38;5;124m'\u001b[39m:\u001b[38;5;241m10\u001b[39m}})\n\u001b[0;32m      2\u001b[0m individual_occurences\u001b[38;5;241m.\u001b[39mhead()\n",
      "\u001b[1;31mNameError\u001b[0m: name 'f' is not defined"
     ]
    }
   ],
   "source": [
    "individual_occurences = battery.extract_features_battery(data.query('user == \"jd9INuQ5BBlW\"'), feature_functions={f: {'hours':0,'minutes':10}})\n",
    "individual_occurences.head()"
   ]
  },
  {
   "cell_type": "markdown",
   "id": "3a05452d",
   "metadata": {},
   "source": [
    "Next, you can extract the gaps between two consecutive battery samples with the `battery_gaps` function."
   ]
  },
  {
   "cell_type": "code",
   "execution_count": null,
   "id": "d9b96878",
   "metadata": {},
   "outputs": [],
   "source": [
    "f = niimpy.preprocessing.battery.battery_gaps\n",
    "gaps = battery.battery_gaps(data)\n",
    "gaps.head()[['user', 'device','delta']]"
   ]
  },
  {
   "cell_type": "markdown",
   "id": "b73e5a07",
   "metadata": {},
   "source": [
    "The most important piece of information is the  `delta` column, which gives the time gap between two battery samples."
   ]
  },
  {
   "cell_type": "markdown",
   "id": "04d5aa8a",
   "metadata": {},
   "source": [
    "Knowing when the phone is shutdown is essential if we want to infer the usage behaviour of the subjects. This can be done by calling the `shutdown_info` function. The function returns the timestamp when the phone is shut down or rebooted (e.g: battery_status = -1)."
   ]
  },
  {
   "cell_type": "code",
   "execution_count": null,
   "id": "8363ca8b",
   "metadata": {},
   "outputs": [],
   "source": [
    "shutdown = battery.shutdown_info(data, feature_functions={'battery_column_name': 'battery_status'})\n",
    "shutdown"
   ]
  },
  {
   "cell_type": "markdown",
   "id": "c153cdf4",
   "metadata": {},
   "source": [
    "## Extracting featrues with the extract_features call"
   ]
  },
  {
   "cell_type": "markdown",
   "id": "84cc0fdc",
   "metadata": {},
   "source": [
    "We have seen above how to extract battery features using `niimpy`. Sometimes, we need more than one features and it would be inconvenient to extract everthing one by one. `niimpy` provides a `extract_feature` call to allow you extracting all the features available and combining them into a single data frame. The extractable features must start with the prefix `battery_`."
   ]
  },
  {
   "cell_type": "code",
   "execution_count": null,
   "id": "cae53558",
   "metadata": {},
   "outputs": [],
   "source": [
    "# Start by defining the feature name\n",
    "f0 = niimpy.preprocessing.battery.battery_occurrences\n",
    "f1 = niimpy.preprocessing.battery.battery_gaps\n",
    "f2 = niimpy.preprocessing.battery.battery_charge_discharge\n",
    "\n",
    "# The extract_feature function requires a feature_functions parameter. \n",
    "# This parameter accepts a dictionary where the key is the feature name and value\n",
    "# is a dictionary containing values passed to the function.\n",
    "features = battery.extract_features_battery(data, feature_functions={f0: {'hours':0,'minutes':10},\n",
    "                                                                     f1: {},\n",
    "                                                                    f2: {}})\n",
    "features.head()"
   ]
  }
 ],
 "metadata": {
  "kernelspec": {
   "display_name": "Python 3 (ipykernel)",
   "language": "python",
   "name": "python3"
  },
  "language_info": {
   "codemirror_mode": {
    "name": "ipython",
    "version": 3
   },
   "file_extension": ".py",
   "mimetype": "text/x-python",
   "name": "python",
   "nbconvert_exporter": "python",
   "pygments_lexer": "ipython3",
   "version": "3.10.4"
  }
 },
 "nbformat": 4,
 "nbformat_minor": 5
}
