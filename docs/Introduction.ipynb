{
 "cells": [
  {
   "cell_type": "markdown",
   "metadata": {
    "deletable": true,
    "editable": true
   },
   "source": [
    "# Niimpy introduction\n",
    "\n",
    "Niimpy allows you to access Koota sqlite databases easily."
   ]
  },
  {
   "cell_type": "markdown",
   "metadata": {
    "deletable": true,
    "editable": true
   },
   "source": [
    "## Demo\n"
   ]
  },
  {
   "cell_type": "code",
   "execution_count": 1,

   "metadata": {},

   "outputs": [
    {
     "data": {
      "text/plain": [

       "DatetimeIndex(['2020-01-09 02:34:39.969000192+02:00',\n",
       "               '2020-01-09 02:35:39.176999936+02:00',\n",
       "               '2020-01-09 02:45:34.970000128+02:00',\n",
       "                  '2020-01-09 02:09:29.152000+02:00',\n",
       "               '2020-01-09 02:16:19.010999808+02:00'],\n",
       "              dtype='datetime64[ns, Europe/Helsinki]', freq=None)"
      ]
     },
     "execution_count": 1,

     "metadata": {},
     "output_type": "execute_result"
    }
   ],
   "source": [

    "import niimpy\n",
    "df = niimpy.read_csv(niimpy.sampledata.DATA_CSV, tz='Europe/Helsinki')\n",
    "# List times when screen was turned on\n",
    "screen_on_at = df[df['screen_status'] == 1 ].index\n",
    "# List the first five values\n",
    "screen_on_at[:5]"

   ]
  },
  {
   "cell_type": "markdown",
   "metadata": {
    "deletable": true,
    "editable": true
   },
   "source": [
    "### Looking at the data"
   ]
  },
  {
   "cell_type": "markdown",
   "metadata": {
    "deletable": true,
    "editable": true
   },
   "source": [
    "You can look at raw data (this is basically the exact columns in the database)"
   ]
  },
  {
   "cell_type": "code",
   "execution_count": 7,
   "metadata": {
    "collapsed": false,
    "deletable": true,
    "editable": true
   },
   "outputs": [
    {
     "data": {
      "text/html": [
       "<div>\n",
       "<style scoped>\n",
       "    .dataframe tbody tr th:only-of-type {\n",
       "        vertical-align: middle;\n",
       "    }\n",
       "\n",
       "    .dataframe tbody tr th {\n",
       "        vertical-align: top;\n",
       "    }\n",
       "\n",
       "    .dataframe thead th {\n",
       "        text-align: right;\n",
       "    }\n",
       "</style>\n",
       "<table border=\"1\" class=\"dataframe\">\n",
       "  <thead>\n",
       "    <tr style=\"text-align: right;\">\n",
       "      <th></th>\n",
       "      <th>time</th>\n",
       "      <th>screen_status</th>\n",
       "      <th>datetime</th>\n",
       "    </tr>\n",
       "  </thead>\n",
       "  <tbody>\n",
       "    <tr>\n",
       "      <th>2018-07-10 00:13:17.933000088+03:00</th>\n",
       "      <td>1.531171e+09</td>\n",
       "      <td>1</td>\n",
       "      <td>2018-07-10 00:13:17.933000088+03:00</td>\n",
       "    </tr>\n",
       "    <tr>\n",
       "      <th>2018-07-10 00:13:28.671999931+03:00</th>\n",
       "      <td>1.531171e+09</td>\n",
       "      <td>0</td>\n",
       "      <td>2018-07-10 00:13:28.671999931+03:00</td>\n",
       "    </tr>\n",
       "    <tr>\n",
       "      <th>2018-07-10 00:13:28.717999935+03:00</th>\n",
       "      <td>1.531171e+09</td>\n",
       "      <td>2</td>\n",
       "      <td>2018-07-10 00:13:28.717999935+03:00</td>\n",
       "    </tr>\n",
       "    <tr>\n",
       "      <th>2018-07-10 12:05:05.299000025+03:00</th>\n",
       "      <td>1.531214e+09</td>\n",
       "      <td>1</td>\n",
       "      <td>2018-07-10 12:05:05.299000025+03:00</td>\n",
       "    </tr>\n",
       "    <tr>\n",
       "      <th>2018-07-10 12:05:09.782999992+03:00</th>\n",
       "      <td>1.531214e+09</td>\n",
       "      <td>0</td>\n",
       "      <td>2018-07-10 12:05:09.782999992+03:00</td>\n",
       "    </tr>\n",
       "  </tbody>\n",
       "</table>\n",
       "</div>"
      ],
      "text/plain": [
       "                                             time screen_status  \\\n",
       "2018-07-10 00:13:17.933000088+03:00  1.531171e+09             1   \n",
       "2018-07-10 00:13:28.671999931+03:00  1.531171e+09             0   \n",
       "2018-07-10 00:13:28.717999935+03:00  1.531171e+09             2   \n",
       "2018-07-10 12:05:05.299000025+03:00  1.531214e+09             1   \n",
       "2018-07-10 12:05:09.782999992+03:00  1.531214e+09             0   \n",
       "\n",
       "                                                               datetime  \n",
       "2018-07-10 00:13:17.933000088+03:00 2018-07-10 00:13:17.933000088+03:00  \n",
       "2018-07-10 00:13:28.671999931+03:00 2018-07-10 00:13:28.671999931+03:00  \n",
       "2018-07-10 00:13:28.717999935+03:00 2018-07-10 00:13:28.717999935+03:00  \n",
       "2018-07-10 12:05:05.299000025+03:00 2018-07-10 12:05:05.299000025+03:00  \n",
       "2018-07-10 12:05:09.782999992+03:00 2018-07-10 12:05:09.782999992+03:00  "
      ]
     },
     "execution_count": 7,
     "metadata": {},
     "output_type": "execute_result"
    }
   ],
   "source": [
    "screen = data.raw('AwareScreen', None)\n",
    "# This is a pandas DataFrame\n",
    "screen.head()"
   ]
  },
  {
   "cell_type": "markdown",
   "metadata": {
    "deletable": true,
    "editable": true
   },
   "source": [
    "Get the first timestamp of the data"
   ]
  },
  {
   "cell_type": "code",
   "execution_count": 8,
   "metadata": {
    "collapsed": false,
    "deletable": true,
    "editable": true
   },
   "outputs": [
    {
     "data": {
      "text/plain": [
       "Timestamp('2018-07-10 00:13:17.933000088+0300', tz='Europe/Helsinki')"
      ]
     },
     "execution_count": 8,
     "metadata": {},
     "output_type": "execute_result"
    }
   ],
   "source": [
    "data.first('AwareScreen', None)['datetime'][0]"
   ]
  },
  {
   "cell_type": "markdown",
   "metadata": {
    "deletable": true,
    "editable": true
   },
   "source": [
    "Let's use this chance to discuss some common column names:\n",
    "* `time` always referrs to a unixtime\n",
    "* `datetime` always referrs to a `pandas.Timestamp`\n",
    "* the dataframe index is usually pandas timestamps if appropriate - same as `datetime`."
   ]
  }
 ],
 "metadata": {
  "kernelspec": {

   "display_name": "Python 3 (ipykernel)",

   "language": "python",
   "name": "python3"
  },
  "language_info": {
   "codemirror_mode": {
    "name": "ipython",
    "version": 3
   },
   "file_extension": ".py",
   "mimetype": "text/x-python",
   "name": "python",
   "nbconvert_exporter": "python",
   "pygments_lexer": "ipython3",

   "version": "3.9.2"

  }
 },
 "nbformat": 4,
 "nbformat_minor": 4
}
