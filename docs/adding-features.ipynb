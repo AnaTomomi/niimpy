{
 "cells": [
  {
   "cell_type": "markdown",
   "metadata": {},
   "source": [
    "# Adding features\n",
    "\n",
    "## General principles\n",
    "\n",
    "niimpy is an open source project and general open source contribution guidelines apply - there is no need for us to repeat them right now.  Please use Github for communication.\n",
    "\n",
    "Contributions are welcome and encouraged.\n",
    "\n",
    "## Adding an analysis\n",
    "\n",
    "* Please add documentatation to a sensor page when you add a new analysis.  This should include enough description so that someone else can understand and reproduce all relevant features.\n",
    "* Please add unit tests which test each relevant feature (and each claimed analysis) with a minimal example.  For examples of unit tests, see ``niimpy/test_screen.py``.  You can create some sample data within each test module which can be used both during development and for tests.\n",
    "\n",
    "\n",
    "## Common things to note\n",
    "\n",
    "* You should always use the DataFrame index to retrieve data/time values, not the `datetime` column (which is a convenience thing but not guaranteed to be there).\n",
    "* Don't fail if there are extra columns passed (or missing some non-essential columns)\n",
    "* Group by 'user' and 'device' columns if they are present in the input\n",
    "* Use `niimpy.util._read_sqlite_auto` function for getting data from input\n",
    "* Use `niimpy.filter.filter_dataframe` to do basic initial filterings based on standard arguments."
   ]
  },
  {
   "cell_type": "code",
   "execution_count": null,
   "metadata": {},
   "outputs": [],
   "source": []
  }
 ],
 "metadata": {
  "kernelspec": {
   "display_name": "Niimpy development",
   "language": "python",
   "name": "niimpy-dev"
  },
  "language_info": {
   "codemirror_mode": {
    "name": "ipython",
    "version": 3
   },
   "file_extension": ".py",
   "mimetype": "text/x-python",
   "name": "python",
   "nbconvert_exporter": "python",
   "pygments_lexer": "ipython3",
   "version": "3.6.8"
  }
 },
 "nbformat": 4,
 "nbformat_minor": 4
}
