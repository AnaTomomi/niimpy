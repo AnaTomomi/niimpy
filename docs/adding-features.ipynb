{
 "cells": [
  {
   "cell_type": "markdown",
   "metadata": {},
   "source": [
    "# Adding features\n",
    "\n",
    "## Common things to note\n",
    "\n",
    "* You should always use the DataFrame index to retrieve data/time values, not the `datetime` column (which is a convenience thing but not guaranteed to be there). "
   ]
  }
 ],
 "metadata": {
  "kernelspec": {
   "display_name": "Niimpy development",
   "language": "python",
   "name": "niimpy-dev"
  },
  "language_info": {
   "codemirror_mode": {
    "name": "ipython",
    "version": 3
   },
   "file_extension": ".py",
   "mimetype": "text/x-python",
   "name": "python",
   "nbconvert_exporter": "python",
   "pygments_lexer": "ipython3",
   "version": "3.6.8"
  }
 },
 "nbformat": 4,
 "nbformat_minor": 4
}
