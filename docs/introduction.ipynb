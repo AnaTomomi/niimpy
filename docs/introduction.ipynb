{
 "cells": [
  {
   "cell_type": "markdown",
   "metadata": {},
   "source": [
    "# Introduction\n",
    "\n",
    "Niimpy allows you to easily access and analyze digital behavioral traces.  It provides an interface on top of the Python `pandas` package for easily doing high-level operations.  It also standardizes data formats to promote interoperability.\n"
   ]
  },
  {
   "cell_type": "markdown",
   "metadata": {},
   "source": [
    "## Demo"
   ]
  },
  {
   "cell_type": "code",
   "execution_count": 14,
   "metadata": {},
   "outputs": [
    {
     "data": {
      "text/plain": [
       "DatetimeIndex(['2020-01-09 02:34:39.968999863+02:00',\n",
       "               '2020-01-09 02:35:39.177000046+02:00',\n",
       "               '2020-01-09 02:45:34.970000029+02:00',\n",
       "               '2020-01-09 02:09:29.152000189+02:00',\n",
       "               '2020-01-09 02:16:19.011000156+02:00'],\n",
       "              dtype='datetime64[ns, Europe/Helsinki]', freq=None)"
      ]
     },
     "execution_count": 14,
     "metadata": {},
     "output_type": "execute_result"
    }
   ],
   "source": [
    "import niimpy\n",
    "df = niimpy.read_csv(niimpy.sampledata.DATA_CSV)\n",
    "# List times when screen was turned on\n",
    "screen_on_at = df[df['screen_status'] == 1 ].index\n",
    "# List the first five values\n",
    "screen_on_at[:5]"
   ]
  },
  {
   "cell_type": "markdown",
   "metadata": {},
   "source": [
    "## Features\n",
    "\n",
    "Niimpy is currently in development but provides/will provide the following features:\n",
    "\n",
    "* Standardization of data storage formats\n",
    "* Standardized preprocessing steps (really just using Pandas, but we provide good tutorials for common operations to avoid having to learn much else)\n",
    "* Functions for common operations on various types of data\n",
    "* A place to contribute other standard steps so that they can be easily reused by others."
   ]
  }
 ],
 "metadata": {
  "kernelspec": {
   "display_name": "Niimpy development",
   "language": "python",
   "name": "niimpy-dev"
  },
  "language_info": {
   "codemirror_mode": {
    "name": "ipython",
    "version": 3
   },
   "file_extension": ".py",
   "mimetype": "text/x-python",
   "name": "python",
   "nbconvert_exporter": "python",
   "pygments_lexer": "ipython3",
   "version": "3.6.8"
  }
 },
 "nbformat": 4,
 "nbformat_minor": 4
}
