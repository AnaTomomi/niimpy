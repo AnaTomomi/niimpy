{
 "cells": [
  {
   "cell_type": "markdown",
   "metadata": {},
   "source": [
    "# DEMO: Missingness module\n",
    "\n",
    "This notebook provides a demo of how to utilise the missingness module."
   ]
  },
  {
   "cell_type": "code",
   "execution_count": 1,
   "metadata": {},
   "outputs": [],
   "source": [
    "import sys\n",
    "sys.path.append('../../')\n",
    "\n",
    "import numpy as np\n",
    "import pandas as pd\n",
    "import niimpy\n",
    "from niimpy.EDA import EDA_missingness"
   ]
  },
  {
   "cell_type": "markdown",
   "metadata": {},
   "source": [
    "## Load data\n",
    "We will create a mock missingess dataframe."
   ]
  },
  {
   "cell_type": "code",
   "execution_count": 6,
   "metadata": {},
   "outputs": [
    {
     "data": {
      "text/html": [
       "<div>\n",
       "<style scoped>\n",
       "    .dataframe tbody tr th:only-of-type {\n",
       "        vertical-align: middle;\n",
       "    }\n",
       "\n",
       "    .dataframe tbody tr th {\n",
       "        vertical-align: top;\n",
       "    }\n",
       "\n",
       "    .dataframe thead th {\n",
       "        text-align: right;\n",
       "    }\n",
       "</style>\n",
       "<table border=\"1\" class=\"dataframe\">\n",
       "  <thead>\n",
       "    <tr style=\"text-align: right;\">\n",
       "      <th></th>\n",
       "      <th>0</th>\n",
       "      <th>1</th>\n",
       "      <th>2</th>\n",
       "      <th>3</th>\n",
       "      <th>4</th>\n",
       "    </tr>\n",
       "  </thead>\n",
       "  <tbody>\n",
       "    <tr>\n",
       "      <th>2022-01-01 00:00:00</th>\n",
       "      <td>NaN</td>\n",
       "      <td>68.424479</td>\n",
       "      <td>NaN</td>\n",
       "      <td>NaN</td>\n",
       "      <td>NaN</td>\n",
       "    </tr>\n",
       "    <tr>\n",
       "      <th>2022-01-01 00:30:00</th>\n",
       "      <td>NaN</td>\n",
       "      <td>NaN</td>\n",
       "      <td>NaN</td>\n",
       "      <td>68.332347</td>\n",
       "      <td>18.326114</td>\n",
       "    </tr>\n",
       "    <tr>\n",
       "      <th>2022-01-01 01:00:00</th>\n",
       "      <td>NaN</td>\n",
       "      <td>24.923392</td>\n",
       "      <td>22.869322</td>\n",
       "      <td>10.415777</td>\n",
       "      <td>3.714911</td>\n",
       "    </tr>\n",
       "    <tr>\n",
       "      <th>2022-01-01 01:30:00</th>\n",
       "      <td>NaN</td>\n",
       "      <td>NaN</td>\n",
       "      <td>NaN</td>\n",
       "      <td>NaN</td>\n",
       "      <td>70.761671</td>\n",
       "    </tr>\n",
       "    <tr>\n",
       "      <th>2022-01-01 02:00:00</th>\n",
       "      <td>13.889036</td>\n",
       "      <td>7.613120</td>\n",
       "      <td>77.937764</td>\n",
       "      <td>32.107727</td>\n",
       "      <td>13.058078</td>\n",
       "    </tr>\n",
       "    <tr>\n",
       "      <th>...</th>\n",
       "      <td>...</td>\n",
       "      <td>...</td>\n",
       "      <td>...</td>\n",
       "      <td>...</td>\n",
       "      <td>...</td>\n",
       "    </tr>\n",
       "    <tr>\n",
       "      <th>2022-01-14 21:30:00</th>\n",
       "      <td>79.540628</td>\n",
       "      <td>NaN</td>\n",
       "      <td>53.272080</td>\n",
       "      <td>48.092751</td>\n",
       "      <td>54.691212</td>\n",
       "    </tr>\n",
       "    <tr>\n",
       "      <th>2022-01-14 22:00:00</th>\n",
       "      <td>43.905011</td>\n",
       "      <td>71.880946</td>\n",
       "      <td>NaN</td>\n",
       "      <td>NaN</td>\n",
       "      <td>91.321767</td>\n",
       "    </tr>\n",
       "    <tr>\n",
       "      <th>2022-01-14 22:30:00</th>\n",
       "      <td>86.163605</td>\n",
       "      <td>NaN</td>\n",
       "      <td>NaN</td>\n",
       "      <td>NaN</td>\n",
       "      <td>53.476797</td>\n",
       "    </tr>\n",
       "    <tr>\n",
       "      <th>2022-01-14 23:00:00</th>\n",
       "      <td>17.134864</td>\n",
       "      <td>NaN</td>\n",
       "      <td>NaN</td>\n",
       "      <td>71.276681</td>\n",
       "      <td>88.784999</td>\n",
       "    </tr>\n",
       "    <tr>\n",
       "      <th>2022-01-14 23:30:00</th>\n",
       "      <td>1.878006</td>\n",
       "      <td>23.745403</td>\n",
       "      <td>54.528002</td>\n",
       "      <td>NaN</td>\n",
       "      <td>1.600238</td>\n",
       "    </tr>\n",
       "  </tbody>\n",
       "</table>\n",
       "<p>672 rows × 5 columns</p>\n",
       "</div>"
      ],
      "text/plain": [
       "                             0          1          2          3          4\n",
       "2022-01-01 00:00:00        NaN  68.424479        NaN        NaN        NaN\n",
       "2022-01-01 00:30:00        NaN        NaN        NaN  68.332347  18.326114\n",
       "2022-01-01 01:00:00        NaN  24.923392  22.869322  10.415777   3.714911\n",
       "2022-01-01 01:30:00        NaN        NaN        NaN        NaN  70.761671\n",
       "2022-01-01 02:00:00  13.889036   7.613120  77.937764  32.107727  13.058078\n",
       "...                        ...        ...        ...        ...        ...\n",
       "2022-01-14 21:30:00  79.540628        NaN  53.272080  48.092751  54.691212\n",
       "2022-01-14 22:00:00  43.905011  71.880946        NaN        NaN  91.321767\n",
       "2022-01-14 22:30:00  86.163605        NaN        NaN        NaN  53.476797\n",
       "2022-01-14 23:00:00  17.134864        NaN        NaN  71.276681  88.784999\n",
       "2022-01-14 23:30:00   1.878006  23.745403  54.528002        NaN   1.600238\n",
       "\n",
       "[672 rows x 5 columns]"
      ]
     },
     "execution_count": 6,
     "metadata": {},
     "output_type": "execute_result"
    }
   ],
   "source": [
    "df = niimpy.util.create_missing_dataframe(nrows=2*24*14, ncols=5, density=0.5, index_type='dt', freq='30T')\n",
    "df"
   ]
  },
  {
   "cell_type": "markdown",
   "metadata": {},
   "source": [
    "## Visualization\n",
    "\n",
    "First, we create a histogram to visualize data frequency per column."
   ]
  },
  {
   "cell_type": "code",
   "execution_count": 7,
   "metadata": {},
   "outputs": [
    {
     "data": {
      "application/vnd.plotly.v1+json": {
       "config": {
        "plotlyServerURL": "https://plot.ly"
       },
       "data": [
        {
         "alignmentgroup": "True",
         "hovertemplate": "variable=0<br>index=%{x}<br>value=%{y}<extra></extra>",
         "legendgroup": "0",
         "marker": {
          "color": "#636efa",
          "pattern": {
           "shape": ""
          }
         },
         "name": "0",
         "offsetgroup": "0",
         "orientation": "v",
         "showlegend": true,
         "textposition": "auto",
         "type": "bar",
         "x": [
          0,
          1,
          2,
          3,
          4
         ],
         "xaxis": "x",
         "y": [
          0.5119047619047619,
          0.5089285714285714,
          0.49851190476190477,
          0.4642857142857143,
          0.5163690476190477
         ],
         "yaxis": "y"
        }
       ],
       "layout": {
        "autosize": true,
        "barmode": "relative",
        "legend": {
         "title": {
          "text": "variable"
         },
         "tracegroupgap": 0
        },
        "margin": {
         "t": 60
        },
        "showlegend": false,
        "template": {
         "data": {
          "bar": [
           {
            "error_x": {
             "color": "#2a3f5f"
            },
            "error_y": {
             "color": "#2a3f5f"
            },
            "marker": {
             "line": {
              "color": "#E5ECF6",
              "width": 0.5
             },
             "pattern": {
              "fillmode": "overlay",
              "size": 10,
              "solidity": 0.2
             }
            },
            "type": "bar"
           }
          ],
          "barpolar": [
           {
            "marker": {
             "line": {
              "color": "#E5ECF6",
              "width": 0.5
             },
             "pattern": {
              "fillmode": "overlay",
              "size": 10,
              "solidity": 0.2
             }
            },
            "type": "barpolar"
           }
          ],
          "carpet": [
           {
            "aaxis": {
             "endlinecolor": "#2a3f5f",
             "gridcolor": "white",
             "linecolor": "white",
             "minorgridcolor": "white",
             "startlinecolor": "#2a3f5f"
            },
            "baxis": {
             "endlinecolor": "#2a3f5f",
             "gridcolor": "white",
             "linecolor": "white",
             "minorgridcolor": "white",
             "startlinecolor": "#2a3f5f"
            },
            "type": "carpet"
           }
          ],
          "choropleth": [
           {
            "colorbar": {
             "outlinewidth": 0,
             "ticks": ""
            },
            "type": "choropleth"
           }
          ],
          "contour": [
           {
            "colorbar": {
             "outlinewidth": 0,
             "ticks": ""
            },
            "colorscale": [
             [
              0,
              "#0d0887"
             ],
             [
              0.1111111111111111,
              "#46039f"
             ],
             [
              0.2222222222222222,
              "#7201a8"
             ],
             [
              0.3333333333333333,
              "#9c179e"
             ],
             [
              0.4444444444444444,
              "#bd3786"
             ],
             [
              0.5555555555555556,
              "#d8576b"
             ],
             [
              0.6666666666666666,
              "#ed7953"
             ],
             [
              0.7777777777777778,
              "#fb9f3a"
             ],
             [
              0.8888888888888888,
              "#fdca26"
             ],
             [
              1,
              "#f0f921"
             ]
            ],
            "type": "contour"
           }
          ],
          "contourcarpet": [
           {
            "colorbar": {
             "outlinewidth": 0,
             "ticks": ""
            },
            "type": "contourcarpet"
           }
          ],
          "heatmap": [
           {
            "colorbar": {
             "outlinewidth": 0,
             "ticks": ""
            },
            "colorscale": [
             [
              0,
              "#0d0887"
             ],
             [
              0.1111111111111111,
              "#46039f"
             ],
             [
              0.2222222222222222,
              "#7201a8"
             ],
             [
              0.3333333333333333,
              "#9c179e"
             ],
             [
              0.4444444444444444,
              "#bd3786"
             ],
             [
              0.5555555555555556,
              "#d8576b"
             ],
             [
              0.6666666666666666,
              "#ed7953"
             ],
             [
              0.7777777777777778,
              "#fb9f3a"
             ],
             [
              0.8888888888888888,
              "#fdca26"
             ],
             [
              1,
              "#f0f921"
             ]
            ],
            "type": "heatmap"
           }
          ],
          "heatmapgl": [
           {
            "colorbar": {
             "outlinewidth": 0,
             "ticks": ""
            },
            "colorscale": [
             [
              0,
              "#0d0887"
             ],
             [
              0.1111111111111111,
              "#46039f"
             ],
             [
              0.2222222222222222,
              "#7201a8"
             ],
             [
              0.3333333333333333,
              "#9c179e"
             ],
             [
              0.4444444444444444,
              "#bd3786"
             ],
             [
              0.5555555555555556,
              "#d8576b"
             ],
             [
              0.6666666666666666,
              "#ed7953"
             ],
             [
              0.7777777777777778,
              "#fb9f3a"
             ],
             [
              0.8888888888888888,
              "#fdca26"
             ],
             [
              1,
              "#f0f921"
             ]
            ],
            "type": "heatmapgl"
           }
          ],
          "histogram": [
           {
            "marker": {
             "pattern": {
              "fillmode": "overlay",
              "size": 10,
              "solidity": 0.2
             }
            },
            "type": "histogram"
           }
          ],
          "histogram2d": [
           {
            "colorbar": {
             "outlinewidth": 0,
             "ticks": ""
            },
            "colorscale": [
             [
              0,
              "#0d0887"
             ],
             [
              0.1111111111111111,
              "#46039f"
             ],
             [
              0.2222222222222222,
              "#7201a8"
             ],
             [
              0.3333333333333333,
              "#9c179e"
             ],
             [
              0.4444444444444444,
              "#bd3786"
             ],
             [
              0.5555555555555556,
              "#d8576b"
             ],
             [
              0.6666666666666666,
              "#ed7953"
             ],
             [
              0.7777777777777778,
              "#fb9f3a"
             ],
             [
              0.8888888888888888,
              "#fdca26"
             ],
             [
              1,
              "#f0f921"
             ]
            ],
            "type": "histogram2d"
           }
          ],
          "histogram2dcontour": [
           {
            "colorbar": {
             "outlinewidth": 0,
             "ticks": ""
            },
            "colorscale": [
             [
              0,
              "#0d0887"
             ],
             [
              0.1111111111111111,
              "#46039f"
             ],
             [
              0.2222222222222222,
              "#7201a8"
             ],
             [
              0.3333333333333333,
              "#9c179e"
             ],
             [
              0.4444444444444444,
              "#bd3786"
             ],
             [
              0.5555555555555556,
              "#d8576b"
             ],
             [
              0.6666666666666666,
              "#ed7953"
             ],
             [
              0.7777777777777778,
              "#fb9f3a"
             ],
             [
              0.8888888888888888,
              "#fdca26"
             ],
             [
              1,
              "#f0f921"
             ]
            ],
            "type": "histogram2dcontour"
           }
          ],
          "mesh3d": [
           {
            "colorbar": {
             "outlinewidth": 0,
             "ticks": ""
            },
            "type": "mesh3d"
           }
          ],
          "parcoords": [
           {
            "line": {
             "colorbar": {
              "outlinewidth": 0,
              "ticks": ""
             }
            },
            "type": "parcoords"
           }
          ],
          "pie": [
           {
            "automargin": true,
            "type": "pie"
           }
          ],
          "scatter": [
           {
            "marker": {
             "colorbar": {
              "outlinewidth": 0,
              "ticks": ""
             }
            },
            "type": "scatter"
           }
          ],
          "scatter3d": [
           {
            "line": {
             "colorbar": {
              "outlinewidth": 0,
              "ticks": ""
             }
            },
            "marker": {
             "colorbar": {
              "outlinewidth": 0,
              "ticks": ""
             }
            },
            "type": "scatter3d"
           }
          ],
          "scattercarpet": [
           {
            "marker": {
             "colorbar": {
              "outlinewidth": 0,
              "ticks": ""
             }
            },
            "type": "scattercarpet"
           }
          ],
          "scattergeo": [
           {
            "marker": {
             "colorbar": {
              "outlinewidth": 0,
              "ticks": ""
             }
            },
            "type": "scattergeo"
           }
          ],
          "scattergl": [
           {
            "marker": {
             "colorbar": {
              "outlinewidth": 0,
              "ticks": ""
             }
            },
            "type": "scattergl"
           }
          ],
          "scattermapbox": [
           {
            "marker": {
             "colorbar": {
              "outlinewidth": 0,
              "ticks": ""
             }
            },
            "type": "scattermapbox"
           }
          ],
          "scatterpolar": [
           {
            "marker": {
             "colorbar": {
              "outlinewidth": 0,
              "ticks": ""
             }
            },
            "type": "scatterpolar"
           }
          ],
          "scatterpolargl": [
           {
            "marker": {
             "colorbar": {
              "outlinewidth": 0,
              "ticks": ""
             }
            },
            "type": "scatterpolargl"
           }
          ],
          "scatterternary": [
           {
            "marker": {
             "colorbar": {
              "outlinewidth": 0,
              "ticks": ""
             }
            },
            "type": "scatterternary"
           }
          ],
          "surface": [
           {
            "colorbar": {
             "outlinewidth": 0,
             "ticks": ""
            },
            "colorscale": [
             [
              0,
              "#0d0887"
             ],
             [
              0.1111111111111111,
              "#46039f"
             ],
             [
              0.2222222222222222,
              "#7201a8"
             ],
             [
              0.3333333333333333,
              "#9c179e"
             ],
             [
              0.4444444444444444,
              "#bd3786"
             ],
             [
              0.5555555555555556,
              "#d8576b"
             ],
             [
              0.6666666666666666,
              "#ed7953"
             ],
             [
              0.7777777777777778,
              "#fb9f3a"
             ],
             [
              0.8888888888888888,
              "#fdca26"
             ],
             [
              1,
              "#f0f921"
             ]
            ],
            "type": "surface"
           }
          ],
          "table": [
           {
            "cells": {
             "fill": {
              "color": "#EBF0F8"
             },
             "line": {
              "color": "white"
             }
            },
            "header": {
             "fill": {
              "color": "#C8D4E3"
             },
             "line": {
              "color": "white"
             }
            },
            "type": "table"
           }
          ]
         },
         "layout": {
          "annotationdefaults": {
           "arrowcolor": "#2a3f5f",
           "arrowhead": 0,
           "arrowwidth": 1
          },
          "autotypenumbers": "strict",
          "coloraxis": {
           "colorbar": {
            "outlinewidth": 0,
            "ticks": ""
           }
          },
          "colorscale": {
           "diverging": [
            [
             0,
             "#8e0152"
            ],
            [
             0.1,
             "#c51b7d"
            ],
            [
             0.2,
             "#de77ae"
            ],
            [
             0.3,
             "#f1b6da"
            ],
            [
             0.4,
             "#fde0ef"
            ],
            [
             0.5,
             "#f7f7f7"
            ],
            [
             0.6,
             "#e6f5d0"
            ],
            [
             0.7,
             "#b8e186"
            ],
            [
             0.8,
             "#7fbc41"
            ],
            [
             0.9,
             "#4d9221"
            ],
            [
             1,
             "#276419"
            ]
           ],
           "sequential": [
            [
             0,
             "#0d0887"
            ],
            [
             0.1111111111111111,
             "#46039f"
            ],
            [
             0.2222222222222222,
             "#7201a8"
            ],
            [
             0.3333333333333333,
             "#9c179e"
            ],
            [
             0.4444444444444444,
             "#bd3786"
            ],
            [
             0.5555555555555556,
             "#d8576b"
            ],
            [
             0.6666666666666666,
             "#ed7953"
            ],
            [
             0.7777777777777778,
             "#fb9f3a"
            ],
            [
             0.8888888888888888,
             "#fdca26"
            ],
            [
             1,
             "#f0f921"
            ]
           ],
           "sequentialminus": [
            [
             0,
             "#0d0887"
            ],
            [
             0.1111111111111111,
             "#46039f"
            ],
            [
             0.2222222222222222,
             "#7201a8"
            ],
            [
             0.3333333333333333,
             "#9c179e"
            ],
            [
             0.4444444444444444,
             "#bd3786"
            ],
            [
             0.5555555555555556,
             "#d8576b"
            ],
            [
             0.6666666666666666,
             "#ed7953"
            ],
            [
             0.7777777777777778,
             "#fb9f3a"
            ],
            [
             0.8888888888888888,
             "#fdca26"
            ],
            [
             1,
             "#f0f921"
            ]
           ]
          },
          "colorway": [
           "#636efa",
           "#EF553B",
           "#00cc96",
           "#ab63fa",
           "#FFA15A",
           "#19d3f3",
           "#FF6692",
           "#B6E880",
           "#FF97FF",
           "#FECB52"
          ],
          "font": {
           "color": "#2a3f5f"
          },
          "geo": {
           "bgcolor": "white",
           "lakecolor": "white",
           "landcolor": "#E5ECF6",
           "showlakes": true,
           "showland": true,
           "subunitcolor": "white"
          },
          "hoverlabel": {
           "align": "left"
          },
          "hovermode": "closest",
          "mapbox": {
           "style": "light"
          },
          "paper_bgcolor": "white",
          "plot_bgcolor": "#E5ECF6",
          "polar": {
           "angularaxis": {
            "gridcolor": "white",
            "linecolor": "white",
            "ticks": ""
           },
           "bgcolor": "#E5ECF6",
           "radialaxis": {
            "gridcolor": "white",
            "linecolor": "white",
            "ticks": ""
           }
          },
          "scene": {
           "xaxis": {
            "backgroundcolor": "#E5ECF6",
            "gridcolor": "white",
            "gridwidth": 2,
            "linecolor": "white",
            "showbackground": true,
            "ticks": "",
            "zerolinecolor": "white"
           },
           "yaxis": {
            "backgroundcolor": "#E5ECF6",
            "gridcolor": "white",
            "gridwidth": 2,
            "linecolor": "white",
            "showbackground": true,
            "ticks": "",
            "zerolinecolor": "white"
           },
           "zaxis": {
            "backgroundcolor": "#E5ECF6",
            "gridcolor": "white",
            "gridwidth": 2,
            "linecolor": "white",
            "showbackground": true,
            "ticks": "",
            "zerolinecolor": "white"
           }
          },
          "shapedefaults": {
           "line": {
            "color": "#2a3f5f"
           }
          },
          "ternary": {
           "aaxis": {
            "gridcolor": "white",
            "linecolor": "white",
            "ticks": ""
           },
           "baxis": {
            "gridcolor": "white",
            "linecolor": "white",
            "ticks": ""
           },
           "bgcolor": "#E5ECF6",
           "caxis": {
            "gridcolor": "white",
            "linecolor": "white",
            "ticks": ""
           }
          },
          "title": {
           "x": 0.05
          },
          "xaxis": {
           "automargin": true,
           "gridcolor": "white",
           "linecolor": "white",
           "ticks": "",
           "title": {
            "standoff": 15
           },
           "zerolinecolor": "white",
           "zerolinewidth": 2
          },
          "yaxis": {
           "automargin": true,
           "gridcolor": "white",
           "linecolor": "white",
           "ticks": "",
           "title": {
            "standoff": 15
           },
           "zerolinecolor": "white",
           "zerolinewidth": 2
          }
         }
        },
        "title": {
         "text": "Data frequency"
        },
        "xaxis": {
         "anchor": "y",
         "autorange": true,
         "domain": [
          0,
          1
         ],
         "range": [
          -0.5,
          4.5
         ],
         "title": {
          "text": ""
         },
         "type": "linear"
        },
        "yaxis": {
         "anchor": "x",
         "autorange": true,
         "domain": [
          0,
          1
         ],
         "range": [
          0,
          0.543546365914787
         ],
         "title": {
          "text": ""
         },
         "type": "linear"
        }
       }
      },
      "image/png": "[encoded data removed]",
      "text/html": [
       "<div>                            <div id=\"be17d8fe-620c-4b6c-8117-6a651fb42811\" class=\"plotly-graph-div\" style=\"height:525px; width:100%;\"></div>            <script type=\"text/javascript\">                require([\"plotly\"], function(Plotly) {                    window.PLOTLYENV=window.PLOTLYENV || {};                                    if (document.getElementById(\"be17d8fe-620c-4b6c-8117-6a651fb42811\")) {                    Plotly.newPlot(                        \"be17d8fe-620c-4b6c-8117-6a651fb42811\",                        [{\"alignmentgroup\":\"True\",\"hovertemplate\":\"variable=0<br>index=%{x}<br>value=%{y}<extra></extra>\",\"legendgroup\":\"0\",\"marker\":{\"color\":\"#636efa\",\"pattern\":{\"shape\":\"\"}},\"name\":\"0\",\"offsetgroup\":\"0\",\"orientation\":\"v\",\"showlegend\":true,\"textposition\":\"auto\",\"x\":[0,1,2,3,4],\"xaxis\":\"x\",\"y\":[0.5119047619047619,0.5089285714285714,0.49851190476190477,0.4642857142857143,0.5163690476190477],\"yaxis\":\"y\",\"type\":\"bar\"}],                        {\"template\":{\"data\":{\"bar\":[{\"error_x\":{\"color\":\"#2a3f5f\"},\"error_y\":{\"color\":\"#2a3f5f\"},\"marker\":{\"line\":{\"color\":\"#E5ECF6\",\"width\":0.5},\"pattern\":{\"fillmode\":\"overlay\",\"size\":10,\"solidity\":0.2}},\"type\":\"bar\"}],\"barpolar\":[{\"marker\":{\"line\":{\"color\":\"#E5ECF6\",\"width\":0.5},\"pattern\":{\"fillmode\":\"overlay\",\"size\":10,\"solidity\":0.2}},\"type\":\"barpolar\"}],\"carpet\":[{\"aaxis\":{\"endlinecolor\":\"#2a3f5f\",\"gridcolor\":\"white\",\"linecolor\":\"white\",\"minorgridcolor\":\"white\",\"startlinecolor\":\"#2a3f5f\"},\"baxis\":{\"endlinecolor\":\"#2a3f5f\",\"gridcolor\":\"white\",\"linecolor\":\"white\",\"minorgridcolor\":\"white\",\"startlinecolor\":\"#2a3f5f\"},\"type\":\"carpet\"}],\"choropleth\":[{\"colorbar\":{\"outlinewidth\":0,\"ticks\":\"\"},\"type\":\"choropleth\"}],\"contour\":[{\"colorbar\":{\"outlinewidth\":0,\"ticks\":\"\"},\"colorscale\":[[0.0,\"#0d0887\"],[0.1111111111111111,\"#46039f\"],[0.2222222222222222,\"#7201a8\"],[0.3333333333333333,\"#9c179e\"],[0.4444444444444444,\"#bd3786\"],[0.5555555555555556,\"#d8576b\"],[0.6666666666666666,\"#ed7953\"],[0.7777777777777778,\"#fb9f3a\"],[0.8888888888888888,\"#fdca26\"],[1.0,\"#f0f921\"]],\"type\":\"contour\"}],\"contourcarpet\":[{\"colorbar\":{\"outlinewidth\":0,\"ticks\":\"\"},\"type\":\"contourcarpet\"}],\"heatmap\":[{\"colorbar\":{\"outlinewidth\":0,\"ticks\":\"\"},\"colorscale\":[[0.0,\"#0d0887\"],[0.1111111111111111,\"#46039f\"],[0.2222222222222222,\"#7201a8\"],[0.3333333333333333,\"#9c179e\"],[0.4444444444444444,\"#bd3786\"],[0.5555555555555556,\"#d8576b\"],[0.6666666666666666,\"#ed7953\"],[0.7777777777777778,\"#fb9f3a\"],[0.8888888888888888,\"#fdca26\"],[1.0,\"#f0f921\"]],\"type\":\"heatmap\"}],\"heatmapgl\":[{\"colorbar\":{\"outlinewidth\":0,\"ticks\":\"\"},\"colorscale\":[[0.0,\"#0d0887\"],[0.1111111111111111,\"#46039f\"],[0.2222222222222222,\"#7201a8\"],[0.3333333333333333,\"#9c179e\"],[0.4444444444444444,\"#bd3786\"],[0.5555555555555556,\"#d8576b\"],[0.6666666666666666,\"#ed7953\"],[0.7777777777777778,\"#fb9f3a\"],[0.8888888888888888,\"#fdca26\"],[1.0,\"#f0f921\"]],\"type\":\"heatmapgl\"}],\"histogram\":[{\"marker\":{\"pattern\":{\"fillmode\":\"overlay\",\"size\":10,\"solidity\":0.2}},\"type\":\"histogram\"}],\"histogram2d\":[{\"colorbar\":{\"outlinewidth\":0,\"ticks\":\"\"},\"colorscale\":[[0.0,\"#0d0887\"],[0.1111111111111111,\"#46039f\"],[0.2222222222222222,\"#7201a8\"],[0.3333333333333333,\"#9c179e\"],[0.4444444444444444,\"#bd3786\"],[0.5555555555555556,\"#d8576b\"],[0.6666666666666666,\"#ed7953\"],[0.7777777777777778,\"#fb9f3a\"],[0.8888888888888888,\"#fdca26\"],[1.0,\"#f0f921\"]],\"type\":\"histogram2d\"}],\"histogram2dcontour\":[{\"colorbar\":{\"outlinewidth\":0,\"ticks\":\"\"},\"colorscale\":[[0.0,\"#0d0887\"],[0.1111111111111111,\"#46039f\"],[0.2222222222222222,\"#7201a8\"],[0.3333333333333333,\"#9c179e\"],[0.4444444444444444,\"#bd3786\"],[0.5555555555555556,\"#d8576b\"],[0.6666666666666666,\"#ed7953\"],[0.7777777777777778,\"#fb9f3a\"],[0.8888888888888888,\"#fdca26\"],[1.0,\"#f0f921\"]],\"type\":\"histogram2dcontour\"}],\"mesh3d\":[{\"colorbar\":{\"outlinewidth\":0,\"ticks\":\"\"},\"type\":\"mesh3d\"}],\"parcoords\":[{\"line\":{\"colorbar\":{\"outlinewidth\":0,\"ticks\":\"\"}},\"type\":\"parcoords\"}],\"pie\":[{\"automargin\":true,\"type\":\"pie\"}],\"scatter\":[{\"marker\":{\"colorbar\":{\"outlinewidth\":0,\"ticks\":\"\"}},\"type\":\"scatter\"}],\"scatter3d\":[{\"line\":{\"colorbar\":{\"outlinewidth\":0,\"ticks\":\"\"}},\"marker\":{\"colorbar\":{\"outlinewidth\":0,\"ticks\":\"\"}},\"type\":\"scatter3d\"}],\"scattercarpet\":[{\"marker\":{\"colorbar\":{\"outlinewidth\":0,\"ticks\":\"\"}},\"type\":\"scattercarpet\"}],\"scattergeo\":[{\"marker\":{\"colorbar\":{\"outlinewidth\":0,\"ticks\":\"\"}},\"type\":\"scattergeo\"}],\"scattergl\":[{\"marker\":{\"colorbar\":{\"outlinewidth\":0,\"ticks\":\"\"}},\"type\":\"scattergl\"}],\"scattermapbox\":[{\"marker\":{\"colorbar\":{\"outlinewidth\":0,\"ticks\":\"\"}},\"type\":\"scattermapbox\"}],\"scatterpolar\":[{\"marker\":{\"colorbar\":{\"outlinewidth\":0,\"ticks\":\"\"}},\"type\":\"scatterpolar\"}],\"scatterpolargl\":[{\"marker\":{\"colorbar\":{\"outlinewidth\":0,\"ticks\":\"\"}},\"type\":\"scatterpolargl\"}],\"scatterternary\":[{\"marker\":{\"colorbar\":{\"outlinewidth\":0,\"ticks\":\"\"}},\"type\":\"scatterternary\"}],\"surface\":[{\"colorbar\":{\"outlinewidth\":0,\"ticks\":\"\"},\"colorscale\":[[0.0,\"#0d0887\"],[0.1111111111111111,\"#46039f\"],[0.2222222222222222,\"#7201a8\"],[0.3333333333333333,\"#9c179e\"],[0.4444444444444444,\"#bd3786\"],[0.5555555555555556,\"#d8576b\"],[0.6666666666666666,\"#ed7953\"],[0.7777777777777778,\"#fb9f3a\"],[0.8888888888888888,\"#fdca26\"],[1.0,\"#f0f921\"]],\"type\":\"surface\"}],\"table\":[{\"cells\":{\"fill\":{\"color\":\"#EBF0F8\"},\"line\":{\"color\":\"white\"}},\"header\":{\"fill\":{\"color\":\"#C8D4E3\"},\"line\":{\"color\":\"white\"}},\"type\":\"table\"}]},\"layout\":{\"annotationdefaults\":{\"arrowcolor\":\"#2a3f5f\",\"arrowhead\":0,\"arrowwidth\":1},\"autotypenumbers\":\"strict\",\"coloraxis\":{\"colorbar\":{\"outlinewidth\":0,\"ticks\":\"\"}},\"colorscale\":{\"diverging\":[[0,\"#8e0152\"],[0.1,\"#c51b7d\"],[0.2,\"#de77ae\"],[0.3,\"#f1b6da\"],[0.4,\"#fde0ef\"],[0.5,\"#f7f7f7\"],[0.6,\"#e6f5d0\"],[0.7,\"#b8e186\"],[0.8,\"#7fbc41\"],[0.9,\"#4d9221\"],[1,\"#276419\"]],\"sequential\":[[0.0,\"#0d0887\"],[0.1111111111111111,\"#46039f\"],[0.2222222222222222,\"#7201a8\"],[0.3333333333333333,\"#9c179e\"],[0.4444444444444444,\"#bd3786\"],[0.5555555555555556,\"#d8576b\"],[0.6666666666666666,\"#ed7953\"],[0.7777777777777778,\"#fb9f3a\"],[0.8888888888888888,\"#fdca26\"],[1.0,\"#f0f921\"]],\"sequentialminus\":[[0.0,\"#0d0887\"],[0.1111111111111111,\"#46039f\"],[0.2222222222222222,\"#7201a8\"],[0.3333333333333333,\"#9c179e\"],[0.4444444444444444,\"#bd3786\"],[0.5555555555555556,\"#d8576b\"],[0.6666666666666666,\"#ed7953\"],[0.7777777777777778,\"#fb9f3a\"],[0.8888888888888888,\"#fdca26\"],[1.0,\"#f0f921\"]]},\"colorway\":[\"#636efa\",\"#EF553B\",\"#00cc96\",\"#ab63fa\",\"#FFA15A\",\"#19d3f3\",\"#FF6692\",\"#B6E880\",\"#FF97FF\",\"#FECB52\"],\"font\":{\"color\":\"#2a3f5f\"},\"geo\":{\"bgcolor\":\"white\",\"lakecolor\":\"white\",\"landcolor\":\"#E5ECF6\",\"showlakes\":true,\"showland\":true,\"subunitcolor\":\"white\"},\"hoverlabel\":{\"align\":\"left\"},\"hovermode\":\"closest\",\"mapbox\":{\"style\":\"light\"},\"paper_bgcolor\":\"white\",\"plot_bgcolor\":\"#E5ECF6\",\"polar\":{\"angularaxis\":{\"gridcolor\":\"white\",\"linecolor\":\"white\",\"ticks\":\"\"},\"bgcolor\":\"#E5ECF6\",\"radialaxis\":{\"gridcolor\":\"white\",\"linecolor\":\"white\",\"ticks\":\"\"}},\"scene\":{\"xaxis\":{\"backgroundcolor\":\"#E5ECF6\",\"gridcolor\":\"white\",\"gridwidth\":2,\"linecolor\":\"white\",\"showbackground\":true,\"ticks\":\"\",\"zerolinecolor\":\"white\"},\"yaxis\":{\"backgroundcolor\":\"#E5ECF6\",\"gridcolor\":\"white\",\"gridwidth\":2,\"linecolor\":\"white\",\"showbackground\":true,\"ticks\":\"\",\"zerolinecolor\":\"white\"},\"zaxis\":{\"backgroundcolor\":\"#E5ECF6\",\"gridcolor\":\"white\",\"gridwidth\":2,\"linecolor\":\"white\",\"showbackground\":true,\"ticks\":\"\",\"zerolinecolor\":\"white\"}},\"shapedefaults\":{\"line\":{\"color\":\"#2a3f5f\"}},\"ternary\":{\"aaxis\":{\"gridcolor\":\"white\",\"linecolor\":\"white\",\"ticks\":\"\"},\"baxis\":{\"gridcolor\":\"white\",\"linecolor\":\"white\",\"ticks\":\"\"},\"bgcolor\":\"#E5ECF6\",\"caxis\":{\"gridcolor\":\"white\",\"linecolor\":\"white\",\"ticks\":\"\"}},\"title\":{\"x\":0.05},\"xaxis\":{\"automargin\":true,\"gridcolor\":\"white\",\"linecolor\":\"white\",\"ticks\":\"\",\"title\":{\"standoff\":15},\"zerolinecolor\":\"white\",\"zerolinewidth\":2},\"yaxis\":{\"automargin\":true,\"gridcolor\":\"white\",\"linecolor\":\"white\",\"ticks\":\"\",\"title\":{\"standoff\":15},\"zerolinecolor\":\"white\",\"zerolinewidth\":2}}},\"xaxis\":{\"anchor\":\"y\",\"domain\":[0.0,1.0],\"title\":{\"text\":\"\"}},\"yaxis\":{\"anchor\":\"x\",\"domain\":[0.0,1.0],\"title\":{\"text\":\"\"}},\"legend\":{\"title\":{\"text\":\"variable\"},\"tracegroupgap\":0},\"margin\":{\"t\":60},\"barmode\":\"relative\",\"title\":{\"text\":\"Data frequency\"},\"showlegend\":false},                        {\"responsive\": true}                    ).then(function(){\n",
       "                            \n",
       "var gd = document.getElementById('be17d8fe-620c-4b6c-8117-6a651fb42811');\n",
       "var x = new MutationObserver(function (mutations, observer) {{\n",
       "        var display = window.getComputedStyle(gd).display;\n",
       "        if (!display || display === 'none') {{\n",
       "            console.log([gd, 'removed!']);\n",
       "            Plotly.purge(gd);\n",
       "            observer.disconnect();\n",
       "        }}\n",
       "}});\n",
       "\n",
       "// Listen for the removal of the full notebook cells\n",
       "var notebookContainer = gd.closest('#notebook-container');\n",
       "if (notebookContainer) {{\n",
       "    x.observe(notebookContainer, {childList: true});\n",
       "}}\n",
       "\n",
       "// Listen for the clearing of the current output cell\n",
       "var outputEl = gd.closest('.output');\n",
       "if (outputEl) {{\n",
       "    x.observe(outputEl, {childList: true});\n",
       "}}\n",
       "\n",
       "                        })                };                });            </script>        </div>"
      ]
     },
     "metadata": {},
     "output_type": "display_data"
    }
   ],
   "source": [
    "fig = EDA_missingness.bar(df)\n",
    "fig.show()"
   ]
  },
  {
   "cell_type": "code",
   "execution_count": 8,
   "metadata": {},
   "outputs": [
    {
     "data": {
      "application/vnd.plotly.v1+json": {
       "config": {
        "plotlyServerURL": "https://plot.ly"
       },
       "data": [
        {
         "alignmentgroup": "True",
         "hovertemplate": "variable=0<br>index=%{x}<br>value=%{y}<extra></extra>",
         "legendgroup": "0",
         "marker": {
          "color": "#636efa",
          "pattern": {
           "shape": ""
          }
         },
         "name": "0",
         "offsetgroup": "0",
         "orientation": "v",
         "showlegend": true,
         "textposition": "auto",
         "type": "bar",
         "x": [
          "2022-01-01T00:00:00",
          "2022-01-01T01:00:00",
          "2022-01-01T02:00:00",
          "2022-01-01T03:00:00",
          "2022-01-01T04:00:00",
          "2022-01-01T05:00:00",
          "2022-01-01T06:00:00",
          "2022-01-01T07:00:00",
          "2022-01-01T08:00:00",
          "2022-01-01T09:00:00",
          "2022-01-01T10:00:00",
          "2022-01-01T11:00:00",
          "2022-01-01T12:00:00",
          "2022-01-01T13:00:00",
          "2022-01-01T14:00:00",
          "2022-01-01T15:00:00",
          "2022-01-01T16:00:00",
          "2022-01-01T17:00:00",
          "2022-01-01T18:00:00",
          "2022-01-01T19:00:00",
          "2022-01-01T20:00:00",
          "2022-01-01T21:00:00",
          "2022-01-01T22:00:00",
          "2022-01-01T23:00:00",
          "2022-01-02T00:00:00",
          "2022-01-02T01:00:00",
          "2022-01-02T02:00:00",
          "2022-01-02T03:00:00",
          "2022-01-02T04:00:00",
          "2022-01-02T05:00:00",
          "2022-01-02T06:00:00",
          "2022-01-02T07:00:00",
          "2022-01-02T08:00:00",
          "2022-01-02T09:00:00",
          "2022-01-02T10:00:00",
          "2022-01-02T11:00:00",
          "2022-01-02T12:00:00",
          "2022-01-02T13:00:00",
          "2022-01-02T14:00:00",
          "2022-01-02T15:00:00",
          "2022-01-02T16:00:00",
          "2022-01-02T17:00:00",
          "2022-01-02T18:00:00",
          "2022-01-02T19:00:00",
          "2022-01-02T20:00:00",
          "2022-01-02T21:00:00",
          "2022-01-02T22:00:00",
          "2022-01-02T23:00:00",
          "2022-01-03T00:00:00",
          "2022-01-03T01:00:00",
          "2022-01-03T02:00:00",
          "2022-01-03T03:00:00",
          "2022-01-03T04:00:00",
          "2022-01-03T05:00:00",
          "2022-01-03T06:00:00",
          "2022-01-03T07:00:00",
          "2022-01-03T08:00:00",
          "2022-01-03T09:00:00",
          "2022-01-03T10:00:00",
          "2022-01-03T11:00:00",
          "2022-01-03T12:00:00",
          "2022-01-03T13:00:00",
          "2022-01-03T14:00:00",
          "2022-01-03T15:00:00",
          "2022-01-03T16:00:00",
          "2022-01-03T17:00:00",
          "2022-01-03T18:00:00",
          "2022-01-03T19:00:00",
          "2022-01-03T20:00:00",
          "2022-01-03T21:00:00",
          "2022-01-03T22:00:00",
          "2022-01-03T23:00:00",
          "2022-01-04T00:00:00",
          "2022-01-04T01:00:00",
          "2022-01-04T02:00:00",
          "2022-01-04T03:00:00",
          "2022-01-04T04:00:00",
          "2022-01-04T05:00:00",
          "2022-01-04T06:00:00",
          "2022-01-04T07:00:00",
          "2022-01-04T08:00:00",
          "2022-01-04T09:00:00",
          "2022-01-04T10:00:00",
          "2022-01-04T11:00:00",
          "2022-01-04T12:00:00",
          "2022-01-04T13:00:00",
          "2022-01-04T14:00:00",
          "2022-01-04T15:00:00",
          "2022-01-04T16:00:00",
          "2022-01-04T17:00:00",
          "2022-01-04T18:00:00",
          "2022-01-04T19:00:00",
          "2022-01-04T20:00:00",
          "2022-01-04T21:00:00",
          "2022-01-04T22:00:00",
          "2022-01-04T23:00:00",
          "2022-01-05T00:00:00",
          "2022-01-05T01:00:00",
          "2022-01-05T02:00:00",
          "2022-01-05T03:00:00",
          "2022-01-05T04:00:00",
          "2022-01-05T05:00:00",
          "2022-01-05T06:00:00",
          "2022-01-05T07:00:00",
          "2022-01-05T08:00:00",
          "2022-01-05T09:00:00",
          "2022-01-05T10:00:00",
          "2022-01-05T11:00:00",
          "2022-01-05T12:00:00",
          "2022-01-05T13:00:00",
          "2022-01-05T14:00:00",
          "2022-01-05T15:00:00",
          "2022-01-05T16:00:00",
          "2022-01-05T17:00:00",
          "2022-01-05T18:00:00",
          "2022-01-05T19:00:00",
          "2022-01-05T20:00:00",
          "2022-01-05T21:00:00",
          "2022-01-05T22:00:00",
          "2022-01-05T23:00:00",
          "2022-01-06T00:00:00",
          "2022-01-06T01:00:00",
          "2022-01-06T02:00:00",
          "2022-01-06T03:00:00",
          "2022-01-06T04:00:00",
          "2022-01-06T05:00:00",
          "2022-01-06T06:00:00",
          "2022-01-06T07:00:00",
          "2022-01-06T08:00:00",
          "2022-01-06T09:00:00",
          "2022-01-06T10:00:00",
          "2022-01-06T11:00:00",
          "2022-01-06T12:00:00",
          "2022-01-06T13:00:00",
          "2022-01-06T14:00:00",
          "2022-01-06T15:00:00",
          "2022-01-06T16:00:00",
          "2022-01-06T17:00:00",
          "2022-01-06T18:00:00",
          "2022-01-06T19:00:00",
          "2022-01-06T20:00:00",
          "2022-01-06T21:00:00",
          "2022-01-06T22:00:00",
          "2022-01-06T23:00:00",
          "2022-01-07T00:00:00",
          "2022-01-07T01:00:00",
          "2022-01-07T02:00:00",
          "2022-01-07T03:00:00",
          "2022-01-07T04:00:00",
          "2022-01-07T05:00:00",
          "2022-01-07T06:00:00",
          "2022-01-07T07:00:00",
          "2022-01-07T08:00:00",
          "2022-01-07T09:00:00",
          "2022-01-07T10:00:00",
          "2022-01-07T11:00:00",
          "2022-01-07T12:00:00",
          "2022-01-07T13:00:00",
          "2022-01-07T14:00:00",
          "2022-01-07T15:00:00",
          "2022-01-07T16:00:00",
          "2022-01-07T17:00:00",
          "2022-01-07T18:00:00",
          "2022-01-07T19:00:00",
          "2022-01-07T20:00:00",
          "2022-01-07T21:00:00",
          "2022-01-07T22:00:00",
          "2022-01-07T23:00:00",
          "2022-01-08T00:00:00",
          "2022-01-08T01:00:00",
          "2022-01-08T02:00:00",
          "2022-01-08T03:00:00",
          "2022-01-08T04:00:00",
          "2022-01-08T05:00:00",
          "2022-01-08T06:00:00",
          "2022-01-08T07:00:00",
          "2022-01-08T08:00:00",
          "2022-01-08T09:00:00",
          "2022-01-08T10:00:00",
          "2022-01-08T11:00:00",
          "2022-01-08T12:00:00",
          "2022-01-08T13:00:00",
          "2022-01-08T14:00:00",
          "2022-01-08T15:00:00",
          "2022-01-08T16:00:00",
          "2022-01-08T17:00:00",
          "2022-01-08T18:00:00",
          "2022-01-08T19:00:00",
          "2022-01-08T20:00:00",
          "2022-01-08T21:00:00",
          "2022-01-08T22:00:00",
          "2022-01-08T23:00:00",
          "2022-01-09T00:00:00",
          "2022-01-09T01:00:00",
          "2022-01-09T02:00:00",
          "2022-01-09T03:00:00",
          "2022-01-09T04:00:00",
          "2022-01-09T05:00:00",
          "2022-01-09T06:00:00",
          "2022-01-09T07:00:00",
          "2022-01-09T08:00:00",
          "2022-01-09T09:00:00",
          "2022-01-09T10:00:00",
          "2022-01-09T11:00:00",
          "2022-01-09T12:00:00",
          "2022-01-09T13:00:00",
          "2022-01-09T14:00:00",
          "2022-01-09T15:00:00",
          "2022-01-09T16:00:00",
          "2022-01-09T17:00:00",
          "2022-01-09T18:00:00",
          "2022-01-09T19:00:00",
          "2022-01-09T20:00:00",
          "2022-01-09T21:00:00",
          "2022-01-09T22:00:00",
          "2022-01-09T23:00:00",
          "2022-01-10T00:00:00",
          "2022-01-10T01:00:00",
          "2022-01-10T02:00:00",
          "2022-01-10T03:00:00",
          "2022-01-10T04:00:00",
          "2022-01-10T05:00:00",
          "2022-01-10T06:00:00",
          "2022-01-10T07:00:00",
          "2022-01-10T08:00:00",
          "2022-01-10T09:00:00",
          "2022-01-10T10:00:00",
          "2022-01-10T11:00:00",
          "2022-01-10T12:00:00",
          "2022-01-10T13:00:00",
          "2022-01-10T14:00:00",
          "2022-01-10T15:00:00",
          "2022-01-10T16:00:00",
          "2022-01-10T17:00:00",
          "2022-01-10T18:00:00",
          "2022-01-10T19:00:00",
          "2022-01-10T20:00:00",
          "2022-01-10T21:00:00",
          "2022-01-10T22:00:00",
          "2022-01-10T23:00:00",
          "2022-01-11T00:00:00",
          "2022-01-11T01:00:00",
          "2022-01-11T02:00:00",
          "2022-01-11T03:00:00",
          "2022-01-11T04:00:00",
          "2022-01-11T05:00:00",
          "2022-01-11T06:00:00",
          "2022-01-11T07:00:00",
          "2022-01-11T08:00:00",
          "2022-01-11T09:00:00",
          "2022-01-11T10:00:00",
          "2022-01-11T11:00:00",
          "2022-01-11T12:00:00",
          "2022-01-11T13:00:00",
          "2022-01-11T14:00:00",
          "2022-01-11T15:00:00",
          "2022-01-11T16:00:00",
          "2022-01-11T17:00:00",
          "2022-01-11T18:00:00",
          "2022-01-11T19:00:00",
          "2022-01-11T20:00:00",
          "2022-01-11T21:00:00",
          "2022-01-11T22:00:00",
          "2022-01-11T23:00:00",
          "2022-01-12T00:00:00",
          "2022-01-12T01:00:00",
          "2022-01-12T02:00:00",
          "2022-01-12T03:00:00",
          "2022-01-12T04:00:00",
          "2022-01-12T05:00:00",
          "2022-01-12T06:00:00",
          "2022-01-12T07:00:00",
          "2022-01-12T08:00:00",
          "2022-01-12T09:00:00",
          "2022-01-12T10:00:00",
          "2022-01-12T11:00:00",
          "2022-01-12T12:00:00",
          "2022-01-12T13:00:00",
          "2022-01-12T14:00:00",
          "2022-01-12T15:00:00",
          "2022-01-12T16:00:00",
          "2022-01-12T17:00:00",
          "2022-01-12T18:00:00",
          "2022-01-12T19:00:00",
          "2022-01-12T20:00:00",
          "2022-01-12T21:00:00",
          "2022-01-12T22:00:00",
          "2022-01-12T23:00:00",
          "2022-01-13T00:00:00",
          "2022-01-13T01:00:00",
          "2022-01-13T02:00:00",
          "2022-01-13T03:00:00",
          "2022-01-13T04:00:00",
          "2022-01-13T05:00:00",
          "2022-01-13T06:00:00",
          "2022-01-13T07:00:00",
          "2022-01-13T08:00:00",
          "2022-01-13T09:00:00",
          "2022-01-13T10:00:00",
          "2022-01-13T11:00:00",
          "2022-01-13T12:00:00",
          "2022-01-13T13:00:00",
          "2022-01-13T14:00:00",
          "2022-01-13T15:00:00",
          "2022-01-13T16:00:00",
          "2022-01-13T17:00:00",
          "2022-01-13T18:00:00",
          "2022-01-13T19:00:00",
          "2022-01-13T20:00:00",
          "2022-01-13T21:00:00",
          "2022-01-13T22:00:00",
          "2022-01-13T23:00:00",
          "2022-01-14T00:00:00",
          "2022-01-14T01:00:00",
          "2022-01-14T02:00:00",
          "2022-01-14T03:00:00",
          "2022-01-14T04:00:00",
          "2022-01-14T05:00:00",
          "2022-01-14T06:00:00",
          "2022-01-14T07:00:00",
          "2022-01-14T08:00:00",
          "2022-01-14T09:00:00",
          "2022-01-14T10:00:00",
          "2022-01-14T11:00:00",
          "2022-01-14T12:00:00",
          "2022-01-14T13:00:00",
          "2022-01-14T14:00:00",
          "2022-01-14T15:00:00",
          "2022-01-14T16:00:00",
          "2022-01-14T17:00:00",
          "2022-01-14T18:00:00",
          "2022-01-14T19:00:00",
          "2022-01-14T20:00:00",
          "2022-01-14T21:00:00",
          "2022-01-14T22:00:00",
          "2022-01-14T23:00:00"
         ],
         "xaxis": "x",
         "y": [
          0.6,
          0.8,
          1,
          0.4,
          0.8,
          0.8,
          0.4,
          0.8,
          0.8,
          0.8,
          0.8,
          0.6,
          0.6,
          0.8,
          0.8,
          0.4,
          0.6,
          0.6,
          0.8,
          0.8,
          0.6,
          0.8,
          1,
          0.6,
          1,
          0.8,
          0.6,
          0.6,
          0.4,
          1,
          0.6,
          0.8,
          0.8,
          1,
          0.6,
          1,
          0.8,
          1,
          0.8,
          0.6,
          0.8,
          0.6,
          0.6,
          0.8,
          0.8,
          0.4,
          0.8,
          0.8,
          0.6,
          0.8,
          1,
          0.8,
          0.6,
          0.6,
          1,
          0.8,
          0.6,
          0.8,
          0.6,
          0.4,
          1,
          0.8,
          1,
          0.6,
          0.8,
          0.6,
          0.8,
          1,
          0.8,
          0.8,
          0.8,
          0.8,
          0.8,
          0.8,
          0.6,
          1,
          0.8,
          1,
          0.6,
          0.6,
          0.8,
          0.8,
          0.4,
          1,
          0.6,
          1,
          0.6,
          0.6,
          0.8,
          0.8,
          0.6,
          0.6,
          0.8,
          0.8,
          0.6,
          0.4,
          0.6,
          0.6,
          0.8,
          0.6,
          0.8,
          0.8,
          0.6,
          0.4,
          1,
          1,
          0.8,
          1,
          0.8,
          1,
          1,
          1,
          0.8,
          0.4,
          0.8,
          1,
          1,
          1,
          0.8,
          1,
          1,
          0.6,
          0.6,
          0.8,
          0.8,
          0.8,
          1,
          0.8,
          0.8,
          0.4,
          0.4,
          0.8,
          1,
          1,
          0.6,
          0.4,
          0.8,
          0.6,
          1,
          0.8,
          0.8,
          0.8,
          0.6,
          0.8,
          0.6,
          0.8,
          0.6,
          0.8,
          0.4,
          0.6,
          0.6,
          0.8,
          0.8,
          0.8,
          0.8,
          0.2,
          0.2,
          1,
          0.4,
          0.8,
          0.6,
          1,
          1,
          0.6,
          0.8,
          0.8,
          0.6,
          0.6,
          0.8,
          0.8,
          0.8,
          1,
          0.8,
          0.8,
          0.6,
          0.6,
          0.8,
          0.8,
          0.8,
          0.8,
          0.8,
          0.8,
          0.4,
          0.6,
          0.8,
          0.8,
          0.8,
          0.6,
          0.8,
          1,
          1,
          0.8,
          0.8,
          0.8,
          0.8,
          0.6,
          0.8,
          0.4,
          0.4,
          0.6,
          0.8,
          0.8,
          0.6,
          0.8,
          0.8,
          1,
          0.6,
          0.6,
          0.8,
          0.8,
          0.8,
          1,
          0.4,
          0.8,
          0.8,
          0.2,
          0.8,
          1,
          0.6,
          0.6,
          0.2,
          0.8,
          0.8,
          0.4,
          0.8,
          0.4,
          0.8,
          0.6,
          0.8,
          0.6,
          0.8,
          0.6,
          0.8,
          0.6,
          0.6,
          0.6,
          0.8,
          0.6,
          0.6,
          0.8,
          0.6,
          0.8,
          1,
          0.6,
          0.8,
          0.8,
          0.6,
          0.8,
          0.8,
          0.2,
          0.6,
          0.8,
          0.4,
          0.8,
          0.8,
          0.8,
          1,
          1,
          1,
          0.6,
          0.8,
          0.8,
          0.6,
          0.6,
          0.8,
          1,
          1,
          1,
          0.8,
          0.6,
          0.8,
          0.8,
          1,
          0.8,
          0.6,
          1,
          1,
          0.8,
          0.6,
          0.6,
          0.8,
          0.8,
          0.4,
          0.6,
          0.8,
          0.8,
          0.4,
          1,
          0.6,
          0.6,
          1,
          0.6,
          0.6,
          0.6,
          0.4,
          1,
          1,
          0.4,
          0.8,
          0.8,
          0.8,
          0.6,
          0.8,
          0.8,
          0.4,
          0.6,
          0.6,
          0.4,
          0.4,
          0.6,
          0.4,
          1,
          0.8,
          0.8,
          0.8,
          0.8,
          1,
          0.8,
          0.8,
          0.6,
          0.6,
          0.8,
          1,
          0.8,
          0.8,
          0.8,
          0.4,
          0.8,
          0.8,
          0.8,
          0.6,
          0.6,
          0.6,
          0.8,
          0.6,
          1
         ],
         "yaxis": "y"
        }
       ],
       "layout": {
        "autosize": true,
        "barmode": "relative",
        "legend": {
         "title": {
          "text": "variable"
         },
         "tracegroupgap": 0
        },
        "margin": {
         "t": 60
        },
        "showlegend": false,
        "template": {
         "data": {
          "bar": [
           {
            "error_x": {
             "color": "#2a3f5f"
            },
            "error_y": {
             "color": "#2a3f5f"
            },
            "marker": {
             "line": {
              "color": "#E5ECF6",
              "width": 0.5
             },
             "pattern": {
              "fillmode": "overlay",
              "size": 10,
              "solidity": 0.2
             }
            },
            "type": "bar"
           }
          ],
          "barpolar": [
           {
            "marker": {
             "line": {
              "color": "#E5ECF6",
              "width": 0.5
             },
             "pattern": {
              "fillmode": "overlay",
              "size": 10,
              "solidity": 0.2
             }
            },
            "type": "barpolar"
           }
          ],
          "carpet": [
           {
            "aaxis": {
             "endlinecolor": "#2a3f5f",
             "gridcolor": "white",
             "linecolor": "white",
             "minorgridcolor": "white",
             "startlinecolor": "#2a3f5f"
            },
            "baxis": {
             "endlinecolor": "#2a3f5f",
             "gridcolor": "white",
             "linecolor": "white",
             "minorgridcolor": "white",
             "startlinecolor": "#2a3f5f"
            },
            "type": "carpet"
           }
          ],
          "choropleth": [
           {
            "colorbar": {
             "outlinewidth": 0,
             "ticks": ""
            },
            "type": "choropleth"
           }
          ],
          "contour": [
           {
            "colorbar": {
             "outlinewidth": 0,
             "ticks": ""
            },
            "colorscale": [
             [
              0,
              "#0d0887"
             ],
             [
              0.1111111111111111,
              "#46039f"
             ],
             [
              0.2222222222222222,
              "#7201a8"
             ],
             [
              0.3333333333333333,
              "#9c179e"
             ],
             [
              0.4444444444444444,
              "#bd3786"
             ],
             [
              0.5555555555555556,
              "#d8576b"
             ],
             [
              0.6666666666666666,
              "#ed7953"
             ],
             [
              0.7777777777777778,
              "#fb9f3a"
             ],
             [
              0.8888888888888888,
              "#fdca26"
             ],
             [
              1,
              "#f0f921"
             ]
            ],
            "type": "contour"
           }
          ],
          "contourcarpet": [
           {
            "colorbar": {
             "outlinewidth": 0,
             "ticks": ""
            },
            "type": "contourcarpet"
           }
          ],
          "heatmap": [
           {
            "colorbar": {
             "outlinewidth": 0,
             "ticks": ""
            },
            "colorscale": [
             [
              0,
              "#0d0887"
             ],
             [
              0.1111111111111111,
              "#46039f"
             ],
             [
              0.2222222222222222,
              "#7201a8"
             ],
             [
              0.3333333333333333,
              "#9c179e"
             ],
             [
              0.4444444444444444,
              "#bd3786"
             ],
             [
              0.5555555555555556,
              "#d8576b"
             ],
             [
              0.6666666666666666,
              "#ed7953"
             ],
             [
              0.7777777777777778,
              "#fb9f3a"
             ],
             [
              0.8888888888888888,
              "#fdca26"
             ],
             [
              1,
              "#f0f921"
             ]
            ],
            "type": "heatmap"
           }
          ],
          "heatmapgl": [
           {
            "colorbar": {
             "outlinewidth": 0,
             "ticks": ""
            },
            "colorscale": [
             [
              0,
              "#0d0887"
             ],
             [
              0.1111111111111111,
              "#46039f"
             ],
             [
              0.2222222222222222,
              "#7201a8"
             ],
             [
              0.3333333333333333,
              "#9c179e"
             ],
             [
              0.4444444444444444,
              "#bd3786"
             ],
             [
              0.5555555555555556,
              "#d8576b"
             ],
             [
              0.6666666666666666,
              "#ed7953"
             ],
             [
              0.7777777777777778,
              "#fb9f3a"
             ],
             [
              0.8888888888888888,
              "#fdca26"
             ],
             [
              1,
              "#f0f921"
             ]
            ],
            "type": "heatmapgl"
           }
          ],
          "histogram": [
           {
            "marker": {
             "pattern": {
              "fillmode": "overlay",
              "size": 10,
              "solidity": 0.2
             }
            },
            "type": "histogram"
           }
          ],
          "histogram2d": [
           {
            "colorbar": {
             "outlinewidth": 0,
             "ticks": ""
            },
            "colorscale": [
             [
              0,
              "#0d0887"
             ],
             [
              0.1111111111111111,
              "#46039f"
             ],
             [
              0.2222222222222222,
              "#7201a8"
             ],
             [
              0.3333333333333333,
              "#9c179e"
             ],
             [
              0.4444444444444444,
              "#bd3786"
             ],
             [
              0.5555555555555556,
              "#d8576b"
             ],
             [
              0.6666666666666666,
              "#ed7953"
             ],
             [
              0.7777777777777778,
              "#fb9f3a"
             ],
             [
              0.8888888888888888,
              "#fdca26"
             ],
             [
              1,
              "#f0f921"
             ]
            ],
            "type": "histogram2d"
           }
          ],
          "histogram2dcontour": [
           {
            "colorbar": {
             "outlinewidth": 0,
             "ticks": ""
            },
            "colorscale": [
             [
              0,
              "#0d0887"
             ],
             [
              0.1111111111111111,
              "#46039f"
             ],
             [
              0.2222222222222222,
              "#7201a8"
             ],
             [
              0.3333333333333333,
              "#9c179e"
             ],
             [
              0.4444444444444444,
              "#bd3786"
             ],
             [
              0.5555555555555556,
              "#d8576b"
             ],
             [
              0.6666666666666666,
              "#ed7953"
             ],
             [
              0.7777777777777778,
              "#fb9f3a"
             ],
             [
              0.8888888888888888,
              "#fdca26"
             ],
             [
              1,
              "#f0f921"
             ]
            ],
            "type": "histogram2dcontour"
           }
          ],
          "mesh3d": [
           {
            "colorbar": {
             "outlinewidth": 0,
             "ticks": ""
            },
            "type": "mesh3d"
           }
          ],
          "parcoords": [
           {
            "line": {
             "colorbar": {
              "outlinewidth": 0,
              "ticks": ""
             }
            },
            "type": "parcoords"
           }
          ],
          "pie": [
           {
            "automargin": true,
            "type": "pie"
           }
          ],
          "scatter": [
           {
            "marker": {
             "colorbar": {
              "outlinewidth": 0,
              "ticks": ""
             }
            },
            "type": "scatter"
           }
          ],
          "scatter3d": [
           {
            "line": {
             "colorbar": {
              "outlinewidth": 0,
              "ticks": ""
             }
            },
            "marker": {
             "colorbar": {
              "outlinewidth": 0,
              "ticks": ""
             }
            },
            "type": "scatter3d"
           }
          ],
          "scattercarpet": [
           {
            "marker": {
             "colorbar": {
              "outlinewidth": 0,
              "ticks": ""
             }
            },
            "type": "scattercarpet"
           }
          ],
          "scattergeo": [
           {
            "marker": {
             "colorbar": {
              "outlinewidth": 0,
              "ticks": ""
             }
            },
            "type": "scattergeo"
           }
          ],
          "scattergl": [
           {
            "marker": {
             "colorbar": {
              "outlinewidth": 0,
              "ticks": ""
             }
            },
            "type": "scattergl"
           }
          ],
          "scattermapbox": [
           {
            "marker": {
             "colorbar": {
              "outlinewidth": 0,
              "ticks": ""
             }
            },
            "type": "scattermapbox"
           }
          ],
          "scatterpolar": [
           {
            "marker": {
             "colorbar": {
              "outlinewidth": 0,
              "ticks": ""
             }
            },
            "type": "scatterpolar"
           }
          ],
          "scatterpolargl": [
           {
            "marker": {
             "colorbar": {
              "outlinewidth": 0,
              "ticks": ""
             }
            },
            "type": "scatterpolargl"
           }
          ],
          "scatterternary": [
           {
            "marker": {
             "colorbar": {
              "outlinewidth": 0,
              "ticks": ""
             }
            },
            "type": "scatterternary"
           }
          ],
          "surface": [
           {
            "colorbar": {
             "outlinewidth": 0,
             "ticks": ""
            },
            "colorscale": [
             [
              0,
              "#0d0887"
             ],
             [
              0.1111111111111111,
              "#46039f"
             ],
             [
              0.2222222222222222,
              "#7201a8"
             ],
             [
              0.3333333333333333,
              "#9c179e"
             ],
             [
              0.4444444444444444,
              "#bd3786"
             ],
             [
              0.5555555555555556,
              "#d8576b"
             ],
             [
              0.6666666666666666,
              "#ed7953"
             ],
             [
              0.7777777777777778,
              "#fb9f3a"
             ],
             [
              0.8888888888888888,
              "#fdca26"
             ],
             [
              1,
              "#f0f921"
             ]
            ],
            "type": "surface"
           }
          ],
          "table": [
           {
            "cells": {
             "fill": {
              "color": "#EBF0F8"
             },
             "line": {
              "color": "white"
             }
            },
            "header": {
             "fill": {
              "color": "#C8D4E3"
             },
             "line": {
              "color": "white"
             }
            },
            "type": "table"
           }
          ]
         },
         "layout": {
          "annotationdefaults": {
           "arrowcolor": "#2a3f5f",
           "arrowhead": 0,
           "arrowwidth": 1
          },
          "autotypenumbers": "strict",
          "coloraxis": {
           "colorbar": {
            "outlinewidth": 0,
            "ticks": ""
           }
          },
          "colorscale": {
           "diverging": [
            [
             0,
             "#8e0152"
            ],
            [
             0.1,
             "#c51b7d"
            ],
            [
             0.2,
             "#de77ae"
            ],
            [
             0.3,
             "#f1b6da"
            ],
            [
             0.4,
             "#fde0ef"
            ],
            [
             0.5,
             "#f7f7f7"
            ],
            [
             0.6,
             "#e6f5d0"
            ],
            [
             0.7,
             "#b8e186"
            ],
            [
             0.8,
             "#7fbc41"
            ],
            [
             0.9,
             "#4d9221"
            ],
            [
             1,
             "#276419"
            ]
           ],
           "sequential": [
            [
             0,
             "#0d0887"
            ],
            [
             0.1111111111111111,
             "#46039f"
            ],
            [
             0.2222222222222222,
             "#7201a8"
            ],
            [
             0.3333333333333333,
             "#9c179e"
            ],
            [
             0.4444444444444444,
             "#bd3786"
            ],
            [
             0.5555555555555556,
             "#d8576b"
            ],
            [
             0.6666666666666666,
             "#ed7953"
            ],
            [
             0.7777777777777778,
             "#fb9f3a"
            ],
            [
             0.8888888888888888,
             "#fdca26"
            ],
            [
             1,
             "#f0f921"
            ]
           ],
           "sequentialminus": [
            [
             0,
             "#0d0887"
            ],
            [
             0.1111111111111111,
             "#46039f"
            ],
            [
             0.2222222222222222,
             "#7201a8"
            ],
            [
             0.3333333333333333,
             "#9c179e"
            ],
            [
             0.4444444444444444,
             "#bd3786"
            ],
            [
             0.5555555555555556,
             "#d8576b"
            ],
            [
             0.6666666666666666,
             "#ed7953"
            ],
            [
             0.7777777777777778,
             "#fb9f3a"
            ],
            [
             0.8888888888888888,
             "#fdca26"
            ],
            [
             1,
             "#f0f921"
            ]
           ]
          },
          "colorway": [
           "#636efa",
           "#EF553B",
           "#00cc96",
           "#ab63fa",
           "#FFA15A",
           "#19d3f3",
           "#FF6692",
           "#B6E880",
           "#FF97FF",
           "#FECB52"
          ],
          "font": {
           "color": "#2a3f5f"
          },
          "geo": {
           "bgcolor": "white",
           "lakecolor": "white",
           "landcolor": "#E5ECF6",
           "showlakes": true,
           "showland": true,
           "subunitcolor": "white"
          },
          "hoverlabel": {
           "align": "left"
          },
          "hovermode": "closest",
          "mapbox": {
           "style": "light"
          },
          "paper_bgcolor": "white",
          "plot_bgcolor": "#E5ECF6",
          "polar": {
           "angularaxis": {
            "gridcolor": "white",
            "linecolor": "white",
            "ticks": ""
           },
           "bgcolor": "#E5ECF6",
           "radialaxis": {
            "gridcolor": "white",
            "linecolor": "white",
            "ticks": ""
           }
          },
          "scene": {
           "xaxis": {
            "backgroundcolor": "#E5ECF6",
            "gridcolor": "white",
            "gridwidth": 2,
            "linecolor": "white",
            "showbackground": true,
            "ticks": "",
            "zerolinecolor": "white"
           },
           "yaxis": {
            "backgroundcolor": "#E5ECF6",
            "gridcolor": "white",
            "gridwidth": 2,
            "linecolor": "white",
            "showbackground": true,
            "ticks": "",
            "zerolinecolor": "white"
           },
           "zaxis": {
            "backgroundcolor": "#E5ECF6",
            "gridcolor": "white",
            "gridwidth": 2,
            "linecolor": "white",
            "showbackground": true,
            "ticks": "",
            "zerolinecolor": "white"
           }
          },
          "shapedefaults": {
           "line": {
            "color": "#2a3f5f"
           }
          },
          "ternary": {
           "aaxis": {
            "gridcolor": "white",
            "linecolor": "white",
            "ticks": ""
           },
           "baxis": {
            "gridcolor": "white",
            "linecolor": "white",
            "ticks": ""
           },
           "bgcolor": "#E5ECF6",
           "caxis": {
            "gridcolor": "white",
            "linecolor": "white",
            "ticks": ""
           }
          },
          "title": {
           "x": 0.05
          },
          "xaxis": {
           "automargin": true,
           "gridcolor": "white",
           "linecolor": "white",
           "ticks": "",
           "title": {
            "standoff": 15
           },
           "zerolinecolor": "white",
           "zerolinewidth": 2
          },
          "yaxis": {
           "automargin": true,
           "gridcolor": "white",
           "linecolor": "white",
           "ticks": "",
           "title": {
            "standoff": 15
           },
           "zerolinecolor": "white",
           "zerolinewidth": 2
          }
         }
        },
        "title": {
         "text": "Data frequency"
        },
        "xaxis": {
         "anchor": "y",
         "autorange": true,
         "domain": [
          0,
          1
         ],
         "range": [
          "2021-12-31 23:30",
          "2022-01-14 23:30"
         ],
         "title": {
          "text": ""
         },
         "type": "date"
        },
        "yaxis": {
         "anchor": "x",
         "autorange": true,
         "domain": [
          0,
          1
         ],
         "range": [
          0,
          1.0526315789473684
         ],
         "title": {
          "text": ""
         },
         "type": "linear"
        }
       }
      },
      "image/png": "[encoded data removed]",
      "text/html": [
       "<div>                            <div id=\"1e1fcf5c-4567-47d9-ad7e-d7163d3cebb1\" class=\"plotly-graph-div\" style=\"height:525px; width:100%;\"></div>            <script type=\"text/javascript\">                require([\"plotly\"], function(Plotly) {                    window.PLOTLYENV=window.PLOTLYENV || {};                                    if (document.getElementById(\"1e1fcf5c-4567-47d9-ad7e-d7163d3cebb1\")) {                    Plotly.newPlot(                        \"1e1fcf5c-4567-47d9-ad7e-d7163d3cebb1\",                        [{\"alignmentgroup\":\"True\",\"hovertemplate\":\"variable=0<br>index=%{x}<br>value=%{y}<extra></extra>\",\"legendgroup\":\"0\",\"marker\":{\"color\":\"#636efa\",\"pattern\":{\"shape\":\"\"}},\"name\":\"0\",\"offsetgroup\":\"0\",\"orientation\":\"v\",\"showlegend\":true,\"textposition\":\"auto\",\"x\":[\"2022-01-01T00:00:00\",\"2022-01-01T01:00:00\",\"2022-01-01T02:00:00\",\"2022-01-01T03:00:00\",\"2022-01-01T04:00:00\",\"2022-01-01T05:00:00\",\"2022-01-01T06:00:00\",\"2022-01-01T07:00:00\",\"2022-01-01T08:00:00\",\"2022-01-01T09:00:00\",\"2022-01-01T10:00:00\",\"2022-01-01T11:00:00\",\"2022-01-01T12:00:00\",\"2022-01-01T13:00:00\",\"2022-01-01T14:00:00\",\"2022-01-01T15:00:00\",\"2022-01-01T16:00:00\",\"2022-01-01T17:00:00\",\"2022-01-01T18:00:00\",\"2022-01-01T19:00:00\",\"2022-01-01T20:00:00\",\"2022-01-01T21:00:00\",\"2022-01-01T22:00:00\",\"2022-01-01T23:00:00\",\"2022-01-02T00:00:00\",\"2022-01-02T01:00:00\",\"2022-01-02T02:00:00\",\"2022-01-02T03:00:00\",\"2022-01-02T04:00:00\",\"2022-01-02T05:00:00\",\"2022-01-02T06:00:00\",\"2022-01-02T07:00:00\",\"2022-01-02T08:00:00\",\"2022-01-02T09:00:00\",\"2022-01-02T10:00:00\",\"2022-01-02T11:00:00\",\"2022-01-02T12:00:00\",\"2022-01-02T13:00:00\",\"2022-01-02T14:00:00\",\"2022-01-02T15:00:00\",\"2022-01-02T16:00:00\",\"2022-01-02T17:00:00\",\"2022-01-02T18:00:00\",\"2022-01-02T19:00:00\",\"2022-01-02T20:00:00\",\"2022-01-02T21:00:00\",\"2022-01-02T22:00:00\",\"2022-01-02T23:00:00\",\"2022-01-03T00:00:00\",\"2022-01-03T01:00:00\",\"2022-01-03T02:00:00\",\"2022-01-03T03:00:00\",\"2022-01-03T04:00:00\",\"2022-01-03T05:00:00\",\"2022-01-03T06:00:00\",\"2022-01-03T07:00:00\",\"2022-01-03T08:00:00\",\"2022-01-03T09:00:00\",\"2022-01-03T10:00:00\",\"2022-01-03T11:00:00\",\"2022-01-03T12:00:00\",\"2022-01-03T13:00:00\",\"2022-01-03T14:00:00\",\"2022-01-03T15:00:00\",\"2022-01-03T16:00:00\",\"2022-01-03T17:00:00\",\"2022-01-03T18:00:00\",\"2022-01-03T19:00:00\",\"2022-01-03T20:00:00\",\"2022-01-03T21:00:00\",\"2022-01-03T22:00:00\",\"2022-01-03T23:00:00\",\"2022-01-04T00:00:00\",\"2022-01-04T01:00:00\",\"2022-01-04T02:00:00\",\"2022-01-04T03:00:00\",\"2022-01-04T04:00:00\",\"2022-01-04T05:00:00\",\"2022-01-04T06:00:00\",\"2022-01-04T07:00:00\",\"2022-01-04T08:00:00\",\"2022-01-04T09:00:00\",\"2022-01-04T10:00:00\",\"2022-01-04T11:00:00\",\"2022-01-04T12:00:00\",\"2022-01-04T13:00:00\",\"2022-01-04T14:00:00\",\"2022-01-04T15:00:00\",\"2022-01-04T16:00:00\",\"2022-01-04T17:00:00\",\"2022-01-04T18:00:00\",\"2022-01-04T19:00:00\",\"2022-01-04T20:00:00\",\"2022-01-04T21:00:00\",\"2022-01-04T22:00:00\",\"2022-01-04T23:00:00\",\"2022-01-05T00:00:00\",\"2022-01-05T01:00:00\",\"2022-01-05T02:00:00\",\"2022-01-05T03:00:00\",\"2022-01-05T04:00:00\",\"2022-01-05T05:00:00\",\"2022-01-05T06:00:00\",\"2022-01-05T07:00:00\",\"2022-01-05T08:00:00\",\"2022-01-05T09:00:00\",\"2022-01-05T10:00:00\",\"2022-01-05T11:00:00\",\"2022-01-05T12:00:00\",\"2022-01-05T13:00:00\",\"2022-01-05T14:00:00\",\"2022-01-05T15:00:00\",\"2022-01-05T16:00:00\",\"2022-01-05T17:00:00\",\"2022-01-05T18:00:00\",\"2022-01-05T19:00:00\",\"2022-01-05T20:00:00\",\"2022-01-05T21:00:00\",\"2022-01-05T22:00:00\",\"2022-01-05T23:00:00\",\"2022-01-06T00:00:00\",\"2022-01-06T01:00:00\",\"2022-01-06T02:00:00\",\"2022-01-06T03:00:00\",\"2022-01-06T04:00:00\",\"2022-01-06T05:00:00\",\"2022-01-06T06:00:00\",\"2022-01-06T07:00:00\",\"2022-01-06T08:00:00\",\"2022-01-06T09:00:00\",\"2022-01-06T10:00:00\",\"2022-01-06T11:00:00\",\"2022-01-06T12:00:00\",\"2022-01-06T13:00:00\",\"2022-01-06T14:00:00\",\"2022-01-06T15:00:00\",\"2022-01-06T16:00:00\",\"2022-01-06T17:00:00\",\"2022-01-06T18:00:00\",\"2022-01-06T19:00:00\",\"2022-01-06T20:00:00\",\"2022-01-06T21:00:00\",\"2022-01-06T22:00:00\",\"2022-01-06T23:00:00\",\"2022-01-07T00:00:00\",\"2022-01-07T01:00:00\",\"2022-01-07T02:00:00\",\"2022-01-07T03:00:00\",\"2022-01-07T04:00:00\",\"2022-01-07T05:00:00\",\"2022-01-07T06:00:00\",\"2022-01-07T07:00:00\",\"2022-01-07T08:00:00\",\"2022-01-07T09:00:00\",\"2022-01-07T10:00:00\",\"2022-01-07T11:00:00\",\"2022-01-07T12:00:00\",\"2022-01-07T13:00:00\",\"2022-01-07T14:00:00\",\"2022-01-07T15:00:00\",\"2022-01-07T16:00:00\",\"2022-01-07T17:00:00\",\"2022-01-07T18:00:00\",\"2022-01-07T19:00:00\",\"2022-01-07T20:00:00\",\"2022-01-07T21:00:00\",\"2022-01-07T22:00:00\",\"2022-01-07T23:00:00\",\"2022-01-08T00:00:00\",\"2022-01-08T01:00:00\",\"2022-01-08T02:00:00\",\"2022-01-08T03:00:00\",\"2022-01-08T04:00:00\",\"2022-01-08T05:00:00\",\"2022-01-08T06:00:00\",\"2022-01-08T07:00:00\",\"2022-01-08T08:00:00\",\"2022-01-08T09:00:00\",\"2022-01-08T10:00:00\",\"2022-01-08T11:00:00\",\"2022-01-08T12:00:00\",\"2022-01-08T13:00:00\",\"2022-01-08T14:00:00\",\"2022-01-08T15:00:00\",\"2022-01-08T16:00:00\",\"2022-01-08T17:00:00\",\"2022-01-08T18:00:00\",\"2022-01-08T19:00:00\",\"2022-01-08T20:00:00\",\"2022-01-08T21:00:00\",\"2022-01-08T22:00:00\",\"2022-01-08T23:00:00\",\"2022-01-09T00:00:00\",\"2022-01-09T01:00:00\",\"2022-01-09T02:00:00\",\"2022-01-09T03:00:00\",\"2022-01-09T04:00:00\",\"2022-01-09T05:00:00\",\"2022-01-09T06:00:00\",\"2022-01-09T07:00:00\",\"2022-01-09T08:00:00\",\"2022-01-09T09:00:00\",\"2022-01-09T10:00:00\",\"2022-01-09T11:00:00\",\"2022-01-09T12:00:00\",\"2022-01-09T13:00:00\",\"2022-01-09T14:00:00\",\"2022-01-09T15:00:00\",\"2022-01-09T16:00:00\",\"2022-01-09T17:00:00\",\"2022-01-09T18:00:00\",\"2022-01-09T19:00:00\",\"2022-01-09T20:00:00\",\"2022-01-09T21:00:00\",\"2022-01-09T22:00:00\",\"2022-01-09T23:00:00\",\"2022-01-10T00:00:00\",\"2022-01-10T01:00:00\",\"2022-01-10T02:00:00\",\"2022-01-10T03:00:00\",\"2022-01-10T04:00:00\",\"2022-01-10T05:00:00\",\"2022-01-10T06:00:00\",\"2022-01-10T07:00:00\",\"2022-01-10T08:00:00\",\"2022-01-10T09:00:00\",\"2022-01-10T10:00:00\",\"2022-01-10T11:00:00\",\"2022-01-10T12:00:00\",\"2022-01-10T13:00:00\",\"2022-01-10T14:00:00\",\"2022-01-10T15:00:00\",\"2022-01-10T16:00:00\",\"2022-01-10T17:00:00\",\"2022-01-10T18:00:00\",\"2022-01-10T19:00:00\",\"2022-01-10T20:00:00\",\"2022-01-10T21:00:00\",\"2022-01-10T22:00:00\",\"2022-01-10T23:00:00\",\"2022-01-11T00:00:00\",\"2022-01-11T01:00:00\",\"2022-01-11T02:00:00\",\"2022-01-11T03:00:00\",\"2022-01-11T04:00:00\",\"2022-01-11T05:00:00\",\"2022-01-11T06:00:00\",\"2022-01-11T07:00:00\",\"2022-01-11T08:00:00\",\"2022-01-11T09:00:00\",\"2022-01-11T10:00:00\",\"2022-01-11T11:00:00\",\"2022-01-11T12:00:00\",\"2022-01-11T13:00:00\",\"2022-01-11T14:00:00\",\"2022-01-11T15:00:00\",\"2022-01-11T16:00:00\",\"2022-01-11T17:00:00\",\"2022-01-11T18:00:00\",\"2022-01-11T19:00:00\",\"2022-01-11T20:00:00\",\"2022-01-11T21:00:00\",\"2022-01-11T22:00:00\",\"2022-01-11T23:00:00\",\"2022-01-12T00:00:00\",\"2022-01-12T01:00:00\",\"2022-01-12T02:00:00\",\"2022-01-12T03:00:00\",\"2022-01-12T04:00:00\",\"2022-01-12T05:00:00\",\"2022-01-12T06:00:00\",\"2022-01-12T07:00:00\",\"2022-01-12T08:00:00\",\"2022-01-12T09:00:00\",\"2022-01-12T10:00:00\",\"2022-01-12T11:00:00\",\"2022-01-12T12:00:00\",\"2022-01-12T13:00:00\",\"2022-01-12T14:00:00\",\"2022-01-12T15:00:00\",\"2022-01-12T16:00:00\",\"2022-01-12T17:00:00\",\"2022-01-12T18:00:00\",\"2022-01-12T19:00:00\",\"2022-01-12T20:00:00\",\"2022-01-12T21:00:00\",\"2022-01-12T22:00:00\",\"2022-01-12T23:00:00\",\"2022-01-13T00:00:00\",\"2022-01-13T01:00:00\",\"2022-01-13T02:00:00\",\"2022-01-13T03:00:00\",\"2022-01-13T04:00:00\",\"2022-01-13T05:00:00\",\"2022-01-13T06:00:00\",\"2022-01-13T07:00:00\",\"2022-01-13T08:00:00\",\"2022-01-13T09:00:00\",\"2022-01-13T10:00:00\",\"2022-01-13T11:00:00\",\"2022-01-13T12:00:00\",\"2022-01-13T13:00:00\",\"2022-01-13T14:00:00\",\"2022-01-13T15:00:00\",\"2022-01-13T16:00:00\",\"2022-01-13T17:00:00\",\"2022-01-13T18:00:00\",\"2022-01-13T19:00:00\",\"2022-01-13T20:00:00\",\"2022-01-13T21:00:00\",\"2022-01-13T22:00:00\",\"2022-01-13T23:00:00\",\"2022-01-14T00:00:00\",\"2022-01-14T01:00:00\",\"2022-01-14T02:00:00\",\"2022-01-14T03:00:00\",\"2022-01-14T04:00:00\",\"2022-01-14T05:00:00\",\"2022-01-14T06:00:00\",\"2022-01-14T07:00:00\",\"2022-01-14T08:00:00\",\"2022-01-14T09:00:00\",\"2022-01-14T10:00:00\",\"2022-01-14T11:00:00\",\"2022-01-14T12:00:00\",\"2022-01-14T13:00:00\",\"2022-01-14T14:00:00\",\"2022-01-14T15:00:00\",\"2022-01-14T16:00:00\",\"2022-01-14T17:00:00\",\"2022-01-14T18:00:00\",\"2022-01-14T19:00:00\",\"2022-01-14T20:00:00\",\"2022-01-14T21:00:00\",\"2022-01-14T22:00:00\",\"2022-01-14T23:00:00\"],\"xaxis\":\"x\",\"y\":[0.6,0.8,1.0,0.4,0.8,0.8,0.4,0.8,0.8,0.8,0.8,0.6,0.6,0.8,0.8,0.4,0.6,0.6,0.8,0.8,0.6,0.8,1.0,0.6,1.0,0.8,0.6,0.6,0.4,1.0,0.6,0.8,0.8,1.0,0.6,1.0,0.8,1.0,0.8,0.6,0.8,0.6,0.6,0.8,0.8,0.4,0.8,0.8,0.6,0.8,1.0,0.8,0.6,0.6,1.0,0.8,0.6,0.8,0.6,0.4,1.0,0.8,1.0,0.6,0.8,0.6,0.8,1.0,0.8,0.8,0.8,0.8,0.8,0.8,0.6,1.0,0.8,1.0,0.6,0.6,0.8,0.8,0.4,1.0,0.6,1.0,0.6,0.6,0.8,0.8,0.6,0.6,0.8,0.8,0.6,0.4,0.6,0.6,0.8,0.6,0.8,0.8,0.6,0.4,1.0,1.0,0.8,1.0,0.8,1.0,1.0,1.0,0.8,0.4,0.8,1.0,1.0,1.0,0.8,1.0,1.0,0.6,0.6,0.8,0.8,0.8,1.0,0.8,0.8,0.4,0.4,0.8,1.0,1.0,0.6,0.4,0.8,0.6,1.0,0.8,0.8,0.8,0.6,0.8,0.6,0.8,0.6,0.8,0.4,0.6,0.6,0.8,0.8,0.8,0.8,0.2,0.2,1.0,0.4,0.8,0.6,1.0,1.0,0.6,0.8,0.8,0.6,0.6,0.8,0.8,0.8,1.0,0.8,0.8,0.6,0.6,0.8,0.8,0.8,0.8,0.8,0.8,0.4,0.6,0.8,0.8,0.8,0.6,0.8,1.0,1.0,0.8,0.8,0.8,0.8,0.6,0.8,0.4,0.4,0.6,0.8,0.8,0.6,0.8,0.8,1.0,0.6,0.6,0.8,0.8,0.8,1.0,0.4,0.8,0.8,0.2,0.8,1.0,0.6,0.6,0.2,0.8,0.8,0.4,0.8,0.4,0.8,0.6,0.8,0.6,0.8,0.6,0.8,0.6,0.6,0.6,0.8,0.6,0.6,0.8,0.6,0.8,1.0,0.6,0.8,0.8,0.6,0.8,0.8,0.2,0.6,0.8,0.4,0.8,0.8,0.8,1.0,1.0,1.0,0.6,0.8,0.8,0.6,0.6,0.8,1.0,1.0,1.0,0.8,0.6,0.8,0.8,1.0,0.8,0.6,1.0,1.0,0.8,0.6,0.6,0.8,0.8,0.4,0.6,0.8,0.8,0.4,1.0,0.6,0.6,1.0,0.6,0.6,0.6,0.4,1.0,1.0,0.4,0.8,0.8,0.8,0.6,0.8,0.8,0.4,0.6,0.6,0.4,0.4,0.6,0.4,1.0,0.8,0.8,0.8,0.8,1.0,0.8,0.8,0.6,0.6,0.8,1.0,0.8,0.8,0.8,0.4,0.8,0.8,0.8,0.6,0.6,0.6,0.8,0.6,1.0],\"yaxis\":\"y\",\"type\":\"bar\"}],                        {\"template\":{\"data\":{\"bar\":[{\"error_x\":{\"color\":\"#2a3f5f\"},\"error_y\":{\"color\":\"#2a3f5f\"},\"marker\":{\"line\":{\"color\":\"#E5ECF6\",\"width\":0.5},\"pattern\":{\"fillmode\":\"overlay\",\"size\":10,\"solidity\":0.2}},\"type\":\"bar\"}],\"barpolar\":[{\"marker\":{\"line\":{\"color\":\"#E5ECF6\",\"width\":0.5},\"pattern\":{\"fillmode\":\"overlay\",\"size\":10,\"solidity\":0.2}},\"type\":\"barpolar\"}],\"carpet\":[{\"aaxis\":{\"endlinecolor\":\"#2a3f5f\",\"gridcolor\":\"white\",\"linecolor\":\"white\",\"minorgridcolor\":\"white\",\"startlinecolor\":\"#2a3f5f\"},\"baxis\":{\"endlinecolor\":\"#2a3f5f\",\"gridcolor\":\"white\",\"linecolor\":\"white\",\"minorgridcolor\":\"white\",\"startlinecolor\":\"#2a3f5f\"},\"type\":\"carpet\"}],\"choropleth\":[{\"colorbar\":{\"outlinewidth\":0,\"ticks\":\"\"},\"type\":\"choropleth\"}],\"contour\":[{\"colorbar\":{\"outlinewidth\":0,\"ticks\":\"\"},\"colorscale\":[[0.0,\"#0d0887\"],[0.1111111111111111,\"#46039f\"],[0.2222222222222222,\"#7201a8\"],[0.3333333333333333,\"#9c179e\"],[0.4444444444444444,\"#bd3786\"],[0.5555555555555556,\"#d8576b\"],[0.6666666666666666,\"#ed7953\"],[0.7777777777777778,\"#fb9f3a\"],[0.8888888888888888,\"#fdca26\"],[1.0,\"#f0f921\"]],\"type\":\"contour\"}],\"contourcarpet\":[{\"colorbar\":{\"outlinewidth\":0,\"ticks\":\"\"},\"type\":\"contourcarpet\"}],\"heatmap\":[{\"colorbar\":{\"outlinewidth\":0,\"ticks\":\"\"},\"colorscale\":[[0.0,\"#0d0887\"],[0.1111111111111111,\"#46039f\"],[0.2222222222222222,\"#7201a8\"],[0.3333333333333333,\"#9c179e\"],[0.4444444444444444,\"#bd3786\"],[0.5555555555555556,\"#d8576b\"],[0.6666666666666666,\"#ed7953\"],[0.7777777777777778,\"#fb9f3a\"],[0.8888888888888888,\"#fdca26\"],[1.0,\"#f0f921\"]],\"type\":\"heatmap\"}],\"heatmapgl\":[{\"colorbar\":{\"outlinewidth\":0,\"ticks\":\"\"},\"colorscale\":[[0.0,\"#0d0887\"],[0.1111111111111111,\"#46039f\"],[0.2222222222222222,\"#7201a8\"],[0.3333333333333333,\"#9c179e\"],[0.4444444444444444,\"#bd3786\"],[0.5555555555555556,\"#d8576b\"],[0.6666666666666666,\"#ed7953\"],[0.7777777777777778,\"#fb9f3a\"],[0.8888888888888888,\"#fdca26\"],[1.0,\"#f0f921\"]],\"type\":\"heatmapgl\"}],\"histogram\":[{\"marker\":{\"pattern\":{\"fillmode\":\"overlay\",\"size\":10,\"solidity\":0.2}},\"type\":\"histogram\"}],\"histogram2d\":[{\"colorbar\":{\"outlinewidth\":0,\"ticks\":\"\"},\"colorscale\":[[0.0,\"#0d0887\"],[0.1111111111111111,\"#46039f\"],[0.2222222222222222,\"#7201a8\"],[0.3333333333333333,\"#9c179e\"],[0.4444444444444444,\"#bd3786\"],[0.5555555555555556,\"#d8576b\"],[0.6666666666666666,\"#ed7953\"],[0.7777777777777778,\"#fb9f3a\"],[0.8888888888888888,\"#fdca26\"],[1.0,\"#f0f921\"]],\"type\":\"histogram2d\"}],\"histogram2dcontour\":[{\"colorbar\":{\"outlinewidth\":0,\"ticks\":\"\"},\"colorscale\":[[0.0,\"#0d0887\"],[0.1111111111111111,\"#46039f\"],[0.2222222222222222,\"#7201a8\"],[0.3333333333333333,\"#9c179e\"],[0.4444444444444444,\"#bd3786\"],[0.5555555555555556,\"#d8576b\"],[0.6666666666666666,\"#ed7953\"],[0.7777777777777778,\"#fb9f3a\"],[0.8888888888888888,\"#fdca26\"],[1.0,\"#f0f921\"]],\"type\":\"histogram2dcontour\"}],\"mesh3d\":[{\"colorbar\":{\"outlinewidth\":0,\"ticks\":\"\"},\"type\":\"mesh3d\"}],\"parcoords\":[{\"line\":{\"colorbar\":{\"outlinewidth\":0,\"ticks\":\"\"}},\"type\":\"parcoords\"}],\"pie\":[{\"automargin\":true,\"type\":\"pie\"}],\"scatter\":[{\"marker\":{\"colorbar\":{\"outlinewidth\":0,\"ticks\":\"\"}},\"type\":\"scatter\"}],\"scatter3d\":[{\"line\":{\"colorbar\":{\"outlinewidth\":0,\"ticks\":\"\"}},\"marker\":{\"colorbar\":{\"outlinewidth\":0,\"ticks\":\"\"}},\"type\":\"scatter3d\"}],\"scattercarpet\":[{\"marker\":{\"colorbar\":{\"outlinewidth\":0,\"ticks\":\"\"}},\"type\":\"scattercarpet\"}],\"scattergeo\":[{\"marker\":{\"colorbar\":{\"outlinewidth\":0,\"ticks\":\"\"}},\"type\":\"scattergeo\"}],\"scattergl\":[{\"marker\":{\"colorbar\":{\"outlinewidth\":0,\"ticks\":\"\"}},\"type\":\"scattergl\"}],\"scattermapbox\":[{\"marker\":{\"colorbar\":{\"outlinewidth\":0,\"ticks\":\"\"}},\"type\":\"scattermapbox\"}],\"scatterpolar\":[{\"marker\":{\"colorbar\":{\"outlinewidth\":0,\"ticks\":\"\"}},\"type\":\"scatterpolar\"}],\"scatterpolargl\":[{\"marker\":{\"colorbar\":{\"outlinewidth\":0,\"ticks\":\"\"}},\"type\":\"scatterpolargl\"}],\"scatterternary\":[{\"marker\":{\"colorbar\":{\"outlinewidth\":0,\"ticks\":\"\"}},\"type\":\"scatterternary\"}],\"surface\":[{\"colorbar\":{\"outlinewidth\":0,\"ticks\":\"\"},\"colorscale\":[[0.0,\"#0d0887\"],[0.1111111111111111,\"#46039f\"],[0.2222222222222222,\"#7201a8\"],[0.3333333333333333,\"#9c179e\"],[0.4444444444444444,\"#bd3786\"],[0.5555555555555556,\"#d8576b\"],[0.6666666666666666,\"#ed7953\"],[0.7777777777777778,\"#fb9f3a\"],[0.8888888888888888,\"#fdca26\"],[1.0,\"#f0f921\"]],\"type\":\"surface\"}],\"table\":[{\"cells\":{\"fill\":{\"color\":\"#EBF0F8\"},\"line\":{\"color\":\"white\"}},\"header\":{\"fill\":{\"color\":\"#C8D4E3\"},\"line\":{\"color\":\"white\"}},\"type\":\"table\"}]},\"layout\":{\"annotationdefaults\":{\"arrowcolor\":\"#2a3f5f\",\"arrowhead\":0,\"arrowwidth\":1},\"autotypenumbers\":\"strict\",\"coloraxis\":{\"colorbar\":{\"outlinewidth\":0,\"ticks\":\"\"}},\"colorscale\":{\"diverging\":[[0,\"#8e0152\"],[0.1,\"#c51b7d\"],[0.2,\"#de77ae\"],[0.3,\"#f1b6da\"],[0.4,\"#fde0ef\"],[0.5,\"#f7f7f7\"],[0.6,\"#e6f5d0\"],[0.7,\"#b8e186\"],[0.8,\"#7fbc41\"],[0.9,\"#4d9221\"],[1,\"#276419\"]],\"sequential\":[[0.0,\"#0d0887\"],[0.1111111111111111,\"#46039f\"],[0.2222222222222222,\"#7201a8\"],[0.3333333333333333,\"#9c179e\"],[0.4444444444444444,\"#bd3786\"],[0.5555555555555556,\"#d8576b\"],[0.6666666666666666,\"#ed7953\"],[0.7777777777777778,\"#fb9f3a\"],[0.8888888888888888,\"#fdca26\"],[1.0,\"#f0f921\"]],\"sequentialminus\":[[0.0,\"#0d0887\"],[0.1111111111111111,\"#46039f\"],[0.2222222222222222,\"#7201a8\"],[0.3333333333333333,\"#9c179e\"],[0.4444444444444444,\"#bd3786\"],[0.5555555555555556,\"#d8576b\"],[0.6666666666666666,\"#ed7953\"],[0.7777777777777778,\"#fb9f3a\"],[0.8888888888888888,\"#fdca26\"],[1.0,\"#f0f921\"]]},\"colorway\":[\"#636efa\",\"#EF553B\",\"#00cc96\",\"#ab63fa\",\"#FFA15A\",\"#19d3f3\",\"#FF6692\",\"#B6E880\",\"#FF97FF\",\"#FECB52\"],\"font\":{\"color\":\"#2a3f5f\"},\"geo\":{\"bgcolor\":\"white\",\"lakecolor\":\"white\",\"landcolor\":\"#E5ECF6\",\"showlakes\":true,\"showland\":true,\"subunitcolor\":\"white\"},\"hoverlabel\":{\"align\":\"left\"},\"hovermode\":\"closest\",\"mapbox\":{\"style\":\"light\"},\"paper_bgcolor\":\"white\",\"plot_bgcolor\":\"#E5ECF6\",\"polar\":{\"angularaxis\":{\"gridcolor\":\"white\",\"linecolor\":\"white\",\"ticks\":\"\"},\"bgcolor\":\"#E5ECF6\",\"radialaxis\":{\"gridcolor\":\"white\",\"linecolor\":\"white\",\"ticks\":\"\"}},\"scene\":{\"xaxis\":{\"backgroundcolor\":\"#E5ECF6\",\"gridcolor\":\"white\",\"gridwidth\":2,\"linecolor\":\"white\",\"showbackground\":true,\"ticks\":\"\",\"zerolinecolor\":\"white\"},\"yaxis\":{\"backgroundcolor\":\"#E5ECF6\",\"gridcolor\":\"white\",\"gridwidth\":2,\"linecolor\":\"white\",\"showbackground\":true,\"ticks\":\"\",\"zerolinecolor\":\"white\"},\"zaxis\":{\"backgroundcolor\":\"#E5ECF6\",\"gridcolor\":\"white\",\"gridwidth\":2,\"linecolor\":\"white\",\"showbackground\":true,\"ticks\":\"\",\"zerolinecolor\":\"white\"}},\"shapedefaults\":{\"line\":{\"color\":\"#2a3f5f\"}},\"ternary\":{\"aaxis\":{\"gridcolor\":\"white\",\"linecolor\":\"white\",\"ticks\":\"\"},\"baxis\":{\"gridcolor\":\"white\",\"linecolor\":\"white\",\"ticks\":\"\"},\"bgcolor\":\"#E5ECF6\",\"caxis\":{\"gridcolor\":\"white\",\"linecolor\":\"white\",\"ticks\":\"\"}},\"title\":{\"x\":0.05},\"xaxis\":{\"automargin\":true,\"gridcolor\":\"white\",\"linecolor\":\"white\",\"ticks\":\"\",\"title\":{\"standoff\":15},\"zerolinecolor\":\"white\",\"zerolinewidth\":2},\"yaxis\":{\"automargin\":true,\"gridcolor\":\"white\",\"linecolor\":\"white\",\"ticks\":\"\",\"title\":{\"standoff\":15},\"zerolinecolor\":\"white\",\"zerolinewidth\":2}}},\"xaxis\":{\"anchor\":\"y\",\"domain\":[0.0,1.0],\"title\":{\"text\":\"\"}},\"yaxis\":{\"anchor\":\"x\",\"domain\":[0.0,1.0],\"title\":{\"text\":\"\"}},\"legend\":{\"title\":{\"text\":\"variable\"},\"tracegroupgap\":0},\"margin\":{\"t\":60},\"barmode\":\"relative\",\"title\":{\"text\":\"Data frequency\"},\"showlegend\":false},                        {\"responsive\": true}                    ).then(function(){\n",
       "                            \n",
       "var gd = document.getElementById('1e1fcf5c-4567-47d9-ad7e-d7163d3cebb1');\n",
       "var x = new MutationObserver(function (mutations, observer) {{\n",
       "        var display = window.getComputedStyle(gd).display;\n",
       "        if (!display || display === 'none') {{\n",
       "            console.log([gd, 'removed!']);\n",
       "            Plotly.purge(gd);\n",
       "            observer.disconnect();\n",
       "        }}\n",
       "}});\n",
       "\n",
       "// Listen for the removal of the full notebook cells\n",
       "var notebookContainer = gd.closest('#notebook-container');\n",
       "if (notebookContainer) {{\n",
       "    x.observe(notebookContainer, {childList: true});\n",
       "}}\n",
       "\n",
       "// Listen for the clearing of the current output cell\n",
       "var outputEl = gd.closest('.output');\n",
       "if (outputEl) {{\n",
       "    x.observe(outputEl, {childList: true});\n",
       "}}\n",
       "\n",
       "                        })                };                });            </script>        </div>"
      ]
     },
     "metadata": {},
     "output_type": "display_data"
    }
   ],
   "source": [
    "fig = EDA_missingness.bar(df, sampling_freq='h')\n",
    "fig.show()"
   ]
  },
  {
   "cell_type": "markdown",
   "metadata": {},
   "source": [
    "We can also create a missingness matrix visualization for the dataframe."
   ]
  },
  {
   "cell_type": "code",
   "execution_count": 4,
   "metadata": {},
   "outputs": [
    {
     "data": {
      "application/vnd.plotly.v1+json": {
       "config": {
        "plotlyServerURL": "https://plot.ly"
       },
       "data": [
        {
         "coloraxis": "coloraxis",
         "hovertemplate": "x: %{x}<br>y: %{y}<br>color: %{z}<extra></extra>",
         "name": "0",
         "type": "heatmap",
         "x": [
          0,
          1,
          2,
          3,
          4
         ],
         "xaxis": "x",
         "y": [
          "2022-01-01T00:00:00",
          "2022-01-01T00:30:00",
          "2022-01-01T01:00:00",
          "2022-01-01T01:30:00",
          "2022-01-01T02:00:00",
          "2022-01-01T02:30:00",
          "2022-01-01T03:00:00",
          "2022-01-01T03:30:00",
          "2022-01-01T04:00:00",
          "2022-01-01T04:30:00",
          "2022-01-01T05:00:00",
          "2022-01-01T05:30:00",
          "2022-01-01T06:00:00",
          "2022-01-01T06:30:00",
          "2022-01-01T07:00:00",
          "2022-01-01T07:30:00",
          "2022-01-01T08:00:00",
          "2022-01-01T08:30:00",
          "2022-01-01T09:00:00",
          "2022-01-01T09:30:00",
          "2022-01-01T10:00:00",
          "2022-01-01T10:30:00",
          "2022-01-01T11:00:00",
          "2022-01-01T11:30:00",
          "2022-01-01T12:00:00",
          "2022-01-01T12:30:00",
          "2022-01-01T13:00:00",
          "2022-01-01T13:30:00",
          "2022-01-01T14:00:00",
          "2022-01-01T14:30:00",
          "2022-01-01T15:00:00",
          "2022-01-01T15:30:00",
          "2022-01-01T16:00:00",
          "2022-01-01T16:30:00",
          "2022-01-01T17:00:00",
          "2022-01-01T17:30:00",
          "2022-01-01T18:00:00",
          "2022-01-01T18:30:00",
          "2022-01-01T19:00:00",
          "2022-01-01T19:30:00",
          "2022-01-01T20:00:00",
          "2022-01-01T20:30:00",
          "2022-01-01T21:00:00",
          "2022-01-01T21:30:00",
          "2022-01-01T22:00:00",
          "2022-01-01T22:30:00",
          "2022-01-01T23:00:00",
          "2022-01-01T23:30:00",
          "2022-01-02T00:00:00",
          "2022-01-02T00:30:00",
          "2022-01-02T01:00:00",
          "2022-01-02T01:30:00",
          "2022-01-02T02:00:00",
          "2022-01-02T02:30:00",
          "2022-01-02T03:00:00",
          "2022-01-02T03:30:00",
          "2022-01-02T04:00:00",
          "2022-01-02T04:30:00",
          "2022-01-02T05:00:00",
          "2022-01-02T05:30:00",
          "2022-01-02T06:00:00",
          "2022-01-02T06:30:00",
          "2022-01-02T07:00:00",
          "2022-01-02T07:30:00",
          "2022-01-02T08:00:00",
          "2022-01-02T08:30:00",
          "2022-01-02T09:00:00",
          "2022-01-02T09:30:00",
          "2022-01-02T10:00:00",
          "2022-01-02T10:30:00",
          "2022-01-02T11:00:00",
          "2022-01-02T11:30:00",
          "2022-01-02T12:00:00",
          "2022-01-02T12:30:00",
          "2022-01-02T13:00:00",
          "2022-01-02T13:30:00",
          "2022-01-02T14:00:00",
          "2022-01-02T14:30:00",
          "2022-01-02T15:00:00",
          "2022-01-02T15:30:00",
          "2022-01-02T16:00:00",
          "2022-01-02T16:30:00",
          "2022-01-02T17:00:00",
          "2022-01-02T17:30:00",
          "2022-01-02T18:00:00",
          "2022-01-02T18:30:00",
          "2022-01-02T19:00:00",
          "2022-01-02T19:30:00",
          "2022-01-02T20:00:00",
          "2022-01-02T20:30:00",
          "2022-01-02T21:00:00",
          "2022-01-02T21:30:00",
          "2022-01-02T22:00:00",
          "2022-01-02T22:30:00",
          "2022-01-02T23:00:00",
          "2022-01-02T23:30:00",
          "2022-01-03T00:00:00",
          "2022-01-03T00:30:00",
          "2022-01-03T01:00:00",
          "2022-01-03T01:30:00",
          "2022-01-03T02:00:00",
          "2022-01-03T02:30:00",
          "2022-01-03T03:00:00",
          "2022-01-03T03:30:00",
          "2022-01-03T04:00:00",
          "2022-01-03T04:30:00",
          "2022-01-03T05:00:00",
          "2022-01-03T05:30:00",
          "2022-01-03T06:00:00",
          "2022-01-03T06:30:00",
          "2022-01-03T07:00:00",
          "2022-01-03T07:30:00",
          "2022-01-03T08:00:00",
          "2022-01-03T08:30:00",
          "2022-01-03T09:00:00",
          "2022-01-03T09:30:00",
          "2022-01-03T10:00:00",
          "2022-01-03T10:30:00",
          "2022-01-03T11:00:00",
          "2022-01-03T11:30:00",
          "2022-01-03T12:00:00",
          "2022-01-03T12:30:00",
          "2022-01-03T13:00:00",
          "2022-01-03T13:30:00",
          "2022-01-03T14:00:00",
          "2022-01-03T14:30:00",
          "2022-01-03T15:00:00",
          "2022-01-03T15:30:00",
          "2022-01-03T16:00:00",
          "2022-01-03T16:30:00",
          "2022-01-03T17:00:00",
          "2022-01-03T17:30:00",
          "2022-01-03T18:00:00",
          "2022-01-03T18:30:00",
          "2022-01-03T19:00:00",
          "2022-01-03T19:30:00",
          "2022-01-03T20:00:00",
          "2022-01-03T20:30:00",
          "2022-01-03T21:00:00",
          "2022-01-03T21:30:00",
          "2022-01-03T22:00:00",
          "2022-01-03T22:30:00",
          "2022-01-03T23:00:00",
          "2022-01-03T23:30:00",
          "2022-01-04T00:00:00",
          "2022-01-04T00:30:00",
          "2022-01-04T01:00:00",
          "2022-01-04T01:30:00",
          "2022-01-04T02:00:00",
          "2022-01-04T02:30:00",
          "2022-01-04T03:00:00",
          "2022-01-04T03:30:00",
          "2022-01-04T04:00:00",
          "2022-01-04T04:30:00",
          "2022-01-04T05:00:00",
          "2022-01-04T05:30:00",
          "2022-01-04T06:00:00",
          "2022-01-04T06:30:00",
          "2022-01-04T07:00:00",
          "2022-01-04T07:30:00",
          "2022-01-04T08:00:00",
          "2022-01-04T08:30:00",
          "2022-01-04T09:00:00",
          "2022-01-04T09:30:00",
          "2022-01-04T10:00:00",
          "2022-01-04T10:30:00",
          "2022-01-04T11:00:00",
          "2022-01-04T11:30:00",
          "2022-01-04T12:00:00",
          "2022-01-04T12:30:00",
          "2022-01-04T13:00:00",
          "2022-01-04T13:30:00",
          "2022-01-04T14:00:00",
          "2022-01-04T14:30:00",
          "2022-01-04T15:00:00",
          "2022-01-04T15:30:00",
          "2022-01-04T16:00:00",
          "2022-01-04T16:30:00",
          "2022-01-04T17:00:00",
          "2022-01-04T17:30:00",
          "2022-01-04T18:00:00",
          "2022-01-04T18:30:00",
          "2022-01-04T19:00:00",
          "2022-01-04T19:30:00",
          "2022-01-04T20:00:00",
          "2022-01-04T20:30:00",
          "2022-01-04T21:00:00",
          "2022-01-04T21:30:00",
          "2022-01-04T22:00:00",
          "2022-01-04T22:30:00",
          "2022-01-04T23:00:00",
          "2022-01-04T23:30:00",
          "2022-01-05T00:00:00",
          "2022-01-05T00:30:00",
          "2022-01-05T01:00:00",
          "2022-01-05T01:30:00",
          "2022-01-05T02:00:00",
          "2022-01-05T02:30:00",
          "2022-01-05T03:00:00",
          "2022-01-05T03:30:00",
          "2022-01-05T04:00:00",
          "2022-01-05T04:30:00",
          "2022-01-05T05:00:00",
          "2022-01-05T05:30:00",
          "2022-01-05T06:00:00",
          "2022-01-05T06:30:00",
          "2022-01-05T07:00:00",
          "2022-01-05T07:30:00",
          "2022-01-05T08:00:00",
          "2022-01-05T08:30:00",
          "2022-01-05T09:00:00",
          "2022-01-05T09:30:00",
          "2022-01-05T10:00:00",
          "2022-01-05T10:30:00",
          "2022-01-05T11:00:00",
          "2022-01-05T11:30:00",
          "2022-01-05T12:00:00",
          "2022-01-05T12:30:00",
          "2022-01-05T13:00:00",
          "2022-01-05T13:30:00",
          "2022-01-05T14:00:00",
          "2022-01-05T14:30:00",
          "2022-01-05T15:00:00",
          "2022-01-05T15:30:00",
          "2022-01-05T16:00:00",
          "2022-01-05T16:30:00",
          "2022-01-05T17:00:00",
          "2022-01-05T17:30:00",
          "2022-01-05T18:00:00",
          "2022-01-05T18:30:00",
          "2022-01-05T19:00:00",
          "2022-01-05T19:30:00",
          "2022-01-05T20:00:00",
          "2022-01-05T20:30:00",
          "2022-01-05T21:00:00",
          "2022-01-05T21:30:00",
          "2022-01-05T22:00:00",
          "2022-01-05T22:30:00",
          "2022-01-05T23:00:00",
          "2022-01-05T23:30:00",
          "2022-01-06T00:00:00",
          "2022-01-06T00:30:00",
          "2022-01-06T01:00:00",
          "2022-01-06T01:30:00",
          "2022-01-06T02:00:00",
          "2022-01-06T02:30:00",
          "2022-01-06T03:00:00",
          "2022-01-06T03:30:00",
          "2022-01-06T04:00:00",
          "2022-01-06T04:30:00",
          "2022-01-06T05:00:00",
          "2022-01-06T05:30:00",
          "2022-01-06T06:00:00",
          "2022-01-06T06:30:00",
          "2022-01-06T07:00:00",
          "2022-01-06T07:30:00",
          "2022-01-06T08:00:00",
          "2022-01-06T08:30:00",
          "2022-01-06T09:00:00",
          "2022-01-06T09:30:00",
          "2022-01-06T10:00:00",
          "2022-01-06T10:30:00",
          "2022-01-06T11:00:00",
          "2022-01-06T11:30:00",
          "2022-01-06T12:00:00",
          "2022-01-06T12:30:00",
          "2022-01-06T13:00:00",
          "2022-01-06T13:30:00",
          "2022-01-06T14:00:00",
          "2022-01-06T14:30:00",
          "2022-01-06T15:00:00",
          "2022-01-06T15:30:00",
          "2022-01-06T16:00:00",
          "2022-01-06T16:30:00",
          "2022-01-06T17:00:00",
          "2022-01-06T17:30:00",
          "2022-01-06T18:00:00",
          "2022-01-06T18:30:00",
          "2022-01-06T19:00:00",
          "2022-01-06T19:30:00",
          "2022-01-06T20:00:00",
          "2022-01-06T20:30:00",
          "2022-01-06T21:00:00",
          "2022-01-06T21:30:00",
          "2022-01-06T22:00:00",
          "2022-01-06T22:30:00",
          "2022-01-06T23:00:00",
          "2022-01-06T23:30:00",
          "2022-01-07T00:00:00",
          "2022-01-07T00:30:00",
          "2022-01-07T01:00:00",
          "2022-01-07T01:30:00",
          "2022-01-07T02:00:00",
          "2022-01-07T02:30:00",
          "2022-01-07T03:00:00",
          "2022-01-07T03:30:00",
          "2022-01-07T04:00:00",
          "2022-01-07T04:30:00",
          "2022-01-07T05:00:00",
          "2022-01-07T05:30:00",
          "2022-01-07T06:00:00",
          "2022-01-07T06:30:00",
          "2022-01-07T07:00:00",
          "2022-01-07T07:30:00",
          "2022-01-07T08:00:00",
          "2022-01-07T08:30:00",
          "2022-01-07T09:00:00",
          "2022-01-07T09:30:00",
          "2022-01-07T10:00:00",
          "2022-01-07T10:30:00",
          "2022-01-07T11:00:00",
          "2022-01-07T11:30:00",
          "2022-01-07T12:00:00",
          "2022-01-07T12:30:00",
          "2022-01-07T13:00:00",
          "2022-01-07T13:30:00",
          "2022-01-07T14:00:00",
          "2022-01-07T14:30:00",
          "2022-01-07T15:00:00",
          "2022-01-07T15:30:00",
          "2022-01-07T16:00:00",
          "2022-01-07T16:30:00",
          "2022-01-07T17:00:00",
          "2022-01-07T17:30:00",
          "2022-01-07T18:00:00",
          "2022-01-07T18:30:00",
          "2022-01-07T19:00:00",
          "2022-01-07T19:30:00",
          "2022-01-07T20:00:00",
          "2022-01-07T20:30:00",
          "2022-01-07T21:00:00",
          "2022-01-07T21:30:00",
          "2022-01-07T22:00:00",
          "2022-01-07T22:30:00",
          "2022-01-07T23:00:00",
          "2022-01-07T23:30:00",
          "2022-01-08T00:00:00",
          "2022-01-08T00:30:00",
          "2022-01-08T01:00:00",
          "2022-01-08T01:30:00",
          "2022-01-08T02:00:00",
          "2022-01-08T02:30:00",
          "2022-01-08T03:00:00",
          "2022-01-08T03:30:00",
          "2022-01-08T04:00:00",
          "2022-01-08T04:30:00",
          "2022-01-08T05:00:00",
          "2022-01-08T05:30:00",
          "2022-01-08T06:00:00",
          "2022-01-08T06:30:00",
          "2022-01-08T07:00:00",
          "2022-01-08T07:30:00",
          "2022-01-08T08:00:00",
          "2022-01-08T08:30:00",
          "2022-01-08T09:00:00",
          "2022-01-08T09:30:00",
          "2022-01-08T10:00:00",
          "2022-01-08T10:30:00",
          "2022-01-08T11:00:00",
          "2022-01-08T11:30:00",
          "2022-01-08T12:00:00",
          "2022-01-08T12:30:00",
          "2022-01-08T13:00:00",
          "2022-01-08T13:30:00",
          "2022-01-08T14:00:00",
          "2022-01-08T14:30:00",
          "2022-01-08T15:00:00",
          "2022-01-08T15:30:00",
          "2022-01-08T16:00:00",
          "2022-01-08T16:30:00",
          "2022-01-08T17:00:00",
          "2022-01-08T17:30:00",
          "2022-01-08T18:00:00",
          "2022-01-08T18:30:00",
          "2022-01-08T19:00:00",
          "2022-01-08T19:30:00",
          "2022-01-08T20:00:00",
          "2022-01-08T20:30:00",
          "2022-01-08T21:00:00",
          "2022-01-08T21:30:00",
          "2022-01-08T22:00:00",
          "2022-01-08T22:30:00",
          "2022-01-08T23:00:00",
          "2022-01-08T23:30:00",
          "2022-01-09T00:00:00",
          "2022-01-09T00:30:00",
          "2022-01-09T01:00:00",
          "2022-01-09T01:30:00",
          "2022-01-09T02:00:00",
          "2022-01-09T02:30:00",
          "2022-01-09T03:00:00",
          "2022-01-09T03:30:00",
          "2022-01-09T04:00:00",
          "2022-01-09T04:30:00",
          "2022-01-09T05:00:00",
          "2022-01-09T05:30:00",
          "2022-01-09T06:00:00",
          "2022-01-09T06:30:00",
          "2022-01-09T07:00:00",
          "2022-01-09T07:30:00",
          "2022-01-09T08:00:00",
          "2022-01-09T08:30:00",
          "2022-01-09T09:00:00",
          "2022-01-09T09:30:00",
          "2022-01-09T10:00:00",
          "2022-01-09T10:30:00",
          "2022-01-09T11:00:00",
          "2022-01-09T11:30:00",
          "2022-01-09T12:00:00",
          "2022-01-09T12:30:00",
          "2022-01-09T13:00:00",
          "2022-01-09T13:30:00",
          "2022-01-09T14:00:00",
          "2022-01-09T14:30:00",
          "2022-01-09T15:00:00",
          "2022-01-09T15:30:00",
          "2022-01-09T16:00:00",
          "2022-01-09T16:30:00",
          "2022-01-09T17:00:00",
          "2022-01-09T17:30:00",
          "2022-01-09T18:00:00",
          "2022-01-09T18:30:00",
          "2022-01-09T19:00:00",
          "2022-01-09T19:30:00",
          "2022-01-09T20:00:00",
          "2022-01-09T20:30:00",
          "2022-01-09T21:00:00",
          "2022-01-09T21:30:00",
          "2022-01-09T22:00:00",
          "2022-01-09T22:30:00",
          "2022-01-09T23:00:00",
          "2022-01-09T23:30:00",
          "2022-01-10T00:00:00",
          "2022-01-10T00:30:00",
          "2022-01-10T01:00:00",
          "2022-01-10T01:30:00",
          "2022-01-10T02:00:00",
          "2022-01-10T02:30:00",
          "2022-01-10T03:00:00",
          "2022-01-10T03:30:00",
          "2022-01-10T04:00:00",
          "2022-01-10T04:30:00",
          "2022-01-10T05:00:00",
          "2022-01-10T05:30:00",
          "2022-01-10T06:00:00",
          "2022-01-10T06:30:00",
          "2022-01-10T07:00:00",
          "2022-01-10T07:30:00",
          "2022-01-10T08:00:00",
          "2022-01-10T08:30:00",
          "2022-01-10T09:00:00",
          "2022-01-10T09:30:00",
          "2022-01-10T10:00:00",
          "2022-01-10T10:30:00",
          "2022-01-10T11:00:00",
          "2022-01-10T11:30:00",
          "2022-01-10T12:00:00",
          "2022-01-10T12:30:00",
          "2022-01-10T13:00:00",
          "2022-01-10T13:30:00",
          "2022-01-10T14:00:00",
          "2022-01-10T14:30:00",
          "2022-01-10T15:00:00",
          "2022-01-10T15:30:00",
          "2022-01-10T16:00:00",
          "2022-01-10T16:30:00",
          "2022-01-10T17:00:00",
          "2022-01-10T17:30:00",
          "2022-01-10T18:00:00",
          "2022-01-10T18:30:00",
          "2022-01-10T19:00:00",
          "2022-01-10T19:30:00",
          "2022-01-10T20:00:00",
          "2022-01-10T20:30:00",
          "2022-01-10T21:00:00",
          "2022-01-10T21:30:00",
          "2022-01-10T22:00:00",
          "2022-01-10T22:30:00",
          "2022-01-10T23:00:00",
          "2022-01-10T23:30:00",
          "2022-01-11T00:00:00",
          "2022-01-11T00:30:00",
          "2022-01-11T01:00:00",
          "2022-01-11T01:30:00",
          "2022-01-11T02:00:00",
          "2022-01-11T02:30:00",
          "2022-01-11T03:00:00",
          "2022-01-11T03:30:00",
          "2022-01-11T04:00:00",
          "2022-01-11T04:30:00",
          "2022-01-11T05:00:00",
          "2022-01-11T05:30:00",
          "2022-01-11T06:00:00",
          "2022-01-11T06:30:00",
          "2022-01-11T07:00:00",
          "2022-01-11T07:30:00",
          "2022-01-11T08:00:00",
          "2022-01-11T08:30:00",
          "2022-01-11T09:00:00",
          "2022-01-11T09:30:00",
          "2022-01-11T10:00:00",
          "2022-01-11T10:30:00",
          "2022-01-11T11:00:00",
          "2022-01-11T11:30:00",
          "2022-01-11T12:00:00",
          "2022-01-11T12:30:00",
          "2022-01-11T13:00:00",
          "2022-01-11T13:30:00",
          "2022-01-11T14:00:00",
          "2022-01-11T14:30:00",
          "2022-01-11T15:00:00",
          "2022-01-11T15:30:00",
          "2022-01-11T16:00:00",
          "2022-01-11T16:30:00",
          "2022-01-11T17:00:00",
          "2022-01-11T17:30:00",
          "2022-01-11T18:00:00",
          "2022-01-11T18:30:00",
          "2022-01-11T19:00:00",
          "2022-01-11T19:30:00",
          "2022-01-11T20:00:00",
          "2022-01-11T20:30:00",
          "2022-01-11T21:00:00",
          "2022-01-11T21:30:00",
          "2022-01-11T22:00:00",
          "2022-01-11T22:30:00",
          "2022-01-11T23:00:00",
          "2022-01-11T23:30:00",
          "2022-01-12T00:00:00",
          "2022-01-12T00:30:00",
          "2022-01-12T01:00:00",
          "2022-01-12T01:30:00",
          "2022-01-12T02:00:00",
          "2022-01-12T02:30:00",
          "2022-01-12T03:00:00",
          "2022-01-12T03:30:00",
          "2022-01-12T04:00:00",
          "2022-01-12T04:30:00",
          "2022-01-12T05:00:00",
          "2022-01-12T05:30:00",
          "2022-01-12T06:00:00",
          "2022-01-12T06:30:00",
          "2022-01-12T07:00:00",
          "2022-01-12T07:30:00",
          "2022-01-12T08:00:00",
          "2022-01-12T08:30:00",
          "2022-01-12T09:00:00",
          "2022-01-12T09:30:00",
          "2022-01-12T10:00:00",
          "2022-01-12T10:30:00",
          "2022-01-12T11:00:00",
          "2022-01-12T11:30:00",
          "2022-01-12T12:00:00",
          "2022-01-12T12:30:00",
          "2022-01-12T13:00:00",
          "2022-01-12T13:30:00",
          "2022-01-12T14:00:00",
          "2022-01-12T14:30:00",
          "2022-01-12T15:00:00",
          "2022-01-12T15:30:00",
          "2022-01-12T16:00:00",
          "2022-01-12T16:30:00",
          "2022-01-12T17:00:00",
          "2022-01-12T17:30:00",
          "2022-01-12T18:00:00",
          "2022-01-12T18:30:00",
          "2022-01-12T19:00:00",
          "2022-01-12T19:30:00",
          "2022-01-12T20:00:00",
          "2022-01-12T20:30:00",
          "2022-01-12T21:00:00",
          "2022-01-12T21:30:00",
          "2022-01-12T22:00:00",
          "2022-01-12T22:30:00",
          "2022-01-12T23:00:00",
          "2022-01-12T23:30:00",
          "2022-01-13T00:00:00",
          "2022-01-13T00:30:00",
          "2022-01-13T01:00:00",
          "2022-01-13T01:30:00",
          "2022-01-13T02:00:00",
          "2022-01-13T02:30:00",
          "2022-01-13T03:00:00",
          "2022-01-13T03:30:00",
          "2022-01-13T04:00:00",
          "2022-01-13T04:30:00",
          "2022-01-13T05:00:00",
          "2022-01-13T05:30:00",
          "2022-01-13T06:00:00",
          "2022-01-13T06:30:00",
          "2022-01-13T07:00:00",
          "2022-01-13T07:30:00",
          "2022-01-13T08:00:00",
          "2022-01-13T08:30:00",
          "2022-01-13T09:00:00",
          "2022-01-13T09:30:00",
          "2022-01-13T10:00:00",
          "2022-01-13T10:30:00",
          "2022-01-13T11:00:00",
          "2022-01-13T11:30:00",
          "2022-01-13T12:00:00",
          "2022-01-13T12:30:00",
          "2022-01-13T13:00:00",
          "2022-01-13T13:30:00",
          "2022-01-13T14:00:00",
          "2022-01-13T14:30:00",
          "2022-01-13T15:00:00",
          "2022-01-13T15:30:00",
          "2022-01-13T16:00:00",
          "2022-01-13T16:30:00",
          "2022-01-13T17:00:00",
          "2022-01-13T17:30:00",
          "2022-01-13T18:00:00",
          "2022-01-13T18:30:00",
          "2022-01-13T19:00:00",
          "2022-01-13T19:30:00",
          "2022-01-13T20:00:00",
          "2022-01-13T20:30:00",
          "2022-01-13T21:00:00",
          "2022-01-13T21:30:00",
          "2022-01-13T22:00:00",
          "2022-01-13T22:30:00",
          "2022-01-13T23:00:00",
          "2022-01-13T23:30:00",
          "2022-01-14T00:00:00",
          "2022-01-14T00:30:00",
          "2022-01-14T01:00:00",
          "2022-01-14T01:30:00",
          "2022-01-14T02:00:00",
          "2022-01-14T02:30:00",
          "2022-01-14T03:00:00",
          "2022-01-14T03:30:00",
          "2022-01-14T04:00:00",
          "2022-01-14T04:30:00",
          "2022-01-14T05:00:00",
          "2022-01-14T05:30:00",
          "2022-01-14T06:00:00",
          "2022-01-14T06:30:00",
          "2022-01-14T07:00:00",
          "2022-01-14T07:30:00",
          "2022-01-14T08:00:00",
          "2022-01-14T08:30:00",
          "2022-01-14T09:00:00",
          "2022-01-14T09:30:00",
          "2022-01-14T10:00:00",
          "2022-01-14T10:30:00",
          "2022-01-14T11:00:00",
          "2022-01-14T11:30:00",
          "2022-01-14T12:00:00",
          "2022-01-14T12:30:00",
          "2022-01-14T13:00:00",
          "2022-01-14T13:30:00",
          "2022-01-14T14:00:00",
          "2022-01-14T14:30:00",
          "2022-01-14T15:00:00",
          "2022-01-14T15:30:00",
          "2022-01-14T16:00:00",
          "2022-01-14T16:30:00",
          "2022-01-14T17:00:00",
          "2022-01-14T17:30:00",
          "2022-01-14T18:00:00",
          "2022-01-14T18:30:00",
          "2022-01-14T19:00:00",
          "2022-01-14T19:30:00",
          "2022-01-14T20:00:00",
          "2022-01-14T20:30:00",
          "2022-01-14T21:00:00",
          "2022-01-14T21:30:00",
          "2022-01-14T22:00:00",
          "2022-01-14T22:30:00",
          "2022-01-14T23:00:00",
          "2022-01-14T23:30:00"
         ],
         "yaxis": "y",
         "z": [
          [
           255,
           0,
           255,
           255,
           255
          ],
          [
           255,
           255,
           0,
           255,
           255
          ],
          [
           0,
           255,
           255,
           0,
           255
          ],
          [
           0,
           0,
           0,
           255,
           0
          ],
          [
           0,
           255,
           255,
           255,
           0
          ],
          [
           255,
           255,
           255,
           255,
           255
          ],
          [
           0,
           255,
           255,
           0,
           0
          ],
          [
           0,
           0,
           255,
           255,
           0
          ],
          [
           0,
           255,
           255,
           255,
           0
          ],
          [
           255,
           0,
           255,
           255,
           255
          ],
          [
           0,
           255,
           0,
           255,
           0
          ],
          [
           255,
           255,
           0,
           0,
           0
          ],
          [
           0,
           255,
           0,
           255,
           255
          ],
          [
           255,
           255,
           0,
           255,
           255
          ],
          [
           255,
           255,
           255,
           0,
           0
          ],
          [
           0,
           0,
           255,
           255,
           255
          ],
          [
           0,
           255,
           0,
           255,
           0
          ],
          [
           255,
           255,
           0,
           0,
           0
          ],
          [
           255,
           255,
           255,
           255,
           0
          ],
          [
           0,
           255,
           255,
           255,
           255
          ],
          [
           255,
           255,
           0,
           0,
           0
          ],
          [
           255,
           0,
           0,
           255,
           0
          ],
          [
           255,
           0,
           0,
           0,
           0
          ],
          [
           0,
           255,
           255,
           255,
           255
          ],
          [
           0,
           255,
           255,
           0,
           0
          ],
          [
           0,
           0,
           0,
           255,
           255
          ],
          [
           255,
           255,
           255,
           255,
           0
          ],
          [
           255,
           255,
           0,
           255,
           255
          ],
          [
           255,
           255,
           255,
           0,
           255
          ],
          [
           255,
           255,
           0,
           0,
           0
          ],
          [
           255,
           255,
           0,
           255,
           255
          ],
          [
           255,
           0,
           0,
           0,
           0
          ],
          [
           0,
           255,
           0,
           255,
           0
          ],
          [
           0,
           255,
           255,
           255,
           0
          ],
          [
           255,
           255,
           255,
           0,
           255
          ],
          [
           255,
           255,
           0,
           0,
           0
          ],
          [
           0,
           0,
           0,
           0,
           255
          ],
          [
           0,
           255,
           0,
           255,
           255
          ],
          [
           0,
           0,
           0,
           0,
           255
          ],
          [
           0,
           0,
           255,
           255,
           255
          ],
          [
           255,
           255,
           0,
           0,
           255
          ],
          [
           255,
           0,
           0,
           0,
           255
          ],
          [
           255,
           255,
           0,
           0,
           255
          ],
          [
           0,
           255,
           255,
           0,
           0
          ],
          [
           255,
           0,
           0,
           0,
           0
          ],
          [
           0,
           0,
           255,
           255,
           255
          ],
          [
           0,
           0,
           255,
           0,
           255
          ],
          [
           0,
           0,
           0,
           0,
           255
          ],
          [
           255,
           0,
           255,
           0,
           255
          ],
          [
           0,
           0,
           255,
           255,
           255
          ],
          [
           0,
           0,
           255,
           0,
           0
          ],
          [
           0,
           255,
           255,
           255,
           255
          ],
          [
           255,
           0,
           255,
           255,
           0
          ],
          [
           255,
           255,
           255,
           255,
           255
          ],
          [
           0,
           255,
           0,
           0,
           255
          ],
          [
           0,
           0,
           255,
           255,
           0
          ],
          [
           0,
           255,
           255,
           0,
           255
          ],
          [
           255,
           0,
           255,
           0,
           0
          ],
          [
           0,
           0,
           0,
           0,
           0
          ],
          [
           255,
           0,
           255,
           255,
           255
          ],
          [
           255,
           0,
           255,
           0,
           0
          ],
          [
           255,
           0,
           255,
           255,
           255
          ],
          [
           255,
           255,
           255,
           255,
           255
          ],
          [
           0,
           255,
           255,
           255,
           255
          ],
          [
           0,
           255,
           0,
           255,
           255
          ],
          [
           255,
           0,
           0,
           255,
           255
          ],
          [
           255,
           255,
           0,
           255,
           255
          ],
          [
           0,
           255,
           0,
           255,
           255
          ],
          [
           0,
           0,
           0,
           255,
           0
          ],
          [
           0,
           255,
           0,
           255,
           0
          ],
          [
           0,
           255,
           255,
           0,
           0
          ],
          [
           255,
           0,
           0,
           0,
           255
          ],
          [
           255,
           255,
           255,
           0,
           255
          ],
          [
           0,
           255,
           0,
           255,
           255
          ],
          [
           0,
           255,
           0,
           0,
           255
          ],
          [
           255,
           0,
           0,
           255,
           255
          ],
          [
           0,
           0,
           255,
           255,
           0
          ],
          [
           0,
           0,
           255,
           0,
           255
          ],
          [
           255,
           255,
           255,
           0,
           255
          ],
          [
           0,
           0,
           0,
           0,
           0
          ],
          [
           255,
           0,
           0,
           0,
           255
          ],
          [
           0,
           255,
           255,
           0,
           0
          ],
          [
           255,
           0,
           0,
           255,
           255
          ],
          [
           0,
           0,
           255,
           255,
           0
          ],
          [
           0,
           0,
           0,
           255,
           255
          ],
          [
           0,
           0,
           0,
           255,
           255
          ],
          [
           0,
           0,
           0,
           255,
           0
          ],
          [
           255,
           0,
           255,
           0,
           0
          ],
          [
           0,
           255,
           255,
           255,
           0
          ],
          [
           0,
           0,
           255,
           0,
           0
          ],
          [
           0,
           255,
           255,
           255,
           0
          ],
          [
           255,
           0,
           255,
           0,
           255
          ],
          [
           0,
           0,
           0,
           0,
           255
          ],
          [
           0,
           255,
           255,
           255,
           255
          ],
          [
           0,
           0,
           255,
           255,
           255
          ],
          [
           255,
           255,
           0,
           0,
           0
          ],
          [
           255,
           0,
           0,
           0,
           0
          ],
          [
           255,
           0,
           255,
           255,
           0
          ],
          [
           0,
           0,
           255,
           255,
           255
          ],
          [
           0,
           255,
           0,
           255,
           255
          ],
          [
           255,
           0,
           255,
           0,
           255
          ],
          [
           255,
           0,
           0,
           255,
           0
          ],
          [
           0,
           255,
           0,
           255,
           0
          ],
          [
           0,
           255,
           0,
           255,
           255
          ],
          [
           0,
           255,
           0,
           255,
           255
          ],
          [
           255,
           255,
           255,
           255,
           0
          ],
          [
           0,
           255,
           0,
           0,
           0
          ],
          [
           255,
           255,
           0,
           255,
           0
          ],
          [
           0,
           0,
           0,
           0,
           0
          ],
          [
           255,
           255,
           0,
           255,
           0
          ],
          [
           255,
           0,
           0,
           0,
           255
          ],
          [
           0,
           255,
           0,
           255,
           0
          ],
          [
           255,
           255,
           255,
           0,
           0
          ],
          [
           0,
           255,
           255,
           0,
           0
          ],
          [
           0,
           255,
           0,
           0,
           255
          ],
          [
           0,
           255,
           0,
           0,
           255
          ],
          [
           255,
           255,
           0,
           255,
           0
          ],
          [
           255,
           0,
           0,
           255,
           255
          ],
          [
           0,
           255,
           0,
           255,
           255
          ],
          [
           255,
           255,
           255,
           0,
           255
          ],
          [
           255,
           255,
           255,
           0,
           255
          ],
          [
           255,
           0,
           255,
           255,
           0
          ],
          [
           0,
           255,
           255,
           0,
           255
          ],
          [
           0,
           0,
           0,
           255,
           255
          ],
          [
           255,
           255,
           255,
           0,
           0
          ],
          [
           0,
           255,
           0,
           0,
           255
          ],
          [
           0,
           255,
           0,
           255,
           0
          ],
          [
           255,
           255,
           0,
           255,
           255
          ],
          [
           0,
           255,
           0,
           255,
           0
          ],
          [
           0,
           255,
           255,
           0,
           0
          ],
          [
           0,
           255,
           0,
           0,
           255
          ],
          [
           255,
           0,
           0,
           255,
           255
          ],
          [
           0,
           0,
           0,
           0,
           0
          ],
          [
           0,
           0,
           255,
           0,
           255
          ],
          [
           0,
           255,
           0,
           255,
           0
          ],
          [
           0,
           0,
           255,
           255,
           0
          ],
          [
           0,
           255,
           0,
           0,
           0
          ],
          [
           255,
           0,
           255,
           255,
           0
          ],
          [
           255,
           0,
           255,
           0,
           0
          ],
          [
           255,
           255,
           255,
           255,
           255
          ],
          [
           0,
           255,
           255,
           0,
           255
          ],
          [
           0,
           0,
           255,
           0,
           0
          ],
          [
           0,
           255,
           0,
           255,
           255
          ],
          [
           0,
           255,
           255,
           0,
           0
          ],
          [
           255,
           255,
           0,
           255,
           255
          ],
          [
           0,
           0,
           0,
           255,
           255
          ],
          [
           255,
           255,
           0,
           0,
           0
          ],
          [
           0,
           0,
           0,
           0,
           0
          ],
          [
           0,
           0,
           0,
           0,
           0
          ],
          [
           255,
           255,
           255,
           255,
           255
          ],
          [
           0,
           0,
           255,
           0,
           255
          ],
          [
           0,
           0,
           0,
           255,
           0
          ],
          [
           255,
           255,
           255,
           255,
           255
          ],
          [
           255,
           255,
           0,
           0,
           255
          ],
          [
           255,
           0,
           0,
           0,
           255
          ],
          [
           255,
           255,
           0,
           0,
           255
          ],
          [
           255,
           0,
           255,
           0,
           255
          ],
          [
           255,
           255,
           255,
           0,
           0
          ],
          [
           255,
           0,
           0,
           0,
           255
          ],
          [
           255,
           255,
           255,
           0,
           255
          ],
          [
           0,
           0,
           255,
           0,
           255
          ],
          [
           255,
           255,
           0,
           0,
           255
          ],
          [
           255,
           255,
           0,
           255,
           0
          ],
          [
           0,
           255,
           255,
           0,
           255
          ],
          [
           255,
           255,
           255,
           0,
           255
          ],
          [
           0,
           255,
           0,
           255,
           255
          ],
          [
           0,
           0,
           255,
           255,
           0
          ],
          [
           0,
           0,
           0,
           255,
           255
          ],
          [
           0,
           255,
           0,
           0,
           255
          ],
          [
           0,
           0,
           255,
           255,
           0
          ],
          [
           0,
           0,
           255,
           0,
           255
          ],
          [
           255,
           0,
           0,
           0,
           0
          ],
          [
           0,
           255,
           0,
           255,
           255
          ],
          [
           0,
           0,
           0,
           255,
           0
          ],
          [
           255,
           0,
           0,
           0,
           0
          ],
          [
           0,
           255,
           255,
           0,
           0
          ],
          [
           255,
           0,
           255,
           0,
           255
          ],
          [
           0,
           0,
           0,
           255,
           255
          ],
          [
           255,
           0,
           255,
           0,
           255
          ],
          [
           255,
           255,
           0,
           255,
           255
          ],
          [
           0,
           0,
           0,
           0,
           0
          ],
          [
           255,
           0,
           0,
           0,
           255
          ],
          [
           0,
           255,
           0,
           255,
           255
          ],
          [
           255,
           255,
           0,
           255,
           0
          ],
          [
           255,
           0,
           0,
           0,
           255
          ],
          [
           0,
           0,
           0,
           0,
           255
          ],
          [
           0,
           255,
           0,
           0,
           0
          ],
          [
           0,
           255,
           0,
           0,
           0
          ],
          [
           255,
           0,
           0,
           0,
           0
          ],
          [
           0,
           0,
           255,
           255,
           0
          ],
          [
           0,
           0,
           255,
           0,
           255
          ],
          [
           0,
           255,
           255,
           0,
           255
          ],
          [
           255,
           255,
           255,
           0,
           0
          ],
          [
           255,
           255,
           255,
           0,
           255
          ],
          [
           255,
           0,
           0,
           255,
           255
          ],
          [
           255,
           0,
           0,
           255,
           255
          ],
          [
           255,
           0,
           0,
           255,
           255
          ],
          [
           255,
           0,
           0,
           255,
           0
          ],
          [
           0,
           255,
           0,
           255,
           255
          ],
          [
           255,
           0,
           255,
           0,
           255
          ],
          [
           0,
           255,
           255,
           255,
           255
          ],
          [
           255,
           0,
           255,
           0,
           0
          ],
          [
           255,
           0,
           0,
           255,
           255
          ],
          [
           0,
           0,
           0,
           255,
           0
          ],
          [
           0,
           0,
           0,
           255,
           255
          ],
          [
           255,
           0,
           0,
           0,
           0
          ],
          [
           0,
           0,
           255,
           0,
           255
          ],
          [
           0,
           0,
           0,
           255,
           0
          ],
          [
           0,
           0,
           255,
           0,
           255
          ],
          [
           255,
           255,
           255,
           255,
           0
          ],
          [
           255,
           255,
           0,
           0,
           255
          ],
          [
           0,
           255,
           255,
           255,
           0
          ],
          [
           255,
           0,
           255,
           255,
           0
          ],
          [
           255,
           0,
           0,
           0,
           0
          ],
          [
           0,
           0,
           255,
           255,
           0
          ],
          [
           255,
           0,
           255,
           0,
           255
          ],
          [
           0,
           255,
           0,
           0,
           255
          ],
          [
           0,
           0,
           255,
           255,
           255
          ],
          [
           255,
           0,
           0,
           255,
           0
          ],
          [
           0,
           0,
           255,
           0,
           255
          ],
          [
           255,
           0,
           0,
           255,
           0
          ],
          [
           255,
           0,
           255,
           0,
           0
          ],
          [
           0,
           0,
           255,
           0,
           255
          ],
          [
           255,
           255,
           255,
           255,
           0
          ],
          [
           255,
           255,
           255,
           255,
           0
          ],
          [
           0,
           0,
           255,
           0,
           0
          ],
          [
           255,
           0,
           0,
           0,
           255
          ],
          [
           0,
           255,
           0,
           0,
           255
          ],
          [
           255,
           0,
           0,
           255,
           0
          ],
          [
           255,
           0,
           0,
           255,
           255
          ],
          [
           255,
           255,
           0,
           0,
           255
          ],
          [
           0,
           0,
           0,
           255,
           0
          ],
          [
           0,
           0,
           0,
           255,
           255
          ],
          [
           0,
           255,
           0,
           255,
           255
          ],
          [
           0,
           255,
           255,
           255,
           255
          ],
          [
           0,
           255,
           0,
           0,
           255
          ],
          [
           255,
           255,
           255,
           255,
           255
          ],
          [
           0,
           0,
           0,
           0,
           255
          ],
          [
           255,
           0,
           255,
           0,
           0
          ],
          [
           0,
           255,
           0,
           0,
           0
          ],
          [
           255,
           255,
           0,
           0,
           255
          ],
          [
           255,
           255,
           0,
           255,
           0
          ],
          [
           255,
           255,
           0,
           255,
           255
          ],
          [
           0,
           255,
           255,
           0,
           0
          ],
          [
           0,
           0,
           0,
           255,
           0
          ],
          [
           0,
           255,
           255,
           255,
           0
          ],
          [
           0,
           0,
           255,
           0,
           255
          ],
          [
           255,
           255,
           0,
           0,
           0
          ],
          [
           0,
           255,
           255,
           255,
           0
          ],
          [
           255,
           0,
           255,
           255,
           0
          ],
          [
           255,
           255,
           255,
           255,
           255
          ],
          [
           255,
           0,
           0,
           0,
           255
          ],
          [
           255,
           0,
           255,
           0,
           255
          ],
          [
           255,
           0,
           255,
           0,
           0
          ],
          [
           0,
           0,
           255,
           0,
           255
          ],
          [
           0,
           0,
           0,
           0,
           0
          ],
          [
           255,
           255,
           0,
           255,
           0
          ],
          [
           0,
           255,
           255,
           255,
           0
          ],
          [
           0,
           255,
           255,
           255,
           255
          ],
          [
           255,
           0,
           0,
           0,
           255
          ],
          [
           0,
           0,
           255,
           255,
           0
          ],
          [
           0,
           255,
           255,
           255,
           255
          ],
          [
           255,
           0,
           255,
           0,
           255
          ],
          [
           0,
           255,
           255,
           255,
           255
          ],
          [
           255,
           0,
           255,
           0,
           0
          ],
          [
           255,
           255,
           255,
           255,
           0
          ],
          [
           255,
           0,
           0,
           0,
           0
          ],
          [
           255,
           255,
           0,
           255,
           255
          ],
          [
           0,
           0,
           255,
           0,
           0
          ],
          [
           0,
           255,
           0,
           0,
           255
          ],
          [
           255,
           0,
           255,
           255,
           0
          ],
          [
           0,
           0,
           255,
           0,
           255
          ],
          [
           0,
           255,
           0,
           0,
           255
          ],
          [
           0,
           0,
           255,
           255,
           0
          ],
          [
           0,
           0,
           255,
           255,
           0
          ],
          [
           255,
           255,
           255,
           255,
           255
          ],
          [
           255,
           0,
           0,
           255,
           0
          ],
          [
           0,
           255,
           0,
           0,
           255
          ],
          [
           0,
           0,
           0,
           255,
           255
          ],
          [
           255,
           0,
           255,
           255,
           255
          ],
          [
           255,
           255,
           255,
           255,
           0
          ],
          [
           255,
           0,
           255,
           0,
           0
          ],
          [
           0,
           0,
           0,
           255,
           0
          ],
          [
           255,
           0,
           0,
           255,
           0
          ],
          [
           255,
           255,
           0,
           0,
           255
          ],
          [
           0,
           0,
           255,
           0,
           255
          ],
          [
           0,
           0,
           255,
           0,
           0
          ],
          [
           0,
           0,
           0,
           255,
           0
          ],
          [
           255,
           255,
           0,
           0,
           255
          ],
          [
           0,
           255,
           255,
           255,
           255
          ],
          [
           255,
           0,
           0,
           255,
           255
          ],
          [
           0,
           255,
           0,
           255,
           255
          ],
          [
           255,
           255,
           0,
           0,
           255
          ],
          [
           255,
           255,
           0,
           0,
           255
          ],
          [
           0,
           255,
           255,
           255,
           0
          ],
          [
           0,
           0,
           0,
           0,
           0
          ],
          [
           255,
           255,
           0,
           255,
           0
          ],
          [
           0,
           255,
           0,
           0,
           255
          ],
          [
           0,
           255,
           255,
           255,
           255
          ],
          [
           255,
           255,
           255,
           255,
           0
          ],
          [
           0,
           255,
           255,
           0,
           0
          ],
          [
           255,
           255,
           0,
           0,
           255
          ],
          [
           0,
           0,
           255,
           0,
           255
          ],
          [
           255,
           0,
           0,
           255,
           0
          ],
          [
           255,
           255,
           0,
           255,
           255
          ],
          [
           0,
           255,
           255,
           255,
           255
          ],
          [
           255,
           255,
           0,
           0,
           0
          ],
          [
           0,
           255,
           255,
           0,
           255
          ],
          [
           255,
           0,
           0,
           255,
           255
          ],
          [
           255,
           255,
           0,
           255,
           255
          ],
          [
           0,
           255,
           0,
           255,
           0
          ],
          [
           0,
           255,
           255,
           255,
           255
          ],
          [
           255,
           255,
           0,
           0,
           255
          ],
          [
           255,
           0,
           0,
           0,
           255
          ],
          [
           255,
           255,
           0,
           0,
           255
          ],
          [
           255,
           255,
           255,
           255,
           255
          ],
          [
           255,
           0,
           255,
           255,
           0
          ],
          [
           255,
           0,
           0,
           255,
           0
          ],
          [
           0,
           0,
           0,
           0,
           0
          ],
          [
           0,
           0,
           255,
           255,
           255
          ],
          [
           255,
           255,
           255,
           0,
           255
          ],
          [
           0,
           0,
           255,
           0,
           255
          ],
          [
           255,
           0,
           0,
           0,
           255
          ],
          [
           0,
           0,
           0,
           0,
           0
          ],
          [
           255,
           0,
           255,
           0,
           0
          ],
          [
           0,
           255,
           255,
           0,
           0
          ],
          [
           0,
           0,
           255,
           255,
           0
          ],
          [
           255,
           0,
           255,
           0,
           255
          ],
          [
           0,
           255,
           0,
           0,
           255
          ],
          [
           0,
           0,
           255,
           255,
           0
          ],
          [
           0,
           0,
           255,
           255,
           0
          ],
          [
           0,
           0,
           255,
           0,
           0
          ],
          [
           0,
           255,
           255,
           255,
           255
          ],
          [
           255,
           0,
           255,
           0,
           0
          ],
          [
           255,
           255,
           255,
           255,
           255
          ],
          [
           255,
           0,
           0,
           255,
           255
          ],
          [
           255,
           0,
           0,
           255,
           255
          ],
          [
           255,
           0,
           255,
           0,
           0
          ],
          [
           255,
           0,
           0,
           255,
           0
          ],
          [
           255,
           0,
           255,
           255,
           0
          ],
          [
           0,
           0,
           255,
           255,
           0
          ],
          [
           0,
           255,
           255,
           0,
           0
          ],
          [
           255,
           255,
           255,
           0,
           255
          ],
          [
           0,
           255,
           0,
           255,
           255
          ],
          [
           255,
           0,
           0,
           255,
           0
          ],
          [
           255,
           255,
           255,
           0,
           0
          ],
          [
           255,
           255,
           255,
           255,
           255
          ],
          [
           0,
           255,
           0,
           0,
           0
          ],
          [
           0,
           255,
           0,
           255,
           255
          ],
          [
           0,
           255,
           0,
           0,
           255
          ],
          [
           0,
           0,
           0,
           0,
           255
          ],
          [
           0,
           255,
           0,
           0,
           255
          ],
          [
           255,
           0,
           255,
           0,
           0
          ],
          [
           255,
           255,
           255,
           255,
           0
          ],
          [
           0,
           0,
           0,
           0,
           0
          ],
          [
           0,
           0,
           0,
           0,
           0
          ],
          [
           0,
           0,
           0,
           0,
           255
          ],
          [
           255,
           255,
           0,
           0,
           0
          ],
          [
           0,
           255,
           0,
           0,
           0
          ],
          [
           255,
           255,
           0,
           0,
           255
          ],
          [
           0,
           0,
           0,
           0,
           255
          ],
          [
           0,
           0,
           255,
           255,
           0
          ],
          [
           0,
           0,
           255,
           0,
           0
          ],
          [
           0,
           0,
           255,
           255,
           255
          ],
          [
           255,
           0,
           0,
           0,
           255
          ],
          [
           0,
           0,
           255,
           0,
           0
          ],
          [
           255,
           255,
           255,
           255,
           255
          ],
          [
           0,
           0,
           0,
           255,
           255
          ],
          [
           0,
           255,
           0,
           0,
           0
          ],
          [
           255,
           0,
           0,
           0,
           0
          ],
          [
           0,
           0,
           0,
           255,
           255
          ],
          [
           255,
           255,
           0,
           255,
           0
          ],
          [
           0,
           0,
           0,
           255,
           0
          ],
          [
           255,
           0,
           0,
           255,
           255
          ],
          [
           255,
           0,
           0,
           255,
           0
          ],
          [
           255,
           255,
           255,
           0,
           255
          ],
          [
           0,
           0,
           255,
           255,
           0
          ],
          [
           0,
           0,
           0,
           0,
           0
          ],
          [
           255,
           255,
           255,
           255,
           255
          ],
          [
           255,
           0,
           0,
           255,
           0
          ],
          [
           0,
           0,
           255,
           0,
           0
          ],
          [
           0,
           0,
           255,
           255,
           255
          ],
          [
           255,
           0,
           255,
           0,
           0
          ],
          [
           0,
           0,
           255,
           255,
           255
          ],
          [
           0,
           255,
           255,
           255,
           255
          ],
          [
           0,
           255,
           0,
           0,
           0
          ],
          [
           255,
           0,
           0,
           0,
           255
          ],
          [
           255,
           255,
           0,
           0,
           255
          ],
          [
           0,
           0,
           255,
           255,
           0
          ],
          [
           0,
           255,
           0,
           255,
           255
          ],
          [
           0,
           0,
           255,
           0,
           0
          ],
          [
           255,
           255,
           255,
           255,
           0
          ],
          [
           0,
           0,
           0,
           255,
           255
          ],
          [
           0,
           255,
           255,
           255,
           0
          ],
          [
           0,
           0,
           255,
           0,
           0
          ],
          [
           0,
           0,
           0,
           0,
           255
          ],
          [
           255,
           0,
           0,
           255,
           255
          ],
          [
           255,
           255,
           0,
           0,
           255
          ],
          [
           255,
           0,
           255,
           0,
           0
          ],
          [
           255,
           255,
           255,
           255,
           255
          ],
          [
           255,
           0,
           0,
           255,
           0
          ],
          [
           255,
           0,
           0,
           255,
           255
          ],
          [
           0,
           0,
           255,
           255,
           255
          ],
          [
           255,
           0,
           255,
           0,
           0
          ],
          [
           0,
           255,
           0,
           0,
           255
          ],
          [
           0,
           0,
           0,
           255,
           255
          ],
          [
           255,
           0,
           255,
           0,
           255
          ],
          [
           255,
           0,
           0,
           255,
           255
          ],
          [
           255,
           0,
           0,
           0,
           255
          ],
          [
           255,
           255,
           255,
           255,
           255
          ],
          [
           255,
           255,
           0,
           0,
           255
          ],
          [
           255,
           255,
           255,
           0,
           0
          ],
          [
           0,
           255,
           0,
           255,
           0
          ],
          [
           0,
           255,
           0,
           0,
           255
          ],
          [
           0,
           255,
           0,
           255,
           0
          ],
          [
           255,
           255,
           255,
           0,
           255
          ],
          [
           0,
           255,
           0,
           0,
           0
          ],
          [
           0,
           0,
           255,
           255,
           255
          ],
          [
           0,
           255,
           0,
           0,
           255
          ],
          [
           0,
           0,
           0,
           0,
           0
          ],
          [
           0,
           0,
           255,
           0,
           255
          ],
          [
           255,
           255,
           255,
           255,
           0
          ],
          [
           0,
           0,
           0,
           255,
           255
          ],
          [
           0,
           0,
           255,
           255,
           0
          ],
          [
           255,
           255,
           0,
           255,
           255
          ],
          [
           255,
           0,
           0,
           255,
           0
          ],
          [
           255,
           255,
           0,
           0,
           255
          ],
          [
           0,
           255,
           255,
           0,
           0
          ],
          [
           0,
           0,
           255,
           0,
           0
          ],
          [
           0,
           0,
           255,
           255,
           0
          ],
          [
           255,
           255,
           0,
           255,
           0
          ],
          [
           0,
           255,
           0,
           0,
           0
          ],
          [
           255,
           0,
           255,
           0,
           255
          ],
          [
           255,
           255,
           255,
           0,
           0
          ],
          [
           0,
           0,
           255,
           255,
           0
          ],
          [
           255,
           255,
           0,
           0,
           255
          ],
          [
           0,
           0,
           255,
           255,
           255
          ],
          [
           255,
           0,
           0,
           255,
           255
          ],
          [
           0,
           255,
           0,
           0,
           0
          ],
          [
           255,
           0,
           0,
           0,
           255
          ],
          [
           255,
           255,
           0,
           255,
           255
          ],
          [
           0,
           0,
           255,
           0,
           255
          ],
          [
           255,
           255,
           0,
           0,
           255
          ],
          [
           255,
           255,
           255,
           255,
           255
          ],
          [
           255,
           255,
           255,
           0,
           0
          ],
          [
           255,
           255,
           0,
           255,
           0
          ],
          [
           255,
           0,
           0,
           255,
           0
          ],
          [
           0,
           255,
           255,
           255,
           255
          ],
          [
           255,
           255,
           255,
           0,
           255
          ],
          [
           0,
           255,
           0,
           255,
           0
          ],
          [
           0,
           255,
           255,
           255,
           255
          ],
          [
           0,
           255,
           0,
           0,
           0
          ],
          [
           0,
           255,
           255,
           0,
           255
          ],
          [
           255,
           255,
           255,
           255,
           0
          ],
          [
           255,
           0,
           0,
           0,
           0
          ],
          [
           0,
           255,
           255,
           0,
           0
          ],
          [
           0,
           0,
           0,
           0,
           255
          ],
          [
           255,
           255,
           255,
           255,
           255
          ],
          [
           0,
           255,
           0,
           0,
           0
          ],
          [
           0,
           0,
           0,
           255,
           0
          ],
          [
           0,
           0,
           0,
           0,
           255
          ],
          [
           255,
           0,
           255,
           255,
           0
          ],
          [
           0,
           255,
           255,
           0,
           0
          ],
          [
           255,
           0,
           0,
           255,
           0
          ],
          [
           255,
           0,
           0,
           0,
           0
          ],
          [
           255,
           0,
           0,
           0,
           0
          ],
          [
           0,
           255,
           255,
           255,
           255
          ],
          [
           0,
           0,
           0,
           255,
           0
          ],
          [
           255,
           0,
           0,
           255,
           255
          ],
          [
           255,
           255,
           255,
           0,
           255
          ],
          [
           255,
           255,
           0,
           255,
           0
          ],
          [
           255,
           0,
           255,
           255,
           0
          ],
          [
           255,
           0,
           0,
           255,
           255
          ],
          [
           255,
           255,
           0,
           0,
           255
          ],
          [
           255,
           255,
           0,
           0,
           0
          ],
          [
           0,
           0,
           255,
           0,
           0
          ],
          [
           255,
           0,
           255,
           255,
           0
          ],
          [
           0,
           255,
           0,
           255,
           0
          ],
          [
           255,
           0,
           0,
           255,
           0
          ],
          [
           255,
           255,
           0,
           0,
           255
          ],
          [
           255,
           255,
           255,
           255,
           255
          ],
          [
           255,
           0,
           255,
           0,
           0
          ],
          [
           255,
           0,
           255,
           0,
           0
          ],
          [
           0,
           255,
           255,
           255,
           0
          ],
          [
           0,
           0,
           0,
           255,
           255
          ],
          [
           255,
           255,
           255,
           0,
           255
          ],
          [
           0,
           255,
           0,
           255,
           0
          ],
          [
           0,
           255,
           0,
           0,
           0
          ],
          [
           0,
           255,
           0,
           0,
           255
          ],
          [
           255,
           255,
           0,
           0,
           255
          ],
          [
           255,
           0,
           0,
           0,
           255
          ],
          [
           255,
           0,
           0,
           255,
           255
          ],
          [
           255,
           0,
           255,
           255,
           255
          ],
          [
           255,
           255,
           255,
           0,
           0
          ],
          [
           255,
           0,
           0,
           255,
           0
          ],
          [
           255,
           255,
           0,
           255,
           0
          ],
          [
           0,
           255,
           0,
           0,
           255
          ],
          [
           0,
           0,
           0,
           0,
           255
          ],
          [
           0,
           0,
           255,
           0,
           0
          ],
          [
           0,
           0,
           0,
           255,
           255
          ],
          [
           255,
           255,
           255,
           0,
           0
          ],
          [
           0,
           255,
           0,
           255,
           255
          ],
          [
           0,
           255,
           0,
           0,
           255
          ],
          [
           0,
           255,
           255,
           0,
           0
          ],
          [
           255,
           255,
           255,
           0,
           0
          ],
          [
           0,
           0,
           255,
           255,
           0
          ],
          [
           255,
           0,
           0,
           255,
           255
          ],
          [
           255,
           255,
           255,
           0,
           255
          ],
          [
           255,
           255,
           0,
           0,
           255
          ],
          [
           255,
           255,
           255,
           255,
           0
          ],
          [
           255,
           255,
           255,
           0,
           0
          ],
          [
           0,
           0,
           255,
           255,
           255
          ],
          [
           255,
           255,
           255,
           0,
           0
          ],
          [
           0,
           255,
           0,
           0,
           255
          ],
          [
           0,
           255,
           255,
           0,
           255
          ],
          [
           0,
           255,
           0,
           0,
           0
          ],
          [
           0,
           0,
           0,
           0,
           0
          ],
          [
           0,
           0,
           255,
           255,
           0
          ],
          [
           0,
           0,
           0,
           255,
           255
          ],
          [
           255,
           0,
           255,
           255,
           0
          ],
          [
           0,
           255,
           0,
           255,
           255
          ],
          [
           255,
           255,
           255,
           0,
           255
          ],
          [
           255,
           255,
           0,
           0,
           0
          ],
          [
           0,
           0,
           255,
           255,
           255
          ],
          [
           255,
           255,
           0,
           255,
           255
          ],
          [
           0,
           255,
           0,
           255,
           255
          ],
          [
           0,
           0,
           0,
           0,
           255
          ],
          [
           0,
           0,
           0,
           255,
           0
          ],
          [
           255,
           255,
           255,
           0,
           255
          ],
          [
           255,
           255,
           0,
           0,
           255
          ],
          [
           255,
           0,
           255,
           0,
           0
          ],
          [
           0,
           255,
           255,
           0,
           0
          ],
          [
           255,
           0,
           0,
           0,
           0
          ],
          [
           0,
           0,
           255,
           255,
           0
          ],
          [
           0,
           0,
           0,
           255,
           255
          ],
          [
           255,
           255,
           255,
           255,
           0
          ],
          [
           0,
           0,
           0,
           255,
           0
          ],
          [
           255,
           0,
           0,
           0,
           0
          ],
          [
           255,
           0,
           255,
           255,
           255
          ],
          [
           0,
           255,
           255,
           0,
           0
          ],
          [
           0,
           0,
           255,
           0,
           0
          ],
          [
           0,
           0,
           255,
           255,
           0
          ],
          [
           0,
           0,
           255,
           0,
           255
          ],
          [
           0,
           0,
           0,
           255,
           0
          ],
          [
           255,
           255,
           255,
           0,
           255
          ],
          [
           255,
           255,
           255,
           0,
           0
          ],
          [
           255,
           0,
           0,
           255,
           255
          ],
          [
           255,
           255,
           0,
           0,
           0
          ],
          [
           0,
           0,
           255,
           255,
           0
          ],
          [
           255,
           0,
           255,
           255,
           0
          ],
          [
           255,
           255,
           0,
           0,
           0
          ],
          [
           255,
           0,
           255,
           0,
           255
          ],
          [
           0,
           255,
           0,
           255,
           0
          ],
          [
           0,
           0,
           0,
           255,
           0
          ],
          [
           0,
           255,
           255,
           0,
           0
          ],
          [
           0,
           0,
           255,
           255,
           255
          ],
          [
           0,
           255,
           0,
           0,
           0
          ],
          [
           0,
           0,
           0,
           255,
           0
          ],
          [
           255,
           0,
           0,
           0,
           255
          ],
          [
           255,
           255,
           255,
           0,
           255
          ],
          [
           255,
           255,
           0,
           255,
           255
          ],
          [
           255,
           0,
           255,
           0,
           0
          ],
          [
           0,
           255,
           255,
           255,
           255
          ],
          [
           255,
           0,
           255,
           0,
           0
          ],
          [
           0,
           0,
           0,
           0,
           255
          ],
          [
           255,
           255,
           255,
           0,
           255
          ],
          [
           255,
           0,
           0,
           255,
           255
          ],
          [
           0,
           255,
           0,
           255,
           0
          ],
          [
           0,
           255,
           255,
           255,
           0
          ],
          [
           255,
           0,
           255,
           255,
           0
          ],
          [
           255,
           255,
           0,
           255,
           0
          ],
          [
           0,
           0,
           0,
           0,
           255
          ],
          [
           255,
           255,
           0,
           0,
           255
          ],
          [
           0,
           255,
           255,
           255,
           255
          ],
          [
           255,
           255,
           255,
           0,
           0
          ],
          [
           0,
           255,
           0,
           255,
           0
          ],
          [
           0,
           0,
           255,
           0,
           0
          ],
          [
           255,
           0,
           0,
           255,
           255
          ],
          [
           255,
           255,
           255,
           255,
           0
          ],
          [
           0,
           0,
           0,
           0,
           0
          ],
          [
           0,
           0,
           255,
           255,
           255
          ],
          [
           0,
           255,
           0,
           255,
           255
          ],
          [
           255,
           255,
           255,
           255,
           0
          ],
          [
           0,
           0,
           255,
           0,
           255
          ],
          [
           255,
           0,
           0,
           0,
           0
          ],
          [
           255,
           255,
           255,
           255,
           0
          ],
          [
           255,
           0,
           255,
           255,
           0
          ],
          [
           255,
           255,
           255,
           0,
           0
          ],
          [
           255,
           0,
           255,
           255,
           0
          ],
          [
           255,
           0,
           255,
           255,
           0
          ],
          [
           255,
           255,
           0,
           0,
           255
          ],
          [
           0,
           255,
           255,
           255,
           0
          ],
          [
           255,
           0,
           0,
           255,
           0
          ],
          [
           255,
           0,
           0,
           0,
           0
          ],
          [
           0,
           0,
           0,
           255,
           255
          ],
          [
           255,
           255,
           255,
           255,
           255
          ],
          [
           0,
           255,
           255,
           0,
           0
          ],
          [
           0,
           0,
           255,
           0,
           255
          ],
          [
           255,
           255,
           255,
           255,
           255
          ],
          [
           0,
           0,
           255,
           255,
           0
          ],
          [
           0,
           0,
           0,
           255,
           0
          ],
          [
           255,
           255,
           255,
           255,
           255
          ],
          [
           255,
           255,
           255,
           255,
           0
          ],
          [
           255,
           255,
           0,
           0,
           0
          ],
          [
           0,
           255,
           255,
           255,
           0
          ],
          [
           255,
           255,
           0,
           255,
           255
          ],
          [
           255,
           255,
           0,
           0,
           255
          ],
          [
           255,
           0,
           0,
           255,
           255
          ],
          [
           255,
           0,
           255,
           255,
           0
          ],
          [
           0,
           255,
           255,
           0,
           0
          ],
          [
           255,
           255,
           255,
           255,
           255
          ],
          [
           0,
           255,
           255,
           255,
           0
          ],
          [
           255,
           0,
           255,
           255,
           0
          ],
          [
           0,
           255,
           0,
           255,
           255
          ],
          [
           255,
           255,
           255,
           0,
           0
          ],
          [
           0,
           255,
           255,
           0,
           255
          ],
          [
           0,
           255,
           0,
           0,
           255
          ],
          [
           0,
           0,
           255,
           0,
           255
          ],
          [
           0,
           0,
           0,
           255,
           255
          ],
          [
           0,
           0,
           255,
           255,
           255
          ],
          [
           255,
           0,
           0,
           255,
           0
          ],
          [
           255,
           0,
           0,
           255,
           255
          ],
          [
           255,
           0,
           0,
           255,
           255
          ],
          [
           255,
           255,
           0,
           0,
           0
          ],
          [
           255,
           255,
           0,
           0,
           255
          ],
          [
           255,
           255,
           0,
           255,
           0
          ],
          [
           255,
           255,
           0,
           0,
           0
          ],
          [
           0,
           255,
           255,
           0,
           0
          ],
          [
           0,
           255,
           0,
           255,
           255
          ],
          [
           0,
           0,
           0,
           0,
           255
          ],
          [
           0,
           0,
           255,
           0,
           255
          ],
          [
           255,
           255,
           255,
           255,
           0
          ],
          [
           0,
           255,
           0,
           255,
           255
          ],
          [
           0,
           0,
           255,
           255,
           0
          ],
          [
           255,
           255,
           255,
           255,
           0
          ],
          [
           0,
           0,
           0,
           255,
           255
          ],
          [
           0,
           0,
           0,
           0,
           0
          ],
          [
           255,
           255,
           255,
           255,
           255
          ],
          [
           255,
           0,
           255,
           0,
           255
          ],
          [
           0,
           0,
           255,
           0,
           0
          ],
          [
           255,
           255,
           0,
           255,
           255
          ],
          [
           255,
           0,
           255,
           0,
           255
          ],
          [
           0,
           0,
           255,
           255,
           255
          ],
          [
           0,
           255,
           0,
           0,
           255
          ],
          [
           0,
           255,
           0,
           255,
           255
          ],
          [
           0,
           0,
           0,
           0,
           0
          ],
          [
           255,
           255,
           0,
           0,
           255
          ],
          [
           0,
           0,
           0,
           0,
           255
          ],
          [
           0,
           255,
           255,
           255,
           255
          ],
          [
           0,
           255,
           255,
           0,
           255
          ],
          [
           0,
           255,
           0,
           255,
           255
          ],
          [
           0,
           255,
           255,
           0,
           255
          ],
          [
           0,
           0,
           255,
           0,
           0
          ],
          [
           255,
           0,
           0,
           0,
           255
          ],
          [
           0,
           255,
           0,
           255,
           255
          ],
          [
           0,
           255,
           255,
           0,
           255
          ],
          [
           255,
           0,
           0,
           0,
           0
          ],
          [
           0,
           0,
           0,
           0,
           0
          ],
          [
           255,
           255,
           255,
           0,
           255
          ],
          [
           255,
           0,
           255,
           0,
           0
          ],
          [
           255,
           255,
           0,
           0,
           0
          ],
          [
           0,
           255,
           0,
           255,
           255
          ],
          [
           255,
           255,
           255,
           0,
           255
          ],
          [
           0,
           0,
           255,
           255,
           0
          ],
          [
           255,
           255,
           0,
           255,
           255
          ],
          [
           255,
           255,
           255,
           255,
           255
          ],
          [
           255,
           0,
           0,
           0,
           0
          ],
          [
           255,
           255,
           255,
           0,
           0
          ],
          [
           0,
           0,
           255,
           255,
           0
          ],
          [
           0,
           0,
           0,
           0,
           0
          ],
          [
           255,
           255,
           0,
           0,
           0
          ],
          [
           0,
           255,
           255,
           255,
           0
          ]
         ]
        }
       ],
       "layout": {
        "autosize": true,
        "coloraxis": {
         "colorscale": [
          [
           0,
           "rgb(0, 0, 0)"
          ],
          [
           0.09090909090909091,
           "rgb(16, 16, 16)"
          ],
          [
           0.18181818181818182,
           "rgb(38, 38, 38)"
          ],
          [
           0.2727272727272727,
           "rgb(59, 59, 59)"
          ],
          [
           0.36363636363636365,
           "rgb(81, 80, 80)"
          ],
          [
           0.45454545454545453,
           "rgb(102, 101, 101)"
          ],
          [
           0.5454545454545454,
           "rgb(124, 123, 122)"
          ],
          [
           0.6363636363636364,
           "rgb(146, 146, 145)"
          ],
          [
           0.7272727272727273,
           "rgb(171, 171, 170)"
          ],
          [
           0.8181818181818182,
           "rgb(197, 197, 195)"
          ],
          [
           0.9090909090909091,
           "rgb(224, 224, 223)"
          ],
          [
           1,
           "rgb(254, 254, 253)"
          ]
         ],
         "showscale": false
        },
        "margin": {
         "t": 60
        },
        "template": {
         "data": {
          "bar": [
           {
            "error_x": {
             "color": "#2a3f5f"
            },
            "error_y": {
             "color": "#2a3f5f"
            },
            "marker": {
             "line": {
              "color": "#E5ECF6",
              "width": 0.5
             },
             "pattern": {
              "fillmode": "overlay",
              "size": 10,
              "solidity": 0.2
             }
            },
            "type": "bar"
           }
          ],
          "barpolar": [
           {
            "marker": {
             "line": {
              "color": "#E5ECF6",
              "width": 0.5
             },
             "pattern": {
              "fillmode": "overlay",
              "size": 10,
              "solidity": 0.2
             }
            },
            "type": "barpolar"
           }
          ],
          "carpet": [
           {
            "aaxis": {
             "endlinecolor": "#2a3f5f",
             "gridcolor": "white",
             "linecolor": "white",
             "minorgridcolor": "white",
             "startlinecolor": "#2a3f5f"
            },
            "baxis": {
             "endlinecolor": "#2a3f5f",
             "gridcolor": "white",
             "linecolor": "white",
             "minorgridcolor": "white",
             "startlinecolor": "#2a3f5f"
            },
            "type": "carpet"
           }
          ],
          "choropleth": [
           {
            "colorbar": {
             "outlinewidth": 0,
             "ticks": ""
            },
            "type": "choropleth"
           }
          ],
          "contour": [
           {
            "colorbar": {
             "outlinewidth": 0,
             "ticks": ""
            },
            "colorscale": [
             [
              0,
              "#0d0887"
             ],
             [
              0.1111111111111111,
              "#46039f"
             ],
             [
              0.2222222222222222,
              "#7201a8"
             ],
             [
              0.3333333333333333,
              "#9c179e"
             ],
             [
              0.4444444444444444,
              "#bd3786"
             ],
             [
              0.5555555555555556,
              "#d8576b"
             ],
             [
              0.6666666666666666,
              "#ed7953"
             ],
             [
              0.7777777777777778,
              "#fb9f3a"
             ],
             [
              0.8888888888888888,
              "#fdca26"
             ],
             [
              1,
              "#f0f921"
             ]
            ],
            "type": "contour"
           }
          ],
          "contourcarpet": [
           {
            "colorbar": {
             "outlinewidth": 0,
             "ticks": ""
            },
            "type": "contourcarpet"
           }
          ],
          "heatmap": [
           {
            "colorbar": {
             "outlinewidth": 0,
             "ticks": ""
            },
            "colorscale": [
             [
              0,
              "#0d0887"
             ],
             [
              0.1111111111111111,
              "#46039f"
             ],
             [
              0.2222222222222222,
              "#7201a8"
             ],
             [
              0.3333333333333333,
              "#9c179e"
             ],
             [
              0.4444444444444444,
              "#bd3786"
             ],
             [
              0.5555555555555556,
              "#d8576b"
             ],
             [
              0.6666666666666666,
              "#ed7953"
             ],
             [
              0.7777777777777778,
              "#fb9f3a"
             ],
             [
              0.8888888888888888,
              "#fdca26"
             ],
             [
              1,
              "#f0f921"
             ]
            ],
            "type": "heatmap"
           }
          ],
          "heatmapgl": [
           {
            "colorbar": {
             "outlinewidth": 0,
             "ticks": ""
            },
            "colorscale": [
             [
              0,
              "#0d0887"
             ],
             [
              0.1111111111111111,
              "#46039f"
             ],
             [
              0.2222222222222222,
              "#7201a8"
             ],
             [
              0.3333333333333333,
              "#9c179e"
             ],
             [
              0.4444444444444444,
              "#bd3786"
             ],
             [
              0.5555555555555556,
              "#d8576b"
             ],
             [
              0.6666666666666666,
              "#ed7953"
             ],
             [
              0.7777777777777778,
              "#fb9f3a"
             ],
             [
              0.8888888888888888,
              "#fdca26"
             ],
             [
              1,
              "#f0f921"
             ]
            ],
            "type": "heatmapgl"
           }
          ],
          "histogram": [
           {
            "marker": {
             "pattern": {
              "fillmode": "overlay",
              "size": 10,
              "solidity": 0.2
             }
            },
            "type": "histogram"
           }
          ],
          "histogram2d": [
           {
            "colorbar": {
             "outlinewidth": 0,
             "ticks": ""
            },
            "colorscale": [
             [
              0,
              "#0d0887"
             ],
             [
              0.1111111111111111,
              "#46039f"
             ],
             [
              0.2222222222222222,
              "#7201a8"
             ],
             [
              0.3333333333333333,
              "#9c179e"
             ],
             [
              0.4444444444444444,
              "#bd3786"
             ],
             [
              0.5555555555555556,
              "#d8576b"
             ],
             [
              0.6666666666666666,
              "#ed7953"
             ],
             [
              0.7777777777777778,
              "#fb9f3a"
             ],
             [
              0.8888888888888888,
              "#fdca26"
             ],
             [
              1,
              "#f0f921"
             ]
            ],
            "type": "histogram2d"
           }
          ],
          "histogram2dcontour": [
           {
            "colorbar": {
             "outlinewidth": 0,
             "ticks": ""
            },
            "colorscale": [
             [
              0,
              "#0d0887"
             ],
             [
              0.1111111111111111,
              "#46039f"
             ],
             [
              0.2222222222222222,
              "#7201a8"
             ],
             [
              0.3333333333333333,
              "#9c179e"
             ],
             [
              0.4444444444444444,
              "#bd3786"
             ],
             [
              0.5555555555555556,
              "#d8576b"
             ],
             [
              0.6666666666666666,
              "#ed7953"
             ],
             [
              0.7777777777777778,
              "#fb9f3a"
             ],
             [
              0.8888888888888888,
              "#fdca26"
             ],
             [
              1,
              "#f0f921"
             ]
            ],
            "type": "histogram2dcontour"
           }
          ],
          "mesh3d": [
           {
            "colorbar": {
             "outlinewidth": 0,
             "ticks": ""
            },
            "type": "mesh3d"
           }
          ],
          "parcoords": [
           {
            "line": {
             "colorbar": {
              "outlinewidth": 0,
              "ticks": ""
             }
            },
            "type": "parcoords"
           }
          ],
          "pie": [
           {
            "automargin": true,
            "type": "pie"
           }
          ],
          "scatter": [
           {
            "marker": {
             "colorbar": {
              "outlinewidth": 0,
              "ticks": ""
             }
            },
            "type": "scatter"
           }
          ],
          "scatter3d": [
           {
            "line": {
             "colorbar": {
              "outlinewidth": 0,
              "ticks": ""
             }
            },
            "marker": {
             "colorbar": {
              "outlinewidth": 0,
              "ticks": ""
             }
            },
            "type": "scatter3d"
           }
          ],
          "scattercarpet": [
           {
            "marker": {
             "colorbar": {
              "outlinewidth": 0,
              "ticks": ""
             }
            },
            "type": "scattercarpet"
           }
          ],
          "scattergeo": [
           {
            "marker": {
             "colorbar": {
              "outlinewidth": 0,
              "ticks": ""
             }
            },
            "type": "scattergeo"
           }
          ],
          "scattergl": [
           {
            "marker": {
             "colorbar": {
              "outlinewidth": 0,
              "ticks": ""
             }
            },
            "type": "scattergl"
           }
          ],
          "scattermapbox": [
           {
            "marker": {
             "colorbar": {
              "outlinewidth": 0,
              "ticks": ""
             }
            },
            "type": "scattermapbox"
           }
          ],
          "scatterpolar": [
           {
            "marker": {
             "colorbar": {
              "outlinewidth": 0,
              "ticks": ""
             }
            },
            "type": "scatterpolar"
           }
          ],
          "scatterpolargl": [
           {
            "marker": {
             "colorbar": {
              "outlinewidth": 0,
              "ticks": ""
             }
            },
            "type": "scatterpolargl"
           }
          ],
          "scatterternary": [
           {
            "marker": {
             "colorbar": {
              "outlinewidth": 0,
              "ticks": ""
             }
            },
            "type": "scatterternary"
           }
          ],
          "surface": [
           {
            "colorbar": {
             "outlinewidth": 0,
             "ticks": ""
            },
            "colorscale": [
             [
              0,
              "#0d0887"
             ],
             [
              0.1111111111111111,
              "#46039f"
             ],
             [
              0.2222222222222222,
              "#7201a8"
             ],
             [
              0.3333333333333333,
              "#9c179e"
             ],
             [
              0.4444444444444444,
              "#bd3786"
             ],
             [
              0.5555555555555556,
              "#d8576b"
             ],
             [
              0.6666666666666666,
              "#ed7953"
             ],
             [
              0.7777777777777778,
              "#fb9f3a"
             ],
             [
              0.8888888888888888,
              "#fdca26"
             ],
             [
              1,
              "#f0f921"
             ]
            ],
            "type": "surface"
           }
          ],
          "table": [
           {
            "cells": {
             "fill": {
              "color": "#EBF0F8"
             },
             "line": {
              "color": "white"
             }
            },
            "header": {
             "fill": {
              "color": "#C8D4E3"
             },
             "line": {
              "color": "white"
             }
            },
            "type": "table"
           }
          ]
         },
         "layout": {
          "annotationdefaults": {
           "arrowcolor": "#2a3f5f",
           "arrowhead": 0,
           "arrowwidth": 1
          },
          "autotypenumbers": "strict",
          "coloraxis": {
           "colorbar": {
            "outlinewidth": 0,
            "ticks": ""
           }
          },
          "colorscale": {
           "diverging": [
            [
             0,
             "#8e0152"
            ],
            [
             0.1,
             "#c51b7d"
            ],
            [
             0.2,
             "#de77ae"
            ],
            [
             0.3,
             "#f1b6da"
            ],
            [
             0.4,
             "#fde0ef"
            ],
            [
             0.5,
             "#f7f7f7"
            ],
            [
             0.6,
             "#e6f5d0"
            ],
            [
             0.7,
             "#b8e186"
            ],
            [
             0.8,
             "#7fbc41"
            ],
            [
             0.9,
             "#4d9221"
            ],
            [
             1,
             "#276419"
            ]
           ],
           "sequential": [
            [
             0,
             "#0d0887"
            ],
            [
             0.1111111111111111,
             "#46039f"
            ],
            [
             0.2222222222222222,
             "#7201a8"
            ],
            [
             0.3333333333333333,
             "#9c179e"
            ],
            [
             0.4444444444444444,
             "#bd3786"
            ],
            [
             0.5555555555555556,
             "#d8576b"
            ],
            [
             0.6666666666666666,
             "#ed7953"
            ],
            [
             0.7777777777777778,
             "#fb9f3a"
            ],
            [
             0.8888888888888888,
             "#fdca26"
            ],
            [
             1,
             "#f0f921"
            ]
           ],
           "sequentialminus": [
            [
             0,
             "#0d0887"
            ],
            [
             0.1111111111111111,
             "#46039f"
            ],
            [
             0.2222222222222222,
             "#7201a8"
            ],
            [
             0.3333333333333333,
             "#9c179e"
            ],
            [
             0.4444444444444444,
             "#bd3786"
            ],
            [
             0.5555555555555556,
             "#d8576b"
            ],
            [
             0.6666666666666666,
             "#ed7953"
            ],
            [
             0.7777777777777778,
             "#fb9f3a"
            ],
            [
             0.8888888888888888,
             "#fdca26"
            ],
            [
             1,
             "#f0f921"
            ]
           ]
          },
          "colorway": [
           "#636efa",
           "#EF553B",
           "#00cc96",
           "#ab63fa",
           "#FFA15A",
           "#19d3f3",
           "#FF6692",
           "#B6E880",
           "#FF97FF",
           "#FECB52"
          ],
          "font": {
           "color": "#2a3f5f"
          },
          "geo": {
           "bgcolor": "white",
           "lakecolor": "white",
           "landcolor": "#E5ECF6",
           "showlakes": true,
           "showland": true,
           "subunitcolor": "white"
          },
          "hoverlabel": {
           "align": "left"
          },
          "hovermode": "closest",
          "mapbox": {
           "style": "light"
          },
          "paper_bgcolor": "white",
          "plot_bgcolor": "#E5ECF6",
          "polar": {
           "angularaxis": {
            "gridcolor": "white",
            "linecolor": "white",
            "ticks": ""
           },
           "bgcolor": "#E5ECF6",
           "radialaxis": {
            "gridcolor": "white",
            "linecolor": "white",
            "ticks": ""
           }
          },
          "scene": {
           "xaxis": {
            "backgroundcolor": "#E5ECF6",
            "gridcolor": "white",
            "gridwidth": 2,
            "linecolor": "white",
            "showbackground": true,
            "ticks": "",
            "zerolinecolor": "white"
           },
           "yaxis": {
            "backgroundcolor": "#E5ECF6",
            "gridcolor": "white",
            "gridwidth": 2,
            "linecolor": "white",
            "showbackground": true,
            "ticks": "",
            "zerolinecolor": "white"
           },
           "zaxis": {
            "backgroundcolor": "#E5ECF6",
            "gridcolor": "white",
            "gridwidth": 2,
            "linecolor": "white",
            "showbackground": true,
            "ticks": "",
            "zerolinecolor": "white"
           }
          },
          "shapedefaults": {
           "line": {
            "color": "#2a3f5f"
           }
          },
          "ternary": {
           "aaxis": {
            "gridcolor": "white",
            "linecolor": "white",
            "ticks": ""
           },
           "baxis": {
            "gridcolor": "white",
            "linecolor": "white",
            "ticks": ""
           },
           "bgcolor": "#E5ECF6",
           "caxis": {
            "gridcolor": "white",
            "linecolor": "white",
            "ticks": ""
           }
          },
          "title": {
           "x": 0.05
          },
          "xaxis": {
           "automargin": true,
           "gridcolor": "white",
           "linecolor": "white",
           "ticks": "",
           "title": {
            "standoff": 15
           },
           "zerolinecolor": "white",
           "zerolinewidth": 2
          },
          "yaxis": {
           "automargin": true,
           "gridcolor": "white",
           "linecolor": "white",
           "ticks": "",
           "title": {
            "standoff": 15
           },
           "zerolinecolor": "white",
           "zerolinewidth": 2
          }
         }
        },
        "title": {
         "text": "Data frequency"
        },
        "xaxis": {
         "anchor": "y",
         "autorange": true,
         "constrain": "domain",
         "domain": [
          0,
          1
         ],
         "range": [
          -0.5,
          4.5
         ],
         "scaleanchor": "y",
         "type": "linear"
        },
        "yaxis": {
         "anchor": "x",
         "autorange": true,
         "constrain": "domain",
         "domain": [
          0,
          1
         ],
         "range": [
          "2022-01-14 23:45",
          "2021-12-31 23:45"
         ],
         "type": "date"
        }
       }
      },
      "image/png": "[encoded data removed]",
      "text/html": [
       "<div>                            <div id=\"8b8b6720-a7c3-4238-9e29-c127fdba5b1e\" class=\"plotly-graph-div\" style=\"height:500px; width:100%;\"></div>            <script type=\"text/javascript\">                require([\"plotly\"], function(Plotly) {                    window.PLOTLYENV=window.PLOTLYENV || {};                                    if (document.getElementById(\"8b8b6720-a7c3-4238-9e29-c127fdba5b1e\")) {                    Plotly.newPlot(                        \"8b8b6720-a7c3-4238-9e29-c127fdba5b1e\",                        [{\"coloraxis\":\"coloraxis\",\"name\":\"0\",\"x\":[0,1,2,3,4],\"y\":[\"2022-01-01T00:00:00\",\"2022-01-01T00:30:00\",\"2022-01-01T01:00:00\",\"2022-01-01T01:30:00\",\"2022-01-01T02:00:00\",\"2022-01-01T02:30:00\",\"2022-01-01T03:00:00\",\"2022-01-01T03:30:00\",\"2022-01-01T04:00:00\",\"2022-01-01T04:30:00\",\"2022-01-01T05:00:00\",\"2022-01-01T05:30:00\",\"2022-01-01T06:00:00\",\"2022-01-01T06:30:00\",\"2022-01-01T07:00:00\",\"2022-01-01T07:30:00\",\"2022-01-01T08:00:00\",\"2022-01-01T08:30:00\",\"2022-01-01T09:00:00\",\"2022-01-01T09:30:00\",\"2022-01-01T10:00:00\",\"2022-01-01T10:30:00\",\"2022-01-01T11:00:00\",\"2022-01-01T11:30:00\",\"2022-01-01T12:00:00\",\"2022-01-01T12:30:00\",\"2022-01-01T13:00:00\",\"2022-01-01T13:30:00\",\"2022-01-01T14:00:00\",\"2022-01-01T14:30:00\",\"2022-01-01T15:00:00\",\"2022-01-01T15:30:00\",\"2022-01-01T16:00:00\",\"2022-01-01T16:30:00\",\"2022-01-01T17:00:00\",\"2022-01-01T17:30:00\",\"2022-01-01T18:00:00\",\"2022-01-01T18:30:00\",\"2022-01-01T19:00:00\",\"2022-01-01T19:30:00\",\"2022-01-01T20:00:00\",\"2022-01-01T20:30:00\",\"2022-01-01T21:00:00\",\"2022-01-01T21:30:00\",\"2022-01-01T22:00:00\",\"2022-01-01T22:30:00\",\"2022-01-01T23:00:00\",\"2022-01-01T23:30:00\",\"2022-01-02T00:00:00\",\"2022-01-02T00:30:00\",\"2022-01-02T01:00:00\",\"2022-01-02T01:30:00\",\"2022-01-02T02:00:00\",\"2022-01-02T02:30:00\",\"2022-01-02T03:00:00\",\"2022-01-02T03:30:00\",\"2022-01-02T04:00:00\",\"2022-01-02T04:30:00\",\"2022-01-02T05:00:00\",\"2022-01-02T05:30:00\",\"2022-01-02T06:00:00\",\"2022-01-02T06:30:00\",\"2022-01-02T07:00:00\",\"2022-01-02T07:30:00\",\"2022-01-02T08:00:00\",\"2022-01-02T08:30:00\",\"2022-01-02T09:00:00\",\"2022-01-02T09:30:00\",\"2022-01-02T10:00:00\",\"2022-01-02T10:30:00\",\"2022-01-02T11:00:00\",\"2022-01-02T11:30:00\",\"2022-01-02T12:00:00\",\"2022-01-02T12:30:00\",\"2022-01-02T13:00:00\",\"2022-01-02T13:30:00\",\"2022-01-02T14:00:00\",\"2022-01-02T14:30:00\",\"2022-01-02T15:00:00\",\"2022-01-02T15:30:00\",\"2022-01-02T16:00:00\",\"2022-01-02T16:30:00\",\"2022-01-02T17:00:00\",\"2022-01-02T17:30:00\",\"2022-01-02T18:00:00\",\"2022-01-02T18:30:00\",\"2022-01-02T19:00:00\",\"2022-01-02T19:30:00\",\"2022-01-02T20:00:00\",\"2022-01-02T20:30:00\",\"2022-01-02T21:00:00\",\"2022-01-02T21:30:00\",\"2022-01-02T22:00:00\",\"2022-01-02T22:30:00\",\"2022-01-02T23:00:00\",\"2022-01-02T23:30:00\",\"2022-01-03T00:00:00\",\"2022-01-03T00:30:00\",\"2022-01-03T01:00:00\",\"2022-01-03T01:30:00\",\"2022-01-03T02:00:00\",\"2022-01-03T02:30:00\",\"2022-01-03T03:00:00\",\"2022-01-03T03:30:00\",\"2022-01-03T04:00:00\",\"2022-01-03T04:30:00\",\"2022-01-03T05:00:00\",\"2022-01-03T05:30:00\",\"2022-01-03T06:00:00\",\"2022-01-03T06:30:00\",\"2022-01-03T07:00:00\",\"2022-01-03T07:30:00\",\"2022-01-03T08:00:00\",\"2022-01-03T08:30:00\",\"2022-01-03T09:00:00\",\"2022-01-03T09:30:00\",\"2022-01-03T10:00:00\",\"2022-01-03T10:30:00\",\"2022-01-03T11:00:00\",\"2022-01-03T11:30:00\",\"2022-01-03T12:00:00\",\"2022-01-03T12:30:00\",\"2022-01-03T13:00:00\",\"2022-01-03T13:30:00\",\"2022-01-03T14:00:00\",\"2022-01-03T14:30:00\",\"2022-01-03T15:00:00\",\"2022-01-03T15:30:00\",\"2022-01-03T16:00:00\",\"2022-01-03T16:30:00\",\"2022-01-03T17:00:00\",\"2022-01-03T17:30:00\",\"2022-01-03T18:00:00\",\"2022-01-03T18:30:00\",\"2022-01-03T19:00:00\",\"2022-01-03T19:30:00\",\"2022-01-03T20:00:00\",\"2022-01-03T20:30:00\",\"2022-01-03T21:00:00\",\"2022-01-03T21:30:00\",\"2022-01-03T22:00:00\",\"2022-01-03T22:30:00\",\"2022-01-03T23:00:00\",\"2022-01-03T23:30:00\",\"2022-01-04T00:00:00\",\"2022-01-04T00:30:00\",\"2022-01-04T01:00:00\",\"2022-01-04T01:30:00\",\"2022-01-04T02:00:00\",\"2022-01-04T02:30:00\",\"2022-01-04T03:00:00\",\"2022-01-04T03:30:00\",\"2022-01-04T04:00:00\",\"2022-01-04T04:30:00\",\"2022-01-04T05:00:00\",\"2022-01-04T05:30:00\",\"2022-01-04T06:00:00\",\"2022-01-04T06:30:00\",\"2022-01-04T07:00:00\",\"2022-01-04T07:30:00\",\"2022-01-04T08:00:00\",\"2022-01-04T08:30:00\",\"2022-01-04T09:00:00\",\"2022-01-04T09:30:00\",\"2022-01-04T10:00:00\",\"2022-01-04T10:30:00\",\"2022-01-04T11:00:00\",\"2022-01-04T11:30:00\",\"2022-01-04T12:00:00\",\"2022-01-04T12:30:00\",\"2022-01-04T13:00:00\",\"2022-01-04T13:30:00\",\"2022-01-04T14:00:00\",\"2022-01-04T14:30:00\",\"2022-01-04T15:00:00\",\"2022-01-04T15:30:00\",\"2022-01-04T16:00:00\",\"2022-01-04T16:30:00\",\"2022-01-04T17:00:00\",\"2022-01-04T17:30:00\",\"2022-01-04T18:00:00\",\"2022-01-04T18:30:00\",\"2022-01-04T19:00:00\",\"2022-01-04T19:30:00\",\"2022-01-04T20:00:00\",\"2022-01-04T20:30:00\",\"2022-01-04T21:00:00\",\"2022-01-04T21:30:00\",\"2022-01-04T22:00:00\",\"2022-01-04T22:30:00\",\"2022-01-04T23:00:00\",\"2022-01-04T23:30:00\",\"2022-01-05T00:00:00\",\"2022-01-05T00:30:00\",\"2022-01-05T01:00:00\",\"2022-01-05T01:30:00\",\"2022-01-05T02:00:00\",\"2022-01-05T02:30:00\",\"2022-01-05T03:00:00\",\"2022-01-05T03:30:00\",\"2022-01-05T04:00:00\",\"2022-01-05T04:30:00\",\"2022-01-05T05:00:00\",\"2022-01-05T05:30:00\",\"2022-01-05T06:00:00\",\"2022-01-05T06:30:00\",\"2022-01-05T07:00:00\",\"2022-01-05T07:30:00\",\"2022-01-05T08:00:00\",\"2022-01-05T08:30:00\",\"2022-01-05T09:00:00\",\"2022-01-05T09:30:00\",\"2022-01-05T10:00:00\",\"2022-01-05T10:30:00\",\"2022-01-05T11:00:00\",\"2022-01-05T11:30:00\",\"2022-01-05T12:00:00\",\"2022-01-05T12:30:00\",\"2022-01-05T13:00:00\",\"2022-01-05T13:30:00\",\"2022-01-05T14:00:00\",\"2022-01-05T14:30:00\",\"2022-01-05T15:00:00\",\"2022-01-05T15:30:00\",\"2022-01-05T16:00:00\",\"2022-01-05T16:30:00\",\"2022-01-05T17:00:00\",\"2022-01-05T17:30:00\",\"2022-01-05T18:00:00\",\"2022-01-05T18:30:00\",\"2022-01-05T19:00:00\",\"2022-01-05T19:30:00\",\"2022-01-05T20:00:00\",\"2022-01-05T20:30:00\",\"2022-01-05T21:00:00\",\"2022-01-05T21:30:00\",\"2022-01-05T22:00:00\",\"2022-01-05T22:30:00\",\"2022-01-05T23:00:00\",\"2022-01-05T23:30:00\",\"2022-01-06T00:00:00\",\"2022-01-06T00:30:00\",\"2022-01-06T01:00:00\",\"2022-01-06T01:30:00\",\"2022-01-06T02:00:00\",\"2022-01-06T02:30:00\",\"2022-01-06T03:00:00\",\"2022-01-06T03:30:00\",\"2022-01-06T04:00:00\",\"2022-01-06T04:30:00\",\"2022-01-06T05:00:00\",\"2022-01-06T05:30:00\",\"2022-01-06T06:00:00\",\"2022-01-06T06:30:00\",\"2022-01-06T07:00:00\",\"2022-01-06T07:30:00\",\"2022-01-06T08:00:00\",\"2022-01-06T08:30:00\",\"2022-01-06T09:00:00\",\"2022-01-06T09:30:00\",\"2022-01-06T10:00:00\",\"2022-01-06T10:30:00\",\"2022-01-06T11:00:00\",\"2022-01-06T11:30:00\",\"2022-01-06T12:00:00\",\"2022-01-06T12:30:00\",\"2022-01-06T13:00:00\",\"2022-01-06T13:30:00\",\"2022-01-06T14:00:00\",\"2022-01-06T14:30:00\",\"2022-01-06T15:00:00\",\"2022-01-06T15:30:00\",\"2022-01-06T16:00:00\",\"2022-01-06T16:30:00\",\"2022-01-06T17:00:00\",\"2022-01-06T17:30:00\",\"2022-01-06T18:00:00\",\"2022-01-06T18:30:00\",\"2022-01-06T19:00:00\",\"2022-01-06T19:30:00\",\"2022-01-06T20:00:00\",\"2022-01-06T20:30:00\",\"2022-01-06T21:00:00\",\"2022-01-06T21:30:00\",\"2022-01-06T22:00:00\",\"2022-01-06T22:30:00\",\"2022-01-06T23:00:00\",\"2022-01-06T23:30:00\",\"2022-01-07T00:00:00\",\"2022-01-07T00:30:00\",\"2022-01-07T01:00:00\",\"2022-01-07T01:30:00\",\"2022-01-07T02:00:00\",\"2022-01-07T02:30:00\",\"2022-01-07T03:00:00\",\"2022-01-07T03:30:00\",\"2022-01-07T04:00:00\",\"2022-01-07T04:30:00\",\"2022-01-07T05:00:00\",\"2022-01-07T05:30:00\",\"2022-01-07T06:00:00\",\"2022-01-07T06:30:00\",\"2022-01-07T07:00:00\",\"2022-01-07T07:30:00\",\"2022-01-07T08:00:00\",\"2022-01-07T08:30:00\",\"2022-01-07T09:00:00\",\"2022-01-07T09:30:00\",\"2022-01-07T10:00:00\",\"2022-01-07T10:30:00\",\"2022-01-07T11:00:00\",\"2022-01-07T11:30:00\",\"2022-01-07T12:00:00\",\"2022-01-07T12:30:00\",\"2022-01-07T13:00:00\",\"2022-01-07T13:30:00\",\"2022-01-07T14:00:00\",\"2022-01-07T14:30:00\",\"2022-01-07T15:00:00\",\"2022-01-07T15:30:00\",\"2022-01-07T16:00:00\",\"2022-01-07T16:30:00\",\"2022-01-07T17:00:00\",\"2022-01-07T17:30:00\",\"2022-01-07T18:00:00\",\"2022-01-07T18:30:00\",\"2022-01-07T19:00:00\",\"2022-01-07T19:30:00\",\"2022-01-07T20:00:00\",\"2022-01-07T20:30:00\",\"2022-01-07T21:00:00\",\"2022-01-07T21:30:00\",\"2022-01-07T22:00:00\",\"2022-01-07T22:30:00\",\"2022-01-07T23:00:00\",\"2022-01-07T23:30:00\",\"2022-01-08T00:00:00\",\"2022-01-08T00:30:00\",\"2022-01-08T01:00:00\",\"2022-01-08T01:30:00\",\"2022-01-08T02:00:00\",\"2022-01-08T02:30:00\",\"2022-01-08T03:00:00\",\"2022-01-08T03:30:00\",\"2022-01-08T04:00:00\",\"2022-01-08T04:30:00\",\"2022-01-08T05:00:00\",\"2022-01-08T05:30:00\",\"2022-01-08T06:00:00\",\"2022-01-08T06:30:00\",\"2022-01-08T07:00:00\",\"2022-01-08T07:30:00\",\"2022-01-08T08:00:00\",\"2022-01-08T08:30:00\",\"2022-01-08T09:00:00\",\"2022-01-08T09:30:00\",\"2022-01-08T10:00:00\",\"2022-01-08T10:30:00\",\"2022-01-08T11:00:00\",\"2022-01-08T11:30:00\",\"2022-01-08T12:00:00\",\"2022-01-08T12:30:00\",\"2022-01-08T13:00:00\",\"2022-01-08T13:30:00\",\"2022-01-08T14:00:00\",\"2022-01-08T14:30:00\",\"2022-01-08T15:00:00\",\"2022-01-08T15:30:00\",\"2022-01-08T16:00:00\",\"2022-01-08T16:30:00\",\"2022-01-08T17:00:00\",\"2022-01-08T17:30:00\",\"2022-01-08T18:00:00\",\"2022-01-08T18:30:00\",\"2022-01-08T19:00:00\",\"2022-01-08T19:30:00\",\"2022-01-08T20:00:00\",\"2022-01-08T20:30:00\",\"2022-01-08T21:00:00\",\"2022-01-08T21:30:00\",\"2022-01-08T22:00:00\",\"2022-01-08T22:30:00\",\"2022-01-08T23:00:00\",\"2022-01-08T23:30:00\",\"2022-01-09T00:00:00\",\"2022-01-09T00:30:00\",\"2022-01-09T01:00:00\",\"2022-01-09T01:30:00\",\"2022-01-09T02:00:00\",\"2022-01-09T02:30:00\",\"2022-01-09T03:00:00\",\"2022-01-09T03:30:00\",\"2022-01-09T04:00:00\",\"2022-01-09T04:30:00\",\"2022-01-09T05:00:00\",\"2022-01-09T05:30:00\",\"2022-01-09T06:00:00\",\"2022-01-09T06:30:00\",\"2022-01-09T07:00:00\",\"2022-01-09T07:30:00\",\"2022-01-09T08:00:00\",\"2022-01-09T08:30:00\",\"2022-01-09T09:00:00\",\"2022-01-09T09:30:00\",\"2022-01-09T10:00:00\",\"2022-01-09T10:30:00\",\"2022-01-09T11:00:00\",\"2022-01-09T11:30:00\",\"2022-01-09T12:00:00\",\"2022-01-09T12:30:00\",\"2022-01-09T13:00:00\",\"2022-01-09T13:30:00\",\"2022-01-09T14:00:00\",\"2022-01-09T14:30:00\",\"2022-01-09T15:00:00\",\"2022-01-09T15:30:00\",\"2022-01-09T16:00:00\",\"2022-01-09T16:30:00\",\"2022-01-09T17:00:00\",\"2022-01-09T17:30:00\",\"2022-01-09T18:00:00\",\"2022-01-09T18:30:00\",\"2022-01-09T19:00:00\",\"2022-01-09T19:30:00\",\"2022-01-09T20:00:00\",\"2022-01-09T20:30:00\",\"2022-01-09T21:00:00\",\"2022-01-09T21:30:00\",\"2022-01-09T22:00:00\",\"2022-01-09T22:30:00\",\"2022-01-09T23:00:00\",\"2022-01-09T23:30:00\",\"2022-01-10T00:00:00\",\"2022-01-10T00:30:00\",\"2022-01-10T01:00:00\",\"2022-01-10T01:30:00\",\"2022-01-10T02:00:00\",\"2022-01-10T02:30:00\",\"2022-01-10T03:00:00\",\"2022-01-10T03:30:00\",\"2022-01-10T04:00:00\",\"2022-01-10T04:30:00\",\"2022-01-10T05:00:00\",\"2022-01-10T05:30:00\",\"2022-01-10T06:00:00\",\"2022-01-10T06:30:00\",\"2022-01-10T07:00:00\",\"2022-01-10T07:30:00\",\"2022-01-10T08:00:00\",\"2022-01-10T08:30:00\",\"2022-01-10T09:00:00\",\"2022-01-10T09:30:00\",\"2022-01-10T10:00:00\",\"2022-01-10T10:30:00\",\"2022-01-10T11:00:00\",\"2022-01-10T11:30:00\",\"2022-01-10T12:00:00\",\"2022-01-10T12:30:00\",\"2022-01-10T13:00:00\",\"2022-01-10T13:30:00\",\"2022-01-10T14:00:00\",\"2022-01-10T14:30:00\",\"2022-01-10T15:00:00\",\"2022-01-10T15:30:00\",\"2022-01-10T16:00:00\",\"2022-01-10T16:30:00\",\"2022-01-10T17:00:00\",\"2022-01-10T17:30:00\",\"2022-01-10T18:00:00\",\"2022-01-10T18:30:00\",\"2022-01-10T19:00:00\",\"2022-01-10T19:30:00\",\"2022-01-10T20:00:00\",\"2022-01-10T20:30:00\",\"2022-01-10T21:00:00\",\"2022-01-10T21:30:00\",\"2022-01-10T22:00:00\",\"2022-01-10T22:30:00\",\"2022-01-10T23:00:00\",\"2022-01-10T23:30:00\",\"2022-01-11T00:00:00\",\"2022-01-11T00:30:00\",\"2022-01-11T01:00:00\",\"2022-01-11T01:30:00\",\"2022-01-11T02:00:00\",\"2022-01-11T02:30:00\",\"2022-01-11T03:00:00\",\"2022-01-11T03:30:00\",\"2022-01-11T04:00:00\",\"2022-01-11T04:30:00\",\"2022-01-11T05:00:00\",\"2022-01-11T05:30:00\",\"2022-01-11T06:00:00\",\"2022-01-11T06:30:00\",\"2022-01-11T07:00:00\",\"2022-01-11T07:30:00\",\"2022-01-11T08:00:00\",\"2022-01-11T08:30:00\",\"2022-01-11T09:00:00\",\"2022-01-11T09:30:00\",\"2022-01-11T10:00:00\",\"2022-01-11T10:30:00\",\"2022-01-11T11:00:00\",\"2022-01-11T11:30:00\",\"2022-01-11T12:00:00\",\"2022-01-11T12:30:00\",\"2022-01-11T13:00:00\",\"2022-01-11T13:30:00\",\"2022-01-11T14:00:00\",\"2022-01-11T14:30:00\",\"2022-01-11T15:00:00\",\"2022-01-11T15:30:00\",\"2022-01-11T16:00:00\",\"2022-01-11T16:30:00\",\"2022-01-11T17:00:00\",\"2022-01-11T17:30:00\",\"2022-01-11T18:00:00\",\"2022-01-11T18:30:00\",\"2022-01-11T19:00:00\",\"2022-01-11T19:30:00\",\"2022-01-11T20:00:00\",\"2022-01-11T20:30:00\",\"2022-01-11T21:00:00\",\"2022-01-11T21:30:00\",\"2022-01-11T22:00:00\",\"2022-01-11T22:30:00\",\"2022-01-11T23:00:00\",\"2022-01-11T23:30:00\",\"2022-01-12T00:00:00\",\"2022-01-12T00:30:00\",\"2022-01-12T01:00:00\",\"2022-01-12T01:30:00\",\"2022-01-12T02:00:00\",\"2022-01-12T02:30:00\",\"2022-01-12T03:00:00\",\"2022-01-12T03:30:00\",\"2022-01-12T04:00:00\",\"2022-01-12T04:30:00\",\"2022-01-12T05:00:00\",\"2022-01-12T05:30:00\",\"2022-01-12T06:00:00\",\"2022-01-12T06:30:00\",\"2022-01-12T07:00:00\",\"2022-01-12T07:30:00\",\"2022-01-12T08:00:00\",\"2022-01-12T08:30:00\",\"2022-01-12T09:00:00\",\"2022-01-12T09:30:00\",\"2022-01-12T10:00:00\",\"2022-01-12T10:30:00\",\"2022-01-12T11:00:00\",\"2022-01-12T11:30:00\",\"2022-01-12T12:00:00\",\"2022-01-12T12:30:00\",\"2022-01-12T13:00:00\",\"2022-01-12T13:30:00\",\"2022-01-12T14:00:00\",\"2022-01-12T14:30:00\",\"2022-01-12T15:00:00\",\"2022-01-12T15:30:00\",\"2022-01-12T16:00:00\",\"2022-01-12T16:30:00\",\"2022-01-12T17:00:00\",\"2022-01-12T17:30:00\",\"2022-01-12T18:00:00\",\"2022-01-12T18:30:00\",\"2022-01-12T19:00:00\",\"2022-01-12T19:30:00\",\"2022-01-12T20:00:00\",\"2022-01-12T20:30:00\",\"2022-01-12T21:00:00\",\"2022-01-12T21:30:00\",\"2022-01-12T22:00:00\",\"2022-01-12T22:30:00\",\"2022-01-12T23:00:00\",\"2022-01-12T23:30:00\",\"2022-01-13T00:00:00\",\"2022-01-13T00:30:00\",\"2022-01-13T01:00:00\",\"2022-01-13T01:30:00\",\"2022-01-13T02:00:00\",\"2022-01-13T02:30:00\",\"2022-01-13T03:00:00\",\"2022-01-13T03:30:00\",\"2022-01-13T04:00:00\",\"2022-01-13T04:30:00\",\"2022-01-13T05:00:00\",\"2022-01-13T05:30:00\",\"2022-01-13T06:00:00\",\"2022-01-13T06:30:00\",\"2022-01-13T07:00:00\",\"2022-01-13T07:30:00\",\"2022-01-13T08:00:00\",\"2022-01-13T08:30:00\",\"2022-01-13T09:00:00\",\"2022-01-13T09:30:00\",\"2022-01-13T10:00:00\",\"2022-01-13T10:30:00\",\"2022-01-13T11:00:00\",\"2022-01-13T11:30:00\",\"2022-01-13T12:00:00\",\"2022-01-13T12:30:00\",\"2022-01-13T13:00:00\",\"2022-01-13T13:30:00\",\"2022-01-13T14:00:00\",\"2022-01-13T14:30:00\",\"2022-01-13T15:00:00\",\"2022-01-13T15:30:00\",\"2022-01-13T16:00:00\",\"2022-01-13T16:30:00\",\"2022-01-13T17:00:00\",\"2022-01-13T17:30:00\",\"2022-01-13T18:00:00\",\"2022-01-13T18:30:00\",\"2022-01-13T19:00:00\",\"2022-01-13T19:30:00\",\"2022-01-13T20:00:00\",\"2022-01-13T20:30:00\",\"2022-01-13T21:00:00\",\"2022-01-13T21:30:00\",\"2022-01-13T22:00:00\",\"2022-01-13T22:30:00\",\"2022-01-13T23:00:00\",\"2022-01-13T23:30:00\",\"2022-01-14T00:00:00\",\"2022-01-14T00:30:00\",\"2022-01-14T01:00:00\",\"2022-01-14T01:30:00\",\"2022-01-14T02:00:00\",\"2022-01-14T02:30:00\",\"2022-01-14T03:00:00\",\"2022-01-14T03:30:00\",\"2022-01-14T04:00:00\",\"2022-01-14T04:30:00\",\"2022-01-14T05:00:00\",\"2022-01-14T05:30:00\",\"2022-01-14T06:00:00\",\"2022-01-14T06:30:00\",\"2022-01-14T07:00:00\",\"2022-01-14T07:30:00\",\"2022-01-14T08:00:00\",\"2022-01-14T08:30:00\",\"2022-01-14T09:00:00\",\"2022-01-14T09:30:00\",\"2022-01-14T10:00:00\",\"2022-01-14T10:30:00\",\"2022-01-14T11:00:00\",\"2022-01-14T11:30:00\",\"2022-01-14T12:00:00\",\"2022-01-14T12:30:00\",\"2022-01-14T13:00:00\",\"2022-01-14T13:30:00\",\"2022-01-14T14:00:00\",\"2022-01-14T14:30:00\",\"2022-01-14T15:00:00\",\"2022-01-14T15:30:00\",\"2022-01-14T16:00:00\",\"2022-01-14T16:30:00\",\"2022-01-14T17:00:00\",\"2022-01-14T17:30:00\",\"2022-01-14T18:00:00\",\"2022-01-14T18:30:00\",\"2022-01-14T19:00:00\",\"2022-01-14T19:30:00\",\"2022-01-14T20:00:00\",\"2022-01-14T20:30:00\",\"2022-01-14T21:00:00\",\"2022-01-14T21:30:00\",\"2022-01-14T22:00:00\",\"2022-01-14T22:30:00\",\"2022-01-14T23:00:00\",\"2022-01-14T23:30:00\"],\"z\":[[255,0,255,255,255],[255,255,0,255,255],[0,255,255,0,255],[0,0,0,255,0],[0,255,255,255,0],[255,255,255,255,255],[0,255,255,0,0],[0,0,255,255,0],[0,255,255,255,0],[255,0,255,255,255],[0,255,0,255,0],[255,255,0,0,0],[0,255,0,255,255],[255,255,0,255,255],[255,255,255,0,0],[0,0,255,255,255],[0,255,0,255,0],[255,255,0,0,0],[255,255,255,255,0],[0,255,255,255,255],[255,255,0,0,0],[255,0,0,255,0],[255,0,0,0,0],[0,255,255,255,255],[0,255,255,0,0],[0,0,0,255,255],[255,255,255,255,0],[255,255,0,255,255],[255,255,255,0,255],[255,255,0,0,0],[255,255,0,255,255],[255,0,0,0,0],[0,255,0,255,0],[0,255,255,255,0],[255,255,255,0,255],[255,255,0,0,0],[0,0,0,0,255],[0,255,0,255,255],[0,0,0,0,255],[0,0,255,255,255],[255,255,0,0,255],[255,0,0,0,255],[255,255,0,0,255],[0,255,255,0,0],[255,0,0,0,0],[0,0,255,255,255],[0,0,255,0,255],[0,0,0,0,255],[255,0,255,0,255],[0,0,255,255,255],[0,0,255,0,0],[0,255,255,255,255],[255,0,255,255,0],[255,255,255,255,255],[0,255,0,0,255],[0,0,255,255,0],[0,255,255,0,255],[255,0,255,0,0],[0,0,0,0,0],[255,0,255,255,255],[255,0,255,0,0],[255,0,255,255,255],[255,255,255,255,255],[0,255,255,255,255],[0,255,0,255,255],[255,0,0,255,255],[255,255,0,255,255],[0,255,0,255,255],[0,0,0,255,0],[0,255,0,255,0],[0,255,255,0,0],[255,0,0,0,255],[255,255,255,0,255],[0,255,0,255,255],[0,255,0,0,255],[255,0,0,255,255],[0,0,255,255,0],[0,0,255,0,255],[255,255,255,0,255],[0,0,0,0,0],[255,0,0,0,255],[0,255,255,0,0],[255,0,0,255,255],[0,0,255,255,0],[0,0,0,255,255],[0,0,0,255,255],[0,0,0,255,0],[255,0,255,0,0],[0,255,255,255,0],[0,0,255,0,0],[0,255,255,255,0],[255,0,255,0,255],[0,0,0,0,255],[0,255,255,255,255],[0,0,255,255,255],[255,255,0,0,0],[255,0,0,0,0],[255,0,255,255,0],[0,0,255,255,255],[0,255,0,255,255],[255,0,255,0,255],[255,0,0,255,0],[0,255,0,255,0],[0,255,0,255,255],[0,255,0,255,255],[255,255,255,255,0],[0,255,0,0,0],[255,255,0,255,0],[0,0,0,0,0],[255,255,0,255,0],[255,0,0,0,255],[0,255,0,255,0],[255,255,255,0,0],[0,255,255,0,0],[0,255,0,0,255],[0,255,0,0,255],[255,255,0,255,0],[255,0,0,255,255],[0,255,0,255,255],[255,255,255,0,255],[255,255,255,0,255],[255,0,255,255,0],[0,255,255,0,255],[0,0,0,255,255],[255,255,255,0,0],[0,255,0,0,255],[0,255,0,255,0],[255,255,0,255,255],[0,255,0,255,0],[0,255,255,0,0],[0,255,0,0,255],[255,0,0,255,255],[0,0,0,0,0],[0,0,255,0,255],[0,255,0,255,0],[0,0,255,255,0],[0,255,0,0,0],[255,0,255,255,0],[255,0,255,0,0],[255,255,255,255,255],[0,255,255,0,255],[0,0,255,0,0],[0,255,0,255,255],[0,255,255,0,0],[255,255,0,255,255],[0,0,0,255,255],[255,255,0,0,0],[0,0,0,0,0],[0,0,0,0,0],[255,255,255,255,255],[0,0,255,0,255],[0,0,0,255,0],[255,255,255,255,255],[255,255,0,0,255],[255,0,0,0,255],[255,255,0,0,255],[255,0,255,0,255],[255,255,255,0,0],[255,0,0,0,255],[255,255,255,0,255],[0,0,255,0,255],[255,255,0,0,255],[255,255,0,255,0],[0,255,255,0,255],[255,255,255,0,255],[0,255,0,255,255],[0,0,255,255,0],[0,0,0,255,255],[0,255,0,0,255],[0,0,255,255,0],[0,0,255,0,255],[255,0,0,0,0],[0,255,0,255,255],[0,0,0,255,0],[255,0,0,0,0],[0,255,255,0,0],[255,0,255,0,255],[0,0,0,255,255],[255,0,255,0,255],[255,255,0,255,255],[0,0,0,0,0],[255,0,0,0,255],[0,255,0,255,255],[255,255,0,255,0],[255,0,0,0,255],[0,0,0,0,255],[0,255,0,0,0],[0,255,0,0,0],[255,0,0,0,0],[0,0,255,255,0],[0,0,255,0,255],[0,255,255,0,255],[255,255,255,0,0],[255,255,255,0,255],[255,0,0,255,255],[255,0,0,255,255],[255,0,0,255,255],[255,0,0,255,0],[0,255,0,255,255],[255,0,255,0,255],[0,255,255,255,255],[255,0,255,0,0],[255,0,0,255,255],[0,0,0,255,0],[0,0,0,255,255],[255,0,0,0,0],[0,0,255,0,255],[0,0,0,255,0],[0,0,255,0,255],[255,255,255,255,0],[255,255,0,0,255],[0,255,255,255,0],[255,0,255,255,0],[255,0,0,0,0],[0,0,255,255,0],[255,0,255,0,255],[0,255,0,0,255],[0,0,255,255,255],[255,0,0,255,0],[0,0,255,0,255],[255,0,0,255,0],[255,0,255,0,0],[0,0,255,0,255],[255,255,255,255,0],[255,255,255,255,0],[0,0,255,0,0],[255,0,0,0,255],[0,255,0,0,255],[255,0,0,255,0],[255,0,0,255,255],[255,255,0,0,255],[0,0,0,255,0],[0,0,0,255,255],[0,255,0,255,255],[0,255,255,255,255],[0,255,0,0,255],[255,255,255,255,255],[0,0,0,0,255],[255,0,255,0,0],[0,255,0,0,0],[255,255,0,0,255],[255,255,0,255,0],[255,255,0,255,255],[0,255,255,0,0],[0,0,0,255,0],[0,255,255,255,0],[0,0,255,0,255],[255,255,0,0,0],[0,255,255,255,0],[255,0,255,255,0],[255,255,255,255,255],[255,0,0,0,255],[255,0,255,0,255],[255,0,255,0,0],[0,0,255,0,255],[0,0,0,0,0],[255,255,0,255,0],[0,255,255,255,0],[0,255,255,255,255],[255,0,0,0,255],[0,0,255,255,0],[0,255,255,255,255],[255,0,255,0,255],[0,255,255,255,255],[255,0,255,0,0],[255,255,255,255,0],[255,0,0,0,0],[255,255,0,255,255],[0,0,255,0,0],[0,255,0,0,255],[255,0,255,255,0],[0,0,255,0,255],[0,255,0,0,255],[0,0,255,255,0],[0,0,255,255,0],[255,255,255,255,255],[255,0,0,255,0],[0,255,0,0,255],[0,0,0,255,255],[255,0,255,255,255],[255,255,255,255,0],[255,0,255,0,0],[0,0,0,255,0],[255,0,0,255,0],[255,255,0,0,255],[0,0,255,0,255],[0,0,255,0,0],[0,0,0,255,0],[255,255,0,0,255],[0,255,255,255,255],[255,0,0,255,255],[0,255,0,255,255],[255,255,0,0,255],[255,255,0,0,255],[0,255,255,255,0],[0,0,0,0,0],[255,255,0,255,0],[0,255,0,0,255],[0,255,255,255,255],[255,255,255,255,0],[0,255,255,0,0],[255,255,0,0,255],[0,0,255,0,255],[255,0,0,255,0],[255,255,0,255,255],[0,255,255,255,255],[255,255,0,0,0],[0,255,255,0,255],[255,0,0,255,255],[255,255,0,255,255],[0,255,0,255,0],[0,255,255,255,255],[255,255,0,0,255],[255,0,0,0,255],[255,255,0,0,255],[255,255,255,255,255],[255,0,255,255,0],[255,0,0,255,0],[0,0,0,0,0],[0,0,255,255,255],[255,255,255,0,255],[0,0,255,0,255],[255,0,0,0,255],[0,0,0,0,0],[255,0,255,0,0],[0,255,255,0,0],[0,0,255,255,0],[255,0,255,0,255],[0,255,0,0,255],[0,0,255,255,0],[0,0,255,255,0],[0,0,255,0,0],[0,255,255,255,255],[255,0,255,0,0],[255,255,255,255,255],[255,0,0,255,255],[255,0,0,255,255],[255,0,255,0,0],[255,0,0,255,0],[255,0,255,255,0],[0,0,255,255,0],[0,255,255,0,0],[255,255,255,0,255],[0,255,0,255,255],[255,0,0,255,0],[255,255,255,0,0],[255,255,255,255,255],[0,255,0,0,0],[0,255,0,255,255],[0,255,0,0,255],[0,0,0,0,255],[0,255,0,0,255],[255,0,255,0,0],[255,255,255,255,0],[0,0,0,0,0],[0,0,0,0,0],[0,0,0,0,255],[255,255,0,0,0],[0,255,0,0,0],[255,255,0,0,255],[0,0,0,0,255],[0,0,255,255,0],[0,0,255,0,0],[0,0,255,255,255],[255,0,0,0,255],[0,0,255,0,0],[255,255,255,255,255],[0,0,0,255,255],[0,255,0,0,0],[255,0,0,0,0],[0,0,0,255,255],[255,255,0,255,0],[0,0,0,255,0],[255,0,0,255,255],[255,0,0,255,0],[255,255,255,0,255],[0,0,255,255,0],[0,0,0,0,0],[255,255,255,255,255],[255,0,0,255,0],[0,0,255,0,0],[0,0,255,255,255],[255,0,255,0,0],[0,0,255,255,255],[0,255,255,255,255],[0,255,0,0,0],[255,0,0,0,255],[255,255,0,0,255],[0,0,255,255,0],[0,255,0,255,255],[0,0,255,0,0],[255,255,255,255,0],[0,0,0,255,255],[0,255,255,255,0],[0,0,255,0,0],[0,0,0,0,255],[255,0,0,255,255],[255,255,0,0,255],[255,0,255,0,0],[255,255,255,255,255],[255,0,0,255,0],[255,0,0,255,255],[0,0,255,255,255],[255,0,255,0,0],[0,255,0,0,255],[0,0,0,255,255],[255,0,255,0,255],[255,0,0,255,255],[255,0,0,0,255],[255,255,255,255,255],[255,255,0,0,255],[255,255,255,0,0],[0,255,0,255,0],[0,255,0,0,255],[0,255,0,255,0],[255,255,255,0,255],[0,255,0,0,0],[0,0,255,255,255],[0,255,0,0,255],[0,0,0,0,0],[0,0,255,0,255],[255,255,255,255,0],[0,0,0,255,255],[0,0,255,255,0],[255,255,0,255,255],[255,0,0,255,0],[255,255,0,0,255],[0,255,255,0,0],[0,0,255,0,0],[0,0,255,255,0],[255,255,0,255,0],[0,255,0,0,0],[255,0,255,0,255],[255,255,255,0,0],[0,0,255,255,0],[255,255,0,0,255],[0,0,255,255,255],[255,0,0,255,255],[0,255,0,0,0],[255,0,0,0,255],[255,255,0,255,255],[0,0,255,0,255],[255,255,0,0,255],[255,255,255,255,255],[255,255,255,0,0],[255,255,0,255,0],[255,0,0,255,0],[0,255,255,255,255],[255,255,255,0,255],[0,255,0,255,0],[0,255,255,255,255],[0,255,0,0,0],[0,255,255,0,255],[255,255,255,255,0],[255,0,0,0,0],[0,255,255,0,0],[0,0,0,0,255],[255,255,255,255,255],[0,255,0,0,0],[0,0,0,255,0],[0,0,0,0,255],[255,0,255,255,0],[0,255,255,0,0],[255,0,0,255,0],[255,0,0,0,0],[255,0,0,0,0],[0,255,255,255,255],[0,0,0,255,0],[255,0,0,255,255],[255,255,255,0,255],[255,255,0,255,0],[255,0,255,255,0],[255,0,0,255,255],[255,255,0,0,255],[255,255,0,0,0],[0,0,255,0,0],[255,0,255,255,0],[0,255,0,255,0],[255,0,0,255,0],[255,255,0,0,255],[255,255,255,255,255],[255,0,255,0,0],[255,0,255,0,0],[0,255,255,255,0],[0,0,0,255,255],[255,255,255,0,255],[0,255,0,255,0],[0,255,0,0,0],[0,255,0,0,255],[255,255,0,0,255],[255,0,0,0,255],[255,0,0,255,255],[255,0,255,255,255],[255,255,255,0,0],[255,0,0,255,0],[255,255,0,255,0],[0,255,0,0,255],[0,0,0,0,255],[0,0,255,0,0],[0,0,0,255,255],[255,255,255,0,0],[0,255,0,255,255],[0,255,0,0,255],[0,255,255,0,0],[255,255,255,0,0],[0,0,255,255,0],[255,0,0,255,255],[255,255,255,0,255],[255,255,0,0,255],[255,255,255,255,0],[255,255,255,0,0],[0,0,255,255,255],[255,255,255,0,0],[0,255,0,0,255],[0,255,255,0,255],[0,255,0,0,0],[0,0,0,0,0],[0,0,255,255,0],[0,0,0,255,255],[255,0,255,255,0],[0,255,0,255,255],[255,255,255,0,255],[255,255,0,0,0],[0,0,255,255,255],[255,255,0,255,255],[0,255,0,255,255],[0,0,0,0,255],[0,0,0,255,0],[255,255,255,0,255],[255,255,0,0,255],[255,0,255,0,0],[0,255,255,0,0],[255,0,0,0,0],[0,0,255,255,0],[0,0,0,255,255],[255,255,255,255,0],[0,0,0,255,0],[255,0,0,0,0],[255,0,255,255,255],[0,255,255,0,0],[0,0,255,0,0],[0,0,255,255,0],[0,0,255,0,255],[0,0,0,255,0],[255,255,255,0,255],[255,255,255,0,0],[255,0,0,255,255],[255,255,0,0,0],[0,0,255,255,0],[255,0,255,255,0],[255,255,0,0,0],[255,0,255,0,255],[0,255,0,255,0],[0,0,0,255,0],[0,255,255,0,0],[0,0,255,255,255],[0,255,0,0,0],[0,0,0,255,0],[255,0,0,0,255],[255,255,255,0,255],[255,255,0,255,255],[255,0,255,0,0],[0,255,255,255,255],[255,0,255,0,0],[0,0,0,0,255],[255,255,255,0,255],[255,0,0,255,255],[0,255,0,255,0],[0,255,255,255,0],[255,0,255,255,0],[255,255,0,255,0],[0,0,0,0,255],[255,255,0,0,255],[0,255,255,255,255],[255,255,255,0,0],[0,255,0,255,0],[0,0,255,0,0],[255,0,0,255,255],[255,255,255,255,0],[0,0,0,0,0],[0,0,255,255,255],[0,255,0,255,255],[255,255,255,255,0],[0,0,255,0,255],[255,0,0,0,0],[255,255,255,255,0],[255,0,255,255,0],[255,255,255,0,0],[255,0,255,255,0],[255,0,255,255,0],[255,255,0,0,255],[0,255,255,255,0],[255,0,0,255,0],[255,0,0,0,0],[0,0,0,255,255],[255,255,255,255,255],[0,255,255,0,0],[0,0,255,0,255],[255,255,255,255,255],[0,0,255,255,0],[0,0,0,255,0],[255,255,255,255,255],[255,255,255,255,0],[255,255,0,0,0],[0,255,255,255,0],[255,255,0,255,255],[255,255,0,0,255],[255,0,0,255,255],[255,0,255,255,0],[0,255,255,0,0],[255,255,255,255,255],[0,255,255,255,0],[255,0,255,255,0],[0,255,0,255,255],[255,255,255,0,0],[0,255,255,0,255],[0,255,0,0,255],[0,0,255,0,255],[0,0,0,255,255],[0,0,255,255,255],[255,0,0,255,0],[255,0,0,255,255],[255,0,0,255,255],[255,255,0,0,0],[255,255,0,0,255],[255,255,0,255,0],[255,255,0,0,0],[0,255,255,0,0],[0,255,0,255,255],[0,0,0,0,255],[0,0,255,0,255],[255,255,255,255,0],[0,255,0,255,255],[0,0,255,255,0],[255,255,255,255,0],[0,0,0,255,255],[0,0,0,0,0],[255,255,255,255,255],[255,0,255,0,255],[0,0,255,0,0],[255,255,0,255,255],[255,0,255,0,255],[0,0,255,255,255],[0,255,0,0,255],[0,255,0,255,255],[0,0,0,0,0],[255,255,0,0,255],[0,0,0,0,255],[0,255,255,255,255],[0,255,255,0,255],[0,255,0,255,255],[0,255,255,0,255],[0,0,255,0,0],[255,0,0,0,255],[0,255,0,255,255],[0,255,255,0,255],[255,0,0,0,0],[0,0,0,0,0],[255,255,255,0,255],[255,0,255,0,0],[255,255,0,0,0],[0,255,0,255,255],[255,255,255,0,255],[0,0,255,255,0],[255,255,0,255,255],[255,255,255,255,255],[255,0,0,0,0],[255,255,255,0,0],[0,0,255,255,0],[0,0,0,0,0],[255,255,0,0,0],[0,255,255,255,0]],\"type\":\"heatmap\",\"xaxis\":\"x\",\"yaxis\":\"y\",\"hovertemplate\":\"x: %{x}<br>y: %{y}<br>color: %{z}<extra></extra>\"}],                        {\"template\":{\"data\":{\"bar\":[{\"error_x\":{\"color\":\"#2a3f5f\"},\"error_y\":{\"color\":\"#2a3f5f\"},\"marker\":{\"line\":{\"color\":\"#E5ECF6\",\"width\":0.5},\"pattern\":{\"fillmode\":\"overlay\",\"size\":10,\"solidity\":0.2}},\"type\":\"bar\"}],\"barpolar\":[{\"marker\":{\"line\":{\"color\":\"#E5ECF6\",\"width\":0.5},\"pattern\":{\"fillmode\":\"overlay\",\"size\":10,\"solidity\":0.2}},\"type\":\"barpolar\"}],\"carpet\":[{\"aaxis\":{\"endlinecolor\":\"#2a3f5f\",\"gridcolor\":\"white\",\"linecolor\":\"white\",\"minorgridcolor\":\"white\",\"startlinecolor\":\"#2a3f5f\"},\"baxis\":{\"endlinecolor\":\"#2a3f5f\",\"gridcolor\":\"white\",\"linecolor\":\"white\",\"minorgridcolor\":\"white\",\"startlinecolor\":\"#2a3f5f\"},\"type\":\"carpet\"}],\"choropleth\":[{\"colorbar\":{\"outlinewidth\":0,\"ticks\":\"\"},\"type\":\"choropleth\"}],\"contour\":[{\"colorbar\":{\"outlinewidth\":0,\"ticks\":\"\"},\"colorscale\":[[0.0,\"#0d0887\"],[0.1111111111111111,\"#46039f\"],[0.2222222222222222,\"#7201a8\"],[0.3333333333333333,\"#9c179e\"],[0.4444444444444444,\"#bd3786\"],[0.5555555555555556,\"#d8576b\"],[0.6666666666666666,\"#ed7953\"],[0.7777777777777778,\"#fb9f3a\"],[0.8888888888888888,\"#fdca26\"],[1.0,\"#f0f921\"]],\"type\":\"contour\"}],\"contourcarpet\":[{\"colorbar\":{\"outlinewidth\":0,\"ticks\":\"\"},\"type\":\"contourcarpet\"}],\"heatmap\":[{\"colorbar\":{\"outlinewidth\":0,\"ticks\":\"\"},\"colorscale\":[[0.0,\"#0d0887\"],[0.1111111111111111,\"#46039f\"],[0.2222222222222222,\"#7201a8\"],[0.3333333333333333,\"#9c179e\"],[0.4444444444444444,\"#bd3786\"],[0.5555555555555556,\"#d8576b\"],[0.6666666666666666,\"#ed7953\"],[0.7777777777777778,\"#fb9f3a\"],[0.8888888888888888,\"#fdca26\"],[1.0,\"#f0f921\"]],\"type\":\"heatmap\"}],\"heatmapgl\":[{\"colorbar\":{\"outlinewidth\":0,\"ticks\":\"\"},\"colorscale\":[[0.0,\"#0d0887\"],[0.1111111111111111,\"#46039f\"],[0.2222222222222222,\"#7201a8\"],[0.3333333333333333,\"#9c179e\"],[0.4444444444444444,\"#bd3786\"],[0.5555555555555556,\"#d8576b\"],[0.6666666666666666,\"#ed7953\"],[0.7777777777777778,\"#fb9f3a\"],[0.8888888888888888,\"#fdca26\"],[1.0,\"#f0f921\"]],\"type\":\"heatmapgl\"}],\"histogram\":[{\"marker\":{\"pattern\":{\"fillmode\":\"overlay\",\"size\":10,\"solidity\":0.2}},\"type\":\"histogram\"}],\"histogram2d\":[{\"colorbar\":{\"outlinewidth\":0,\"ticks\":\"\"},\"colorscale\":[[0.0,\"#0d0887\"],[0.1111111111111111,\"#46039f\"],[0.2222222222222222,\"#7201a8\"],[0.3333333333333333,\"#9c179e\"],[0.4444444444444444,\"#bd3786\"],[0.5555555555555556,\"#d8576b\"],[0.6666666666666666,\"#ed7953\"],[0.7777777777777778,\"#fb9f3a\"],[0.8888888888888888,\"#fdca26\"],[1.0,\"#f0f921\"]],\"type\":\"histogram2d\"}],\"histogram2dcontour\":[{\"colorbar\":{\"outlinewidth\":0,\"ticks\":\"\"},\"colorscale\":[[0.0,\"#0d0887\"],[0.1111111111111111,\"#46039f\"],[0.2222222222222222,\"#7201a8\"],[0.3333333333333333,\"#9c179e\"],[0.4444444444444444,\"#bd3786\"],[0.5555555555555556,\"#d8576b\"],[0.6666666666666666,\"#ed7953\"],[0.7777777777777778,\"#fb9f3a\"],[0.8888888888888888,\"#fdca26\"],[1.0,\"#f0f921\"]],\"type\":\"histogram2dcontour\"}],\"mesh3d\":[{\"colorbar\":{\"outlinewidth\":0,\"ticks\":\"\"},\"type\":\"mesh3d\"}],\"parcoords\":[{\"line\":{\"colorbar\":{\"outlinewidth\":0,\"ticks\":\"\"}},\"type\":\"parcoords\"}],\"pie\":[{\"automargin\":true,\"type\":\"pie\"}],\"scatter\":[{\"marker\":{\"colorbar\":{\"outlinewidth\":0,\"ticks\":\"\"}},\"type\":\"scatter\"}],\"scatter3d\":[{\"line\":{\"colorbar\":{\"outlinewidth\":0,\"ticks\":\"\"}},\"marker\":{\"colorbar\":{\"outlinewidth\":0,\"ticks\":\"\"}},\"type\":\"scatter3d\"}],\"scattercarpet\":[{\"marker\":{\"colorbar\":{\"outlinewidth\":0,\"ticks\":\"\"}},\"type\":\"scattercarpet\"}],\"scattergeo\":[{\"marker\":{\"colorbar\":{\"outlinewidth\":0,\"ticks\":\"\"}},\"type\":\"scattergeo\"}],\"scattergl\":[{\"marker\":{\"colorbar\":{\"outlinewidth\":0,\"ticks\":\"\"}},\"type\":\"scattergl\"}],\"scattermapbox\":[{\"marker\":{\"colorbar\":{\"outlinewidth\":0,\"ticks\":\"\"}},\"type\":\"scattermapbox\"}],\"scatterpolar\":[{\"marker\":{\"colorbar\":{\"outlinewidth\":0,\"ticks\":\"\"}},\"type\":\"scatterpolar\"}],\"scatterpolargl\":[{\"marker\":{\"colorbar\":{\"outlinewidth\":0,\"ticks\":\"\"}},\"type\":\"scatterpolargl\"}],\"scatterternary\":[{\"marker\":{\"colorbar\":{\"outlinewidth\":0,\"ticks\":\"\"}},\"type\":\"scatterternary\"}],\"surface\":[{\"colorbar\":{\"outlinewidth\":0,\"ticks\":\"\"},\"colorscale\":[[0.0,\"#0d0887\"],[0.1111111111111111,\"#46039f\"],[0.2222222222222222,\"#7201a8\"],[0.3333333333333333,\"#9c179e\"],[0.4444444444444444,\"#bd3786\"],[0.5555555555555556,\"#d8576b\"],[0.6666666666666666,\"#ed7953\"],[0.7777777777777778,\"#fb9f3a\"],[0.8888888888888888,\"#fdca26\"],[1.0,\"#f0f921\"]],\"type\":\"surface\"}],\"table\":[{\"cells\":{\"fill\":{\"color\":\"#EBF0F8\"},\"line\":{\"color\":\"white\"}},\"header\":{\"fill\":{\"color\":\"#C8D4E3\"},\"line\":{\"color\":\"white\"}},\"type\":\"table\"}]},\"layout\":{\"annotationdefaults\":{\"arrowcolor\":\"#2a3f5f\",\"arrowhead\":0,\"arrowwidth\":1},\"autotypenumbers\":\"strict\",\"coloraxis\":{\"colorbar\":{\"outlinewidth\":0,\"ticks\":\"\"}},\"colorscale\":{\"diverging\":[[0,\"#8e0152\"],[0.1,\"#c51b7d\"],[0.2,\"#de77ae\"],[0.3,\"#f1b6da\"],[0.4,\"#fde0ef\"],[0.5,\"#f7f7f7\"],[0.6,\"#e6f5d0\"],[0.7,\"#b8e186\"],[0.8,\"#7fbc41\"],[0.9,\"#4d9221\"],[1,\"#276419\"]],\"sequential\":[[0.0,\"#0d0887\"],[0.1111111111111111,\"#46039f\"],[0.2222222222222222,\"#7201a8\"],[0.3333333333333333,\"#9c179e\"],[0.4444444444444444,\"#bd3786\"],[0.5555555555555556,\"#d8576b\"],[0.6666666666666666,\"#ed7953\"],[0.7777777777777778,\"#fb9f3a\"],[0.8888888888888888,\"#fdca26\"],[1.0,\"#f0f921\"]],\"sequentialminus\":[[0.0,\"#0d0887\"],[0.1111111111111111,\"#46039f\"],[0.2222222222222222,\"#7201a8\"],[0.3333333333333333,\"#9c179e\"],[0.4444444444444444,\"#bd3786\"],[0.5555555555555556,\"#d8576b\"],[0.6666666666666666,\"#ed7953\"],[0.7777777777777778,\"#fb9f3a\"],[0.8888888888888888,\"#fdca26\"],[1.0,\"#f0f921\"]]},\"colorway\":[\"#636efa\",\"#EF553B\",\"#00cc96\",\"#ab63fa\",\"#FFA15A\",\"#19d3f3\",\"#FF6692\",\"#B6E880\",\"#FF97FF\",\"#FECB52\"],\"font\":{\"color\":\"#2a3f5f\"},\"geo\":{\"bgcolor\":\"white\",\"lakecolor\":\"white\",\"landcolor\":\"#E5ECF6\",\"showlakes\":true,\"showland\":true,\"subunitcolor\":\"white\"},\"hoverlabel\":{\"align\":\"left\"},\"hovermode\":\"closest\",\"mapbox\":{\"style\":\"light\"},\"paper_bgcolor\":\"white\",\"plot_bgcolor\":\"#E5ECF6\",\"polar\":{\"angularaxis\":{\"gridcolor\":\"white\",\"linecolor\":\"white\",\"ticks\":\"\"},\"bgcolor\":\"#E5ECF6\",\"radialaxis\":{\"gridcolor\":\"white\",\"linecolor\":\"white\",\"ticks\":\"\"}},\"scene\":{\"xaxis\":{\"backgroundcolor\":\"#E5ECF6\",\"gridcolor\":\"white\",\"gridwidth\":2,\"linecolor\":\"white\",\"showbackground\":true,\"ticks\":\"\",\"zerolinecolor\":\"white\"},\"yaxis\":{\"backgroundcolor\":\"#E5ECF6\",\"gridcolor\":\"white\",\"gridwidth\":2,\"linecolor\":\"white\",\"showbackground\":true,\"ticks\":\"\",\"zerolinecolor\":\"white\"},\"zaxis\":{\"backgroundcolor\":\"#E5ECF6\",\"gridcolor\":\"white\",\"gridwidth\":2,\"linecolor\":\"white\",\"showbackground\":true,\"ticks\":\"\",\"zerolinecolor\":\"white\"}},\"shapedefaults\":{\"line\":{\"color\":\"#2a3f5f\"}},\"ternary\":{\"aaxis\":{\"gridcolor\":\"white\",\"linecolor\":\"white\",\"ticks\":\"\"},\"baxis\":{\"gridcolor\":\"white\",\"linecolor\":\"white\",\"ticks\":\"\"},\"bgcolor\":\"#E5ECF6\",\"caxis\":{\"gridcolor\":\"white\",\"linecolor\":\"white\",\"ticks\":\"\"}},\"title\":{\"x\":0.05},\"xaxis\":{\"automargin\":true,\"gridcolor\":\"white\",\"linecolor\":\"white\",\"ticks\":\"\",\"title\":{\"standoff\":15},\"zerolinecolor\":\"white\",\"zerolinewidth\":2},\"yaxis\":{\"automargin\":true,\"gridcolor\":\"white\",\"linecolor\":\"white\",\"ticks\":\"\",\"title\":{\"standoff\":15},\"zerolinecolor\":\"white\",\"zerolinewidth\":2}}},\"xaxis\":{\"anchor\":\"y\",\"domain\":[0.0,1.0],\"scaleanchor\":\"y\",\"constrain\":\"domain\"},\"yaxis\":{\"anchor\":\"x\",\"domain\":[0.0,1.0],\"autorange\":\"reversed\",\"constrain\":\"domain\"},\"coloraxis\":{\"colorscale\":[[0.0,\"rgb(0, 0, 0)\"],[0.09090909090909091,\"rgb(16, 16, 16)\"],[0.18181818181818182,\"rgb(38, 38, 38)\"],[0.2727272727272727,\"rgb(59, 59, 59)\"],[0.36363636363636365,\"rgb(81, 80, 80)\"],[0.45454545454545453,\"rgb(102, 101, 101)\"],[0.5454545454545454,\"rgb(124, 123, 122)\"],[0.6363636363636364,\"rgb(146, 146, 145)\"],[0.7272727272727273,\"rgb(171, 171, 170)\"],[0.8181818181818182,\"rgb(197, 197, 195)\"],[0.9090909090909091,\"rgb(224, 224, 223)\"],[1.0,\"rgb(254, 254, 253)\"]],\"showscale\":false},\"margin\":{\"t\":60},\"title\":{\"text\":\"Data frequency\"},\"height\":500},                        {\"responsive\": true}                    ).then(function(){\n",
       "                            \n",
       "var gd = document.getElementById('8b8b6720-a7c3-4238-9e29-c127fdba5b1e');\n",
       "var x = new MutationObserver(function (mutations, observer) {{\n",
       "        var display = window.getComputedStyle(gd).display;\n",
       "        if (!display || display === 'none') {{\n",
       "            console.log([gd, 'removed!']);\n",
       "            Plotly.purge(gd);\n",
       "            observer.disconnect();\n",
       "        }}\n",
       "}});\n",
       "\n",
       "// Listen for the removal of the full notebook cells\n",
       "var notebookContainer = gd.closest('#notebook-container');\n",
       "if (notebookContainer) {{\n",
       "    x.observe(notebookContainer, {childList: true});\n",
       "}}\n",
       "\n",
       "// Listen for the clearing of the current output cell\n",
       "var outputEl = gd.closest('.output');\n",
       "if (outputEl) {{\n",
       "    x.observe(outputEl, {childList: true});\n",
       "}}\n",
       "\n",
       "                        })                };                });            </script>        </div>"
      ]
     },
     "metadata": {},
     "output_type": "display_data"
    }
   ],
   "source": [
    "fig = EDA_missingness.matrix(df)\n",
    "fig.show()"
   ]
  },
  {
   "cell_type": "markdown",
   "metadata": {},
   "source": [
    "Finally, we can plot a heatmap to display the correlation between missing data.\n",
    "\n",
    "Correlation ranges from -1 to 1. -1 means that if one variable appears then the other will definitely not. 0 means that there is no correlation between the missingness of two variables. 1 means that the two variables will always appear together."
   ]
  },
  {
   "cell_type": "code",
   "execution_count": 5,
   "metadata": {},
   "outputs": [
    {
     "data": {
      "application/vnd.plotly.v1+json": {
       "config": {
        "plotlyServerURL": "https://plot.ly"
       },
       "data": [
        {
         "type": "heatmap",
         "x": [
          0,
          1,
          2,
          3,
          4
         ],
         "y": [
          0,
          1,
          2,
          3,
          4
         ],
         "z": [
          [
           1,
           0.03887468940103994,
           -0.02733764225238488,
           -0.05051314896300814,
           0.006443722164760859
          ],
          [
           0.03887468940103994,
           1,
           0.0004254716327805986,
           -0.023882500963876223,
           0.0919279530508851
          ],
          [
           -0.02733764225238488,
           0.0004254716327805986,
           1,
           0.0002127245095765606,
           -0.09715909897240241
          ],
          [
           -0.05051314896300814,
           -0.023882500963876223,
           0.0002127245095765606,
           1,
           -0.003172817010160228
          ],
          [
           0.006443722164760859,
           0.0919279530508851,
           -0.09715909897240241,
           -0.003172817010160228,
           1
          ]
         ]
        }
       ],
       "layout": {
        "height": 800,
        "template": {
         "data": {
          "bar": [
           {
            "error_x": {
             "color": "#2a3f5f"
            },
            "error_y": {
             "color": "#2a3f5f"
            },
            "marker": {
             "line": {
              "color": "#E5ECF6",
              "width": 0.5
             },
             "pattern": {
              "fillmode": "overlay",
              "size": 10,
              "solidity": 0.2
             }
            },
            "type": "bar"
           }
          ],
          "barpolar": [
           {
            "marker": {
             "line": {
              "color": "#E5ECF6",
              "width": 0.5
             },
             "pattern": {
              "fillmode": "overlay",
              "size": 10,
              "solidity": 0.2
             }
            },
            "type": "barpolar"
           }
          ],
          "carpet": [
           {
            "aaxis": {
             "endlinecolor": "#2a3f5f",
             "gridcolor": "white",
             "linecolor": "white",
             "minorgridcolor": "white",
             "startlinecolor": "#2a3f5f"
            },
            "baxis": {
             "endlinecolor": "#2a3f5f",
             "gridcolor": "white",
             "linecolor": "white",
             "minorgridcolor": "white",
             "startlinecolor": "#2a3f5f"
            },
            "type": "carpet"
           }
          ],
          "choropleth": [
           {
            "colorbar": {
             "outlinewidth": 0,
             "ticks": ""
            },
            "type": "choropleth"
           }
          ],
          "contour": [
           {
            "colorbar": {
             "outlinewidth": 0,
             "ticks": ""
            },
            "colorscale": [
             [
              0,
              "#0d0887"
             ],
             [
              0.1111111111111111,
              "#46039f"
             ],
             [
              0.2222222222222222,
              "#7201a8"
             ],
             [
              0.3333333333333333,
              "#9c179e"
             ],
             [
              0.4444444444444444,
              "#bd3786"
             ],
             [
              0.5555555555555556,
              "#d8576b"
             ],
             [
              0.6666666666666666,
              "#ed7953"
             ],
             [
              0.7777777777777778,
              "#fb9f3a"
             ],
             [
              0.8888888888888888,
              "#fdca26"
             ],
             [
              1,
              "#f0f921"
             ]
            ],
            "type": "contour"
           }
          ],
          "contourcarpet": [
           {
            "colorbar": {
             "outlinewidth": 0,
             "ticks": ""
            },
            "type": "contourcarpet"
           }
          ],
          "heatmap": [
           {
            "colorbar": {
             "outlinewidth": 0,
             "ticks": ""
            },
            "colorscale": [
             [
              0,
              "#0d0887"
             ],
             [
              0.1111111111111111,
              "#46039f"
             ],
             [
              0.2222222222222222,
              "#7201a8"
             ],
             [
              0.3333333333333333,
              "#9c179e"
             ],
             [
              0.4444444444444444,
              "#bd3786"
             ],
             [
              0.5555555555555556,
              "#d8576b"
             ],
             [
              0.6666666666666666,
              "#ed7953"
             ],
             [
              0.7777777777777778,
              "#fb9f3a"
             ],
             [
              0.8888888888888888,
              "#fdca26"
             ],
             [
              1,
              "#f0f921"
             ]
            ],
            "type": "heatmap"
           }
          ],
          "heatmapgl": [
           {
            "colorbar": {
             "outlinewidth": 0,
             "ticks": ""
            },
            "colorscale": [
             [
              0,
              "#0d0887"
             ],
             [
              0.1111111111111111,
              "#46039f"
             ],
             [
              0.2222222222222222,
              "#7201a8"
             ],
             [
              0.3333333333333333,
              "#9c179e"
             ],
             [
              0.4444444444444444,
              "#bd3786"
             ],
             [
              0.5555555555555556,
              "#d8576b"
             ],
             [
              0.6666666666666666,
              "#ed7953"
             ],
             [
              0.7777777777777778,
              "#fb9f3a"
             ],
             [
              0.8888888888888888,
              "#fdca26"
             ],
             [
              1,
              "#f0f921"
             ]
            ],
            "type": "heatmapgl"
           }
          ],
          "histogram": [
           {
            "marker": {
             "pattern": {
              "fillmode": "overlay",
              "size": 10,
              "solidity": 0.2
             }
            },
            "type": "histogram"
           }
          ],
          "histogram2d": [
           {
            "colorbar": {
             "outlinewidth": 0,
             "ticks": ""
            },
            "colorscale": [
             [
              0,
              "#0d0887"
             ],
             [
              0.1111111111111111,
              "#46039f"
             ],
             [
              0.2222222222222222,
              "#7201a8"
             ],
             [
              0.3333333333333333,
              "#9c179e"
             ],
             [
              0.4444444444444444,
              "#bd3786"
             ],
             [
              0.5555555555555556,
              "#d8576b"
             ],
             [
              0.6666666666666666,
              "#ed7953"
             ],
             [
              0.7777777777777778,
              "#fb9f3a"
             ],
             [
              0.8888888888888888,
              "#fdca26"
             ],
             [
              1,
              "#f0f921"
             ]
            ],
            "type": "histogram2d"
           }
          ],
          "histogram2dcontour": [
           {
            "colorbar": {
             "outlinewidth": 0,
             "ticks": ""
            },
            "colorscale": [
             [
              0,
              "#0d0887"
             ],
             [
              0.1111111111111111,
              "#46039f"
             ],
             [
              0.2222222222222222,
              "#7201a8"
             ],
             [
              0.3333333333333333,
              "#9c179e"
             ],
             [
              0.4444444444444444,
              "#bd3786"
             ],
             [
              0.5555555555555556,
              "#d8576b"
             ],
             [
              0.6666666666666666,
              "#ed7953"
             ],
             [
              0.7777777777777778,
              "#fb9f3a"
             ],
             [
              0.8888888888888888,
              "#fdca26"
             ],
             [
              1,
              "#f0f921"
             ]
            ],
            "type": "histogram2dcontour"
           }
          ],
          "mesh3d": [
           {
            "colorbar": {
             "outlinewidth": 0,
             "ticks": ""
            },
            "type": "mesh3d"
           }
          ],
          "parcoords": [
           {
            "line": {
             "colorbar": {
              "outlinewidth": 0,
              "ticks": ""
             }
            },
            "type": "parcoords"
           }
          ],
          "pie": [
           {
            "automargin": true,
            "type": "pie"
           }
          ],
          "scatter": [
           {
            "marker": {
             "colorbar": {
              "outlinewidth": 0,
              "ticks": ""
             }
            },
            "type": "scatter"
           }
          ],
          "scatter3d": [
           {
            "line": {
             "colorbar": {
              "outlinewidth": 0,
              "ticks": ""
             }
            },
            "marker": {
             "colorbar": {
              "outlinewidth": 0,
              "ticks": ""
             }
            },
            "type": "scatter3d"
           }
          ],
          "scattercarpet": [
           {
            "marker": {
             "colorbar": {
              "outlinewidth": 0,
              "ticks": ""
             }
            },
            "type": "scattercarpet"
           }
          ],
          "scattergeo": [
           {
            "marker": {
             "colorbar": {
              "outlinewidth": 0,
              "ticks": ""
             }
            },
            "type": "scattergeo"
           }
          ],
          "scattergl": [
           {
            "marker": {
             "colorbar": {
              "outlinewidth": 0,
              "ticks": ""
             }
            },
            "type": "scattergl"
           }
          ],
          "scattermapbox": [
           {
            "marker": {
             "colorbar": {
              "outlinewidth": 0,
              "ticks": ""
             }
            },
            "type": "scattermapbox"
           }
          ],
          "scatterpolar": [
           {
            "marker": {
             "colorbar": {
              "outlinewidth": 0,
              "ticks": ""
             }
            },
            "type": "scatterpolar"
           }
          ],
          "scatterpolargl": [
           {
            "marker": {
             "colorbar": {
              "outlinewidth": 0,
              "ticks": ""
             }
            },
            "type": "scatterpolargl"
           }
          ],
          "scatterternary": [
           {
            "marker": {
             "colorbar": {
              "outlinewidth": 0,
              "ticks": ""
             }
            },
            "type": "scatterternary"
           }
          ],
          "surface": [
           {
            "colorbar": {
             "outlinewidth": 0,
             "ticks": ""
            },
            "colorscale": [
             [
              0,
              "#0d0887"
             ],
             [
              0.1111111111111111,
              "#46039f"
             ],
             [
              0.2222222222222222,
              "#7201a8"
             ],
             [
              0.3333333333333333,
              "#9c179e"
             ],
             [
              0.4444444444444444,
              "#bd3786"
             ],
             [
              0.5555555555555556,
              "#d8576b"
             ],
             [
              0.6666666666666666,
              "#ed7953"
             ],
             [
              0.7777777777777778,
              "#fb9f3a"
             ],
             [
              0.8888888888888888,
              "#fdca26"
             ],
             [
              1,
              "#f0f921"
             ]
            ],
            "type": "surface"
           }
          ],
          "table": [
           {
            "cells": {
             "fill": {
              "color": "#EBF0F8"
             },
             "line": {
              "color": "white"
             }
            },
            "header": {
             "fill": {
              "color": "#C8D4E3"
             },
             "line": {
              "color": "white"
             }
            },
            "type": "table"
           }
          ]
         },
         "layout": {
          "annotationdefaults": {
           "arrowcolor": "#2a3f5f",
           "arrowhead": 0,
           "arrowwidth": 1
          },
          "autotypenumbers": "strict",
          "coloraxis": {
           "colorbar": {
            "outlinewidth": 0,
            "ticks": ""
           }
          },
          "colorscale": {
           "diverging": [
            [
             0,
             "#8e0152"
            ],
            [
             0.1,
             "#c51b7d"
            ],
            [
             0.2,
             "#de77ae"
            ],
            [
             0.3,
             "#f1b6da"
            ],
            [
             0.4,
             "#fde0ef"
            ],
            [
             0.5,
             "#f7f7f7"
            ],
            [
             0.6,
             "#e6f5d0"
            ],
            [
             0.7,
             "#b8e186"
            ],
            [
             0.8,
             "#7fbc41"
            ],
            [
             0.9,
             "#4d9221"
            ],
            [
             1,
             "#276419"
            ]
           ],
           "sequential": [
            [
             0,
             "#0d0887"
            ],
            [
             0.1111111111111111,
             "#46039f"
            ],
            [
             0.2222222222222222,
             "#7201a8"
            ],
            [
             0.3333333333333333,
             "#9c179e"
            ],
            [
             0.4444444444444444,
             "#bd3786"
            ],
            [
             0.5555555555555556,
             "#d8576b"
            ],
            [
             0.6666666666666666,
             "#ed7953"
            ],
            [
             0.7777777777777778,
             "#fb9f3a"
            ],
            [
             0.8888888888888888,
             "#fdca26"
            ],
            [
             1,
             "#f0f921"
            ]
           ],
           "sequentialminus": [
            [
             0,
             "#0d0887"
            ],
            [
             0.1111111111111111,
             "#46039f"
            ],
            [
             0.2222222222222222,
             "#7201a8"
            ],
            [
             0.3333333333333333,
             "#9c179e"
            ],
            [
             0.4444444444444444,
             "#bd3786"
            ],
            [
             0.5555555555555556,
             "#d8576b"
            ],
            [
             0.6666666666666666,
             "#ed7953"
            ],
            [
             0.7777777777777778,
             "#fb9f3a"
            ],
            [
             0.8888888888888888,
             "#fdca26"
            ],
            [
             1,
             "#f0f921"
            ]
           ]
          },
          "colorway": [
           "#636efa",
           "#EF553B",
           "#00cc96",
           "#ab63fa",
           "#FFA15A",
           "#19d3f3",
           "#FF6692",
           "#B6E880",
           "#FF97FF",
           "#FECB52"
          ],
          "font": {
           "color": "#2a3f5f"
          },
          "geo": {
           "bgcolor": "white",
           "lakecolor": "white",
           "landcolor": "#E5ECF6",
           "showlakes": true,
           "showland": true,
           "subunitcolor": "white"
          },
          "hoverlabel": {
           "align": "left"
          },
          "hovermode": "closest",
          "mapbox": {
           "style": "light"
          },
          "paper_bgcolor": "white",
          "plot_bgcolor": "#E5ECF6",
          "polar": {
           "angularaxis": {
            "gridcolor": "white",
            "linecolor": "white",
            "ticks": ""
           },
           "bgcolor": "#E5ECF6",
           "radialaxis": {
            "gridcolor": "white",
            "linecolor": "white",
            "ticks": ""
           }
          },
          "scene": {
           "xaxis": {
            "backgroundcolor": "#E5ECF6",
            "gridcolor": "white",
            "gridwidth": 2,
            "linecolor": "white",
            "showbackground": true,
            "ticks": "",
            "zerolinecolor": "white"
           },
           "yaxis": {
            "backgroundcolor": "#E5ECF6",
            "gridcolor": "white",
            "gridwidth": 2,
            "linecolor": "white",
            "showbackground": true,
            "ticks": "",
            "zerolinecolor": "white"
           },
           "zaxis": {
            "backgroundcolor": "#E5ECF6",
            "gridcolor": "white",
            "gridwidth": 2,
            "linecolor": "white",
            "showbackground": true,
            "ticks": "",
            "zerolinecolor": "white"
           }
          },
          "shapedefaults": {
           "line": {
            "color": "#2a3f5f"
           }
          },
          "ternary": {
           "aaxis": {
            "gridcolor": "white",
            "linecolor": "white",
            "ticks": ""
           },
           "baxis": {
            "gridcolor": "white",
            "linecolor": "white",
            "ticks": ""
           },
           "bgcolor": "#E5ECF6",
           "caxis": {
            "gridcolor": "white",
            "linecolor": "white",
            "ticks": ""
           }
          },
          "title": {
           "x": 0.05
          },
          "xaxis": {
           "automargin": true,
           "gridcolor": "white",
           "linecolor": "white",
           "ticks": "",
           "title": {
            "standoff": 15
           },
           "zerolinecolor": "white",
           "zerolinewidth": 2
          },
          "yaxis": {
           "automargin": true,
           "gridcolor": "white",
           "linecolor": "white",
           "ticks": "",
           "title": {
            "standoff": 15
           },
           "zerolinecolor": "white",
           "zerolinewidth": 2
          }
         }
        },
        "width": 800,
        "xaxis": {
         "autorange": true,
         "range": [
          -0.5,
          4.5
         ],
         "type": "linear"
        },
        "yaxis": {
         "autorange": true,
         "range": [
          -0.5,
          4.5
         ],
         "type": "linear"
        }
       }
      },
      "image/png": "[encoded data removed]",
      "text/html": [
       "<div>                            <div id=\"7358e7c3-118b-43f0-82d9-bdd818f751d9\" class=\"plotly-graph-div\" style=\"height:800px; width:800px;\"></div>            <script type=\"text/javascript\">                require([\"plotly\"], function(Plotly) {                    window.PLOTLYENV=window.PLOTLYENV || {};                                    if (document.getElementById(\"7358e7c3-118b-43f0-82d9-bdd818f751d9\")) {                    Plotly.newPlot(                        \"7358e7c3-118b-43f0-82d9-bdd818f751d9\",                        [{\"x\":[0,1,2,3,4],\"y\":[0,1,2,3,4],\"z\":[[1.0,0.03887468940103994,-0.02733764225238488,-0.05051314896300814,0.006443722164760859],[0.03887468940103994,1.0,0.0004254716327805986,-0.023882500963876223,0.0919279530508851],[-0.02733764225238488,0.0004254716327805986,1.0,0.0002127245095765606,-0.09715909897240241],[-0.05051314896300814,-0.023882500963876223,0.0002127245095765606,1.0,-0.003172817010160228],[0.006443722164760859,0.0919279530508851,-0.09715909897240241,-0.003172817010160228,1.0]],\"type\":\"heatmap\"}],                        {\"template\":{\"data\":{\"bar\":[{\"error_x\":{\"color\":\"#2a3f5f\"},\"error_y\":{\"color\":\"#2a3f5f\"},\"marker\":{\"line\":{\"color\":\"#E5ECF6\",\"width\":0.5},\"pattern\":{\"fillmode\":\"overlay\",\"size\":10,\"solidity\":0.2}},\"type\":\"bar\"}],\"barpolar\":[{\"marker\":{\"line\":{\"color\":\"#E5ECF6\",\"width\":0.5},\"pattern\":{\"fillmode\":\"overlay\",\"size\":10,\"solidity\":0.2}},\"type\":\"barpolar\"}],\"carpet\":[{\"aaxis\":{\"endlinecolor\":\"#2a3f5f\",\"gridcolor\":\"white\",\"linecolor\":\"white\",\"minorgridcolor\":\"white\",\"startlinecolor\":\"#2a3f5f\"},\"baxis\":{\"endlinecolor\":\"#2a3f5f\",\"gridcolor\":\"white\",\"linecolor\":\"white\",\"minorgridcolor\":\"white\",\"startlinecolor\":\"#2a3f5f\"},\"type\":\"carpet\"}],\"choropleth\":[{\"colorbar\":{\"outlinewidth\":0,\"ticks\":\"\"},\"type\":\"choropleth\"}],\"contour\":[{\"colorbar\":{\"outlinewidth\":0,\"ticks\":\"\"},\"colorscale\":[[0.0,\"#0d0887\"],[0.1111111111111111,\"#46039f\"],[0.2222222222222222,\"#7201a8\"],[0.3333333333333333,\"#9c179e\"],[0.4444444444444444,\"#bd3786\"],[0.5555555555555556,\"#d8576b\"],[0.6666666666666666,\"#ed7953\"],[0.7777777777777778,\"#fb9f3a\"],[0.8888888888888888,\"#fdca26\"],[1.0,\"#f0f921\"]],\"type\":\"contour\"}],\"contourcarpet\":[{\"colorbar\":{\"outlinewidth\":0,\"ticks\":\"\"},\"type\":\"contourcarpet\"}],\"heatmap\":[{\"colorbar\":{\"outlinewidth\":0,\"ticks\":\"\"},\"colorscale\":[[0.0,\"#0d0887\"],[0.1111111111111111,\"#46039f\"],[0.2222222222222222,\"#7201a8\"],[0.3333333333333333,\"#9c179e\"],[0.4444444444444444,\"#bd3786\"],[0.5555555555555556,\"#d8576b\"],[0.6666666666666666,\"#ed7953\"],[0.7777777777777778,\"#fb9f3a\"],[0.8888888888888888,\"#fdca26\"],[1.0,\"#f0f921\"]],\"type\":\"heatmap\"}],\"heatmapgl\":[{\"colorbar\":{\"outlinewidth\":0,\"ticks\":\"\"},\"colorscale\":[[0.0,\"#0d0887\"],[0.1111111111111111,\"#46039f\"],[0.2222222222222222,\"#7201a8\"],[0.3333333333333333,\"#9c179e\"],[0.4444444444444444,\"#bd3786\"],[0.5555555555555556,\"#d8576b\"],[0.6666666666666666,\"#ed7953\"],[0.7777777777777778,\"#fb9f3a\"],[0.8888888888888888,\"#fdca26\"],[1.0,\"#f0f921\"]],\"type\":\"heatmapgl\"}],\"histogram\":[{\"marker\":{\"pattern\":{\"fillmode\":\"overlay\",\"size\":10,\"solidity\":0.2}},\"type\":\"histogram\"}],\"histogram2d\":[{\"colorbar\":{\"outlinewidth\":0,\"ticks\":\"\"},\"colorscale\":[[0.0,\"#0d0887\"],[0.1111111111111111,\"#46039f\"],[0.2222222222222222,\"#7201a8\"],[0.3333333333333333,\"#9c179e\"],[0.4444444444444444,\"#bd3786\"],[0.5555555555555556,\"#d8576b\"],[0.6666666666666666,\"#ed7953\"],[0.7777777777777778,\"#fb9f3a\"],[0.8888888888888888,\"#fdca26\"],[1.0,\"#f0f921\"]],\"type\":\"histogram2d\"}],\"histogram2dcontour\":[{\"colorbar\":{\"outlinewidth\":0,\"ticks\":\"\"},\"colorscale\":[[0.0,\"#0d0887\"],[0.1111111111111111,\"#46039f\"],[0.2222222222222222,\"#7201a8\"],[0.3333333333333333,\"#9c179e\"],[0.4444444444444444,\"#bd3786\"],[0.5555555555555556,\"#d8576b\"],[0.6666666666666666,\"#ed7953\"],[0.7777777777777778,\"#fb9f3a\"],[0.8888888888888888,\"#fdca26\"],[1.0,\"#f0f921\"]],\"type\":\"histogram2dcontour\"}],\"mesh3d\":[{\"colorbar\":{\"outlinewidth\":0,\"ticks\":\"\"},\"type\":\"mesh3d\"}],\"parcoords\":[{\"line\":{\"colorbar\":{\"outlinewidth\":0,\"ticks\":\"\"}},\"type\":\"parcoords\"}],\"pie\":[{\"automargin\":true,\"type\":\"pie\"}],\"scatter\":[{\"marker\":{\"colorbar\":{\"outlinewidth\":0,\"ticks\":\"\"}},\"type\":\"scatter\"}],\"scatter3d\":[{\"line\":{\"colorbar\":{\"outlinewidth\":0,\"ticks\":\"\"}},\"marker\":{\"colorbar\":{\"outlinewidth\":0,\"ticks\":\"\"}},\"type\":\"scatter3d\"}],\"scattercarpet\":[{\"marker\":{\"colorbar\":{\"outlinewidth\":0,\"ticks\":\"\"}},\"type\":\"scattercarpet\"}],\"scattergeo\":[{\"marker\":{\"colorbar\":{\"outlinewidth\":0,\"ticks\":\"\"}},\"type\":\"scattergeo\"}],\"scattergl\":[{\"marker\":{\"colorbar\":{\"outlinewidth\":0,\"ticks\":\"\"}},\"type\":\"scattergl\"}],\"scattermapbox\":[{\"marker\":{\"colorbar\":{\"outlinewidth\":0,\"ticks\":\"\"}},\"type\":\"scattermapbox\"}],\"scatterpolar\":[{\"marker\":{\"colorbar\":{\"outlinewidth\":0,\"ticks\":\"\"}},\"type\":\"scatterpolar\"}],\"scatterpolargl\":[{\"marker\":{\"colorbar\":{\"outlinewidth\":0,\"ticks\":\"\"}},\"type\":\"scatterpolargl\"}],\"scatterternary\":[{\"marker\":{\"colorbar\":{\"outlinewidth\":0,\"ticks\":\"\"}},\"type\":\"scatterternary\"}],\"surface\":[{\"colorbar\":{\"outlinewidth\":0,\"ticks\":\"\"},\"colorscale\":[[0.0,\"#0d0887\"],[0.1111111111111111,\"#46039f\"],[0.2222222222222222,\"#7201a8\"],[0.3333333333333333,\"#9c179e\"],[0.4444444444444444,\"#bd3786\"],[0.5555555555555556,\"#d8576b\"],[0.6666666666666666,\"#ed7953\"],[0.7777777777777778,\"#fb9f3a\"],[0.8888888888888888,\"#fdca26\"],[1.0,\"#f0f921\"]],\"type\":\"surface\"}],\"table\":[{\"cells\":{\"fill\":{\"color\":\"#EBF0F8\"},\"line\":{\"color\":\"white\"}},\"header\":{\"fill\":{\"color\":\"#C8D4E3\"},\"line\":{\"color\":\"white\"}},\"type\":\"table\"}]},\"layout\":{\"annotationdefaults\":{\"arrowcolor\":\"#2a3f5f\",\"arrowhead\":0,\"arrowwidth\":1},\"autotypenumbers\":\"strict\",\"coloraxis\":{\"colorbar\":{\"outlinewidth\":0,\"ticks\":\"\"}},\"colorscale\":{\"diverging\":[[0,\"#8e0152\"],[0.1,\"#c51b7d\"],[0.2,\"#de77ae\"],[0.3,\"#f1b6da\"],[0.4,\"#fde0ef\"],[0.5,\"#f7f7f7\"],[0.6,\"#e6f5d0\"],[0.7,\"#b8e186\"],[0.8,\"#7fbc41\"],[0.9,\"#4d9221\"],[1,\"#276419\"]],\"sequential\":[[0.0,\"#0d0887\"],[0.1111111111111111,\"#46039f\"],[0.2222222222222222,\"#7201a8\"],[0.3333333333333333,\"#9c179e\"],[0.4444444444444444,\"#bd3786\"],[0.5555555555555556,\"#d8576b\"],[0.6666666666666666,\"#ed7953\"],[0.7777777777777778,\"#fb9f3a\"],[0.8888888888888888,\"#fdca26\"],[1.0,\"#f0f921\"]],\"sequentialminus\":[[0.0,\"#0d0887\"],[0.1111111111111111,\"#46039f\"],[0.2222222222222222,\"#7201a8\"],[0.3333333333333333,\"#9c179e\"],[0.4444444444444444,\"#bd3786\"],[0.5555555555555556,\"#d8576b\"],[0.6666666666666666,\"#ed7953\"],[0.7777777777777778,\"#fb9f3a\"],[0.8888888888888888,\"#fdca26\"],[1.0,\"#f0f921\"]]},\"colorway\":[\"#636efa\",\"#EF553B\",\"#00cc96\",\"#ab63fa\",\"#FFA15A\",\"#19d3f3\",\"#FF6692\",\"#B6E880\",\"#FF97FF\",\"#FECB52\"],\"font\":{\"color\":\"#2a3f5f\"},\"geo\":{\"bgcolor\":\"white\",\"lakecolor\":\"white\",\"landcolor\":\"#E5ECF6\",\"showlakes\":true,\"showland\":true,\"subunitcolor\":\"white\"},\"hoverlabel\":{\"align\":\"left\"},\"hovermode\":\"closest\",\"mapbox\":{\"style\":\"light\"},\"paper_bgcolor\":\"white\",\"plot_bgcolor\":\"#E5ECF6\",\"polar\":{\"angularaxis\":{\"gridcolor\":\"white\",\"linecolor\":\"white\",\"ticks\":\"\"},\"bgcolor\":\"#E5ECF6\",\"radialaxis\":{\"gridcolor\":\"white\",\"linecolor\":\"white\",\"ticks\":\"\"}},\"scene\":{\"xaxis\":{\"backgroundcolor\":\"#E5ECF6\",\"gridcolor\":\"white\",\"gridwidth\":2,\"linecolor\":\"white\",\"showbackground\":true,\"ticks\":\"\",\"zerolinecolor\":\"white\"},\"yaxis\":{\"backgroundcolor\":\"#E5ECF6\",\"gridcolor\":\"white\",\"gridwidth\":2,\"linecolor\":\"white\",\"showbackground\":true,\"ticks\":\"\",\"zerolinecolor\":\"white\"},\"zaxis\":{\"backgroundcolor\":\"#E5ECF6\",\"gridcolor\":\"white\",\"gridwidth\":2,\"linecolor\":\"white\",\"showbackground\":true,\"ticks\":\"\",\"zerolinecolor\":\"white\"}},\"shapedefaults\":{\"line\":{\"color\":\"#2a3f5f\"}},\"ternary\":{\"aaxis\":{\"gridcolor\":\"white\",\"linecolor\":\"white\",\"ticks\":\"\"},\"baxis\":{\"gridcolor\":\"white\",\"linecolor\":\"white\",\"ticks\":\"\"},\"bgcolor\":\"#E5ECF6\",\"caxis\":{\"gridcolor\":\"white\",\"linecolor\":\"white\",\"ticks\":\"\"}},\"title\":{\"x\":0.05},\"xaxis\":{\"automargin\":true,\"gridcolor\":\"white\",\"linecolor\":\"white\",\"ticks\":\"\",\"title\":{\"standoff\":15},\"zerolinecolor\":\"white\",\"zerolinewidth\":2},\"yaxis\":{\"automargin\":true,\"gridcolor\":\"white\",\"linecolor\":\"white\",\"ticks\":\"\",\"title\":{\"standoff\":15},\"zerolinecolor\":\"white\",\"zerolinewidth\":2}}},\"height\":800,\"width\":800},                        {\"responsive\": true}                    ).then(function(){\n",
       "                            \n",
       "var gd = document.getElementById('7358e7c3-118b-43f0-82d9-bdd818f751d9');\n",
       "var x = new MutationObserver(function (mutations, observer) {{\n",
       "        var display = window.getComputedStyle(gd).display;\n",
       "        if (!display || display === 'none') {{\n",
       "            console.log([gd, 'removed!']);\n",
       "            Plotly.purge(gd);\n",
       "            observer.disconnect();\n",
       "        }}\n",
       "}});\n",
       "\n",
       "// Listen for the removal of the full notebook cells\n",
       "var notebookContainer = gd.closest('#notebook-container');\n",
       "if (notebookContainer) {{\n",
       "    x.observe(notebookContainer, {childList: true});\n",
       "}}\n",
       "\n",
       "// Listen for the clearing of the current output cell\n",
       "var outputEl = gd.closest('.output');\n",
       "if (outputEl) {{\n",
       "    x.observe(outputEl, {childList: true});\n",
       "}}\n",
       "\n",
       "                        })                };                });            </script>        </div>"
      ]
     },
     "metadata": {},
     "output_type": "display_data"
    }
   ],
   "source": [
    "fig = EDA_missingness.heatmap(df)\n",
    "fig.show()"
   ]
  },
  {
   "cell_type": "code",
   "execution_count": null,
   "metadata": {},
   "outputs": [],
   "source": []
  }
 ],
 "metadata": {
  "kernelspec": {
   "display_name": "Python 3/anaconda",
   "language": "python",
   "name": "python3"
  },
  "language_info": {
   "codemirror_mode": {
    "name": "ipython",
    "version": 3
   },
   "file_extension": ".py",
   "mimetype": "text/x-python",
   "name": "python",
   "nbconvert_exporter": "python",
   "pygments_lexer": "ipython3",
   "version": "3.8.10"
  }
 },
 "nbformat": 4,
 "nbformat_minor": 4
}
