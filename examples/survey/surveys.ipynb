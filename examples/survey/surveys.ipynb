{
 "cells": [
  {
   "cell_type": "markdown",
   "metadata": {},
   "source": [
    "# DEMO: Survey module functionalities\n",
    "\n",
    "This notebook provides a demo of how to utilise the survey module."
   ]
  },
  {
   "cell_type": "code",
   "execution_count": 1,
   "metadata": {},
   "outputs": [],
   "source": [
    "import sys\n",
    "sys.path.append('../../')\n",
    "\n",
    "import numpy as np\n",
    "import pandas as pd\n",
    "import niimpy\n",
    "from niimpy.preprocessing import survey\n",
    "from niimpy.exploration import EDA_categorical, EDA_countplot"
   ]
  },
  {
   "cell_type": "markdown",
   "metadata": {},
   "source": [
    "## Load data\n",
    "We will load a mock survey data file."
   ]
  },
  {
   "cell_type": "code",
   "execution_count": 2,
   "metadata": {},
   "outputs": [
    {
     "name": "stderr",
     "output_type": "stream",
     "text": [
      "C:\\Users\\arsii\\AppData\\Local\\Temp/ipykernel_25200/310771259.py:2: DeprecationWarning: From now on, you should explicitely specify timezone with e.g. tz='Europe/Helsinki'\n",
      "  df = niimpy.read_csv('mock-survey.csv')\n"
     ]
    },
    {
     "data": {
      "text/html": [
       "<div>\n",
       "<style scoped>\n",
       "    .dataframe tbody tr th:only-of-type {\n",
       "        vertical-align: middle;\n",
       "    }\n",
       "\n",
       "    .dataframe tbody tr th {\n",
       "        vertical-align: top;\n",
       "    }\n",
       "\n",
       "    .dataframe thead th {\n",
       "        text-align: right;\n",
       "    }\n",
       "</style>\n",
       "<table border=\"1\" class=\"dataframe\">\n",
       "  <thead>\n",
       "    <tr style=\"text-align: right;\">\n",
       "      <th></th>\n",
       "      <th>user</th>\n",
       "      <th>age</th>\n",
       "      <th>gender</th>\n",
       "      <th>Little interest or pleasure in doing things.</th>\n",
       "      <th>Feeling down; depressed or hopeless.</th>\n",
       "      <th>Feeling nervous; anxious or on edge.</th>\n",
       "      <th>Not being able to stop or control worrying.</th>\n",
       "      <th>In the last month; how often have you felt that you were unable to control the important things in your life?</th>\n",
       "      <th>In the last month; how often have you felt confident about your ability to handle your personal problems?</th>\n",
       "      <th>In the last month; how often have you felt that things were going your way?</th>\n",
       "      <th>In the last month; how often have you been able to control irritations in your life?</th>\n",
       "      <th>In the last month; how often have you felt that you were on top of things?</th>\n",
       "      <th>In the last month; how often have you been angered because of things that were outside of your control?</th>\n",
       "      <th>In the last month; how often have you felt difficulties were piling up so high that you could not overcome them?</th>\n",
       "    </tr>\n",
       "  </thead>\n",
       "  <tbody>\n",
       "    <tr>\n",
       "      <th>0</th>\n",
       "      <td>1</td>\n",
       "      <td>20</td>\n",
       "      <td>Male</td>\n",
       "      <td>several-days</td>\n",
       "      <td>more-than-half-the-days</td>\n",
       "      <td>not-at-all</td>\n",
       "      <td>nearly-every-day</td>\n",
       "      <td>almost-never</td>\n",
       "      <td>sometimes</td>\n",
       "      <td>fairly-often</td>\n",
       "      <td>never</td>\n",
       "      <td>sometimes</td>\n",
       "      <td>very-often</td>\n",
       "      <td>fairly-often</td>\n",
       "    </tr>\n",
       "    <tr>\n",
       "      <th>1</th>\n",
       "      <td>2</td>\n",
       "      <td>32</td>\n",
       "      <td>Male</td>\n",
       "      <td>more-than-half-the-days</td>\n",
       "      <td>more-than-half-the-days</td>\n",
       "      <td>not-at-all</td>\n",
       "      <td>several-days</td>\n",
       "      <td>never</td>\n",
       "      <td>never</td>\n",
       "      <td>very-often</td>\n",
       "      <td>sometimes</td>\n",
       "      <td>never</td>\n",
       "      <td>fairly-often</td>\n",
       "      <td>never</td>\n",
       "    </tr>\n",
       "    <tr>\n",
       "      <th>2</th>\n",
       "      <td>3</td>\n",
       "      <td>15</td>\n",
       "      <td>Male</td>\n",
       "      <td>more-than-half-the-days</td>\n",
       "      <td>not-at-all</td>\n",
       "      <td>several-days</td>\n",
       "      <td>not-at-all</td>\n",
       "      <td>never</td>\n",
       "      <td>very-often</td>\n",
       "      <td>very-often</td>\n",
       "      <td>fairly-often</td>\n",
       "      <td>never</td>\n",
       "      <td>never</td>\n",
       "      <td>almost-never</td>\n",
       "    </tr>\n",
       "    <tr>\n",
       "      <th>3</th>\n",
       "      <td>4</td>\n",
       "      <td>35</td>\n",
       "      <td>Female</td>\n",
       "      <td>not-at-all</td>\n",
       "      <td>nearly-every-day</td>\n",
       "      <td>not-at-all</td>\n",
       "      <td>several-days</td>\n",
       "      <td>very-often</td>\n",
       "      <td>fairly-often</td>\n",
       "      <td>very-often</td>\n",
       "      <td>never</td>\n",
       "      <td>sometimes</td>\n",
       "      <td>never</td>\n",
       "      <td>fairly-often</td>\n",
       "    </tr>\n",
       "    <tr>\n",
       "      <th>4</th>\n",
       "      <td>5</td>\n",
       "      <td>23</td>\n",
       "      <td>Male</td>\n",
       "      <td>more-than-half-the-days</td>\n",
       "      <td>not-at-all</td>\n",
       "      <td>more-than-half-the-days</td>\n",
       "      <td>several-days</td>\n",
       "      <td>almost-never</td>\n",
       "      <td>very-often</td>\n",
       "      <td>almost-never</td>\n",
       "      <td>sometimes</td>\n",
       "      <td>sometimes</td>\n",
       "      <td>very-often</td>\n",
       "      <td>never</td>\n",
       "    </tr>\n",
       "  </tbody>\n",
       "</table>\n",
       "</div>"
      ],
      "text/plain": [
       "   user  age  gender Little interest or pleasure in doing things.  \\\n",
       "0     1   20    Male                                 several-days   \n",
       "1     2   32    Male                      more-than-half-the-days   \n",
       "2     3   15    Male                      more-than-half-the-days   \n",
       "3     4   35  Female                                   not-at-all   \n",
       "4     5   23    Male                      more-than-half-the-days   \n",
       "\n",
       "  Feeling down; depressed or hopeless. Feeling nervous; anxious or on edge.  \\\n",
       "0              more-than-half-the-days                           not-at-all   \n",
       "1              more-than-half-the-days                           not-at-all   \n",
       "2                           not-at-all                         several-days   \n",
       "3                     nearly-every-day                           not-at-all   \n",
       "4                           not-at-all              more-than-half-the-days   \n",
       "\n",
       "  Not being able to stop or control worrying.  \\\n",
       "0                            nearly-every-day   \n",
       "1                                several-days   \n",
       "2                                  not-at-all   \n",
       "3                                several-days   \n",
       "4                                several-days   \n",
       "\n",
       "  In the last month; how often have you felt that you were unable to control the important things in your life?  \\\n",
       "0                                       almost-never                                                              \n",
       "1                                              never                                                              \n",
       "2                                              never                                                              \n",
       "3                                         very-often                                                              \n",
       "4                                       almost-never                                                              \n",
       "\n",
       "  In the last month; how often have you felt confident about your ability to handle your personal problems?  \\\n",
       "0                                          sometimes                                                          \n",
       "1                                              never                                                          \n",
       "2                                         very-often                                                          \n",
       "3                                       fairly-often                                                          \n",
       "4                                         very-often                                                          \n",
       "\n",
       "  In the last month; how often have you felt that things were going your way?  \\\n",
       "0                                       fairly-often                            \n",
       "1                                         very-often                            \n",
       "2                                         very-often                            \n",
       "3                                         very-often                            \n",
       "4                                       almost-never                            \n",
       "\n",
       "  In the last month; how often have you been able to control irritations in your life?  \\\n",
       "0                                              never                                     \n",
       "1                                          sometimes                                     \n",
       "2                                       fairly-often                                     \n",
       "3                                              never                                     \n",
       "4                                          sometimes                                     \n",
       "\n",
       "  In the last month; how often have you felt that you were on top of things?  \\\n",
       "0                                          sometimes                           \n",
       "1                                              never                           \n",
       "2                                              never                           \n",
       "3                                          sometimes                           \n",
       "4                                          sometimes                           \n",
       "\n",
       "  In the last month; how often have you been angered because of things that were outside of your control?  \\\n",
       "0                                         very-often                                                        \n",
       "1                                       fairly-often                                                        \n",
       "2                                              never                                                        \n",
       "3                                              never                                                        \n",
       "4                                         very-often                                                        \n",
       "\n",
       "  In the last month; how often have you felt difficulties were piling up so high that you could not overcome them?  \n",
       "0                                       fairly-often                                                                \n",
       "1                                              never                                                                \n",
       "2                                       almost-never                                                                \n",
       "3                                       fairly-often                                                                \n",
       "4                                              never                                                                "
      ]
     },
     "execution_count": 2,
     "metadata": {},
     "output_type": "execute_result"
    }
   ],
   "source": [
    "# Load a mock dataframe\n",
    "df = niimpy.read_csv('mock-survey.csv')\n",
    "df.head()\n"
   ]
  },
  {
   "cell_type": "code",
   "execution_count": 3,
   "metadata": {},
   "outputs": [
    {
     "data": {
      "text/html": [
       "<div>\n",
       "<style scoped>\n",
       "    .dataframe tbody tr th:only-of-type {\n",
       "        vertical-align: middle;\n",
       "    }\n",
       "\n",
       "    .dataframe tbody tr th {\n",
       "        vertical-align: top;\n",
       "    }\n",
       "\n",
       "    .dataframe thead th {\n",
       "        text-align: right;\n",
       "    }\n",
       "</style>\n",
       "<table border=\"1\" class=\"dataframe\">\n",
       "  <thead>\n",
       "    <tr style=\"text-align: right;\">\n",
       "      <th></th>\n",
       "      <th>user</th>\n",
       "      <th>age</th>\n",
       "    </tr>\n",
       "  </thead>\n",
       "  <tbody>\n",
       "    <tr>\n",
       "      <th>count</th>\n",
       "      <td>1000.000000</td>\n",
       "      <td>1000.000000</td>\n",
       "    </tr>\n",
       "    <tr>\n",
       "      <th>mean</th>\n",
       "      <td>500.500000</td>\n",
       "      <td>26.911000</td>\n",
       "    </tr>\n",
       "    <tr>\n",
       "      <th>std</th>\n",
       "      <td>288.819436</td>\n",
       "      <td>4.992595</td>\n",
       "    </tr>\n",
       "    <tr>\n",
       "      <th>min</th>\n",
       "      <td>1.000000</td>\n",
       "      <td>12.000000</td>\n",
       "    </tr>\n",
       "    <tr>\n",
       "      <th>25%</th>\n",
       "      <td>250.750000</td>\n",
       "      <td>23.000000</td>\n",
       "    </tr>\n",
       "    <tr>\n",
       "      <th>50%</th>\n",
       "      <td>500.500000</td>\n",
       "      <td>27.000000</td>\n",
       "    </tr>\n",
       "    <tr>\n",
       "      <th>75%</th>\n",
       "      <td>750.250000</td>\n",
       "      <td>30.000000</td>\n",
       "    </tr>\n",
       "    <tr>\n",
       "      <th>max</th>\n",
       "      <td>1000.000000</td>\n",
       "      <td>43.000000</td>\n",
       "    </tr>\n",
       "  </tbody>\n",
       "</table>\n",
       "</div>"
      ],
      "text/plain": [
       "              user          age\n",
       "count  1000.000000  1000.000000\n",
       "mean    500.500000    26.911000\n",
       "std     288.819436     4.992595\n",
       "min       1.000000    12.000000\n",
       "25%     250.750000    23.000000\n",
       "50%     500.500000    27.000000\n",
       "75%     750.250000    30.000000\n",
       "max    1000.000000    43.000000"
      ]
     },
     "execution_count": 3,
     "metadata": {},
     "output_type": "execute_result"
    }
   ],
   "source": [
    "df.describe()"
   ]
  },
  {
   "cell_type": "markdown",
   "metadata": {},
   "source": [
    "## Preprocessing \n",
    "The dataframe's columns are raw questions from a survey. Some questions belong to a specific category, so we will annotate them with ids. The id is constructed from a prefix (the questionnaire category: GAD, PHQ, PSQI etc.), followed by the question number (1,2,3). Similarly, we will also the answers to meaningful numerical values.\n",
    "\n",
    "**Note:** It's important that the dataframe follows the below schema before passing into niimpy."
   ]
  },
  {
   "cell_type": "code",
   "execution_count": 4,
   "metadata": {},
   "outputs": [
    {
     "ename": "NameError",
     "evalue": "name 'PHQ2_MAP' is not defined",
     "output_type": "error",
     "traceback": [
      "\u001b[1;31m---------------------------------------------------------------------------\u001b[0m",
      "\u001b[1;31mNameError\u001b[0m                                 Traceback (most recent call last)",
      "\u001b[1;32m~\\AppData\\Local\\Temp/ipykernel_25200/2784019974.py\u001b[0m in \u001b[0;36m<module>\u001b[1;34m\u001b[0m\n\u001b[0;32m      1\u001b[0m \u001b[1;31m# Convert column name to id, based on provided mappers from niimpy\u001b[0m\u001b[1;33m\u001b[0m\u001b[1;33m\u001b[0m\u001b[1;33m\u001b[0m\u001b[0m\n\u001b[1;32m----> 2\u001b[1;33m \u001b[0mcol_id\u001b[0m \u001b[1;33m=\u001b[0m \u001b[1;33m{\u001b[0m\u001b[1;33m**\u001b[0m\u001b[0mPHQ2_MAP\u001b[0m\u001b[1;33m,\u001b[0m \u001b[1;33m**\u001b[0m\u001b[0mPSQI_MAP\u001b[0m\u001b[1;33m,\u001b[0m \u001b[1;33m**\u001b[0m\u001b[0mPSS10_MAP\u001b[0m\u001b[1;33m,\u001b[0m \u001b[1;33m**\u001b[0m\u001b[0mPANAS_MAP\u001b[0m\u001b[1;33m,\u001b[0m \u001b[1;33m**\u001b[0m\u001b[0mGAD2_MAP\u001b[0m\u001b[1;33m}\u001b[0m\u001b[1;33m\u001b[0m\u001b[1;33m\u001b[0m\u001b[0m\n\u001b[0m\u001b[0;32m      3\u001b[0m \u001b[0mselected_cols\u001b[0m \u001b[1;33m=\u001b[0m \u001b[1;33m[\u001b[0m\u001b[0mcol\u001b[0m \u001b[1;32mfor\u001b[0m \u001b[0mcol\u001b[0m \u001b[1;32min\u001b[0m \u001b[0mdf\u001b[0m\u001b[1;33m.\u001b[0m\u001b[0mcolumns\u001b[0m \u001b[1;32mif\u001b[0m \u001b[0mcol\u001b[0m \u001b[1;32min\u001b[0m \u001b[0mcol_id\u001b[0m\u001b[1;33m.\u001b[0m\u001b[0mkeys\u001b[0m\u001b[1;33m(\u001b[0m\u001b[1;33m)\u001b[0m\u001b[1;33m]\u001b[0m\u001b[1;33m\u001b[0m\u001b[1;33m\u001b[0m\u001b[0m\n\u001b[0;32m      4\u001b[0m \u001b[1;33m\u001b[0m\u001b[0m\n\u001b[0;32m      5\u001b[0m \u001b[1;31m# Convert data frame to long format\u001b[0m\u001b[1;33m\u001b[0m\u001b[1;33m\u001b[0m\u001b[1;33m\u001b[0m\u001b[0m\n",
      "\u001b[1;31mNameError\u001b[0m: name 'PHQ2_MAP' is not defined"
     ]
    }
   ],
   "source": [
    "# Convert column name to id, based on provided mappers from niimpy\n",
    "col_id = {**PHQ2_MAP, **PSQI_MAP, **PSS10_MAP, **PANAS_MAP, **GAD2_MAP}\n",
    "selected_cols = [col for col in df.columns if col in col_id.keys()]\n",
    "\n",
    "# Convert data frame to long format\n",
    "m_df = pd.melt(df, id_vars=['user', 'age', 'gender'], value_vars=selected_cols, var_name='question', value_name='answer')\n",
    "\n",
    "# Assign questions to codes \n",
    "m_df['id'] = m_df['question'].replace(col_id)\n",
    "m_df.head()"
   ]
  },
  {
   "cell_type": "markdown",
   "metadata": {},
   "source": [
    "We can use a helper method to convert the answers into numerical value. The pre-defined mapper inside survey.py would be useful for this step."
   ]
  },
  {
   "cell_type": "code",
   "execution_count": null,
   "metadata": {},
   "outputs": [],
   "source": [
    "# Transform raw answers to numerical values\n",
    "m_df['answer'] = niimpy.survey.convert_to_numerical_answer(m_df, answer_col = 'answer',\n",
    "                                question_id = 'id', id_map=ID_MAP_PREFIX, use_prefix=True)\n",
    "m_df.head()"
   ]
  },
  {
   "cell_type": "markdown",
   "metadata": {},
   "source": [
    "We can also produce a summary of the questionaire's score. This function can describe aggregated score over the whole population, or specific subgroups."
   ]
  },
  {
   "cell_type": "code",
   "execution_count": null,
   "metadata": {},
   "outputs": [],
   "source": [
    "d = niimpy.survey.print_statistic(m_df)\n",
    "pd.DataFrame(d)"
   ]
  },
  {
   "cell_type": "code",
   "execution_count": null,
   "metadata": {},
   "outputs": [],
   "source": [
    "d = niimpy.survey.print_statistic(m_df, group='gender')\n",
    "pd.DataFrame(d)"
   ]
  },
  {
   "cell_type": "code",
   "execution_count": null,
   "metadata": {},
   "outputs": [],
   "source": [
    "d = niimpy.survey.print_statistic(m_df, group='gender', prefix='PHQ')\n",
    "pd.DataFrame(d)\n",
    "\n",
    "## TODO: Add a method to categorize score into levels\n",
    "## TODO: Extend to demographics info"
   ]
  },
  {
   "cell_type": "markdown",
   "metadata": {},
   "source": [
    "## Visualization\n",
    "\n",
    "We can now make some plots for the preprocessed data frame. First, we can display the summary for a specific question."
   ]
  },
  {
   "cell_type": "code",
   "execution_count": null,
   "metadata": {},
   "outputs": [],
   "source": [
    "fig = niimpy.EDA.EDA_categorical.questionnaire_summary(m_df, question = 'PHQ2_1', column = 'answer', \n",
    "                                                       title='PHQ2_1', xlabel='value', ylabel='count', \n",
    "                                                       width=600, height=400)\n",
    "fig.show('png')"
   ]
  },
  {
   "cell_type": "markdown",
   "metadata": {},
   "source": [
    "We can also display the summary for each subgroup."
   ]
  },
  {
   "cell_type": "code",
   "execution_count": null,
   "metadata": {},
   "outputs": [],
   "source": [
    "fig = niimpy.EDA.EDA_categorical.questionnaire_grouped_summary(m_df, question='PSS10_9', group='gender', \n",
    "                                                               title='PSS10_9',\n",
    "                                                               xlabel='score', ylabel='count',\n",
    "                                                               width=800, height=400)\n",
    "fig.show('png')"
   ]
  },
  {
   "cell_type": "markdown",
   "metadata": {},
   "source": [
    "With some quick preprocessing, we can display the score distribution of each questionaire."
   ]
  },
  {
   "cell_type": "code",
   "execution_count": null,
   "metadata": {},
   "outputs": [],
   "source": [
    "pss_sum_df = m_df[m_df['id'].str.startswith('PSS')] \\\n",
    "                            .groupby(['user', 'gender']) \\\n",
    "                            .agg({'answer':sum}) \\\n",
    "                            .reset_index()\n",
    "pss_sum_df['id'] = 'PSS'\n",
    "fig = niimpy.EDA.EDA_categorical.questionnaire_grouped_summary(pss_sum_df, question='PSS', group='gender', \n",
    "                                                               title='PSS10',\n",
    "                                                               xlabel='score', ylabel='count',\n",
    "                                                               width=800, height=400)\n",
    "fig.show('png')"
   ]
  },
  {
   "cell_type": "code",
   "execution_count": null,
   "metadata": {},
   "outputs": [],
   "source": []
  }
 ],
 "metadata": {
  "kernelspec": {
   "display_name": "Python 3 (ipykernel)",
   "language": "python",
   "name": "python3"
  },
  "language_info": {
   "codemirror_mode": {
    "name": "ipython",
    "version": 3
   },
   "file_extension": ".py",
   "mimetype": "text/x-python",
   "name": "python",
   "nbconvert_exporter": "python",
   "pygments_lexer": "ipython3",
   "version": "3.8.12"
  }
 },
 "nbformat": 4,
 "nbformat_minor": 4
}
